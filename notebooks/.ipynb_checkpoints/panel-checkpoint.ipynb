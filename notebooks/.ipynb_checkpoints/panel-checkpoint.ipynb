{
 "cells": [
  {
   "cell_type": "markdown",
   "metadata": {},
   "source": [
    "<font size=\"5\">Section 3: Panel data</font>"
   ]
  },
  {
   "cell_type": "markdown",
   "metadata": {},
   "source": [
    "## Housekeeping and Data"
   ]
  },
  {
   "cell_type": "code",
   "execution_count": 29,
   "metadata": {},
   "outputs": [],
   "source": [
    "import numpy as np\n",
    "import pandas as pd\n",
    "import matplotlib.pyplot as plt\n",
    "import statsmodels.api as sm\n",
    "import statsmodels.formula.api as smf\n",
    "import sklearn\n",
    "import scipy \n",
    "import linearmodels.panel as lmp\n",
    "\n",
    "%matplotlib inline"
   ]
  },
  {
   "cell_type": "markdown",
   "metadata": {},
   "source": [
    "We use data from the ENIA firm panel survey. Variable description follows:  \n",
    "\n",
    "\n",
    "- *ID*: firm unique identifier  \n",
    "- *year*: survey year  \n",
    "- *tamano*: 1 large, 2 medium, 3 small, 4 micro  \n",
    "- *sales*: sales (in log of 1,000 CLP)  \n",
    "- *age*: firm age at time of survey  \n",
    "- *foreign*: non-domestic firm (binary)  \n",
    "- *export*: production for export (binary)  \n",
    "- *workers*: log of number of workers  \n",
    "- *fomento*: firm receives public incentives (binary)  \n",
    "- *iyd*: firm does I+D (binary)  \n",
    "- *impuestos*: taxes (in million US)  \n",
    "- *utilidades*: firm revenue (in million US)  \n",
    "\n",
    "For purposes of this analysis we will consider tamano as a continous value (moving from largest to smallest as number increases)."
   ]
  },
  {
   "cell_type": "code",
   "execution_count": 48,
   "metadata": {},
   "outputs": [
    {
     "data": {
      "text/html": [
       "<div>\n",
       "<style scoped>\n",
       "    .dataframe tbody tr th:only-of-type {\n",
       "        vertical-align: middle;\n",
       "    }\n",
       "\n",
       "    .dataframe tbody tr th {\n",
       "        vertical-align: top;\n",
       "    }\n",
       "\n",
       "    .dataframe thead th {\n",
       "        text-align: right;\n",
       "    }\n",
       "</style>\n",
       "<table border=\"1\" class=\"dataframe\">\n",
       "  <thead>\n",
       "    <tr style=\"text-align: right;\">\n",
       "      <th></th>\n",
       "      <th>tamano</th>\n",
       "      <th>sales</th>\n",
       "      <th>age</th>\n",
       "      <th>foreign</th>\n",
       "      <th>export</th>\n",
       "      <th>workers</th>\n",
       "      <th>fomento</th>\n",
       "      <th>iyd</th>\n",
       "      <th>impuestos</th>\n",
       "      <th>utilidades</th>\n",
       "    </tr>\n",
       "  </thead>\n",
       "  <tbody>\n",
       "    <tr>\n",
       "      <th>count</th>\n",
       "      <td>39104.000000</td>\n",
       "      <td>39104.000000</td>\n",
       "      <td>39104.000000</td>\n",
       "      <td>39104.000000</td>\n",
       "      <td>39104.000000</td>\n",
       "      <td>39104.000000</td>\n",
       "      <td>39104.000000</td>\n",
       "      <td>39104.000000</td>\n",
       "      <td>39104.000000</td>\n",
       "      <td>3.910400e+04</td>\n",
       "    </tr>\n",
       "    <tr>\n",
       "      <th>mean</th>\n",
       "      <td>2.248773</td>\n",
       "      <td>3.574172</td>\n",
       "      <td>15.305084</td>\n",
       "      <td>0.081859</td>\n",
       "      <td>0.111191</td>\n",
       "      <td>1.757726</td>\n",
       "      <td>0.076105</td>\n",
       "      <td>0.224887</td>\n",
       "      <td>0.203856</td>\n",
       "      <td>1.875255e+00</td>\n",
       "    </tr>\n",
       "    <tr>\n",
       "      <th>std</th>\n",
       "      <td>1.153089</td>\n",
       "      <td>1.692742</td>\n",
       "      <td>12.488330</td>\n",
       "      <td>0.274153</td>\n",
       "      <td>0.314372</td>\n",
       "      <td>1.186507</td>\n",
       "      <td>0.265169</td>\n",
       "      <td>0.417514</td>\n",
       "      <td>15.869466</td>\n",
       "      <td>2.306899e+02</td>\n",
       "    </tr>\n",
       "    <tr>\n",
       "      <th>min</th>\n",
       "      <td>1.000000</td>\n",
       "      <td>0.000000</td>\n",
       "      <td>0.000000</td>\n",
       "      <td>0.000000</td>\n",
       "      <td>0.000000</td>\n",
       "      <td>0.000000</td>\n",
       "      <td>0.000000</td>\n",
       "      <td>0.000000</td>\n",
       "      <td>-180.992528</td>\n",
       "      <td>-2.443698e+02</td>\n",
       "    </tr>\n",
       "    <tr>\n",
       "      <th>25%</th>\n",
       "      <td>1.000000</td>\n",
       "      <td>2.337643</td>\n",
       "      <td>7.000000</td>\n",
       "      <td>0.000000</td>\n",
       "      <td>0.000000</td>\n",
       "      <td>0.778151</td>\n",
       "      <td>0.000000</td>\n",
       "      <td>0.000000</td>\n",
       "      <td>0.000000</td>\n",
       "      <td>9.050000e-07</td>\n",
       "    </tr>\n",
       "    <tr>\n",
       "      <th>50%</th>\n",
       "      <td>2.000000</td>\n",
       "      <td>3.553321</td>\n",
       "      <td>14.000000</td>\n",
       "      <td>0.000000</td>\n",
       "      <td>0.000000</td>\n",
       "      <td>1.785330</td>\n",
       "      <td>0.000000</td>\n",
       "      <td>0.000000</td>\n",
       "      <td>0.000007</td>\n",
       "      <td>8.080000e-05</td>\n",
       "    </tr>\n",
       "    <tr>\n",
       "      <th>75%</th>\n",
       "      <td>3.000000</td>\n",
       "      <td>4.539098</td>\n",
       "      <td>20.000000</td>\n",
       "      <td>0.000000</td>\n",
       "      <td>0.000000</td>\n",
       "      <td>2.661813</td>\n",
       "      <td>0.000000</td>\n",
       "      <td>0.000000</td>\n",
       "      <td>0.000167</td>\n",
       "      <td>1.283704e-03</td>\n",
       "    </tr>\n",
       "    <tr>\n",
       "      <th>max</th>\n",
       "      <td>4.000000</td>\n",
       "      <td>10.309005</td>\n",
       "      <td>190.000000</td>\n",
       "      <td>1.000000</td>\n",
       "      <td>1.000000</td>\n",
       "      <td>5.845915</td>\n",
       "      <td>1.000000</td>\n",
       "      <td>1.000000</td>\n",
       "      <td>2981.494528</td>\n",
       "      <td>4.544069e+04</td>\n",
       "    </tr>\n",
       "  </tbody>\n",
       "</table>\n",
       "</div>"
      ],
      "text/plain": [
       "             tamano         sales           age       foreign        export  \\\n",
       "count  39104.000000  39104.000000  39104.000000  39104.000000  39104.000000   \n",
       "mean       2.248773      3.574172     15.305084      0.081859      0.111191   \n",
       "std        1.153089      1.692742     12.488330      0.274153      0.314372   \n",
       "min        1.000000      0.000000      0.000000      0.000000      0.000000   \n",
       "25%        1.000000      2.337643      7.000000      0.000000      0.000000   \n",
       "50%        2.000000      3.553321     14.000000      0.000000      0.000000   \n",
       "75%        3.000000      4.539098     20.000000      0.000000      0.000000   \n",
       "max        4.000000     10.309005    190.000000      1.000000      1.000000   \n",
       "\n",
       "            workers       fomento           iyd     impuestos    utilidades  \n",
       "count  39104.000000  39104.000000  39104.000000  39104.000000  3.910400e+04  \n",
       "mean       1.757726      0.076105      0.224887      0.203856  1.875255e+00  \n",
       "std        1.186507      0.265169      0.417514     15.869466  2.306899e+02  \n",
       "min        0.000000      0.000000      0.000000   -180.992528 -2.443698e+02  \n",
       "25%        0.778151      0.000000      0.000000      0.000000  9.050000e-07  \n",
       "50%        1.785330      0.000000      0.000000      0.000007  8.080000e-05  \n",
       "75%        2.661813      0.000000      0.000000      0.000167  1.283704e-03  \n",
       "max        5.845915      1.000000      1.000000   2981.494528  4.544069e+04  "
      ]
     },
     "execution_count": 48,
     "metadata": {},
     "output_type": "execute_result"
    }
   ],
   "source": [
    "# enia data\n",
    "enia = pd.read_csv('../data/enia.csv')\n",
    "enia.dropna(inplace=True)\n",
    "enia.reset_index(drop=True, inplace=True)\n",
    "enia = enia.set_index([\"ID\",\"year\"])\n",
    "enia.describe()"
   ]
  },
  {
   "cell_type": "markdown",
   "metadata": {},
   "source": [
    "## Pooled OLS\n",
    "\n",
    "We can use statsmodels to estimate a simple OLS regression to explain the average drivers of the firm's demand for workers (Pooled OLS in panel data)."
   ]
  },
  {
   "cell_type": "code",
   "execution_count": 70,
   "metadata": {},
   "outputs": [
    {
     "name": "stdout",
     "output_type": "stream",
     "text": [
      "                            OLS Regression Results                            \n",
      "==============================================================================\n",
      "Dep. Variable:                workers   R-squared:                       0.509\n",
      "Model:                            OLS   Adj. R-squared:                  0.509\n",
      "Method:                 Least Squares   F-statistic:                     6745.\n",
      "Date:                Tue, 27 Sep 2022   Prob (F-statistic):               0.00\n",
      "Time:                        13:00:06   Log-Likelihood:                -48280.\n",
      "No. Observations:               39104   AIC:                         9.657e+04\n",
      "Df Residuals:                   39097   BIC:                         9.663e+04\n",
      "Df Model:                           6                                         \n",
      "Covariance Type:            nonrobust                                         \n",
      "==============================================================================\n",
      "                 coef    std err          t      P>|t|      [0.025      0.975]\n",
      "------------------------------------------------------------------------------\n",
      "const          3.2938      0.022    150.362      0.000       3.251       3.337\n",
      "age            0.0129      0.000     37.285      0.000       0.012       0.014\n",
      "sales         -0.0381      0.003    -11.745      0.000      -0.045      -0.032\n",
      "fomento        0.0403      0.016      2.503      0.012       0.009       0.072\n",
      "export         0.1011      0.014      7.184      0.000       0.074       0.129\n",
      "tamano        -0.7165      0.005   -146.769      0.000      -0.726      -0.707\n",
      "impuestos      0.0005      0.000      1.720      0.085   -6.37e-05       0.001\n",
      "==============================================================================\n",
      "Omnibus:                     1538.834   Durbin-Watson:                   1.332\n",
      "Prob(Omnibus):                  0.000   Jarque-Bera (JB):             2117.974\n",
      "Skew:                          -0.403   Prob(JB):                         0.00\n",
      "Kurtosis:                       3.806   Cond. No.                         108.\n",
      "==============================================================================\n",
      "\n",
      "Notes:\n",
      "[1] Standard Errors assume that the covariance matrix of the errors is correctly specified.\n"
     ]
    }
   ],
   "source": [
    "y=enia['workers']\n",
    "X=sm.add_constant(X)\n",
    "model = sm.OLS(y, X)\n",
    "results = model.fit()\n",
    "print(results.summary())"
   ]
  },
  {
   "cell_type": "code",
   "execution_count": 71,
   "metadata": {},
   "outputs": [
    {
     "name": "stdout",
     "output_type": "stream",
     "text": [
      "                          PooledOLS Estimation Summary                          \n",
      "================================================================================\n",
      "Dep. Variable:                workers   R-squared:                        0.5086\n",
      "Estimator:                  PooledOLS   R-squared (Between):              0.5474\n",
      "No. Observations:               39104   R-squared (Within):               0.0917\n",
      "Date:                Tue, Sep 27 2022   R-squared (Overall):              0.5086\n",
      "Time:                        13:02:44   Log-likelihood                -4.828e+04\n",
      "Cov. Estimator:                Robust                                           \n",
      "                                        F-statistic:                      6745.2\n",
      "Entities:                       24128   P-value                           0.0000\n",
      "Avg Obs:                       1.6207   Distribution:                 F(6,39097)\n",
      "Min Obs:                       1.0000                                           \n",
      "Max Obs:                       5.0000   F-statistic (robust):             7415.2\n",
      "                                        P-value                           0.0000\n",
      "Time periods:                       5   Distribution:                 F(6,39097)\n",
      "Avg Obs:                       7820.8                                           \n",
      "Min Obs:                       6480.0                                           \n",
      "Max Obs:                    1.021e+04                                           \n",
      "                                                                                \n",
      "                             Parameter Estimates                              \n",
      "==============================================================================\n",
      "            Parameter  Std. Err.     T-stat    P-value    Lower CI    Upper CI\n",
      "------------------------------------------------------------------------------\n",
      "const          3.2938     0.0242     136.20     0.0000      3.2464      3.3412\n",
      "age            0.0129     0.0004     32.123     0.0000      0.0121      0.0137\n",
      "sales         -0.0381     0.0033    -11.598     0.0000     -0.0446     -0.0317\n",
      "fomento        0.0403     0.0152     2.6513     0.0080      0.0105      0.0701\n",
      "export         0.1011     0.0145     6.9611     0.0000      0.0726      0.1296\n",
      "tamano        -0.7165     0.0051    -141.62     0.0000     -0.7264     -0.7066\n",
      "impuestos      0.0005     0.0001     3.4716     0.0005      0.0002      0.0007\n",
      "==============================================================================\n"
     ]
    }
   ],
   "source": [
    "model=lmp.PooledOLS(y,X)\n",
    "OLS=model.fit(cov_type=\"robust\")\n",
    "print(OLS)"
   ]
  },
  {
   "cell_type": "markdown",
   "metadata": {},
   "source": [
    "## First differences "
   ]
  },
  {
   "cell_type": "code",
   "execution_count": 72,
   "metadata": {},
   "outputs": [
    {
     "name": "stderr",
     "output_type": "stream",
     "text": [
      "C:\\ProgramData\\Anaconda3\\lib\\site-packages\\linearmodels\\shared\\utility.py:187: FutureWarning: In a future version of pandas all arguments of MultiIndex.set_levels except for the argument 'levels' will be keyword-only\n",
      "  df.index = df.index.set_levels(final_levels, [0, 1])\n"
     ]
    },
    {
     "name": "stdout",
     "output_type": "stream",
     "text": [
      "                     FirstDifferenceOLS Estimation Summary                      \n",
      "================================================================================\n",
      "Dep. Variable:                workers   R-squared:                        0.2001\n",
      "Estimator:         FirstDifferenceOLS   R-squared (Between):             -1.3115\n",
      "No. Observations:               14188   R-squared (Within):               0.2040\n",
      "Date:                Tue, Sep 27 2022   R-squared (Overall):             -1.1216\n",
      "Time:                        13:02:54   Log-likelihood                -1.448e+04\n",
      "Cov. Estimator:                Robust                                           \n",
      "                                        F-statistic:                      591.42\n",
      "Entities:                       24128   P-value                           0.0000\n",
      "Avg Obs:                       1.6207   Distribution:                 F(6,14182)\n",
      "Min Obs:                       1.0000                                           \n",
      "Max Obs:                       5.0000   F-statistic (robust):             381.83\n",
      "                                        P-value                           0.0000\n",
      "Time periods:                       5   Distribution:                 F(6,14182)\n",
      "Avg Obs:                       7820.8                                           \n",
      "Min Obs:                       6480.0                                           \n",
      "Max Obs:                    1.021e+04                                           \n",
      "                                                                                \n",
      "                             Parameter Estimates                              \n",
      "==============================================================================\n",
      "            Parameter  Std. Err.     T-stat    P-value    Lower CI    Upper CI\n",
      "------------------------------------------------------------------------------\n",
      "age            0.0039     0.0006     6.5048     0.0000      0.0027      0.0051\n",
      "sales         -0.1524     0.0037    -41.236     0.0000     -0.1597     -0.1452\n",
      "fomento       -0.1698     0.0177    -9.5743     0.0000     -0.2045     -0.1350\n",
      "export         0.0091     0.0211     0.4332     0.6649     -0.0322      0.0505\n",
      "tamano        -0.2841     0.0166    -17.081     0.0000     -0.3167     -0.2515\n",
      "impuestos      0.0002     0.0001     1.8284     0.0675  -1.494e-05      0.0004\n",
      "==============================================================================\n"
     ]
    }
   ],
   "source": [
    "X=enia[['age','sales','fomento','export','tamano','impuestos']]\n",
    "model=lmp.FirstDifferenceOLS(y,X)\n",
    "fd=model.fit(cov_type=\"robust\")\n",
    "print(fd)"
   ]
  },
  {
   "cell_type": "markdown",
   "metadata": {},
   "source": [
    "## Fixed Effects "
   ]
  },
  {
   "cell_type": "code",
   "execution_count": 73,
   "metadata": {},
   "outputs": [
    {
     "name": "stdout",
     "output_type": "stream",
     "text": [
      "                          PanelOLS Estimation Summary                           \n",
      "================================================================================\n",
      "Dep. Variable:                workers   R-squared:                        0.2255\n",
      "Estimator:                   PanelOLS   R-squared (Between):              0.2717\n",
      "No. Observations:               39104   R-squared (Within):               0.2255\n",
      "Date:                Tue, Sep 27 2022   R-squared (Overall):              0.2902\n",
      "Time:                        13:03:05   Log-likelihood                -1.435e+04\n",
      "Cov. Estimator:                Robust                                           \n",
      "                                        F-statistic:                      726.34\n",
      "Entities:                       24128   P-value                           0.0000\n",
      "Avg Obs:                       1.6207   Distribution:                 F(6,14970)\n",
      "Min Obs:                       1.0000                                           \n",
      "Max Obs:                       5.0000   F-statistic (robust):             332.31\n",
      "                                        P-value                           0.0000\n",
      "Time periods:                       5   Distribution:                 F(6,14970)\n",
      "Avg Obs:                       7820.8                                           \n",
      "Min Obs:                       6480.0                                           \n",
      "Max Obs:                    1.021e+04                                           \n",
      "                                                                                \n",
      "                             Parameter Estimates                              \n",
      "==============================================================================\n",
      "            Parameter  Std. Err.     T-stat    P-value    Lower CI    Upper CI\n",
      "------------------------------------------------------------------------------\n",
      "const          3.0945     0.0619     49.965     0.0000      2.9731      3.2159\n",
      "age            0.0120     0.0013     8.9886     0.0000      0.0094      0.0146\n",
      "sales         -0.1660     0.0056    -29.910     0.0000     -0.1769     -0.1552\n",
      "fomento       -0.3086     0.0264    -11.689     0.0000     -0.3603     -0.2568\n",
      "export         0.0396     0.0326     1.2142     0.2247     -0.0243      0.1035\n",
      "tamano        -0.4038     0.0227    -17.759     0.0000     -0.4484     -0.3593\n",
      "impuestos  -9.221e-05     0.0002    -0.4263     0.6699     -0.0005      0.0003\n",
      "==============================================================================\n",
      "\n",
      "F-test for Poolability: 2.8977\n",
      "P-value: 0.0000\n",
      "Distribution: F(24127,14970)\n",
      "\n",
      "Included effects: Entity\n"
     ]
    }
   ],
   "source": [
    "X=enia[['age','sales','fomento','export','tamano','impuestos']]\n",
    "X=sm.add_constant(X)\n",
    "model=lmp.PanelOLS(y,X, entity_effects=True)\n",
    "fe=model.fit(cov_type=\"robust\")\n",
    "print(fe)"
   ]
  },
  {
   "cell_type": "markdown",
   "metadata": {},
   "source": [
    "## Random Effects\n"
   ]
  },
  {
   "cell_type": "code",
   "execution_count": 74,
   "metadata": {},
   "outputs": [
    {
     "name": "stdout",
     "output_type": "stream",
     "text": [
      "                        RandomEffects Estimation Summary                        \n",
      "================================================================================\n",
      "Dep. Variable:                workers   R-squared:                        0.3878\n",
      "Estimator:              RandomEffects   R-squared (Between):              0.5399\n",
      "No. Observations:               39104   R-squared (Within):               0.1514\n",
      "Date:                Tue, Sep 27 2022   R-squared (Overall):              0.5017\n",
      "Time:                        13:03:10   Log-likelihood                -3.453e+04\n",
      "Cov. Estimator:                Robust                                           \n",
      "                                        F-statistic:                      4127.1\n",
      "Entities:                       24128   P-value                           0.0000\n",
      "Avg Obs:                       1.6207   Distribution:                 F(6,39097)\n",
      "Min Obs:                       1.0000                                           \n",
      "Max Obs:                       5.0000   F-statistic (robust):             5240.3\n",
      "                                        P-value                           0.0000\n",
      "Time periods:                       5   Distribution:                 F(6,39097)\n",
      "Avg Obs:                       7820.8                                           \n",
      "Min Obs:                       6480.0                                           \n",
      "Max Obs:                    1.021e+04                                           \n",
      "                                                                                \n",
      "                             Parameter Estimates                              \n",
      "==============================================================================\n",
      "            Parameter  Std. Err.     T-stat    P-value    Lower CI    Upper CI\n",
      "------------------------------------------------------------------------------\n",
      "const          3.4677     0.0244     141.99     0.0000      3.4199      3.5156\n",
      "age            0.0130     0.0005     28.332     0.0000      0.0121      0.0139\n",
      "sales         -0.0856     0.0029    -29.682     0.0000     -0.0912     -0.0799\n",
      "fomento       -0.1173     0.0141    -8.3073     0.0000     -0.1450     -0.0896\n",
      "export         0.1174     0.0150     7.8426     0.0000      0.0880      0.1467\n",
      "tamano        -0.7375     0.0053    -137.86     0.0000     -0.7480     -0.7270\n",
      "impuestos   1.202e-05     0.0003     0.0380     0.9697     -0.0006      0.0006\n",
      "==============================================================================\n"
     ]
    }
   ],
   "source": [
    "model=lmp.RandomEffects(y,X)\n",
    "re=model.fit(cov_type=\"robust\")\n",
    "print(re)"
   ]
  },
  {
   "cell_type": "code",
   "execution_count": 61,
   "metadata": {},
   "outputs": [
    {
     "data": {
      "text/plain": [
       "Effects                   0.311160\n",
       "Residual                  0.318662\n",
       "Percent due to Effects    0.494045\n",
       "Name: Variance Decomposition, dtype: float64"
      ]
     },
     "execution_count": 61,
     "metadata": {},
     "output_type": "execute_result"
    }
   ],
   "source": [
    "re.variance_decomposition"
   ]
  },
  {
   "cell_type": "markdown",
   "metadata": {},
   "source": [
    "## Model comparison"
   ]
  },
  {
   "cell_type": "code",
   "execution_count": 75,
   "metadata": {},
   "outputs": [
    {
     "name": "stdout",
     "output_type": "stream",
     "text": [
      "                           Model Comparison                           \n",
      "======================================================================\n",
      "                                    FE                RE        Pooled\n",
      "----------------------------------------------------------------------\n",
      "Dep. Variable                  workers           workers       workers\n",
      "Estimator                     PanelOLS     RandomEffects     PooledOLS\n",
      "No. Observations                 39104             39104         39104\n",
      "Cov. Est.                       Robust            Robust        Robust\n",
      "R-squared                       0.2255            0.3878        0.5086\n",
      "R-Squared (Within)              0.2255            0.1514        0.0917\n",
      "R-Squared (Between)             0.2717            0.5399        0.5474\n",
      "R-Squared (Overall)             0.2902            0.5017        0.5086\n",
      "F-statistic                     726.34            4127.1        6745.2\n",
      "P-value (F-stat)                0.0000            0.0000        0.0000\n",
      "=====================     ============   ===============   ===========\n",
      "const                           3.0945            3.4677        3.2938\n",
      "                              (49.965)          (141.99)      (136.20)\n",
      "age                             0.0120            0.0130        0.0129\n",
      "                              (8.9886)          (28.332)      (32.123)\n",
      "sales                          -0.1660           -0.0856       -0.0381\n",
      "                             (-29.910)         (-29.682)     (-11.598)\n",
      "fomento                        -0.3086           -0.1173        0.0403\n",
      "                             (-11.689)         (-8.3073)      (2.6513)\n",
      "export                          0.0396            0.1174        0.1011\n",
      "                              (1.2142)          (7.8426)      (6.9611)\n",
      "tamano                         -0.4038           -0.7375       -0.7165\n",
      "                             (-17.759)         (-137.86)     (-141.62)\n",
      "impuestos                   -9.221e-05         1.202e-05        0.0005\n",
      "                             (-0.4263)          (0.0380)      (3.4716)\n",
      "======================= ============== ================= =============\n",
      "Effects                         Entity                                \n",
      "----------------------------------------------------------------------\n",
      "\n",
      "T-stats reported in parentheses\n"
     ]
    },
    {
     "name": "stderr",
     "output_type": "stream",
     "text": [
      "C:\\ProgramData\\Anaconda3\\lib\\site-packages\\linearmodels\\panel\\results.py:1022: FutureWarning: In a future version of pandas all arguments of concat except for the argument 'objs' will be keyword-only\n",
      "  1,\n"
     ]
    }
   ],
   "source": [
    "print(lmp.compare({\"FE\": fe, \"RE\": re, \"Pooled\": OLS}))"
   ]
  },
  {
   "cell_type": "code",
   "execution_count": 85,
   "metadata": {},
   "outputs": [
    {
     "ename": "SyntaxError",
     "evalue": "invalid character in identifier (547008403.py, line 12)",
     "output_type": "error",
     "traceback": [
      "\u001b[1;36m  File \u001b[1;32m\"C:\\Users\\jccaro\\AppData\\Local\\Temp\\ipykernel_3864\\547008403.py\"\u001b[1;36m, line \u001b[1;32m12\u001b[0m\n\u001b[1;33m    chi2 = np.dot((b — B).T, la.inv(v_b — v_B).dot(b — B))\u001b[0m\n\u001b[1;37m                     ^\u001b[0m\n\u001b[1;31mSyntaxError\u001b[0m\u001b[1;31m:\u001b[0m invalid character in identifier\n"
     ]
    }
   ],
   "source": [
    "import np.linalg as la\n",
    "from scipy import stats\n",
    "\n",
    "def hausman(fe, re):\n",
    " b = fe.params\n",
    " B = re.params\n",
    " v_b = fe.cov\n",
    " v_B = re.cov\n",
    "    \n",
    " df = b[np.abs(b) < 1e8].size\n",
    "\n",
    " chi2 = np.dot((b — B).T, la.inv(v_b — v_B).dot(b — B)) \n",
    " pval = stats.chi2.sf(chi2, df)\n",
    "return chi2, df, pval"
   ]
  },
  {
   "cell_type": "code",
   "execution_count": 84,
   "metadata": {},
   "outputs": [
    {
     "ename": "SyntaxError",
     "evalue": "invalid character in identifier (3185692126.py, line 2)",
     "output_type": "error",
     "traceback": [
      "\u001b[1;36m  File \u001b[1;32m\"C:\\Users\\jccaro\\AppData\\Local\\Temp\\ipykernel_3864\\3185692126.py\"\u001b[1;36m, line \u001b[1;32m2\u001b[0m\n\u001b[1;33m    print(‘chi-Squared: ‘ + str(hausman_results[0]))\u001b[0m\n\u001b[1;37m             ^\u001b[0m\n\u001b[1;31mSyntaxError\u001b[0m\u001b[1;31m:\u001b[0m invalid character in identifier\n"
     ]
    }
   ],
   "source": [
    "hausman_results = hausman(fe, re) \n",
    "print(‘chi-Squared: ‘ + str(hausman_results[0]))\n",
    "print(‘degrees of freedom: ‘ + str(hausman_results[1]))\n",
    "print(‘p-Value: ‘ + str(hausman_results[2]))"
   ]
  },
  {
   "cell_type": "markdown",
   "metadata": {},
   "source": [
    "## Correlated Random Effects"
   ]
  },
  {
   "cell_type": "code",
   "execution_count": 9,
   "metadata": {},
   "outputs": [
    {
     "name": "stdout",
     "output_type": "stream",
     "text": [
      "                                 OLS Regression Results                                \n",
      "=======================================================================================\n",
      "Dep. Variable:                ingreso   R-squared (uncentered):                   0.396\n",
      "Model:                            OLS   Adj. R-squared (uncentered):              0.396\n",
      "Method:                 Least Squares   F-statistic:                              5275.\n",
      "Date:                Mon, 26 Sep 2022   Prob (F-statistic):                        0.00\n",
      "Time:                        10:17:03   Log-Likelihood:                         -44571.\n",
      "No. Observations:                8041   AIC:                                  8.914e+04\n",
      "Df Residuals:                    8040   BIC:                                  8.915e+04\n",
      "Df Model:                           1                                                  \n",
      "Covariance Type:            nonrobust                                                  \n",
      "==============================================================================\n",
      "                 coef    std err          t      P>|t|      [0.025      0.975]\n",
      "------------------------------------------------------------------------------\n",
      "x1             0.2208      0.003     72.631      0.000       0.215       0.227\n",
      "==============================================================================\n",
      "Omnibus:                    10267.981   Durbin-Watson:                   1.652\n",
      "Prob(Omnibus):                  0.000   Jarque-Bera (JB):          4810468.508\n",
      "Skew:                           6.647   Prob(JB):                         0.00\n",
      "Kurtosis:                     122.084   Cond. No.                         1.00\n",
      "==============================================================================\n",
      "\n",
      "Notes:\n",
      "[1] R² is computed without centering (uncentered) since the model does not contain a constant.\n",
      "[2] Standard Errors assume that the covariance matrix of the errors is correctly specified.\n"
     ]
    }
   ],
   "source": []
  },
  {
   "cell_type": "markdown",
   "metadata": {},
   "source": [
    "<font size=\"3\">**Tarea 2**</font>\n",
    "\n",
    "<u> *Instrucciones* </u>\n",
    "\n",
    "Los resultados de los ejericicios propuestos se deben entregar como un notebook por correo electronico a *juan.caro@uni.lu* el dia 3/10 hasta las 21:00. \n",
    "\n",
    "Es importante considerar que el código debe poder ejecutarse en cualquier computadora con la data original del repositorio. Recordar la convencion para el nombre de archivo ademas de incluir en su documento titulos y encabezados por seccion. La data a utilizar es **charls.csv**.\n",
    "\n",
    "Las variables tienen la siguiente descripcion:\n",
    "\n",
    "- INID: identificador unico\n",
    "- wave: periodo de la encuesta (1-3)\n",
    "- cesd: puntaje en la escala de salud mental (0-30)\n",
    "- child: numero de hijos\n",
    "- drinkly: bebio alcohol en el ultimo mes (binario)\n",
    "- hrsusu: horas promedio trabajo semanal\n",
    "- hsize: tamano del hogar\n",
    "- intmonth: mes en que fue encuestado/a (1-12)\n",
    "- married: si esta casado/a (binario)\n",
    "- retired: si esta pensionado/a (binario)\n",
    "- schadj: años de escolaridad\n",
    "- urban: zona urbana (binario)\n",
    "- wealth: riqueza neta (miles RMB)\n",
    "- age: edad al entrar a la encuesta (no varia entre periodos)\n",
    "\n",
    "Preguntas:\n",
    "\n",
    "1. Cargar la base de datos *charls.csv* en el ambiente. Identifique los tipos de datos que se encuentran en la base, realice estadisticas descriptivas sobre las variables importantes (Hint: Revisar la distribuciones, datos faltantes, outliers, etc.) y limpie las variables cuando sea necesario. \n",
    "\n",
    "2. Ejecute un modelo Pooled OLS para explicar el puntaje en la escala de salud mental (CESD). Seleccione las variables dependientes a incluir en el modelo final e interprete su significado. \n",
    "\n",
    "3. Ejecute un modelo de efectos fijos para explicar el puntaje en la escala de salud mental (CESD).  Seleccione las variables dependientes a incluir en el modelo final e interprete su significado. \n",
    "\n",
    "4. Ejecute un modelo de efectos aleatorios para explicar el puntaje en la escala de salud mental (CESD). Seleccione las variables dependientes a incluir en el modelo final e interprete su significado. \n",
    "\n",
    "5. Comente los resultados obtenidos en 2, 3 y 4. ¿Cuáles y por qué existen las diferencias entre los resultados?. En su opinión, ¿Cuál sería el más adecuado para responder la pregunta de investgación y por qué? ¿Qué variables resultaron ser robustas a la especificación?\n",
    "\n",
    "6. Ejecute un modelo de efectos aleatorios correlacionados (CRE) para explicar el puntaje en la escala de salud mental (CESD). Seleccione las variables dependientes a incluir en el modelo final e interprete su significado. Es este modelo adecuado, dada la data disponible, para modelar el componente no observado?\n",
    "\n",
    "7. Usando el modelo CRE, prediga la distribucion del componente no observado. Que puede inferir respecto de la heterogeneidad fija en el tiempo y su impacto en el puntaje CESD? \n",
    "\n",
    "8. Usando sus respuestas anteriores, que modelo prefiere? que se puede inferir en general respecto del efecto de las variables explicativas sobre el puntaje CESD?\n"
   ]
  }
 ],
 "metadata": {
  "hide_input": false,
  "kernelspec": {
   "display_name": "Python 3 (ipykernel)",
   "language": "python",
   "name": "python3"
  },
  "language_info": {
   "codemirror_mode": {
    "name": "ipython",
    "version": 3
   },
   "file_extension": ".py",
   "mimetype": "text/x-python",
   "name": "python",
   "nbconvert_exporter": "python",
   "pygments_lexer": "ipython3",
   "version": "3.7.6"
  },
  "latex_envs": {
   "LaTeX_envs_menu_present": true,
   "autoclose": true,
   "autocomplete": true,
   "bibliofile": "biblio.bib",
   "cite_by": "apalike",
   "current_citInitial": 1,
   "eqLabelWithNumbers": true,
   "eqNumInitial": 1,
   "hotkeys": {
    "equation": "Ctrl-E",
    "itemize": "Ctrl-I"
   },
   "labels_anchors": false,
   "latex_user_defs": false,
   "report_style_numbering": false,
   "user_envs_cfg": false
  },
  "toc": {
   "base_numbering": 1,
   "nav_menu": {},
   "number_sections": true,
   "sideBar": true,
   "skip_h1_title": true,
   "title_cell": "Table of Contents",
   "title_sidebar": "Contents",
   "toc_cell": false,
   "toc_position": {
    "height": "calc(100% - 180px)",
    "left": "10px",
    "top": "150px",
    "width": "165px"
   },
   "toc_section_display": true,
   "toc_window_display": true
  }
 },
 "nbformat": 4,
 "nbformat_minor": 2
}
