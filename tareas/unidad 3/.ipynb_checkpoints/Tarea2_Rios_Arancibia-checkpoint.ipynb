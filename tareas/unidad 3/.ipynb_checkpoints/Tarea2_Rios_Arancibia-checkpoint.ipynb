{
 "cells": [
  {
   "cell_type": "markdown",
   "metadata": {},
   "source": [
    "<font size=\"5\">TAREA 2: César Arancibia, Francisco Ríos</font>"
   ]
  },
  {
   "cell_type": "code",
   "execution_count": 3,
   "metadata": {},
   "outputs": [],
   "source": [
    "import numpy as np\n",
    "import pandas as pd\n",
    "import matplotlib.pyplot as plt\n",
    "import statsmodels.api as sm\n",
    "import statsmodels.formula.api as smf\n",
    "import sklearn\n",
    "import scipy \n",
    "import linearmodels.panel as lmp\n",
    "\n",
    "%matplotlib inline"
   ]
  },
  {
   "cell_type": "markdown",
   "metadata": {},
   "source": [
    "Las variables tienen la siguiente descripcion:\n",
    "\n",
    "- INID: identificador unico\n",
    "- wave: periodo de la encuesta (1-3)\n",
    "- cesd: puntaje en la escala de salud mental (0-30)\n",
    "- child: numero de hijos\n",
    "- drinkly: bebio alcohol en el ultimo mes (binario)\n",
    "- hrsusu: horas promedio trabajo semanal\n",
    "- hsize: tamano del hogar\n",
    "- intmonth: mes en que fue encuestado/a (1-12)\n",
    "- married: si esta casado/a (binario)\n",
    "- retired: si esta pensionado/a (binario)\n",
    "- schadj: años de escolaridad\n",
    "- urban: zona urbana (binario)\n",
    "- wealth: riqueza neta (miles RMB)\n",
    "- age: edad al entrar a la encuesta (no varia entre periodos)"
   ]
  },
  {
   "cell_type": "code",
   "execution_count": 208,
   "metadata": {
    "scrolled": true
   },
   "outputs": [
    {
     "name": "stdout",
     "output_type": "stream",
     "text": [
      "   cesd  child drinkly  female  hrsusu  hsize          inid  intmonth  \\\n",
      "0     6      2  0.None       1     0.0      4  1.010410e+10         7   \n",
      "1     7      2  0.None       1    49.0      4  1.010410e+10         7   \n",
      "2     5      2  0.None       1    56.0      7  1.010410e+10         8   \n",
      "3     0      2   1.Yes       0    63.0      4  1.010410e+10         7   \n",
      "4     5      2   1.Yes       0    49.0      4  1.010410e+10         7   \n",
      "\n",
      "   married  retired  schadj  urban  wave   wealth  age  \n",
      "0        1        0       0      0     1  -5800.0   46  \n",
      "1        1        0       0      0     2    100.0   46  \n",
      "2        1        0       0      0     3 -59970.0   46  \n",
      "3        1        0       4      0     1  -5800.0   48  \n",
      "4        1        0       4      0     2    100.0   48  \n"
     ]
    },
    {
     "name": "stderr",
     "output_type": "stream",
     "text": [
      "C:\\Users\\PC\\Anaconda\\lib\\site-packages\\ipykernel_launcher.py:10: SettingWithCopyWarning: \n",
      "A value is trying to be set on a copy of a slice from a DataFrame\n",
      "\n",
      "See the caveats in the documentation: https://pandas.pydata.org/pandas-docs/stable/user_guide/indexing.html#returning-a-view-versus-a-copy\n",
      "  # Remove the CWD from sys.path while we load stuff.\n",
      "C:\\Users\\PC\\Anaconda\\lib\\site-packages\\ipykernel_launcher.py:12: SettingWithCopyWarning: \n",
      "A value is trying to be set on a copy of a slice from a DataFrame\n",
      "\n",
      "See the caveats in the documentation: https://pandas.pydata.org/pandas-docs/stable/user_guide/indexing.html#returning-a-view-versus-a-copy\n",
      "  if sys.path[0] == '':\n",
      "C:\\Users\\PC\\Anaconda\\lib\\site-packages\\ipykernel_launcher.py:14: SettingWithCopyWarning: \n",
      "A value is trying to be set on a copy of a slice from a DataFrame\n",
      "\n",
      "See the caveats in the documentation: https://pandas.pydata.org/pandas-docs/stable/user_guide/indexing.html#returning-a-view-versus-a-copy\n",
      "  \n"
     ]
    },
    {
     "name": "stdout",
     "output_type": "stream",
     "text": [
      "   index  cesd  child drinkly  female  hrsusu  hsize          inid  intmonth  \\\n",
      "0   4712     1      5       2       0     0.0      2  5.605921e+10         8   \n",
      "1   4813     4      3       2       1    42.0      3  5.605931e+10         7   \n",
      "2   5878    10      3       2       0    42.0      4  5.745731e+10        10   \n",
      "3   6326    10      1       2       1     0.0      3  5.820230e+10         8   \n",
      "4   6394    10      4       2       0     0.0      2  5.820232e+10         8   \n",
      "5   9142    20      2       2       1     9.0      6  7.498132e+10        10   \n",
      "6   9227     5      3       2       0    40.0      2  7.537612e+10         7   \n",
      "\n",
      "   married  retired  schadj  urban  wave   wealth  age  \n",
      "0        1        1       4      0     3   1200.0   74  \n",
      "1        1        0       0      0     2   1600.0   56  \n",
      "2        1        0       4      0     2      0.0   69  \n",
      "3        0        0       0      1     3      0.0   50  \n",
      "4        1        1       4      1     2    180.0   70  \n",
      "5        1        0       0      0     2  52000.0   46  \n",
      "6        1        0       8      0     3  20900.0   53  \n",
      "10035\n",
      "   cesd  child  drinkly  female  hrsusu  hsize         inid  intmonth  \\\n",
      "0     6      2        0       1     0.0      4  10104101001         7   \n",
      "1     7      2        0       1    49.0      4  10104101001         7   \n",
      "2     5      2        0       1    56.0      7  10104101001         8   \n",
      "3     0      2        1       0    63.0      4  10104101002         7   \n",
      "4     5      2        1       0    49.0      4  10104101002         7   \n",
      "\n",
      "   married  retired  schadj  urban  wave   wealth  age  \n",
      "0        1        0       0      0     1  -5800.0   46  \n",
      "1        1        0       0      0     2    100.0   46  \n",
      "2        1        0       0      0     3 -59970.0   46  \n",
      "3        1        0       4      0     1  -5800.0   48  \n",
      "4        1        0       4      0     2    100.0   48  \n",
      "<class 'pandas.core.frame.DataFrame'>\n",
      "Int64Index: 10035 entries, 0 to 10055\n",
      "Data columns (total 15 columns):\n",
      " #   Column    Non-Null Count  Dtype  \n",
      "---  ------    --------------  -----  \n",
      " 0   cesd      10035 non-null  int64  \n",
      " 1   child     10035 non-null  int64  \n",
      " 2   drinkly   10035 non-null  int64  \n",
      " 3   female    10035 non-null  int64  \n",
      " 4   hrsusu    10035 non-null  float64\n",
      " 5   hsize     10035 non-null  int64  \n",
      " 6   inid      10035 non-null  int64  \n",
      " 7   intmonth  10035 non-null  int64  \n",
      " 8   married   10035 non-null  int64  \n",
      " 9   retired   10035 non-null  int64  \n",
      " 10  schadj    10035 non-null  int64  \n",
      " 11  urban     10035 non-null  int64  \n",
      " 12  wave      10035 non-null  int64  \n",
      " 13  wealth    10035 non-null  float64\n",
      " 14  age       10035 non-null  int64  \n",
      "dtypes: float64(2), int64(13)\n",
      "memory usage: 1.2 MB\n",
      "None\n",
      "a\n",
      "          inid  wave  cesd  child  drinkly  female  hrsusu  hsize  married  \\\n",
      "0  10104101001     1     6      2        0       1       0      4        1   \n",
      "1  10104101001     2     7      2        0       1      49      4        1   \n",
      "2  10104101001     3     5      2        0       1      56      7        1   \n",
      "3  10104101002     1     0      2        1       0      63      4        1   \n",
      "4  10104101002     2     5      2        1       0      49      4        1   \n",
      "\n",
      "   retired  ...  mfemale  mhrsusu  mhsize  mmarried  mretired  murban  \\\n",
      "0        0  ...        1       35       5         1         0       0   \n",
      "1        0  ...        1       35       5         1         0       0   \n",
      "2        0  ...        1       35       5         1         0       0   \n",
      "3        0  ...        0       56       5         1         0       0   \n",
      "4        0  ...        0       56       5         1         0       0   \n",
      "\n",
      "   mschadj  mwealth  mage  mintmonth  \n",
      "0        0   -21890    46          7  \n",
      "1        0   -21890    46          7  \n",
      "2        0   -21890    46          7  \n",
      "3        4   -21890    48          7  \n",
      "4        4   -21890    48          7  \n",
      "\n",
      "[5 rows x 27 columns]\n",
      "<class 'pandas.core.frame.DataFrame'>\n",
      "RangeIndex: 10035 entries, 0 to 10034\n",
      "Data columns (total 27 columns):\n",
      " #   Column     Non-Null Count  Dtype\n",
      "---  ------     --------------  -----\n",
      " 0   inid       10035 non-null  int64\n",
      " 1   wave       10035 non-null  int64\n",
      " 2   cesd       10035 non-null  int64\n",
      " 3   child      10035 non-null  int64\n",
      " 4   drinkly    10035 non-null  int64\n",
      " 5   female     10035 non-null  int64\n",
      " 6   hrsusu     10035 non-null  int64\n",
      " 7   hsize      10035 non-null  int64\n",
      " 8   married    10035 non-null  int64\n",
      " 9   retired    10035 non-null  int64\n",
      " 10  urban      10035 non-null  int64\n",
      " 11  schadj     10035 non-null  int64\n",
      " 12  wealth     10035 non-null  int64\n",
      " 13  age        10035 non-null  int64\n",
      " 14  intmonth   10035 non-null  int64\n",
      " 15  mchild     10035 non-null  int64\n",
      " 16  mdrinkly   10035 non-null  int64\n",
      " 17  mfemale    10035 non-null  int64\n",
      " 18  mhrsusu    10035 non-null  int64\n",
      " 19  mhsize     10035 non-null  int64\n",
      " 20  mmarried   10035 non-null  int64\n",
      " 21  mretired   10035 non-null  int64\n",
      " 22  murban     10035 non-null  int64\n",
      " 23  mschadj    10035 non-null  int64\n",
      " 24  mwealth    10035 non-null  int64\n",
      " 25  mage       10035 non-null  int64\n",
      " 26  mintmonth  10035 non-null  int64\n",
      "dtypes: int64(27)\n",
      "memory usage: 2.1 MB\n",
      "None\n",
      "               cesd         child       drinkly        female        hrsusu  \\\n",
      "count  10035.000000  10035.000000  10035.000000  10035.000000  10035.000000   \n",
      "mean       8.866069      2.768411      0.324165      0.542302     27.952865   \n",
      "std        6.290205      1.436302      0.468085      0.498232     27.244793   \n",
      "min        0.000000      0.000000      0.000000      0.000000      0.000000   \n",
      "25%        4.000000      2.000000      0.000000      0.000000      0.000000   \n",
      "50%        8.000000      2.000000      0.000000      1.000000     24.000000   \n",
      "75%       13.000000      3.000000      1.000000      1.000000     49.000000   \n",
      "max       30.000000     10.000000      1.000000      1.000000    168.000000   \n",
      "\n",
      "              hsize       married       retired         urban        schadj  \\\n",
      "count  10035.000000  10035.000000  10035.000000  10035.000000  10035.000000   \n",
      "mean       3.653413      0.858196      0.268759      0.315695      4.095067   \n",
      "std        1.785335      0.348866      0.443337      0.464815      3.604436   \n",
      "min        1.000000      0.000000      0.000000      0.000000      0.000000   \n",
      "25%        2.000000      1.000000      0.000000      0.000000      0.000000   \n",
      "50%        3.000000      1.000000      0.000000      0.000000      4.000000   \n",
      "75%        5.000000      1.000000      1.000000      1.000000      4.000000   \n",
      "max       13.000000      1.000000      1.000000      1.000000     16.000000   \n",
      "\n",
      "       ...       mfemale       mhrsusu        mhsize      mmarried  \\\n",
      "count  ...  10035.000000  10035.000000  10035.000000  10035.000000   \n",
      "mean   ...      0.542302     27.689686      3.374589      0.833483   \n",
      "std    ...      0.498232     21.201417      1.454681      0.372563   \n",
      "min    ...      0.000000      0.000000      1.000000      0.000000   \n",
      "25%    ...      0.000000      8.000000      2.000000      1.000000   \n",
      "50%    ...      1.000000     28.000000      3.000000      1.000000   \n",
      "75%    ...      1.000000     43.000000      4.000000      1.000000   \n",
      "max    ...      1.000000    119.000000     10.000000      1.000000   \n",
      "\n",
      "           mretired        murban       mschadj       mwealth          mage  \\\n",
      "count  10035.000000  10035.000000  10035.000000  1.003500e+04  10035.000000   \n",
      "mean       0.139312      0.315695      4.095067  1.020623e+04     58.222422   \n",
      "std        0.346289      0.464815      3.604436  6.285327e+04      9.233897   \n",
      "min        0.000000      0.000000      0.000000 -3.250000e+05     16.000000   \n",
      "25%        0.000000      0.000000      0.000000  8.300000e+01     51.000000   \n",
      "50%        0.000000      0.000000      4.000000  1.070000e+03     58.000000   \n",
      "75%        0.000000      1.000000      4.000000  8.616000e+03     64.000000   \n",
      "max        1.000000      1.000000     16.000000  2.672550e+06     89.000000   \n",
      "\n",
      "          mintmonth  \n",
      "count  10035.000000  \n",
      "mean       7.301644  \n",
      "std        0.688318  \n",
      "min        5.000000  \n",
      "25%        7.000000  \n",
      "50%        7.000000  \n",
      "75%        8.000000  \n",
      "max       10.000000  \n",
      "\n",
      "[8 rows x 25 columns]\n"
     ]
    }
   ],
   "source": [
    "#Leemos el archivo\n",
    "charls = pd.read_csv('C:/Users/PC/Documents/GitHub/LAB-MAA/data/charls.csv');\n",
    "charls.dropna(inplace=True);\n",
    "charls.reset_index(drop=True, inplace=True);\n",
    "\n",
    "#\"drinkly\" viene en un formato raro; esta seccion de codigo la estandariza al resto de datos\n",
    "print(charls.head(5));\n",
    "for i in range(len(charls)):\n",
    "    if charls['drinkly'][i] == '0.None':\n",
    "        charls['drinkly'][i] = 0;\n",
    "    elif charls['drinkly'][i] == '1.Yes':\n",
    "        charls['drinkly'][i] = 1;\n",
    "    else:\n",
    "        charls['drinkly'][i] = 2;\n",
    "        \n",
    "#Eliminamos filas que incluyen datos no utilizables para \"inid\"\n",
    "charls = charls.head(10056);\n",
    "        \n",
    "#Eliminamos las filas que no tienen info para \"drinkly\"\n",
    "#########################################\n",
    "drinklys_malos = charls[charls.drinkly == 2];\n",
    "drinklys_malos.reset_index(inplace=True);\n",
    "print(drinklys_malos);\n",
    "for i in range(len(drinklys_malos)):\n",
    "    charls = charls[charls.inid != drinklys_malos['inid'][i]];\n",
    "print(len(charls))\n",
    "#########################################\n",
    "\n",
    "charls.inid = charls.inid.astype(str);\n",
    "\n",
    "#Efectuamos algunas modificaciones de tipo de dato de las columnas problematicas\n",
    "charls['inid'] = pd.to_numeric(charls['inid'],errors=\"coerce\").fillna(0).astype('int64');\n",
    "charls['drinkly'] = pd.to_numeric(charls['drinkly'],errors=\"coerce\").fillna(0).astype('int64');\n",
    "print(charls.head(5));\n",
    "print(charls.info());\n",
    "\n",
    "#Construccion de variables\n",
    "X = charls[['child','drinkly','female','hrsusu','hsize','married','retired','urban','schadj','wealth','age','intmonth']];\n",
    "X = X.astype('int64');\n",
    "Xm=(X.groupby(charls['inid']).transform('mean'));\n",
    "Xm = Xm.astype('int64');\n",
    "Xid=charls[['inid','wave','cesd','child','drinkly','female','hrsusu','hsize','married','retired','urban','schadj','wealth','age','intmonth']];\n",
    "Xid = Xid.astype('int64');\n",
    "Xc=pd.DataFrame(np.c_[Xid, Xm], columns=['inid','wave','cesd','child','drinkly','female','hrsusu','hsize','married','retired','urban','schadj','wealth','age','intmonth','mchild','mdrinkly','mfemale','mhrsusu','mhsize','mmarried','mretired','murban','mschadj','mwealth','mage','mintmonth']);\n",
    "Xc = Xc.astype('int64');\n",
    "print('a')\n",
    "print(Xc.head(5));\n",
    "print(Xc.info());\n",
    "\n",
    "#Setear estructura de panel\n",
    "Xc = Xc.set_index([\"inid\",\"wave\"]);\n",
    "print(Xc.describe());"
   ]
  },
  {
   "cell_type": "code",
   "execution_count": 209,
   "metadata": {},
   "outputs": [
    {
     "name": "stdout",
     "output_type": "stream",
     "text": [
      "56302123001    3\n",
      "31106113001    3\n",
      "10206109001    3\n",
      "51606216001    3\n",
      "75376101002    3\n",
      "              ..\n",
      "60440126001    3\n",
      "54054206002    3\n",
      "10206313002    3\n",
      "94004116002    3\n",
      "56059316001    3\n",
      "Name: inid, Length: 3345, dtype: int64\n",
      "----\n",
      "0    6782\n",
      "1    3253\n",
      "Name: drinkly, dtype: int64\n",
      "----\n"
     ]
    }
   ],
   "source": [
    "#Verificacion de que \"inid\" se repite solo 3 veces \n",
    "print(charls[\"inid\"].value_counts());\n",
    "print('----');\n",
    "\n",
    "#Verificacion de que \"drinkly\" solo toma valores 0 y 1\n",
    "print(charls[\"drinkly\"].value_counts());\n",
    "print(\"----\");"
   ]
  },
  {
   "cell_type": "code",
   "execution_count": 210,
   "metadata": {},
   "outputs": [
    {
     "name": "stdout",
     "output_type": "stream",
     "text": [
      "                  cesd  child  drinkly  female  hrsusu  hsize  married  \\\n",
      "inid        wave                                                         \n",
      "10104101001 1        6      2        0       1       0      4        1   \n",
      "            2        7      2        0       1      49      4        1   \n",
      "            3        5      2        0       1      56      7        1   \n",
      "10104101002 1        0      2        1       0      63      4        1   \n",
      "            2        5      2        1       0      49      4        1   \n",
      "            3        6      2        1       0      56      7        1   \n",
      "10104102001 1        6      1        0       1       0      6        1   \n",
      "            2        7      2        0       1      35      6        1   \n",
      "            3        6      2        0       1      24      4        1   \n",
      "\n",
      "                  retired  urban  schadj  ...  mfemale  mhrsusu  mhsize  \\\n",
      "inid        wave                          ...                             \n",
      "10104101001 1           0      0       0  ...        1       35       5   \n",
      "            2           0      0       0  ...        1       35       5   \n",
      "            3           0      0       0  ...        1       35       5   \n",
      "10104101002 1           0      0       4  ...        0       56       5   \n",
      "            2           0      0       4  ...        0       56       5   \n",
      "            3           0      0       4  ...        0       56       5   \n",
      "10104102001 1           0      0       0  ...        1       19       5   \n",
      "            2           0      0       0  ...        1       19       5   \n",
      "            3           0      0       0  ...        1       19       5   \n",
      "\n",
      "                  mmarried  mretired  murban  mschadj  mwealth  mage  \\\n",
      "inid        wave                                                       \n",
      "10104101001 1            1         0       0        0   -21890    46   \n",
      "            2            1         0       0        0   -21890    46   \n",
      "            3            1         0       0        0   -21890    46   \n",
      "10104101002 1            1         0       0        4   -21890    48   \n",
      "            2            1         0       0        4   -21890    48   \n",
      "            3            1         0       0        4   -21890    48   \n",
      "10104102001 1            1         0       0        0      583    57   \n",
      "            2            1         0       0        0      583    57   \n",
      "            3            1         0       0        0      583    57   \n",
      "\n",
      "                  mintmonth  \n",
      "inid        wave             \n",
      "10104101001 1             7  \n",
      "            2             7  \n",
      "            3             7  \n",
      "10104101002 1             7  \n",
      "            2             7  \n",
      "            3             7  \n",
      "10104102001 1             7  \n",
      "            2             7  \n",
      "            3             7  \n",
      "\n",
      "[9 rows x 25 columns]\n",
      "<class 'pandas.core.frame.DataFrame'>\n",
      "MultiIndex: 10035 entries, (10104101001, 1) to (94004308001, 3)\n",
      "Data columns (total 25 columns):\n",
      " #   Column     Non-Null Count  Dtype\n",
      "---  ------     --------------  -----\n",
      " 0   cesd       10035 non-null  int64\n",
      " 1   child      10035 non-null  int64\n",
      " 2   drinkly    10035 non-null  int64\n",
      " 3   female     10035 non-null  int64\n",
      " 4   hrsusu     10035 non-null  int64\n",
      " 5   hsize      10035 non-null  int64\n",
      " 6   married    10035 non-null  int64\n",
      " 7   retired    10035 non-null  int64\n",
      " 8   urban      10035 non-null  int64\n",
      " 9   schadj     10035 non-null  int64\n",
      " 10  wealth     10035 non-null  int64\n",
      " 11  age        10035 non-null  int64\n",
      " 12  intmonth   10035 non-null  int64\n",
      " 13  mchild     10035 non-null  int64\n",
      " 14  mdrinkly   10035 non-null  int64\n",
      " 15  mfemale    10035 non-null  int64\n",
      " 16  mhrsusu    10035 non-null  int64\n",
      " 17  mhsize     10035 non-null  int64\n",
      " 18  mmarried   10035 non-null  int64\n",
      " 19  mretired   10035 non-null  int64\n",
      " 20  murban     10035 non-null  int64\n",
      " 21  mschadj    10035 non-null  int64\n",
      " 22  mwealth    10035 non-null  int64\n",
      " 23  mage       10035 non-null  int64\n",
      " 24  mintmonth  10035 non-null  int64\n",
      "dtypes: int64(25)\n",
      "memory usage: 2.0 MB\n",
      "None\n"
     ]
    }
   ],
   "source": [
    "#Visualizacion de las variables\n",
    "print(Xc.head(9));\n",
    "print(Xc.info());"
   ]
  },
  {
   "cell_type": "markdown",
   "metadata": {},
   "source": [
    "## Graficos"
   ]
  },
  {
   "cell_type": "code",
   "execution_count": 211,
   "metadata": {},
   "outputs": [
    {
     "name": "stdout",
     "output_type": "stream",
     "text": [
      "7     4994\n",
      "8     4093\n",
      "9      344\n",
      "11     188\n",
      "10     147\n",
      "12     113\n",
      "6       60\n",
      "1       54\n",
      "2       42\n",
      "Name: intmonth, dtype: int64\n"
     ]
    },
    {
     "data": {
      "image/png": "[encoded data removed]",
      "text/plain": [
       "<Figure size 432x288 with 1 Axes>"
      ]
     },
     "metadata": {},
     "output_type": "display_data"
    }
   ],
   "source": [
    "import seaborn\n",
    "col = seaborn.color_palette('pastel');\n",
    "\n",
    "#Visualizacion de la variable \"intmonth\"\n",
    "var = 'intmonth';\n",
    "\n",
    "print(charls[var].value_counts());\n",
    "graf = charls[var].value_counts().to_frame().reset_index();\n",
    "graf.columns = [var, 'rep'];\n",
    "plt.pie(graf.rep, labels=graf.intmonth, colors=col);\n",
    "plt.show();\n",
    "\n",
    "#Se descubre que la gran mayoría de datos corresponden al mes 7 y al mes 8, pero existen suficientes datos\n",
    "#de otros meses como para impedir que se consideren atípicos."
   ]
  },
  {
   "cell_type": "code",
   "execution_count": 212,
   "metadata": {},
   "outputs": [
    {
     "name": "stdout",
     "output_type": "stream",
     "text": [
      "0    6867\n",
      "1    3168\n",
      "Name: urban, dtype: int64\n"
     ]
    },
    {
     "data": {
      "image/png": "[encoded data removed]",
      "text/plain": [
       "<Figure size 432x288 with 1 Axes>"
      ]
     },
     "metadata": {},
     "output_type": "display_data"
    }
   ],
   "source": [
    "#Visualizacion de la variable \"urban\"\n",
    "var = 'urban';\n",
    "\n",
    "print(charls[var].value_counts());\n",
    "graf = charls[var].value_counts().to_frame().reset_index();\n",
    "graf.columns = [var, 'rep'];\n",
    "plt.pie(graf.rep, labels=graf.urban, colors=col);\n",
    "plt.show();"
   ]
  },
  {
   "cell_type": "code",
   "execution_count": 188,
   "metadata": {},
   "outputs": [
    {
     "name": "stdout",
     "output_type": "stream",
     "text": [
      "0    6782\n",
      "1    3253\n",
      "Name: drinkly, dtype: int64\n"
     ]
    },
    {
     "data": {
      "image/png": "[encoded data removed]",
      "text/plain": [
       "<Figure size 432x288 with 1 Axes>"
      ]
     },
     "metadata": {},
     "output_type": "display_data"
    }
   ],
   "source": [
    "#Verificamos que \"drinkly\" ahora sea binaria\n",
    "var = 'drinkly';\n",
    "\n",
    "print(charls[var].value_counts());\n",
    "graf = charls[var].value_counts().to_frame().reset_index();\n",
    "graf.columns = [var, 'rep'];\n",
    "plt.pie(graf.rep, labels=graf.drinkly, colors=col);\n",
    "plt.show();"
   ]
  },
  {
   "cell_type": "code",
   "execution_count": 189,
   "metadata": {},
   "outputs": [
    {
     "name": "stdout",
     "output_type": "stream",
     "text": [
      "4     4548\n",
      "0     3054\n",
      "8     1623\n",
      "12     738\n",
      "14      45\n",
      "16      27\n",
      "Name: schadj, dtype: int64\n"
     ]
    },
    {
     "data": {
      "image/png": "[encoded data removed]",
      "text/plain": [
       "<Figure size 432x288 with 1 Axes>"
      ]
     },
     "metadata": {},
     "output_type": "display_data"
    }
   ],
   "source": [
    "#Visualizacion de la variable \"schadj\"\n",
    "var = 'schadj';\n",
    "\n",
    "print(charls[var].value_counts());\n",
    "graf = charls[var].value_counts().to_frame().reset_index();\n",
    "graf.columns = [var, 'rep'];\n",
    "plt.pie(graf.rep, labels=graf.schadj, colors=col);\n",
    "plt.show();"
   ]
  },
  {
   "cell_type": "markdown",
   "metadata": {},
   "source": [
    "## Pooled OLS"
   ]
  },
  {
   "cell_type": "code",
   "execution_count": 242,
   "metadata": {},
   "outputs": [
    {
     "name": "stdout",
     "output_type": "stream",
     "text": [
      "                            OLS Regression Results                            \n",
      "==============================================================================\n",
      "Dep. Variable:                   cesd   R-squared:                       0.073\n",
      "Model:                            OLS   Adj. R-squared:                  0.072\n",
      "Method:                 Least Squares   F-statistic:                     65.53\n",
      "Date:                Wed, 05 Oct 2022   Prob (F-statistic):          2.21e-154\n",
      "Time:                        19:49:24   Log-Likelihood:                -32314.\n",
      "No. Observations:               10035   AIC:                         6.465e+04\n",
      "Df Residuals:                   10022   BIC:                         6.475e+04\n",
      "Df Model:                          12                                         \n",
      "Covariance Type:            nonrobust                                         \n",
      "==============================================================================\n",
      "                 coef    std err          t      P>|t|      [0.025      0.975]\n",
      "------------------------------------------------------------------------------\n",
      "const         10.0525      0.732     13.731      0.000       8.617      11.488\n",
      "child          0.0891      0.049      1.829      0.067      -0.006       0.185\n",
      "drinkly       -0.0019      0.144     -0.013      0.990      -0.284       0.280\n",
      "female         1.5318      0.143     10.701      0.000       1.251       1.812\n",
      "hrsusu         0.0058      0.003      2.011      0.044       0.000       0.011\n",
      "hsize         -0.0785      0.035     -2.226      0.026      -0.148      -0.009\n",
      "married       -1.3933      0.187     -7.467      0.000      -1.759      -1.028\n",
      "retired        0.4884      0.182      2.679      0.007       0.131       0.846\n",
      "urban         -1.8529      0.139    -13.368      0.000      -2.125      -1.581\n",
      "schadj        -0.1954      0.019    -10.367      0.000      -0.232      -0.158\n",
      "wealth     -2.322e-06   6.11e-07     -3.798      0.000   -3.52e-06   -1.12e-06\n",
      "age           -0.0127      0.008     -1.521      0.128      -0.029       0.004\n",
      "intmonth       0.1416      0.056      2.543      0.011       0.032       0.251\n",
      "==============================================================================\n",
      "Omnibus:                      664.468   Durbin-Watson:                   1.337\n",
      "Prob(Omnibus):                  0.000   Jarque-Bera (JB):              804.243\n",
      "Skew:                           0.692   Prob(JB):                    2.30e-175\n",
      "Kurtosis:                       3.094   Cond. No.                     1.22e+06\n",
      "==============================================================================\n",
      "\n",
      "Warnings:\n",
      "[1] Standard Errors assume that the covariance matrix of the errors is correctly specified.\n",
      "[2] The condition number is large, 1.22e+06. This might indicate that there are\n",
      "strong multicollinearity or other numerical problems.\n",
      "Figure(720x576)\n"
     ]
    },
    {
     "data": {
      "image/png": "[encoded data removed]",
      "text/plain": [
       "<Figure size 720x576 with 4 Axes>"
      ]
     },
     "metadata": {
      "needs_background": "light"
     },
     "output_type": "display_data"
    }
   ],
   "source": [
    "#Se establece la variable dependiente\n",
    "y=Xc['cesd'];\n",
    "\n",
    "#Se establecen las variables independientes a considerar en este modelo\n",
    "X=Xc[['child','drinkly','female','hrsusu','hsize','married','retired','urban','schadj','wealth','age','intmonth']];\n",
    "#X=Xc[['child','drinkly','hrsusu','hsize','married','retired','wealth']];\n",
    "X=sm.add_constant(X);\n",
    "\n",
    "model = sm.OLS(y, X);\n",
    "results = model.fit();\n",
    "print(results.summary());\n",
    "\n",
    "#Graficar residuos para intmonth y así demostrar heterocedasticidad\n",
    "print(sm.graphics.plot_regress_exog(results, 'intmonth', fig=plt.figure(figsize=(10,8))));\n",
    "\n",
    "#Se concluye que intmonth presenta heterocedasticidad."
   ]
  },
  {
   "cell_type": "code",
   "execution_count": 244,
   "metadata": {},
   "outputs": [
    {
     "name": "stdout",
     "output_type": "stream",
     "text": [
      "                          PooledOLS Estimation Summary                          \n",
      "================================================================================\n",
      "Dep. Variable:                   cesd   R-squared:                        0.0728\n",
      "Estimator:                  PooledOLS   R-squared (Between):              0.1097\n",
      "No. Observations:               10035   R-squared (Within):              -0.0003\n",
      "Date:                Wed, Oct 05 2022   R-squared (Overall):              0.0728\n",
      "Time:                        19:50:46   Log-likelihood                -3.231e+04\n",
      "Cov. Estimator:                Robust                                           \n",
      "                                        F-statistic:                      65.532\n",
      "Entities:                        3345   P-value                           0.0000\n",
      "Avg Obs:                       3.0000   Distribution:                F(12,10022)\n",
      "Min Obs:                       3.0000                                           \n",
      "Max Obs:                       3.0000   F-statistic (robust):             64.113\n",
      "                                        P-value                           0.0000\n",
      "Time periods:                       3   Distribution:                F(12,10022)\n",
      "Avg Obs:                       3345.0                                           \n",
      "Min Obs:                       3345.0                                           \n",
      "Max Obs:                       3345.0                                           \n",
      "                                                                                \n",
      "                             Parameter Estimates                              \n",
      "==============================================================================\n",
      "            Parameter  Std. Err.     T-stat    P-value    Lower CI    Upper CI\n",
      "------------------------------------------------------------------------------\n",
      "const          10.052     0.7381     13.619     0.0000      8.6056      11.499\n",
      "child          0.0891     0.0498     1.7877     0.0738     -0.0086      0.1867\n",
      "drinkly       -0.0019     0.1424    -0.0130     0.9896     -0.2810      0.2773\n",
      "female         1.5318     0.1436     10.665     0.0000      1.2502      1.8133\n",
      "hrsusu         0.0058     0.0028     2.0498     0.0404      0.0003      0.0113\n",
      "hsize         -0.0785     0.0346    -2.2701     0.0232     -0.1463     -0.0107\n",
      "married       -1.3933     0.2022    -6.8903     0.0000     -1.7896     -0.9969\n",
      "retired        0.4884     0.1859     2.6277     0.0086      0.1241      0.8528\n",
      "urban         -1.8529     0.1332    -13.915     0.0000     -2.1139     -1.5919\n",
      "schadj        -0.1954     0.0183    -10.666     0.0000     -0.2313     -0.1595\n",
      "wealth     -2.322e-06   1.96e-06    -1.1851     0.2360  -6.164e-06   1.519e-06\n",
      "age           -0.0127     0.0086    -1.4844     0.1377     -0.0295      0.0041\n",
      "intmonth       0.1416     0.0542     2.6139     0.0090      0.0354      0.2477\n",
      "==============================================================================\n"
     ]
    }
   ],
   "source": [
    "#Se ejecuta Pooled OLS\n",
    "model=lmp.PooledOLS(y,X);\n",
    "PooledOLS=model.fit(cov_type=\"robust\");\n",
    "print(PooledOLS);"
   ]
  },
  {
   "cell_type": "markdown",
   "metadata": {},
   "source": [
    "## First differences "
   ]
  },
  {
   "cell_type": "code",
   "execution_count": 246,
   "metadata": {},
   "outputs": [
    {
     "name": "stdout",
     "output_type": "stream",
     "text": [
      "                     FirstDifferenceOLS Estimation Summary                      \n",
      "================================================================================\n",
      "Dep. Variable:                   cesd   R-squared:                        0.0031\n",
      "Estimator:         FirstDifferenceOLS   R-squared (Between):             -0.2010\n",
      "No. Observations:                6690   R-squared (Within):               0.0034\n",
      "Date:                Wed, Oct 05 2022   R-squared (Overall):             -0.1780\n",
      "Time:                        19:55:57   Log-likelihood                -2.163e+04\n",
      "Cov. Estimator:                Robust                                           \n",
      "                                        F-statistic:                      3.0065\n",
      "Entities:                        3345   P-value                           0.0037\n",
      "Avg Obs:                       3.0000   Distribution:                  F(7,6683)\n",
      "Min Obs:                       3.0000                                           \n",
      "Max Obs:                       3.0000   F-statistic (robust):             2.6024\n",
      "                                        P-value                           0.0111\n",
      "Time periods:                       3   Distribution:                  F(7,6683)\n",
      "Avg Obs:                       3345.0                                           \n",
      "Min Obs:                       3345.0                                           \n",
      "Max Obs:                       3345.0                                           \n",
      "                                                                                \n",
      "                             Parameter Estimates                              \n",
      "==============================================================================\n",
      "            Parameter  Std. Err.     T-stat    P-value    Lower CI    Upper CI\n",
      "------------------------------------------------------------------------------\n",
      "child          0.1344     0.1010     1.3309     0.1833     -0.0636      0.3324\n",
      "drinkly        0.0358     0.1848     0.1938     0.8464     -0.3264      0.3980\n",
      "hrsusu        -0.0012     0.0029    -0.4113     0.6809     -0.0069      0.0045\n",
      "married       -1.2037     0.5580    -2.1571     0.0310     -2.2975     -0.1098\n",
      "retired        0.1851     0.2038     0.9084     0.3637     -0.2144      0.5847\n",
      "hsize         -0.1386     0.0454    -3.0506     0.0023     -0.2276     -0.0495\n",
      "wealth      2.173e-07  6.248e-07     0.3478     0.7280  -1.007e-06   1.442e-06\n",
      "==============================================================================\n"
     ]
    }
   ],
   "source": [
    "#Se retiran variables problematicas (las que son fijas en el tiempo) y se ejecuta\n",
    "X=Xc[['child','drinkly','hrsusu','married','retired','hsize','wealth']];\n",
    "model=lmp.FirstDifferenceOLS(y,X)\n",
    "fd=model.fit(cov_type=\"robust\")\n",
    "print(fd);"
   ]
  },
  {
   "cell_type": "markdown",
   "metadata": {},
   "source": [
    "## Fixed Effects "
   ]
  },
  {
   "cell_type": "code",
   "execution_count": 279,
   "metadata": {},
   "outputs": [
    {
     "name": "stdout",
     "output_type": "stream",
     "text": [
      "                          PanelOLS Estimation Summary                           \n",
      "================================================================================\n",
      "Dep. Variable:                   cesd   R-squared:                        0.0039\n",
      "Estimator:                   PanelOLS   R-squared (Between):              0.0128\n",
      "No. Observations:               10035   R-squared (Within):               0.0039\n",
      "Date:                Wed, Oct 05 2022   R-squared (Overall):              0.0098\n",
      "Time:                        20:46:44   Log-likelihood                 -2.72e+04\n",
      "Cov. Estimator:                Robust                                           \n",
      "                                        F-statistic:                      3.7479\n",
      "Entities:                        3345   P-value                           0.0005\n",
      "Avg Obs:                       3.0000   Distribution:                  F(7,6683)\n",
      "Min Obs:                       3.0000                                           \n",
      "Max Obs:                       3.0000   F-statistic (robust):             3.1735\n",
      "                                        P-value                           0.0024\n",
      "Time periods:                       3   Distribution:                  F(7,6683)\n",
      "Avg Obs:                       3345.0                                           \n",
      "Min Obs:                       3345.0                                           \n",
      "Max Obs:                       3345.0                                           \n",
      "                                                                                \n",
      "                             Parameter Estimates                              \n",
      "==============================================================================\n",
      "            Parameter  Std. Err.     T-stat    P-value    Lower CI    Upper CI\n",
      "------------------------------------------------------------------------------\n",
      "const          9.7600     0.5457     17.886     0.0000      8.6903      10.830\n",
      "child          0.1512     0.0958     1.5787     0.1144     -0.0365      0.3390\n",
      "drinkly        0.2126     0.1886     1.1275     0.2596     -0.1570      0.5823\n",
      "hrsusu        -0.0003     0.0029    -0.1172     0.9067     -0.0060      0.0054\n",
      "married       -1.1847     0.5062    -2.3402     0.0193     -2.1771     -0.1923\n",
      "retired        0.3501     0.2022     1.7313     0.0834     -0.0463      0.7464\n",
      "hsize         -0.1215     0.0439    -2.7657     0.0057     -0.2077     -0.0354\n",
      "wealth     -5.151e-07  8.421e-07    -0.6117     0.5407  -2.166e-06   1.136e-06\n",
      "==============================================================================\n",
      "\n",
      "F-test for Poolability: 3.8479\n",
      "P-value: 0.0000\n",
      "Distribution: F(3344,6683)\n",
      "\n",
      "Included effects: Entity\n"
     ]
    }
   ],
   "source": [
    "#Se retiran variables problematicas y se ejecuta\n",
    "X=Xc[['child','drinkly','hrsusu','married','retired','hsize','wealth']];\n",
    "X=sm.add_constant(X)\n",
    "model=lmp.PanelOLS(y,X, entity_effects=True)\n",
    "fe=model.fit(cov_type=\"robust\")\n",
    "print(fe)"
   ]
  },
  {
   "cell_type": "markdown",
   "metadata": {},
   "source": [
    "## Random Effects\n"
   ]
  },
  {
   "cell_type": "code",
   "execution_count": 258,
   "metadata": {},
   "outputs": [
    {
     "name": "stdout",
     "output_type": "stream",
     "text": [
      "                        RandomEffects Estimation Summary                        \n",
      "================================================================================\n",
      "Dep. Variable:                   cesd   R-squared:                        0.0104\n",
      "Estimator:              RandomEffects   R-squared (Between):              0.0286\n",
      "No. Observations:               10035   R-squared (Within):               0.0009\n",
      "Date:                Wed, Oct 05 2022   R-squared (Overall):              0.0193\n",
      "Time:                        20:00:42   Log-likelihood                -2.926e+04\n",
      "Cov. Estimator:                Robust                                           \n",
      "                                        F-statistic:                      14.989\n",
      "Entities:                        3345   P-value                           0.0000\n",
      "Avg Obs:                       3.0000   Distribution:                 F(7,10027)\n",
      "Min Obs:                       3.0000                                           \n",
      "Max Obs:                       3.0000   F-statistic (robust):             12.794\n",
      "                                        P-value                           0.0000\n",
      "Time periods:                       3   Distribution:                 F(7,10027)\n",
      "Avg Obs:                       3345.0                                           \n",
      "Min Obs:                       3345.0                                           \n",
      "Max Obs:                       3345.0                                           \n",
      "                                                                                \n",
      "                             Parameter Estimates                              \n",
      "==============================================================================\n",
      "            Parameter  Std. Err.     T-stat    P-value    Lower CI    Upper CI\n",
      "------------------------------------------------------------------------------\n",
      "const          9.9409     0.3217     30.903     0.0000      9.3103      10.571\n",
      "child          0.2308     0.0548     4.2156     0.0000      0.1235      0.3381\n",
      "drinkly       -0.4197     0.1429    -2.9371     0.0033     -0.6999     -0.1396\n",
      "hrsusu         0.0017     0.0026     0.6453     0.5188     -0.0034      0.0067\n",
      "married       -1.5952     0.2489    -6.4098     0.0000     -2.0830     -1.1073\n",
      "retired        0.0874     0.1727     0.5063     0.6127     -0.2511      0.4260\n",
      "hsize         -0.0720     0.0351    -2.0545     0.0400     -0.1408     -0.0033\n",
      "wealth     -1.535e-06  1.122e-06    -1.3682     0.1713  -3.734e-06   6.642e-07\n",
      "==============================================================================\n"
     ]
    }
   ],
   "source": [
    "#Se ejecuta modelo de random effects con fin de comparar con fixed effects\n",
    "#X=Xc[['child','drinkly','hrsusu','married','retired','hsize','wealth']];\n",
    "model=lmp.RandomEffects(y,X)\n",
    "re=model.fit(cov_type=\"robust\")\n",
    "print(re)"
   ]
  },
  {
   "cell_type": "code",
   "execution_count": 280,
   "metadata": {},
   "outputs": [
    {
     "name": "stdout",
     "output_type": "stream",
     "text": [
      "                        RandomEffects Estimation Summary                        \n",
      "================================================================================\n",
      "Dep. Variable:                   cesd   R-squared:                        0.0404\n",
      "Estimator:              RandomEffects   R-squared (Between):              0.1066\n",
      "No. Observations:               10035   R-squared (Within):               0.0032\n",
      "Date:                Wed, Oct 05 2022   R-squared (Overall):              0.0719\n",
      "Time:                        20:46:47   Log-likelihood                -2.924e+04\n",
      "Cov. Estimator:                Robust                                           \n",
      "                                        F-statistic:                      35.120\n",
      "Entities:                        3345   P-value                           0.0000\n",
      "Avg Obs:                       3.0000   Distribution:                F(12,10022)\n",
      "Min Obs:                       3.0000                                           \n",
      "Max Obs:                       3.0000   F-statistic (robust):             35.388\n",
      "                                        P-value                           0.0000\n",
      "Time periods:                       3   Distribution:                F(12,10022)\n",
      "Avg Obs:                       3345.0                                           \n",
      "Min Obs:                       3345.0                                           \n",
      "Max Obs:                       3345.0                                           \n",
      "                                                                                \n",
      "                             Parameter Estimates                              \n",
      "==============================================================================\n",
      "            Parameter  Std. Err.     T-stat    P-value    Lower CI    Upper CI\n",
      "------------------------------------------------------------------------------\n",
      "const          11.110     0.8536     13.015     0.0000      9.4367      12.783\n",
      "child          0.1133     0.0591     1.9163     0.0554     -0.0026      0.2291\n",
      "drinkly        0.0981     0.1498     0.6547     0.5127     -0.1956      0.3918\n",
      "female         1.5418     0.1909     8.0768     0.0000      1.1676      1.9160\n",
      "hrsusu         0.0022     0.0026     0.8738     0.3822     -0.0028      0.0073\n",
      "hsize         -0.1006     0.0350    -2.8739     0.0041     -0.1692     -0.0320\n",
      "married       -1.3449     0.2502    -5.3749     0.0000     -1.8353     -0.8544\n",
      "retired        0.3962     0.1746     2.2696     0.0233      0.0540      0.7384\n",
      "urban         -1.8231     0.1821    -10.009     0.0000     -2.1802     -1.4661\n",
      "schadj        -0.2011     0.0246    -8.1699     0.0000     -0.2493     -0.1528\n",
      "wealth     -1.228e-06  1.061e-06    -1.1572     0.2472  -3.307e-06   8.518e-07\n",
      "age           -0.0166     0.0110    -1.4987     0.1340     -0.0382      0.0051\n",
      "intmonth       0.0398     0.0462     0.8606     0.3895     -0.0508      0.1304\n",
      "==============================================================================\n"
     ]
    }
   ],
   "source": [
    "#Se ejecuta modelo de random effects con fin de comparar con Correlated Random Effects\n",
    "X=Xc[['child','drinkly','female','hrsusu','hsize','married','retired','urban','schadj','wealth','age','intmonth']];\n",
    "X=sm.add_constant(X)\n",
    "model=lmp.RandomEffects(y,X)\n",
    "reALT=model.fit(cov_type=\"robust\")\n",
    "print(reALT)"
   ]
  },
  {
   "cell_type": "code",
   "execution_count": 259,
   "metadata": {},
   "outputs": [
    {
     "data": {
      "text/plain": [
       "Effects                   18.639661\n",
       "Residual                  19.861379\n",
       "Percent due to Effects     0.484134\n",
       "Name: Variance Decomposition, dtype: float64"
      ]
     },
     "execution_count": 259,
     "metadata": {},
     "output_type": "execute_result"
    }
   ],
   "source": [
    "re.variance_decomposition"
   ]
  },
  {
   "cell_type": "markdown",
   "metadata": {},
   "source": [
    "## Model comparison"
   ]
  },
  {
   "cell_type": "code",
   "execution_count": 263,
   "metadata": {},
   "outputs": [
    {
     "name": "stdout",
     "output_type": "stream",
     "text": [
      "                            Model Comparison                           \n",
      "=======================================================================\n",
      "                                    FE                RE         Pooled\n",
      "-----------------------------------------------------------------------\n",
      "Dep. Variable                     cesd              cesd           cesd\n",
      "Estimator                     PanelOLS     RandomEffects      PooledOLS\n",
      "No. Observations                 10035             10035          10035\n",
      "Cov. Est.                       Robust            Robust         Robust\n",
      "R-squared                       0.0039            0.0104         0.0728\n",
      "R-Squared (Within)              0.0039            0.0009        -0.0003\n",
      "R-Squared (Between)             0.0128            0.0286         0.1097\n",
      "R-Squared (Overall)             0.0098            0.0193         0.0728\n",
      "F-statistic                     3.7479            14.989         65.532\n",
      "P-value (F-stat)                0.0005            0.0000         0.0000\n",
      "=====================     ============   ===============   ============\n",
      "const                           9.7600            9.9409         10.052\n",
      "                              (17.886)          (30.903)       (13.619)\n",
      "child                           0.1512            0.2308         0.0891\n",
      "                              (1.5787)          (4.2156)       (1.7877)\n",
      "drinkly                         0.2126           -0.4197        -0.0019\n",
      "                              (1.1275)         (-2.9371)      (-0.0130)\n",
      "hrsusu                         -0.0003            0.0017         0.0058\n",
      "                             (-0.1172)          (0.6453)       (2.0498)\n",
      "married                        -1.1847           -1.5952        -1.3933\n",
      "                             (-2.3402)         (-6.4098)      (-6.8903)\n",
      "retired                         0.3501            0.0874         0.4884\n",
      "                              (1.7313)          (0.5063)       (2.6277)\n",
      "hsize                          -0.1215           -0.0720        -0.0785\n",
      "                             (-2.7657)         (-2.0545)      (-2.2701)\n",
      "wealth                      -5.151e-07        -1.535e-06     -2.322e-06\n",
      "                             (-0.6117)         (-1.3682)      (-1.1851)\n",
      "female                                                           1.5318\n",
      "                                                               (10.665)\n",
      "urban                                                           -1.8529\n",
      "                                                              (-13.915)\n",
      "schadj                                                          -0.1954\n",
      "                                                              (-10.666)\n",
      "age                                                             -0.0127\n",
      "                                                              (-1.4844)\n",
      "intmonth                                                         0.1416\n",
      "                                                               (2.6139)\n",
      "======================= ============== ================= ==============\n",
      "Effects                         Entity                                 \n",
      "-----------------------------------------------------------------------\n",
      "\n",
      "T-stats reported in parentheses\n"
     ]
    }
   ],
   "source": [
    "print(lmp.compare({\"FE\": fe, \"RE\": re, \"Pooled\": PooledOLS}))"
   ]
  },
  {
   "cell_type": "code",
   "execution_count": 283,
   "metadata": {},
   "outputs": [],
   "source": [
    "#Se ejecuta test de Hausman\n",
    "import numpy.linalg as la\n",
    "from scipy import stats\n",
    "\n",
    "def hausman(fe, re):\n",
    "    diff = fe.params-re.params\n",
    "    psi = fe.cov - re.cov\n",
    "    dof = diff.size -1\n",
    "    W = diff.dot(la.inv(psi)).dot(diff)\n",
    "    pval = stats.chi2.sf(W, dof)\n",
    "    return W, dof, pval"
   ]
  },
  {
   "cell_type": "code",
   "execution_count": 284,
   "metadata": {},
   "outputs": [
    {
     "name": "stdout",
     "output_type": "stream",
     "text": [
      "Hausman Test: chi-2 = 41.63022350740858, df = 7, p-value = 6.125793499234899e-07\n"
     ]
    }
   ],
   "source": [
    "htest = hausman(fe, re) \n",
    "print(\"Hausman Test: chi-2 = {0}, df = {1}, p-value = {2}\".format(htest[0], htest[1], htest[2]))\n",
    "#Se concluye que no se rechaza hipotesis nula, y por lo tanto Fixed Effects es mejor modelo"
   ]
  },
  {
   "cell_type": "markdown",
   "metadata": {},
   "source": [
    "## Correlated Random Effects"
   ]
  },
  {
   "cell_type": "code",
   "execution_count": 281,
   "metadata": {},
   "outputs": [
    {
     "name": "stdout",
     "output_type": "stream",
     "text": [
      "                        RandomEffects Estimation Summary                        \n",
      "================================================================================\n",
      "Dep. Variable:                   cesd   R-squared:                        0.0436\n",
      "Estimator:              RandomEffects   R-squared (Between):              0.1136\n",
      "No. Observations:               10035   R-squared (Within):               0.0038\n",
      "Date:                Wed, Oct 05 2022   R-squared (Overall):              0.0768\n",
      "Time:                        20:46:51   Log-likelihood                -2.925e+04\n",
      "Cov. Estimator:                Robust                                           \n",
      "                                        F-statistic:                      22.800\n",
      "Entities:                        3345   P-value                           0.0000\n",
      "Avg Obs:                       3.0000   Distribution:                F(20,10014)\n",
      "Min Obs:                       3.0000                                           \n",
      "Max Obs:                       3.0000   F-statistic (robust):             22.618\n",
      "                                        P-value                           0.0000\n",
      "Time periods:                       3   Distribution:                F(20,10014)\n",
      "Avg Obs:                       3345.0                                           \n",
      "Min Obs:                       3345.0                                           \n",
      "Max Obs:                       3345.0                                           \n",
      "                                                                                \n",
      "                             Parameter Estimates                              \n",
      "==============================================================================\n",
      "            Parameter  Std. Err.     T-stat    P-value    Lower CI    Upper CI\n",
      "------------------------------------------------------------------------------\n",
      "const          8.1897     1.2876     6.3605     0.0000      5.6658      10.714\n",
      "child          0.1757     0.0984     1.7855     0.0742     -0.0172      0.3687\n",
      "drinkly        0.3322     0.1750     1.8977     0.0578     -0.0109      0.6753\n",
      "female         1.4688     0.2004     7.3276     0.0000      1.0759      1.8617\n",
      "hrsusu     -2.106e-05     0.0029    -0.0073     0.9942     -0.0057      0.0056\n",
      "hsize         -0.1148     0.0442    -2.5938     0.0095     -0.2015     -0.0280\n",
      "married       -1.1274     0.4277    -2.6360     0.0084     -1.9657     -0.2890\n",
      "retired        0.4088     0.1888     2.1659     0.0303      0.0388      0.7789\n",
      "urban         -1.9030     0.1888    -10.082     0.0000     -2.2730     -1.5331\n",
      "schadj        -0.1828     0.0256    -7.1453     0.0000     -0.2329     -0.1326\n",
      "wealth     -5.209e-07  1.424e-06    -0.3657     0.7146  -3.313e-06   2.271e-06\n",
      "age           -0.0058     0.0122    -0.4783     0.6324     -0.0298      0.0181\n",
      "intmonth       0.0047     0.0489     0.0959     0.9236     -0.0911      0.1005\n",
      "mchild        -0.1306     0.1204    -1.0847     0.2781     -0.3666      0.1054\n",
      "mdrinkly      -0.7516     0.2583    -2.9103     0.0036     -1.2579     -0.2454\n",
      "mhrsusu        0.0109     0.0055     1.9632     0.0497   1.646e-05      0.0218\n",
      "mhsize         0.0685     0.0756     0.9063     0.3648     -0.0797      0.2168\n",
      "mmarried      -0.3083     0.4483    -0.6876     0.4917     -1.1871      0.5706\n",
      "mretired       0.1761     0.3202     0.5499     0.5824     -0.4516      0.8038\n",
      "mwealth    -4.658e-06  3.597e-06    -1.2952     0.1953  -1.171e-05   2.392e-06\n",
      "mintmonth      0.3387     0.1331     2.5448     0.0109      0.0778      0.5996\n",
      "==============================================================================\n"
     ]
    }
   ],
   "source": [
    "#Se agregan promedios y se ejecuta modelo CRE\n",
    "X=Xc[['child','drinkly','female','hrsusu','hsize','married','retired','urban','schadj','wealth','age','intmonth','mchild','mdrinkly','mhrsusu','mhsize','mmarried','mretired','mwealth','mintmonth']];\n",
    "X=sm.add_constant(X);\n",
    "model=lmp.RandomEffects(y,X);\n",
    "cre=model.fit(cov_type=\"robust\");\n",
    "print(cre);"
   ]
  },
  {
   "cell_type": "code",
   "execution_count": 282,
   "metadata": {},
   "outputs": [
    {
     "name": "stdout",
     "output_type": "stream",
     "text": [
      "                             Model Comparison                             \n",
      "==========================================================================\n",
      "                                    FE                RE               CRE\n",
      "--------------------------------------------------------------------------\n",
      "Dep. Variable                     cesd              cesd              cesd\n",
      "Estimator                     PanelOLS     RandomEffects     RandomEffects\n",
      "No. Observations                 10035             10035             10035\n",
      "Cov. Est.                       Robust            Robust            Robust\n",
      "R-squared                       0.0039            0.0404            0.0436\n",
      "R-Squared (Within)              0.0039            0.0032            0.0038\n",
      "R-Squared (Between)             0.0128            0.1066            0.1136\n",
      "R-Squared (Overall)             0.0098            0.0719            0.0768\n",
      "F-statistic                     3.7479            35.120            22.800\n",
      "P-value (F-stat)                0.0005            0.0000            0.0000\n",
      "=====================     ============   ===============   ===============\n",
      "const                           9.7600            11.110            8.1897\n",
      "                              (17.886)          (13.015)          (6.3605)\n",
      "child                           0.1512            0.1133            0.1757\n",
      "                              (1.5787)          (1.9163)          (1.7855)\n",
      "drinkly                         0.2126            0.0981            0.3322\n",
      "                              (1.1275)          (0.6547)          (1.8977)\n",
      "hrsusu                         -0.0003            0.0022        -2.106e-05\n",
      "                             (-0.1172)          (0.8738)         (-0.0073)\n",
      "married                        -1.1847           -1.3449           -1.1274\n",
      "                             (-2.3402)         (-5.3749)         (-2.6360)\n",
      "retired                         0.3501            0.3962            0.4088\n",
      "                              (1.7313)          (2.2696)          (2.1659)\n",
      "hsize                          -0.1215           -0.1006           -0.1148\n",
      "                             (-2.7657)         (-2.8739)         (-2.5938)\n",
      "wealth                      -5.151e-07        -1.228e-06        -5.209e-07\n",
      "                             (-0.6117)         (-1.1572)         (-0.3657)\n",
      "female                                            1.5418            1.4688\n",
      "                                                (8.0768)          (7.3276)\n",
      "urban                                            -1.8231           -1.9030\n",
      "                                               (-10.009)         (-10.082)\n",
      "schadj                                           -0.2011           -0.1828\n",
      "                                               (-8.1699)         (-7.1453)\n",
      "age                                              -0.0166           -0.0058\n",
      "                                               (-1.4987)         (-0.4783)\n",
      "intmonth                                          0.0398            0.0047\n",
      "                                                (0.8606)          (0.0959)\n",
      "mchild                                                             -0.1306\n",
      "                                                                 (-1.0847)\n",
      "mdrinkly                                                           -0.7516\n",
      "                                                                 (-2.9103)\n",
      "mhrsusu                                                             0.0109\n",
      "                                                                  (1.9632)\n",
      "mhsize                                                              0.0685\n",
      "                                                                  (0.9063)\n",
      "mmarried                                                           -0.3083\n",
      "                                                                 (-0.6876)\n",
      "mretired                                                            0.1761\n",
      "                                                                  (0.5499)\n",
      "mwealth                                                         -4.658e-06\n",
      "                                                                 (-1.2952)\n",
      "mintmonth                                                           0.3387\n",
      "                                                                  (2.5448)\n",
      "======================= ============== ================= =================\n",
      "Effects                         Entity                                    \n",
      "--------------------------------------------------------------------------\n",
      "\n",
      "T-stats reported in parentheses\n"
     ]
    }
   ],
   "source": [
    "#Se muestra comparacion\n",
    "print(lmp.compare({\"FE\": fe, \"RE\": reALT, \"CRE\": cre}))"
   ]
  },
  {
   "cell_type": "markdown",
   "metadata": {},
   "source": [
    "<font size=\"3\">**Tarea 2**</font>\n",
    "\n",
    "<u> *Instrucciones* </u>\n",
    "\n",
    "Los resultados de los ejericicios propuestos se deben entregar como un notebook por correo electronico a *juan.caro@uni.lu* el dia 3/10 hasta las 21:00. \n",
    "\n",
    "Es importante considerar que el código debe poder ejecutarse en cualquier computadora con la data original del repositorio. Recordar la convencion para el nombre de archivo ademas de incluir en su documento titulos y encabezados por seccion. La data a utilizar es **charls.csv**.\n",
    "\n",
    "Las variables tienen la siguiente descripcion:\n",
    "\n",
    "- INID: identificador unico\n",
    "- wave: periodo de la encuesta (1-3)\n",
    "- cesd: puntaje en la escala de salud mental (0-30)\n",
    "- child: numero de hijos\n",
    "- drinkly: bebio alcohol en el ultimo mes (binario)\n",
    "- hrsusu: horas promedio trabajo semanal\n",
    "- hsize: tamano del hogar\n",
    "- intmonth: mes en que fue encuestado/a (1-12)\n",
    "- married: si esta casado/a (binario)\n",
    "- retired: si esta pensionado/a (binario)\n",
    "- schadj: años de escolaridad\n",
    "- urban: zona urbana (binario)\n",
    "- wealth: riqueza neta (miles RMB)\n",
    "- age: edad al entrar a la encuesta (no varia entre periodos)\n",
    "\n",
    "Preguntas:\n",
    "\n",
    "1. Cargar la base de datos *charls.csv* en el ambiente. Identifique los tipos de datos que se encuentran en la base, realice estadisticas descriptivas sobre las variables importantes (Hint: Revisar la distribuciones, datos faltantes, outliers, etc.) y limpie las variables cuando sea necesario. \n",
    "\n",
    "R = En primera instancia, el análisis de la base de datos nos deja entrever una atrición MAR, con valores aleatorios faltantes, los cuales son eliminados. En específico, los datos faltantes o \"missing\" corresponden a 7 instancias de la variable \"drinkly\" y a más de 20.000 filas ocasionadas por problemas en el formato de la variable \"inid\". Para el caso de \"drinkly\" no solo se eliminaron los datos asociados a esta variable faltante, sino que también se eliminaron todas las filas con un inid igual al problemático. De esta forma, se evitó que quedaran entidades con 2 o menos \"waves\" de datos.\n",
    "\n",
    "2. Ejecute un modelo Pooled OLS para explicar el puntaje en la escala de salud mental (CESD). Seleccione las variables dependientes a incluir en el modelo final e interprete su significado. \n",
    "\n",
    "R = Para utilizar el método Pooled OLS se debe asumir que el efecto del tiempo es igual para todos los individuos y el error individual no afecta el puntaje de salud mental estudiado. En este caso se añaden todas las variables de la base de datos. De esta manera se obtiene que solo la cantidad de hijos, el haber bebido en el último mes, la edad y la riqueza del individuo no representan importancia para la estimación de la variable dependiente debido a que el modelo arroja que no son significativas. Con un parámetro positivo, se infiere que tener hijos provocaría un empeoramiento en la salud mental del individuo, mientras que al tener parámetros positivos el haber bebido, tener más edad y tener más riquezas empeoraría la salud mental asumiendo que 0 es un puntaje más favorable.\n",
    "\n",
    "3. Ejecute un modelo de efectos fijos para explicar el puntaje en la escala de salud mental (CESD).  Seleccione las variables dependientes a incluir en el modelo final e interprete su significado. \n",
    "\n",
    "R = Para ejecutar el modelo de efectos fijos se eliminaron las variables que no varían en el tiempo, ya que al hacer las diferencias de cada parámetro individual y su promedio, estas siempre darían cero. Estas variables a no considerar son \"female\", \"urban\", \"schadj\" y \"age\", representando si la entidad es mujer, si vive en zona urbana, sus años de escolaridad y su edad, respectivamente. Puede apreciarse fácilmente que es difícil que estas variables varíen en el tiempo del periodo de la encuesta (\"age\" en particular no varía porque así está construida la base de datos). Se asume también, que las características no observables y heterogéneas por individuo son las que están relacionadas con nuestras variables explicativas, pero no correlacionadas.\n",
    "En este caso, las variables significativas serían solo \"hsize\" y \"married\", representando que la explicación de la salud mental está explicada por estas dos variables, que representan el tamaño del hogar y el estado civil respectivamente. Ambas variables mejorarían la salud mental, puesto que tienen parámetros negativos.\n",
    "\n",
    "4. Ejecute un modelo de efectos aleatorios para explicar el puntaje en la escala de salud mental (CESD). Seleccione las variables dependientes a incluir en el modelo final e interprete su significado. \n",
    "\n",
    "R = Contrariamente al método anterior, ahora se asume que los errores entre los individuos son aleatorios y realmente sí están correlacionados entre sí. Este caso sí acepta en el modelo las variables fijas en el tiempo. Sin embargo, por fines comparativos, se utilizaron las mismas variables que en el inciso anterior.\n",
    "Tras ejecutar este modelo, se descubre que las variables significativas son \"child\", \"married\", \"drinkly\" y \"hsize\", lo cual nos dice que la salud mental está mayormente explicada por los efectos del número de hijos (que empeora el puntaje de salud mental puesto que tiene un parámetro positivo), del estado civil (con parámetro negativo indicando que mejora la salud mental), si bebió en el último mes (mejorando la salud mental) y el tamaño del hogar, mejorando la salud mental. \n",
    "\n",
    "5. Comente los resultados obtenidos en 2, 3 y 4. ¿Cuáles y por qué existen las diferencias entre los resultados?. En su opinión, ¿Cuál sería el más adecuado para responder la pregunta de investgación y por qué? ¿Qué variables resultaron ser robustas a la especificación?\n",
    "\n",
    "R = Para comparar la estimación de RE y FE, se utiliza el test de Hausman. La hipótesis nula indicaría que los coeficientes entre los métodos no varían significativamente, dando así que ambos métodos son consistentes, pero que el método RE es eficiente. Mientras que la hipótesis alternativa indicaría que FE es consistente y RE no. El valor de la prueba p significativo (menor a 0.05) ayudaría a decidir que el mejor estimador es el de efectos fijos al no rechazar la hipótesis nula. Esto nos podría indicar que las diferencias y errores entre los individuos del panel no son aleatorios, y no existe correlación entre los individuos.\n",
    "\n",
    "6. Ejecute un modelo de efectos aleatorios correlacionados (CRE) para explicar el puntaje en la escala de salud mental (CESD). Seleccione las variables dependientes a incluir en el modelo final e interprete su significado. Es este modelo adecuado, dada la data disponible, para modelar el componente no observado?\n",
    "\n",
    "R = El modelo de CRE es usado a veces como alternativa al test de Haussmann. En este caso se utilizan todas las variables, más las medias de aquellas variables explicativas no fijas en el tiempo. Con esto se busca una mejor estimación sobre cual es el modelo adecuado para los datos de panel.  El valor de los estimadores es similar al modelo fixed, prefiriendo nuevamente sobre Random effect.\n",
    "Las variables significativas son \"female\", \"urban\", \"hsize\", \"married\", \"retired\", \"schadj\", \"mdrinkly\", \"mhrsusu\" e \"mintmonth\".\n",
    "\n",
    "7. Usando el modelo CRE, prediga la distribucion del componente no observado. Que puede inferir respecto de la heterogeneidad fija en el tiempo y su impacto en el puntaje CESD? \n",
    "\n",
    "R = Una forma de observar la distribución del error, es graficando los residuos. Se cumple mejor el objetivo de la respuesta, analizando específicamente la homocedasticidad de dichos residuos.\n",
    "El modelo presenta heteroscedasticidad en el error, lo que podría ser indicador de que el experimento no es aplicado ni realizado de la misma manera por cada observación, alejando los resultados de una línea media.\n",
    "La apreciación personal de la dupla de trabajo es que la variable \"intmonth\" juega un papel importante en el error sistemático de cada prueba, afectando en la respuesta el periodo del mes en que se realice, tal y como se muestra en los gráficos representados en la sección de OLS.\n",
    "\n",
    "8. Usando sus respuestas anteriores, que modelo prefiere? que se puede inferir en general respecto del efecto de las variables explicativas sobre el puntaje CESD?\n",
    "\n",
    "R = El mejor modelo es el de correlated random effects.\n",
    "Podemos notar que hay variables fijas y no fijas en el tiempo que son importantes para la estimación del puntaje de la prueba de salud mental. \n",
    "Por ejemplo, \"female\" es una variable significativa que aumenta en 1.4688 unidades el puntaje de cesd por cada punto extra sí misma. Contrariamente, \"hsize\", representando el tamaño del hogar, provoca que el puntaje de cesd disminuya en 0.1148 unidades a medida que aumenta su propio valor."
   ]
  }
 ],
 "metadata": {
  "hide_input": false,
  "kernelspec": {
   "display_name": "Python 3 (ipykernel)",
   "language": "python",
   "name": "python3"
  },
  "language_info": {
   "codemirror_mode": {
    "name": "ipython",
    "version": 3
   },
   "file_extension": ".py",
   "mimetype": "text/x-python",
   "name": "python",
   "nbconvert_exporter": "python",
   "pygments_lexer": "ipython3",
   "version": "3.7.6"
  },
  "latex_envs": {
   "LaTeX_envs_menu_present": true,
   "autoclose": true,
   "autocomplete": true,
   "bibliofile": "biblio.bib",
   "cite_by": "apalike",
   "current_citInitial": 1,
   "eqLabelWithNumbers": true,
   "eqNumInitial": 1,
   "hotkeys": {
    "equation": "Ctrl-E",
    "itemize": "Ctrl-I"
   },
   "labels_anchors": false,
   "latex_user_defs": false,
   "report_style_numbering": false,
   "user_envs_cfg": false
  },
  "toc": {
   "base_numbering": 1,
   "nav_menu": {},
   "number_sections": true,
   "sideBar": true,
   "skip_h1_title": true,
   "title_cell": "Table of Contents",
   "title_sidebar": "Contents",
   "toc_cell": false,
   "toc_position": {
    "height": "calc(100% - 180px)",
    "left": "10px",
    "top": "150px",
    "width": "165px"
   },
   "toc_section_display": true,
   "toc_window_display": true
  }
 },
 "nbformat": 4,
 "nbformat_minor": 2
}
