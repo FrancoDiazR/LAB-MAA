{
 "cells": [
  {
   "cell_type": "markdown",
   "metadata": {},
   "source": [
    "## Tarea 2: Felipe Conejeros y Mabel González"
   ]
  },
  {
   "cell_type": "markdown",
   "metadata": {},
   "source": [
    "## Librerías a utilizar"
   ]
  },
  {
   "cell_type": "code",
   "execution_count": 1,
   "metadata": {},
   "outputs": [],
   "source": [
    "import numpy as np\n",
    "import pandas as pd\n",
    "import matplotlib.pyplot as plt\n",
    "import statsmodels.api as sm\n",
    "import statsmodels.formula.api as smf\n",
    "import sklearn\n",
    "import scipy \n",
    "import linearmodels.panel as lmp\n",
    "import seaborn as sns\n",
    "\n",
    "%matplotlib inline"
   ]
  },
  {
   "cell_type": "markdown",
   "metadata": {},
   "source": [
    "## Pregunta 1: Limpieza y análisis descriptivo de los datos"
   ]
  },
  {
   "cell_type": "markdown",
   "metadata": {},
   "source": [
    "### Limpieza de datos"
   ]
  },
  {
   "cell_type": "code",
   "execution_count": 2,
   "metadata": {
    "scrolled": true
   },
   "outputs": [
    {
     "data": {
      "text/html": [
       "<div>\n",
       "<style scoped>\n",
       "    .dataframe tbody tr th:only-of-type {\n",
       "        vertical-align: middle;\n",
       "    }\n",
       "\n",
       "    .dataframe tbody tr th {\n",
       "        vertical-align: top;\n",
       "    }\n",
       "\n",
       "    .dataframe thead th {\n",
       "        text-align: right;\n",
       "    }\n",
       "</style>\n",
       "<table border=\"1\" class=\"dataframe\">\n",
       "  <thead>\n",
       "    <tr style=\"text-align: right;\">\n",
       "      <th></th>\n",
       "      <th>cesd</th>\n",
       "      <th>child</th>\n",
       "      <th>drinkly</th>\n",
       "      <th>female</th>\n",
       "      <th>hrsusu</th>\n",
       "      <th>hsize</th>\n",
       "      <th>inid</th>\n",
       "      <th>intmonth</th>\n",
       "      <th>married</th>\n",
       "      <th>retired</th>\n",
       "      <th>schadj</th>\n",
       "      <th>urban</th>\n",
       "      <th>wave</th>\n",
       "      <th>wealth</th>\n",
       "      <th>age</th>\n",
       "    </tr>\n",
       "  </thead>\n",
       "  <tbody>\n",
       "    <tr>\n",
       "      <th>0</th>\n",
       "      <td>6</td>\n",
       "      <td>2</td>\n",
       "      <td>0.None</td>\n",
       "      <td>1</td>\n",
       "      <td>0.0</td>\n",
       "      <td>4</td>\n",
       "      <td>1.010410e+10</td>\n",
       "      <td>7</td>\n",
       "      <td>1</td>\n",
       "      <td>0</td>\n",
       "      <td>0</td>\n",
       "      <td>0</td>\n",
       "      <td>1</td>\n",
       "      <td>-5800.0</td>\n",
       "      <td>46</td>\n",
       "    </tr>\n",
       "    <tr>\n",
       "      <th>1</th>\n",
       "      <td>7</td>\n",
       "      <td>2</td>\n",
       "      <td>0.None</td>\n",
       "      <td>1</td>\n",
       "      <td>49.0</td>\n",
       "      <td>4</td>\n",
       "      <td>1.010410e+10</td>\n",
       "      <td>7</td>\n",
       "      <td>1</td>\n",
       "      <td>0</td>\n",
       "      <td>0</td>\n",
       "      <td>0</td>\n",
       "      <td>2</td>\n",
       "      <td>100.0</td>\n",
       "      <td>46</td>\n",
       "    </tr>\n",
       "    <tr>\n",
       "      <th>2</th>\n",
       "      <td>5</td>\n",
       "      <td>2</td>\n",
       "      <td>0.None</td>\n",
       "      <td>1</td>\n",
       "      <td>56.0</td>\n",
       "      <td>7</td>\n",
       "      <td>1.010410e+10</td>\n",
       "      <td>8</td>\n",
       "      <td>1</td>\n",
       "      <td>0</td>\n",
       "      <td>0</td>\n",
       "      <td>0</td>\n",
       "      <td>3</td>\n",
       "      <td>-59970.0</td>\n",
       "      <td>46</td>\n",
       "    </tr>\n",
       "    <tr>\n",
       "      <th>3</th>\n",
       "      <td>0</td>\n",
       "      <td>2</td>\n",
       "      <td>1.Yes</td>\n",
       "      <td>0</td>\n",
       "      <td>63.0</td>\n",
       "      <td>4</td>\n",
       "      <td>1.010410e+10</td>\n",
       "      <td>7</td>\n",
       "      <td>1</td>\n",
       "      <td>0</td>\n",
       "      <td>4</td>\n",
       "      <td>0</td>\n",
       "      <td>1</td>\n",
       "      <td>-5800.0</td>\n",
       "      <td>48</td>\n",
       "    </tr>\n",
       "    <tr>\n",
       "      <th>4</th>\n",
       "      <td>5</td>\n",
       "      <td>2</td>\n",
       "      <td>1.Yes</td>\n",
       "      <td>0</td>\n",
       "      <td>49.0</td>\n",
       "      <td>4</td>\n",
       "      <td>1.010410e+10</td>\n",
       "      <td>7</td>\n",
       "      <td>1</td>\n",
       "      <td>0</td>\n",
       "      <td>4</td>\n",
       "      <td>0</td>\n",
       "      <td>2</td>\n",
       "      <td>100.0</td>\n",
       "      <td>48</td>\n",
       "    </tr>\n",
       "  </tbody>\n",
       "</table>\n",
       "</div>"
      ],
      "text/plain": [
       "   cesd  child drinkly  female  hrsusu  hsize          inid  intmonth  \\\n",
       "0     6      2  0.None       1     0.0      4  1.010410e+10         7   \n",
       "1     7      2  0.None       1    49.0      4  1.010410e+10         7   \n",
       "2     5      2  0.None       1    56.0      7  1.010410e+10         8   \n",
       "3     0      2   1.Yes       0    63.0      4  1.010410e+10         7   \n",
       "4     5      2   1.Yes       0    49.0      4  1.010410e+10         7   \n",
       "\n",
       "   married  retired  schadj  urban  wave   wealth  age  \n",
       "0        1        0       0      0     1  -5800.0   46  \n",
       "1        1        0       0      0     2    100.0   46  \n",
       "2        1        0       0      0     3 -59970.0   46  \n",
       "3        1        0       4      0     1  -5800.0   48  \n",
       "4        1        0       4      0     2    100.0   48  "
      ]
     },
     "execution_count": 2,
     "metadata": {},
     "output_type": "execute_result"
    }
   ],
   "source": [
    "charls = pd.read_csv('../data/charls.csv')\n",
    "charls.head()"
   ]
  },
  {
   "cell_type": "markdown",
   "metadata": {},
   "source": [
    "Dado que los valores de la variable inid mantienen un error de la base de datos fuente, se procederá a eliminar las observaciones desde la fila 10.057."
   ]
  },
  {
   "cell_type": "code",
   "execution_count": 3,
   "metadata": {},
   "outputs": [
    {
     "data": {
      "text/html": [
       "<div>\n",
       "<style scoped>\n",
       "    .dataframe tbody tr th:only-of-type {\n",
       "        vertical-align: middle;\n",
       "    }\n",
       "\n",
       "    .dataframe tbody tr th {\n",
       "        vertical-align: top;\n",
       "    }\n",
       "\n",
       "    .dataframe thead th {\n",
       "        text-align: right;\n",
       "    }\n",
       "</style>\n",
       "<table border=\"1\" class=\"dataframe\">\n",
       "  <thead>\n",
       "    <tr style=\"text-align: right;\">\n",
       "      <th></th>\n",
       "      <th>cesd</th>\n",
       "      <th>child</th>\n",
       "      <th>drinkly</th>\n",
       "      <th>female</th>\n",
       "      <th>hrsusu</th>\n",
       "      <th>hsize</th>\n",
       "      <th>inid</th>\n",
       "      <th>intmonth</th>\n",
       "      <th>married</th>\n",
       "      <th>retired</th>\n",
       "      <th>schadj</th>\n",
       "      <th>urban</th>\n",
       "      <th>wave</th>\n",
       "      <th>wealth</th>\n",
       "      <th>age</th>\n",
       "    </tr>\n",
       "  </thead>\n",
       "  <tbody>\n",
       "    <tr>\n",
       "      <th>0</th>\n",
       "      <td>6</td>\n",
       "      <td>2</td>\n",
       "      <td>0.None</td>\n",
       "      <td>1</td>\n",
       "      <td>0.0</td>\n",
       "      <td>4</td>\n",
       "      <td>1.010410e+10</td>\n",
       "      <td>7</td>\n",
       "      <td>1</td>\n",
       "      <td>0</td>\n",
       "      <td>0</td>\n",
       "      <td>0</td>\n",
       "      <td>1</td>\n",
       "      <td>-5800.0</td>\n",
       "      <td>46</td>\n",
       "    </tr>\n",
       "    <tr>\n",
       "      <th>1</th>\n",
       "      <td>7</td>\n",
       "      <td>2</td>\n",
       "      <td>0.None</td>\n",
       "      <td>1</td>\n",
       "      <td>49.0</td>\n",
       "      <td>4</td>\n",
       "      <td>1.010410e+10</td>\n",
       "      <td>7</td>\n",
       "      <td>1</td>\n",
       "      <td>0</td>\n",
       "      <td>0</td>\n",
       "      <td>0</td>\n",
       "      <td>2</td>\n",
       "      <td>100.0</td>\n",
       "      <td>46</td>\n",
       "    </tr>\n",
       "    <tr>\n",
       "      <th>2</th>\n",
       "      <td>5</td>\n",
       "      <td>2</td>\n",
       "      <td>0.None</td>\n",
       "      <td>1</td>\n",
       "      <td>56.0</td>\n",
       "      <td>7</td>\n",
       "      <td>1.010410e+10</td>\n",
       "      <td>8</td>\n",
       "      <td>1</td>\n",
       "      <td>0</td>\n",
       "      <td>0</td>\n",
       "      <td>0</td>\n",
       "      <td>3</td>\n",
       "      <td>-59970.0</td>\n",
       "      <td>46</td>\n",
       "    </tr>\n",
       "    <tr>\n",
       "      <th>3</th>\n",
       "      <td>0</td>\n",
       "      <td>2</td>\n",
       "      <td>1.Yes</td>\n",
       "      <td>0</td>\n",
       "      <td>63.0</td>\n",
       "      <td>4</td>\n",
       "      <td>1.010410e+10</td>\n",
       "      <td>7</td>\n",
       "      <td>1</td>\n",
       "      <td>0</td>\n",
       "      <td>4</td>\n",
       "      <td>0</td>\n",
       "      <td>1</td>\n",
       "      <td>-5800.0</td>\n",
       "      <td>48</td>\n",
       "    </tr>\n",
       "    <tr>\n",
       "      <th>4</th>\n",
       "      <td>5</td>\n",
       "      <td>2</td>\n",
       "      <td>1.Yes</td>\n",
       "      <td>0</td>\n",
       "      <td>49.0</td>\n",
       "      <td>4</td>\n",
       "      <td>1.010410e+10</td>\n",
       "      <td>7</td>\n",
       "      <td>1</td>\n",
       "      <td>0</td>\n",
       "      <td>4</td>\n",
       "      <td>0</td>\n",
       "      <td>2</td>\n",
       "      <td>100.0</td>\n",
       "      <td>48</td>\n",
       "    </tr>\n",
       "    <tr>\n",
       "      <th>...</th>\n",
       "      <td>...</td>\n",
       "      <td>...</td>\n",
       "      <td>...</td>\n",
       "      <td>...</td>\n",
       "      <td>...</td>\n",
       "      <td>...</td>\n",
       "      <td>...</td>\n",
       "      <td>...</td>\n",
       "      <td>...</td>\n",
       "      <td>...</td>\n",
       "      <td>...</td>\n",
       "      <td>...</td>\n",
       "      <td>...</td>\n",
       "      <td>...</td>\n",
       "      <td>...</td>\n",
       "    </tr>\n",
       "    <tr>\n",
       "      <th>10051</th>\n",
       "      <td>5</td>\n",
       "      <td>1</td>\n",
       "      <td>0.None</td>\n",
       "      <td>1</td>\n",
       "      <td>0.0</td>\n",
       "      <td>5</td>\n",
       "      <td>9.400430e+10</td>\n",
       "      <td>7</td>\n",
       "      <td>1</td>\n",
       "      <td>1</td>\n",
       "      <td>8</td>\n",
       "      <td>1</td>\n",
       "      <td>2</td>\n",
       "      <td>505000.0</td>\n",
       "      <td>69</td>\n",
       "    </tr>\n",
       "    <tr>\n",
       "      <th>10052</th>\n",
       "      <td>3</td>\n",
       "      <td>1</td>\n",
       "      <td>1.Yes</td>\n",
       "      <td>1</td>\n",
       "      <td>0.0</td>\n",
       "      <td>4</td>\n",
       "      <td>9.400430e+10</td>\n",
       "      <td>8</td>\n",
       "      <td>1</td>\n",
       "      <td>1</td>\n",
       "      <td>8</td>\n",
       "      <td>1</td>\n",
       "      <td>3</td>\n",
       "      <td>1479000.0</td>\n",
       "      <td>69</td>\n",
       "    </tr>\n",
       "    <tr>\n",
       "      <th>10053</th>\n",
       "      <td>4</td>\n",
       "      <td>2</td>\n",
       "      <td>0.None</td>\n",
       "      <td>1</td>\n",
       "      <td>0.0</td>\n",
       "      <td>2</td>\n",
       "      <td>9.400431e+10</td>\n",
       "      <td>8</td>\n",
       "      <td>0</td>\n",
       "      <td>1</td>\n",
       "      <td>8</td>\n",
       "      <td>1</td>\n",
       "      <td>1</td>\n",
       "      <td>3000.0</td>\n",
       "      <td>61</td>\n",
       "    </tr>\n",
       "    <tr>\n",
       "      <th>10054</th>\n",
       "      <td>5</td>\n",
       "      <td>2</td>\n",
       "      <td>0.None</td>\n",
       "      <td>1</td>\n",
       "      <td>0.0</td>\n",
       "      <td>2</td>\n",
       "      <td>9.400431e+10</td>\n",
       "      <td>7</td>\n",
       "      <td>0</td>\n",
       "      <td>1</td>\n",
       "      <td>8</td>\n",
       "      <td>1</td>\n",
       "      <td>2</td>\n",
       "      <td>32500.0</td>\n",
       "      <td>61</td>\n",
       "    </tr>\n",
       "    <tr>\n",
       "      <th>10055</th>\n",
       "      <td>5</td>\n",
       "      <td>2</td>\n",
       "      <td>0.None</td>\n",
       "      <td>1</td>\n",
       "      <td>0.0</td>\n",
       "      <td>4</td>\n",
       "      <td>9.400431e+10</td>\n",
       "      <td>8</td>\n",
       "      <td>0</td>\n",
       "      <td>1</td>\n",
       "      <td>8</td>\n",
       "      <td>1</td>\n",
       "      <td>3</td>\n",
       "      <td>0.0</td>\n",
       "      <td>61</td>\n",
       "    </tr>\n",
       "  </tbody>\n",
       "</table>\n",
       "<p>10056 rows × 15 columns</p>\n",
       "</div>"
      ],
      "text/plain": [
       "       cesd  child drinkly  female  hrsusu  hsize          inid  intmonth  \\\n",
       "0         6      2  0.None       1     0.0      4  1.010410e+10         7   \n",
       "1         7      2  0.None       1    49.0      4  1.010410e+10         7   \n",
       "2         5      2  0.None       1    56.0      7  1.010410e+10         8   \n",
       "3         0      2   1.Yes       0    63.0      4  1.010410e+10         7   \n",
       "4         5      2   1.Yes       0    49.0      4  1.010410e+10         7   \n",
       "...     ...    ...     ...     ...     ...    ...           ...       ...   \n",
       "10051     5      1  0.None       1     0.0      5  9.400430e+10         7   \n",
       "10052     3      1   1.Yes       1     0.0      4  9.400430e+10         8   \n",
       "10053     4      2  0.None       1     0.0      2  9.400431e+10         8   \n",
       "10054     5      2  0.None       1     0.0      2  9.400431e+10         7   \n",
       "10055     5      2  0.None       1     0.0      4  9.400431e+10         8   \n",
       "\n",
       "       married  retired  schadj  urban  wave     wealth  age  \n",
       "0            1        0       0      0     1    -5800.0   46  \n",
       "1            1        0       0      0     2      100.0   46  \n",
       "2            1        0       0      0     3   -59970.0   46  \n",
       "3            1        0       4      0     1    -5800.0   48  \n",
       "4            1        0       4      0     2      100.0   48  \n",
       "...        ...      ...     ...    ...   ...        ...  ...  \n",
       "10051        1        1       8      1     2   505000.0   69  \n",
       "10052        1        1       8      1     3  1479000.0   69  \n",
       "10053        0        1       8      1     1     3000.0   61  \n",
       "10054        0        1       8      1     2    32500.0   61  \n",
       "10055        0        1       8      1     3        0.0   61  \n",
       "\n",
       "[10056 rows x 15 columns]"
      ]
     },
     "execution_count": 3,
     "metadata": {},
     "output_type": "execute_result"
    }
   ],
   "source": [
    "charls = charls.drop(range(10057,34371),axis=0)\n",
    "charls.head(-1)"
   ]
  },
  {
   "cell_type": "markdown",
   "metadata": {},
   "source": [
    "De la columna \"drinkly\", se tienen valores tipo string, por lo que reemplazará de la siguiente forma:\n",
    "* 0.None: 0\n",
    "* 1.Yes: 1"
   ]
  },
  {
   "cell_type": "code",
   "execution_count": 4,
   "metadata": {
    "scrolled": true
   },
   "outputs": [
    {
     "name": "stderr",
     "output_type": "stream",
     "text": [
      "<ipython-input-4-cfdd89e65fa3>:3: SettingWithCopyWarning: \n",
      "A value is trying to be set on a copy of a slice from a DataFrame\n",
      "\n",
      "See the caveats in the documentation: https://pandas.pydata.org/pandas-docs/stable/user_guide/indexing.html#returning-a-view-versus-a-copy\n",
      "  charls[\"drinkly\"][i] = 0\n",
      "<ipython-input-4-cfdd89e65fa3>:7: SettingWithCopyWarning: \n",
      "A value is trying to be set on a copy of a slice from a DataFrame\n",
      "\n",
      "See the caveats in the documentation: https://pandas.pydata.org/pandas-docs/stable/user_guide/indexing.html#returning-a-view-versus-a-copy\n",
      "  charls[\"drinkly\"][i] = 1\n"
     ]
    }
   ],
   "source": [
    "for i in range(len(charls)):\n",
    "    if charls[\"drinkly\"][i] == \"0.None\":\n",
    "        charls[\"drinkly\"][i] = 0\n",
    "        \n",
    "for i in range(len(charls)):\n",
    "    if charls[\"drinkly\"][i] == \"1.Yes\":\n",
    "        charls[\"drinkly\"][i] = 1   "
   ]
  },
  {
   "cell_type": "markdown",
   "metadata": {},
   "source": [
    "Por otro lado, se encontraron valores \".m:missing\" en la misma columna, por lo que las filas que lo contengan serán eliminadas."
   ]
  },
  {
   "cell_type": "code",
   "execution_count": 5,
   "metadata": {},
   "outputs": [
    {
     "name": "stdout",
     "output_type": "stream",
     "text": [
      "Se encontraron 7 filas con string '.m:missing' de la columna 'drinkly', las cuales serán eliminadas\n",
      "Se eliminará el inid completo, considerando sus distintos 'wave'\n",
      "Se elimina la fila 4712 con 'inid' 56059207001.0 y 'wave' 3\n",
      "Se elimina la fila 4711 con 'inid' 56059207001.0 y 'wave' 2\n",
      "Se elimina la fila 4710 con 'inid' 56059207001.0 y 'wave' 1\n",
      "-----------------------------------------------------------\n",
      "Se elimina la fila 4813 con 'inid' 56059314002.0 y 'wave' 2\n",
      "Se elimina la fila 4812 con 'inid' 56059314002.0 y 'wave' 1\n",
      "Se elimina la fila 4814 con 'inid' 56059314002.0 y 'wave' 3\n",
      "-----------------------------------------------------------\n",
      "Se elimina la fila 5878 con 'inid' 57457309001.0 y 'wave' 2\n",
      "Se elimina la fila 5877 con 'inid' 57457309001.0 y 'wave' 1\n",
      "Se elimina la fila 5879 con 'inid' 57457309001.0 y 'wave' 3\n",
      "-----------------------------------------------------------\n",
      "Se elimina la fila 6326 con 'inid' 58202302001.0 y 'wave' 3\n",
      "Se elimina la fila 6325 con 'inid' 58202302001.0 y 'wave' 2\n",
      "Se elimina la fila 6324 con 'inid' 58202302001.0 y 'wave' 1\n",
      "-----------------------------------------------------------\n",
      "Se elimina la fila 6394 con 'inid' 58202320002.0 y 'wave' 2\n",
      "Se elimina la fila 6393 con 'inid' 58202320002.0 y 'wave' 1\n",
      "Se elimina la fila 6395 con 'inid' 58202320002.0 y 'wave' 3\n",
      "-----------------------------------------------------------\n",
      "Se elimina la fila 9142 con 'inid' 74981324002.0 y 'wave' 2\n",
      "Se elimina la fila 9141 con 'inid' 74981324002.0 y 'wave' 1\n",
      "Se elimina la fila 9143 con 'inid' 74981324002.0 y 'wave' 3\n",
      "-----------------------------------------------------------\n",
      "Se elimina la fila 9227 con 'inid' 75376118001.0 y 'wave' 3\n",
      "Se elimina la fila 9226 con 'inid' 75376118001.0 y 'wave' 2\n",
      "Se elimina la fila 9225 con 'inid' 75376118001.0 y 'wave' 1\n",
      "-----------------------------------------------------------\n"
     ]
    }
   ],
   "source": [
    "k = 0\n",
    "\n",
    "id_missing = []\n",
    "wave_missing = []\n",
    "\n",
    "for i in range(len(charls)):\n",
    "    if charls[\"drinkly\"][i] == '.m:missing':\n",
    "        id_missing.append(i)\n",
    "        wave_missing.append(charls[\"wave\"][i])\n",
    "        k += 1\n",
    "        \n",
    "print(\"Se encontraron\", k, \"filas con string '.m:missing' de la columna 'drinkly', las cuales serán eliminadas\")\n",
    "print(\"Se eliminará el inid completo, considerando sus distintos 'wave'\")\n",
    "\n",
    "for i in id_missing:\n",
    "    if charls[\"wave\"][i] == 2:\n",
    "        print(\"Se elimina la fila\", i, \"con 'inid'\", charls[\"inid\"][i], \"y 'wave'\", charls[\"wave\"][i])\n",
    "        print(\"Se elimina la fila\", i - 1, \"con 'inid'\", charls[\"inid\"][i - 1], \"y 'wave'\",charls[\"wave\"][i - 1])\n",
    "        print(\"Se elimina la fila\", i + 1, \"con 'inid'\", charls[\"inid\"][i + 1], \"y 'wave'\",charls[\"wave\"][i + 1])\n",
    "        print(\"-----------------------------------------------------------\")\n",
    "        \n",
    "    if charls[\"wave\"][i] == 3:\n",
    "        print(\"Se elimina la fila\", i, \"con 'inid'\", charls[\"inid\"][i], \"y 'wave'\", charls[\"wave\"][i])\n",
    "        print(\"Se elimina la fila\", i - 1, \"con 'inid'\", charls[\"inid\"][i - 1], \"y 'wave'\",charls[\"wave\"][i - 1])\n",
    "        print(\"Se elimina la fila\", i - 2, \"con 'inid'\", charls[\"inid\"][i - 2], \"y 'wave'\",charls[\"wave\"][i - 2])\n",
    "        print(\"-----------------------------------------------------------\")\n",
    "        \n",
    "for i in id_missing:\n",
    "    if charls[\"wave\"][i] == 2:\n",
    "        charls = charls.drop([i])\n",
    "        charls = charls.drop([i - 1])\n",
    "        charls = charls.drop([i + 1])\n",
    "    elif charls[\"wave\"][i] == 3:\n",
    "        charls = charls.drop([i])\n",
    "        charls = charls.drop([i - 1])\n",
    "        charls = charls.drop([i - 2])"
   ]
  },
  {
   "cell_type": "code",
   "execution_count": 6,
   "metadata": {
    "scrolled": false
   },
   "outputs": [
    {
     "name": "stdout",
     "output_type": "stream",
     "text": [
      "<class 'pandas.core.frame.DataFrame'>\n",
      "Int64Index: 10036 entries, 0 to 10056\n",
      "Data columns (total 15 columns):\n",
      " #   Column    Non-Null Count  Dtype  \n",
      "---  ------    --------------  -----  \n",
      " 0   cesd      10036 non-null  int64  \n",
      " 1   child     10036 non-null  int64  \n",
      " 2   drinkly   10036 non-null  object \n",
      " 3   female    10036 non-null  int64  \n",
      " 4   hrsusu    10036 non-null  float64\n",
      " 5   hsize     10036 non-null  int64  \n",
      " 6   inid      10036 non-null  float64\n",
      " 7   intmonth  10036 non-null  int64  \n",
      " 8   married   10036 non-null  int64  \n",
      " 9   retired   10036 non-null  int64  \n",
      " 10  schadj    10036 non-null  int64  \n",
      " 11  urban     10036 non-null  int64  \n",
      " 12  wave      10036 non-null  int64  \n",
      " 13  wealth    10036 non-null  float64\n",
      " 14  age       10036 non-null  int64  \n",
      "dtypes: float64(3), int64(11), object(1)\n",
      "memory usage: 1.2+ MB\n"
     ]
    }
   ],
   "source": [
    "charls.info()"
   ]
  },
  {
   "cell_type": "markdown",
   "metadata": {},
   "source": [
    "De la salida anterior, se observa que \"drinkly\" es una variable de tipo objeto, por lo que se cambiará a float con el fin de usar los modelos."
   ]
  },
  {
   "cell_type": "code",
   "execution_count": 7,
   "metadata": {},
   "outputs": [],
   "source": [
    "charls = charls.astype({\"drinkly\":\"float\"})"
   ]
  },
  {
   "cell_type": "code",
   "execution_count": 8,
   "metadata": {
    "scrolled": false
   },
   "outputs": [
    {
     "data": {
      "text/plain": [
       "age\n",
       "56    483\n",
       "57    477\n",
       "48    465\n",
       "59    447\n",
       "58    417\n",
       "     ... \n",
       "31      3\n",
       "29      3\n",
       "27      3\n",
       "26      3\n",
       "89      3\n",
       "Length: 61, dtype: int64"
      ]
     },
     "execution_count": 8,
     "metadata": {},
     "output_type": "execute_result"
    },
    {
     "data": {
      "image/png": "[encoded data removed]",
      "text/plain": [
       "<Figure size 432x288 with 1 Axes>"
      ]
     },
     "metadata": {
      "needs_background": "light"
     },
     "output_type": "display_data"
    }
   ],
   "source": [
    "sns.histplot(charls, x = \"age\", discrete = True)\n",
    "charls.value_counts(\"age\")"
   ]
  },
  {
   "cell_type": "markdown",
   "metadata": {},
   "source": [
    "Del gráfico anterior, correspondiente a la distribución de \"age\", no se observan outliers."
   ]
  },
  {
   "cell_type": "code",
   "execution_count": 9,
   "metadata": {
    "scrolled": false
   },
   "outputs": [
    {
     "data": {
      "text/plain": [
       "hrsusu\n",
       "0.0     3441\n",
       "56.0     901\n",
       "70.0     650\n",
       "42.0     457\n",
       "35.0     405\n",
       "        ... \n",
       "32.5       1\n",
       "66.5       1\n",
       "38.5       1\n",
       "62.5       1\n",
       "90.0       1\n",
       "Length: 79, dtype: int64"
      ]
     },
     "execution_count": 9,
     "metadata": {},
     "output_type": "execute_result"
    },
    {
     "data": {
      "image/png": "[encoded data removed]",
      "text/plain": [
       "<Figure size 432x288 with 1 Axes>"
      ]
     },
     "metadata": {
      "needs_background": "light"
     },
     "output_type": "display_data"
    }
   ],
   "source": [
    "sns.histplot(charls, x = \"hrsusu\")\n",
    "charls.value_counts(\"hrsusu\")"
   ]
  },
  {
   "cell_type": "markdown",
   "metadata": {},
   "source": [
    "De la figura anterior, se identifican posibles outliers para la variable \"hrsusu\"."
   ]
  },
  {
   "cell_type": "code",
   "execution_count": 10,
   "metadata": {},
   "outputs": [
    {
     "data": {
      "text/plain": [
       "<matplotlib.lines.Line2D at 0x21c0a808a60>"
      ]
     },
     "execution_count": 10,
     "metadata": {},
     "output_type": "execute_result"
    },
    {
     "data": {
      "image/png": "[encoded data removed]",
      "text/plain": [
       "<Figure size 432x288 with 1 Axes>"
      ]
     },
     "metadata": {
      "needs_background": "light"
     },
     "output_type": "display_data"
    }
   ],
   "source": [
    "sns.boxplot(x = charls[\"hrsusu\"])\n",
    "plt.axvline(120, 0,20, ls='--', lw=1)"
   ]
  },
  {
   "cell_type": "markdown",
   "metadata": {},
   "source": [
    "Del boxplot, se verifica la existencia de outliers, que corresponden a un \"hrsusu\" mayor que 120. Estas observaciones serán eliminadas."
   ]
  },
  {
   "cell_type": "code",
   "execution_count": 11,
   "metadata": {},
   "outputs": [],
   "source": [
    "borrar = charls[charls[\"hrsusu\"] > 120].index\n",
    "charls = charls.drop(borrar)"
   ]
  },
  {
   "cell_type": "code",
   "execution_count": 12,
   "metadata": {
    "scrolled": true
   },
   "outputs": [],
   "source": [
    "# charls data\n",
    "charls.dropna(inplace=True)\n",
    "charls.reset_index(drop=True, inplace=True)\n",
    "\n",
    "\n",
    "#variable construction\n",
    "X=charls[['cesd','child','drinkly','female','hrsusu','hsize','intmonth','married','retired','schadj','urban','wealth','age']]\n",
    "Xm=(X.groupby(charls['inid']).transform('mean'))\n",
    "\n",
    "Xid=charls[['inid','wave','cesd','child','drinkly','female','hrsusu','hsize','intmonth','married','retired','schadj','urban','wealth','age']]\n",
    "Xc=pd.DataFrame(np.c_[Xid, Xm], columns=['inid','wave','cesd','child','drinkly','female','hrsusu','hsize','intmonth','married','retired','schadj','urban','wealth','age','mcesd','mchild','mdrinkly','mfemale','mhrsusu','mhsize','mintmonth','mmarried','mretired','mschadj','murban','mwealth','mage'])\n",
    "Xc = Xc.set_index(['inid','wave'])"
   ]
  },
  {
   "cell_type": "markdown",
   "metadata": {},
   "source": [
    "### Análisis descriptivo"
   ]
  },
  {
   "cell_type": "code",
   "execution_count": 13,
   "metadata": {},
   "outputs": [
    {
     "data": {
      "text/html": [
       "<div>\n",
       "<style scoped>\n",
       "    .dataframe tbody tr th:only-of-type {\n",
       "        vertical-align: middle;\n",
       "    }\n",
       "\n",
       "    .dataframe tbody tr th {\n",
       "        vertical-align: top;\n",
       "    }\n",
       "\n",
       "    .dataframe thead th {\n",
       "        text-align: right;\n",
       "    }\n",
       "</style>\n",
       "<table border=\"1\" class=\"dataframe\">\n",
       "  <thead>\n",
       "    <tr style=\"text-align: right;\">\n",
       "      <th></th>\n",
       "      <th>cesd</th>\n",
       "      <th>child</th>\n",
       "      <th>drinkly</th>\n",
       "      <th>female</th>\n",
       "      <th>hrsusu</th>\n",
       "      <th>hsize</th>\n",
       "      <th>inid</th>\n",
       "      <th>intmonth</th>\n",
       "      <th>married</th>\n",
       "      <th>retired</th>\n",
       "      <th>schadj</th>\n",
       "      <th>urban</th>\n",
       "      <th>wave</th>\n",
       "      <th>wealth</th>\n",
       "      <th>age</th>\n",
       "    </tr>\n",
       "  </thead>\n",
       "  <tbody>\n",
       "    <tr>\n",
       "      <th>count</th>\n",
       "      <td>10023.000000</td>\n",
       "      <td>10023.000000</td>\n",
       "      <td>10023.000000</td>\n",
       "      <td>10023.000000</td>\n",
       "      <td>10023.000000</td>\n",
       "      <td>10023.000000</td>\n",
       "      <td>1.002300e+04</td>\n",
       "      <td>10023.000000</td>\n",
       "      <td>10023.000000</td>\n",
       "      <td>10023.000000</td>\n",
       "      <td>10023.000000</td>\n",
       "      <td>10023.000000</td>\n",
       "      <td>10023.000000</td>\n",
       "      <td>1.002300e+04</td>\n",
       "      <td>10023.000000</td>\n",
       "    </tr>\n",
       "    <tr>\n",
       "      <th>mean</th>\n",
       "      <td>8.867106</td>\n",
       "      <td>2.768433</td>\n",
       "      <td>0.323855</td>\n",
       "      <td>0.542851</td>\n",
       "      <td>27.809189</td>\n",
       "      <td>3.654195</td>\n",
       "      <td>4.886154e+10</td>\n",
       "      <td>7.593236</td>\n",
       "      <td>0.857927</td>\n",
       "      <td>0.269081</td>\n",
       "      <td>4.092787</td>\n",
       "      <td>0.315574</td>\n",
       "      <td>1.999401</td>\n",
       "      <td>1.019523e+04</td>\n",
       "      <td>58.229372</td>\n",
       "    </tr>\n",
       "    <tr>\n",
       "      <th>std</th>\n",
       "      <td>6.291789</td>\n",
       "      <td>1.435903</td>\n",
       "      <td>0.467969</td>\n",
       "      <td>0.498185</td>\n",
       "      <td>26.942820</td>\n",
       "      <td>1.785813</td>\n",
       "      <td>2.297920e+10</td>\n",
       "      <td>1.101360</td>\n",
       "      <td>0.349143</td>\n",
       "      <td>0.443504</td>\n",
       "      <td>3.604440</td>\n",
       "      <td>0.464767</td>\n",
       "      <td>0.816415</td>\n",
       "      <td>9.958253e+04</td>\n",
       "      <td>9.233720</td>\n",
       "    </tr>\n",
       "    <tr>\n",
       "      <th>min</th>\n",
       "      <td>0.000000</td>\n",
       "      <td>0.000000</td>\n",
       "      <td>0.000000</td>\n",
       "      <td>0.000000</td>\n",
       "      <td>0.000000</td>\n",
       "      <td>1.000000</td>\n",
       "      <td>1.010410e+10</td>\n",
       "      <td>1.000000</td>\n",
       "      <td>0.000000</td>\n",
       "      <td>0.000000</td>\n",
       "      <td>0.000000</td>\n",
       "      <td>0.000000</td>\n",
       "      <td>1.000000</td>\n",
       "      <td>-9.750000e+05</td>\n",
       "      <td>16.000000</td>\n",
       "    </tr>\n",
       "    <tr>\n",
       "      <th>25%</th>\n",
       "      <td>4.000000</td>\n",
       "      <td>2.000000</td>\n",
       "      <td>0.000000</td>\n",
       "      <td>0.000000</td>\n",
       "      <td>0.000000</td>\n",
       "      <td>2.000000</td>\n",
       "      <td>3.110611e+10</td>\n",
       "      <td>7.000000</td>\n",
       "      <td>1.000000</td>\n",
       "      <td>0.000000</td>\n",
       "      <td>0.000000</td>\n",
       "      <td>0.000000</td>\n",
       "      <td>1.000000</td>\n",
       "      <td>0.000000e+00</td>\n",
       "      <td>51.000000</td>\n",
       "    </tr>\n",
       "    <tr>\n",
       "      <th>50%</th>\n",
       "      <td>8.000000</td>\n",
       "      <td>2.000000</td>\n",
       "      <td>0.000000</td>\n",
       "      <td>1.000000</td>\n",
       "      <td>24.000000</td>\n",
       "      <td>3.000000</td>\n",
       "      <td>5.630230e+10</td>\n",
       "      <td>7.000000</td>\n",
       "      <td>1.000000</td>\n",
       "      <td>0.000000</td>\n",
       "      <td>4.000000</td>\n",
       "      <td>0.000000</td>\n",
       "      <td>2.000000</td>\n",
       "      <td>3.000000e+02</td>\n",
       "      <td>58.000000</td>\n",
       "    </tr>\n",
       "    <tr>\n",
       "      <th>75%</th>\n",
       "      <td>13.000000</td>\n",
       "      <td>3.000000</td>\n",
       "      <td>1.000000</td>\n",
       "      <td>1.000000</td>\n",
       "      <td>49.000000</td>\n",
       "      <td>5.000000</td>\n",
       "      <td>6.403312e+10</td>\n",
       "      <td>8.000000</td>\n",
       "      <td>1.000000</td>\n",
       "      <td>1.000000</td>\n",
       "      <td>4.000000</td>\n",
       "      <td>1.000000</td>\n",
       "      <td>3.000000</td>\n",
       "      <td>4.075000e+03</td>\n",
       "      <td>64.000000</td>\n",
       "    </tr>\n",
       "    <tr>\n",
       "      <th>max</th>\n",
       "      <td>30.000000</td>\n",
       "      <td>10.000000</td>\n",
       "      <td>1.000000</td>\n",
       "      <td>1.000000</td>\n",
       "      <td>120.000000</td>\n",
       "      <td>13.000000</td>\n",
       "      <td>1.017910e+11</td>\n",
       "      <td>12.000000</td>\n",
       "      <td>1.000000</td>\n",
       "      <td>1.000000</td>\n",
       "      <td>16.000000</td>\n",
       "      <td>1.000000</td>\n",
       "      <td>3.000000</td>\n",
       "      <td>8.001500e+06</td>\n",
       "      <td>89.000000</td>\n",
       "    </tr>\n",
       "  </tbody>\n",
       "</table>\n",
       "</div>"
      ],
      "text/plain": [
       "               cesd         child       drinkly        female        hrsusu  \\\n",
       "count  10023.000000  10023.000000  10023.000000  10023.000000  10023.000000   \n",
       "mean       8.867106      2.768433      0.323855      0.542851     27.809189   \n",
       "std        6.291789      1.435903      0.467969      0.498185     26.942820   \n",
       "min        0.000000      0.000000      0.000000      0.000000      0.000000   \n",
       "25%        4.000000      2.000000      0.000000      0.000000      0.000000   \n",
       "50%        8.000000      2.000000      0.000000      1.000000     24.000000   \n",
       "75%       13.000000      3.000000      1.000000      1.000000     49.000000   \n",
       "max       30.000000     10.000000      1.000000      1.000000    120.000000   \n",
       "\n",
       "              hsize          inid      intmonth       married       retired  \\\n",
       "count  10023.000000  1.002300e+04  10023.000000  10023.000000  10023.000000   \n",
       "mean       3.654195  4.886154e+10      7.593236      0.857927      0.269081   \n",
       "std        1.785813  2.297920e+10      1.101360      0.349143      0.443504   \n",
       "min        1.000000  1.010410e+10      1.000000      0.000000      0.000000   \n",
       "25%        2.000000  3.110611e+10      7.000000      1.000000      0.000000   \n",
       "50%        3.000000  5.630230e+10      7.000000      1.000000      0.000000   \n",
       "75%        5.000000  6.403312e+10      8.000000      1.000000      1.000000   \n",
       "max       13.000000  1.017910e+11     12.000000      1.000000      1.000000   \n",
       "\n",
       "             schadj         urban          wave        wealth           age  \n",
       "count  10023.000000  10023.000000  10023.000000  1.002300e+04  10023.000000  \n",
       "mean       4.092787      0.315574      1.999401  1.019523e+04     58.229372  \n",
       "std        3.604440      0.464767      0.816415  9.958253e+04      9.233720  \n",
       "min        0.000000      0.000000      1.000000 -9.750000e+05     16.000000  \n",
       "25%        0.000000      0.000000      1.000000  0.000000e+00     51.000000  \n",
       "50%        4.000000      0.000000      2.000000  3.000000e+02     58.000000  \n",
       "75%        4.000000      1.000000      3.000000  4.075000e+03     64.000000  \n",
       "max       16.000000      1.000000      3.000000  8.001500e+06     89.000000  "
      ]
     },
     "execution_count": 13,
     "metadata": {},
     "output_type": "execute_result"
    }
   ],
   "source": [
    "charls.describe()"
   ]
  },
  {
   "cell_type": "markdown",
   "metadata": {},
   "source": [
    "La tabla anterior corresponde a la base de datos final que se analizará, la cual cuenta con un total de 10.023 observaciones. \n",
    "* Para la variable \"cesd\", correspondiente al puntaje en la escala de la salud mental, se observa un promedio de 8,86, con un mínimo de 0 y un máximo de 30.\n",
    "* \"child\", perteneciente al número de hijos, tiene una media de 2,76, con un valor mínimo de 0 y máximo de 10.\n",
    "* La variables binarias \"drinkly\" y \"female\" mantienen un promedio de 0,32 y 0,54, respectivamente.\n",
    "* \"hrsusu\" corresponde a las horas promedio de trabajo semanal, la cual mantiene un promedio de 27,8, un máximo de 120 (aproximadamente 17 horas por día) y un mínimo de 0.\n",
    "* \"hsize\" pertenece al tamaño del hogar, con un promedio de 3,65, un máximo de 13 y un mínimo de 1.\n",
    "* La variable \"intmonth\" corresponde al mes en que el individuo fue encuestado.\n",
    "* \"married\" y \"retired\" son variables binarias correspondientes a que si la persona está o no casada y pensionada, la cual mantiene una media de 0,85 y de 0,26, respectivamente.\n",
    "* La variable \"schadj\" corresponde a los años de escolaridad, con un promedio de 4,1, un máximo de 16 y un mínimo de 0.\n",
    "* \"urban\" es una variable binaria para describir si la persona vive en la zona urbana o no, con un promedio de 0,31.\n",
    "* \"wealth\" corresponde a la riqueza neta, con un promedio de 1.0e+04, un máximo de 8.0e+06\ty un mínimo de -9.7e+05.\n",
    "* Finalmente, la variable \"age\" corresponde a la edad al entrar a la encuesta."
   ]
  },
  {
   "cell_type": "markdown",
   "metadata": {},
   "source": [
    "## Pregunta 2: Modelo Pooled OLS"
   ]
  },
  {
   "cell_type": "code",
   "execution_count": 14,
   "metadata": {},
   "outputs": [
    {
     "name": "stdout",
     "output_type": "stream",
     "text": [
      "                            OLS Regression Results                            \n",
      "==============================================================================\n",
      "Dep. Variable:                   cesd   R-squared:                       0.072\n",
      "Model:                            OLS   Adj. R-squared:                  0.071\n",
      "Method:                 Least Squares   F-statistic:                     70.79\n",
      "Date:                Wed, 05 Oct 2022   Prob (F-statistic):          9.09e-154\n",
      "Time:                        20:14:17   Log-Likelihood:                -32281.\n",
      "No. Observations:               10023   AIC:                         6.459e+04\n",
      "Df Residuals:                   10011   BIC:                         6.467e+04\n",
      "Df Model:                          11                                         \n",
      "Covariance Type:            nonrobust                                         \n",
      "==============================================================================\n",
      "                 coef    std err          t      P>|t|      [0.025      0.975]\n",
      "------------------------------------------------------------------------------\n",
      "const         11.1256      0.600     18.544      0.000       9.950      12.302\n",
      "child          0.0934      0.049      1.916      0.055      -0.002       0.189\n",
      "drinkly       -0.0064      0.144     -0.044      0.965      -0.289       0.276\n",
      "female         1.5231      0.143     10.633      0.000       1.242       1.804\n",
      "hrsusu         0.0059      0.003      2.027      0.043       0.000       0.012\n",
      "hsize         -0.0767      0.035     -2.172      0.030      -0.146      -0.007\n",
      "married       -1.3845      0.187     -7.419      0.000      -1.750      -1.019\n",
      "retired        0.4886      0.183      2.668      0.008       0.130       0.848\n",
      "schadj        -0.1987      0.019    -10.543      0.000      -0.236      -0.162\n",
      "urban         -1.8002      0.137    -13.112      0.000      -2.069      -1.531\n",
      "wealth     -2.327e-06   6.12e-07     -3.804      0.000   -3.53e-06   -1.13e-06\n",
      "age           -0.0131      0.008     -1.573      0.116      -0.030       0.003\n",
      "==============================================================================\n",
      "Omnibus:                      665.045   Durbin-Watson:                   1.332\n",
      "Prob(Omnibus):                  0.000   Jarque-Bera (JB):              805.282\n",
      "Skew:                           0.693   Prob(JB):                    1.37e-175\n",
      "Kurtosis:                       3.093   Cond. No.                     1.01e+06\n",
      "==============================================================================\n",
      "\n",
      "Notes:\n",
      "[1] Standard Errors assume that the covariance matrix of the errors is correctly specified.\n",
      "[2] The condition number is large, 1.01e+06. This might indicate that there are\n",
      "strong multicollinearity or other numerical problems.\n"
     ]
    },
    {
     "name": "stderr",
     "output_type": "stream",
     "text": [
      "C:\\Users\\felip\\anaconda3\\lib\\site-packages\\statsmodels\\tsa\\tsatools.py:142: FutureWarning: In a future version of pandas all arguments of concat except for the argument 'objs' will be keyword-only\n",
      "  x = pd.concat(x[::order], 1)\n"
     ]
    }
   ],
   "source": [
    "y=Xc['cesd']\n",
    "X=Xc[['child','drinkly','female','hrsusu','hsize','married','retired','schadj','urban','wealth','age']]\n",
    "X=sm.add_constant(X)\n",
    "\n",
    "model = sm.OLS(y, X.astype(float))\n",
    "results = model.fit()\n",
    "print(results.summary())"
   ]
  },
  {
   "cell_type": "markdown",
   "metadata": {},
   "source": [
    "### Interpretación:\n",
    "\n",
    "El modelo Pooled OLS equivale a estimar el efecto promedio, asumiendo que el tiempo afecta a todas las unidades de la misma forma. \n",
    "El método asume que todas la personas encuestadas son idénticas, lo que puede ocasionar que se sobredimensione la verdadera relación entre las variables.\n",
    "\n",
    "* El valor de 0,072 del R-cuadrado indica que sólo un 7,2% de la variación en la variable cesd es explicada por las variables consideradas.\n",
    "* La prueba F entrega un valor-p muy pequeño, lo que implica que todas las variables en conjunto explican estadísticamente la variación del puntaje de salud mental. \n",
    "* Los coeficientes de las variables: female, married, retired, schadj, urban y wealth son significativamente distintos de cero en un 99%, y los de las variables: hrsusu y hsize son significativos en un 95%. Por lo que estas variables explican estadísticamente el puntaje de salud mental. \n",
    "* Las variables que resultaron ser no significativas son: child, drinkly y age. Drinkly es la variable que uno esperaría aportara a explicar la salud mental de una persona, sin embargo como se mide si una persona ha bebido alguna vez en el último mes tiene sentido que no sea determinante. \n",
    "\n",
    "* En cuanto al genero, si el individuo es mujer, esto tiende a aumentar el puntaje cesd en 1,5231 puntos en promedio, disminuyendo su salud mental en comparación con los hombres. \n",
    "* Frente a un aumento de 10 horas de trabajo semanal del individuo, el aumento promedio del puntaje cesd es de 0,059 unidades, lo que indica que en promedio la salud mental de las personas no se ve muy afectada por más hora de trabajo. \n",
    "* Al aumentar el tamaño del hogar de una persona, en promedio el puntaje cesd disminuye en 0,0767 unidades.\n",
    "* Las personas casadas tienden a disminuir el puntaje de su salud mental en al menos 1 punto, lo que indica que en promedio las personas casadas gozan de mejor salud mental. \n",
    "* Las personas retiradas suman en promedio 0,4886 puntos en la escala cesd. Esta disminución en su salud mental se podría explicar porque las personas dejan de estar ocupadas con actividades diarias. \n",
    "* Mientras más años de escolaridad tiene una persona, en promedio su salud mental tiende a mejorar en 0,1987 puntos. \n",
    "* Vivir en una zona urbana puede afectar positivamente la salud mental de una persona, haciendo que su puntaje disminuya casi 2 puntos en promedio. Esto podría ser explicado porque las personas tienen mayor acceso a centros de salud, espacios recreativos, oportunidades laborales, etc.\n",
    "* Las personas con más riqueza experimetan en promedio una mejora en su salud mental, pero en una magnitud casi imperceptible."
   ]
  },
  {
   "cell_type": "code",
   "execution_count": 15,
   "metadata": {},
   "outputs": [
    {
     "name": "stdout",
     "output_type": "stream",
     "text": [
      "<class 'pandas.core.frame.DataFrame'>\n",
      "RangeIndex: 10023 entries, 0 to 10022\n",
      "Data columns (total 15 columns):\n",
      " #   Column    Non-Null Count  Dtype  \n",
      "---  ------    --------------  -----  \n",
      " 0   cesd      10023 non-null  int64  \n",
      " 1   child     10023 non-null  int64  \n",
      " 2   drinkly   10023 non-null  float64\n",
      " 3   female    10023 non-null  int64  \n",
      " 4   hrsusu    10023 non-null  float64\n",
      " 5   hsize     10023 non-null  int64  \n",
      " 6   inid      10023 non-null  float64\n",
      " 7   intmonth  10023 non-null  int64  \n",
      " 8   married   10023 non-null  int64  \n",
      " 9   retired   10023 non-null  int64  \n",
      " 10  schadj    10023 non-null  int64  \n",
      " 11  urban     10023 non-null  int64  \n",
      " 12  wave      10023 non-null  int64  \n",
      " 13  wealth    10023 non-null  float64\n",
      " 14  age       10023 non-null  int64  \n",
      "dtypes: float64(4), int64(11)\n",
      "memory usage: 1.1 MB\n"
     ]
    }
   ],
   "source": [
    "charls.info()"
   ]
  },
  {
   "cell_type": "markdown",
   "metadata": {},
   "source": [
    "### Estimadores robustos"
   ]
  },
  {
   "cell_type": "code",
   "execution_count": 16,
   "metadata": {
    "scrolled": false
   },
   "outputs": [
    {
     "name": "stdout",
     "output_type": "stream",
     "text": [
      "                          PooledOLS Estimation Summary                          \n",
      "================================================================================\n",
      "Dep. Variable:                   cesd   R-squared:                        0.0722\n",
      "Estimator:                  PooledOLS   R-squared (Between):              0.1079\n",
      "No. Observations:               10023   R-squared (Within):               0.0011\n",
      "Date:                Wed, Oct 05 2022   R-squared (Overall):              0.0722\n",
      "Time:                        20:14:18   Log-likelihood                -3.228e+04\n",
      "Cov. Estimator:                Robust                                           \n",
      "                                        F-statistic:                      70.791\n",
      "Entities:                        3346   P-value                           0.0000\n",
      "Avg Obs:                       2.9955   Distribution:                F(11,10011)\n",
      "Min Obs:                       1.0000                                           \n",
      "Max Obs:                       3.0000   F-statistic (robust):             68.988\n",
      "                                        P-value                           0.0000\n",
      "Time periods:                       3   Distribution:                F(11,10011)\n",
      "Avg Obs:                       3341.0                                           \n",
      "Min Obs:                       3337.0                                           \n",
      "Max Obs:                       3343.0                                           \n",
      "                                                                                \n",
      "                             Parameter Estimates                              \n",
      "==============================================================================\n",
      "            Parameter  Std. Err.     T-stat    P-value    Lower CI    Upper CI\n",
      "------------------------------------------------------------------------------\n",
      "const          11.126     0.6175     18.017     0.0000      9.9152      12.336\n",
      "child          0.0934     0.0499     1.8708     0.0614     -0.0045      0.1912\n",
      "drinkly       -0.0064     0.1426    -0.0448     0.9643     -0.2859      0.2732\n",
      "female         1.5231     0.1437     10.600     0.0000      1.2415      1.8048\n",
      "hrsusu         0.0059     0.0029     2.0574     0.0397      0.0003      0.0116\n",
      "hsize         -0.0767     0.0346    -2.2176     0.0266     -0.1444     -0.0089\n",
      "married       -1.3845     0.2023    -6.8452     0.0000     -1.7810     -0.9880\n",
      "retired        0.4886     0.1868     2.6155     0.0089      0.1224      0.8547\n",
      "schadj        -0.1987     0.0183    -10.855     0.0000     -0.2346     -0.1628\n",
      "urban         -1.8002     0.1325    -13.585     0.0000     -2.0600     -1.5405\n",
      "wealth     -2.327e-06  1.954e-06    -1.1908     0.2338  -6.158e-06   1.504e-06\n",
      "age           -0.0131     0.0086    -1.5333     0.1252     -0.0299      0.0037\n",
      "==============================================================================\n"
     ]
    }
   ],
   "source": [
    "model=lmp.PooledOLS(y,X)\n",
    "OLS=model.fit(cov_type=\"robust\")\n",
    "print(OLS)"
   ]
  },
  {
   "cell_type": "markdown",
   "metadata": {},
   "source": [
    "### Interpretación\n",
    "\n",
    "Se arregla el problema de que los estimadores sean robutos. La etimación se hace más flexible ya que la matriz de covarianzas asume heterocedasticidad.\n",
    "\n",
    "* Los resultados no varian mucho.\n",
    "* Ahora la variable wealth ya no es significativa, por lo que en promedio la riqueza de las personas no ayuda a explicar su salud mental. Esta mejora tiene sentido ya que anteriormente el aporte de la variable era muy pequeño."
   ]
  },
  {
   "cell_type": "markdown",
   "metadata": {},
   "source": [
    "## Pregunta 3: Modelo de Efectos Fijos"
   ]
  },
  {
   "cell_type": "markdown",
   "metadata": {},
   "source": [
    "Para utilizar este modelo, se excluyeron las variables con efectos fijos, las cuales fueron: female, schadj, urban y age, ya que no varían en el tiempo y presentan problemas de correlación serial. "
   ]
  },
  {
   "cell_type": "code",
   "execution_count": 17,
   "metadata": {},
   "outputs": [
    {
     "name": "stdout",
     "output_type": "stream",
     "text": [
      "                          PanelOLS Estimation Summary                           \n",
      "================================================================================\n",
      "Dep. Variable:                   cesd   R-squared:                        0.0219\n",
      "Estimator:                   PanelOLS   R-squared (Between):              0.0369\n",
      "No. Observations:               10023   R-squared (Within):              -0.0079\n",
      "Date:                Wed, Oct 05 2022   R-squared (Overall):              0.0219\n",
      "Time:                        20:14:19   Log-likelihood                -3.255e+04\n",
      "Cov. Estimator:                Robust                                           \n",
      "                                        F-statistic:                      32.052\n",
      "Entities:                        3346   P-value                           0.0000\n",
      "Avg Obs:                       2.9955   Distribution:                 F(7,10015)\n",
      "Min Obs:                       1.0000                                           \n",
      "Max Obs:                       3.0000   F-statistic (robust):             26.092\n",
      "                                        P-value                           0.0000\n",
      "Time periods:                       3   Distribution:                 F(7,10015)\n",
      "Avg Obs:                       3341.0                                           \n",
      "Min Obs:                       3337.0                                           \n",
      "Max Obs:                       3343.0                                           \n",
      "                                                                                \n",
      "                             Parameter Estimates                              \n",
      "==============================================================================\n",
      "            Parameter  Std. Err.     T-stat    P-value    Lower CI    Upper CI\n",
      "------------------------------------------------------------------------------\n",
      "const          10.034     0.2747     36.530     0.0000      9.4953      10.572\n",
      "child          0.2492     0.0450     5.5341     0.0000      0.1610      0.3375\n",
      "drinkly       -0.8938     0.1322    -6.7595     0.0000     -1.1530     -0.6346\n",
      "hrsusu         0.0047     0.0029     1.6075     0.1080     -0.0010      0.0105\n",
      "hsize         -0.0322     0.0348    -0.9243     0.3553     -0.1005      0.0361\n",
      "married       -1.7562     0.2007    -8.7490     0.0000     -2.1497     -1.3627\n",
      "retired       -0.1540     0.1857    -0.8294     0.4069     -0.5181      0.2100\n",
      "wealth     -3.204e-06  2.316e-06    -1.3834     0.1666  -7.744e-06   1.336e-06\n",
      "==============================================================================\n",
      "\n",
      "\n"
     ]
    },
    {
     "name": "stderr",
     "output_type": "stream",
     "text": [
      "C:\\Users\\felip\\anaconda3\\lib\\site-packages\\statsmodels\\tsa\\tsatools.py:142: FutureWarning: In a future version of pandas all arguments of concat except for the argument 'objs' will be keyword-only\n",
      "  x = pd.concat(x[::order], 1)\n"
     ]
    }
   ],
   "source": [
    "X=Xc[['child','drinkly','hrsusu','hsize','married','retired','wealth']]\n",
    "X=sm.add_constant(X)\n",
    "model=lmp.PanelOLS(y,X)\n",
    "fe=model.fit(cov_type=\"robust\")\n",
    "print(fe)"
   ]
  },
  {
   "cell_type": "markdown",
   "metadata": {},
   "source": [
    "### Interpretación\n",
    "Este modelo resta el promedio de las variables a cada observación, por lo que permite comparar a los individuos con ellos mismos en el tiempo en vez de con otros individuos.\n",
    "\n",
    "* El valor de 0,0219 del R-cuadrado indica que sólo un 2,19% de la variación en la variable cesd es explicada por las variables consideradas.\n",
    "* La prueba F entrega un valor-p igual a cero, lo que implica que todas las variables en conjunto explican estadísticamente la variación del puntaje de salud mental. \n",
    "\n",
    "* Ahora las variables child y drinkly son significativas, por lo que el numero de hijos y la ingesta de alcohol ayudan a explicar la variación en la salud mental de los individuos en el tiempo, en conjunto con la variable married. \n",
    "* Las variables hrsusu, hsize y retired se convirtieron en no significativas, mientras que wealth sigue siendo no significativa. \n",
    "* El aumento en el numero de hijos de una persona aumenta el puntaje cesd en 0,2492 puntos, disminuyendo su salud mental.\n",
    "* Si una persona comienza a beber cuando antes no lo hacia, esto tiende a disminuir su puntaje cesd en 0,8938 puntos, mejorando su salud mental. Esto no tiene una explicación lógica inmediata, lo que puede deberse a que sólo se está considerando si una persona ha bebido alcohol en el último mes y no la frecuencia o cantidad en que lo ha hecho. \n",
    "* Luego de que una persona se casa, esta tiende a mejorar su salud mental en al menos 1 punto.\n",
    "* EL modelo no agrupado (fixed) es mejor que el agrupado (valor p=0)"
   ]
  },
  {
   "cell_type": "markdown",
   "metadata": {},
   "source": [
    "## Pregunta 4: Modelo de Efectos Aleatorios"
   ]
  },
  {
   "cell_type": "code",
   "execution_count": 18,
   "metadata": {},
   "outputs": [
    {
     "name": "stdout",
     "output_type": "stream",
     "text": [
      "                        RandomEffects Estimation Summary                        \n",
      "================================================================================\n",
      "Dep. Variable:                   cesd   R-squared:                        0.5197\n",
      "Estimator:              RandomEffects   R-squared (Between):              0.7632\n",
      "No. Observations:               10023   R-squared (Within):              -0.0025\n",
      "Date:                Wed, Oct 05 2022   R-squared (Overall):              0.6774\n",
      "Time:                        20:14:20   Log-likelihood                -2.924e+04\n",
      "Cov. Estimator:                Robust                                           \n",
      "                                        F-statistic:                      985.00\n",
      "Entities:                        3346   P-value                           0.0000\n",
      "Avg Obs:                       2.9955   Distribution:                F(11,10012)\n",
      "Min Obs:                       1.0000                                           \n",
      "Max Obs:                       3.0000   F-statistic (robust):             960.48\n",
      "                                        P-value                           0.0000\n",
      "Time periods:                       3   Distribution:                F(11,10012)\n",
      "Avg Obs:                       3341.0                                           \n",
      "Min Obs:                       3337.0                                           \n",
      "Max Obs:                       3343.0                                           \n",
      "                                                                                \n",
      "                             Parameter Estimates                              \n",
      "==============================================================================\n",
      "            Parameter  Std. Err.     T-stat    P-value    Lower CI    Upper CI\n",
      "------------------------------------------------------------------------------\n",
      "child          0.0256     0.0606     0.4218     0.6732     -0.0932      0.1443\n",
      "drinkly        0.3537     0.1504     2.3521     0.0187      0.0589      0.6485\n",
      "female         2.6603     0.1793     14.836     0.0000      2.3088      3.0118\n",
      "hrsusu         0.0093     0.0026     3.5957     0.0003      0.0042      0.0144\n",
      "hsize          0.0264     0.0345     0.7656     0.4439     -0.0412      0.0941\n",
      "married        0.0671     0.2322     0.2892     0.7725     -0.3880      0.5222\n",
      "retired        0.3614     0.1777     2.0336     0.0420      0.0130      0.7098\n",
      "schadj        -0.0738     0.0239    -3.0889     0.0020     -0.1206     -0.0270\n",
      "urban         -1.7715     0.1867    -9.4879     0.0000     -2.1375     -1.4055\n",
      "wealth     -1.282e-06  1.085e-06    -1.1822     0.2372  -3.408e-06   8.438e-07\n",
      "age            0.1281     0.0053     23.967     0.0000      0.1176      0.1386\n",
      "==============================================================================\n"
     ]
    }
   ],
   "source": [
    "X=Xc[['child','drinkly','female','hrsusu','hsize','married','retired','schadj','urban','wealth','age']]\n",
    "model=lmp.RandomEffects(y,X)\n",
    "re=model.fit(cov_type=\"robust\")\n",
    "print(re)"
   ]
  },
  {
   "cell_type": "markdown",
   "metadata": {},
   "source": [
    "### Interpretación \n",
    "El modelo de efectos aleatorios permite variables explicativas que son constantes en el tiempo, siendo una ventaja frente al modelo de efectos fijos. Esto es posible debido a que supone que el efecto inobservable no está correlacionado con ninguna de las variables explicativas, ya sea que las variables explicativas estén fijas en el tiempo o no. Si bien este modelo logra entregar más información con respecto a la heterogeneidad, si se segmentaran los individuos se lograrían mejores resultados. \n",
    "\n",
    "* El valor del R-cuadrado aumentó con respecto al modelo anterior, siendo ahora de 0,5197, y el valor p de la prueba F se mantiene igual a cero, por lo que todas las variables en conjunto explican estadísticamente la variación del puntaje de salud mental.\n",
    "* Los coeficientes de las variables: female, hrsusu, schadj, urban y age son significativamente distintos de cero en un 99%, y los de las variables: drinkly y retired son significativos en un 95%. Por lo que estas variables explican estadísticamente el puntaje de salud mental.\n",
    "* Las variables que resultaron ser no significativas son: child, hsize, married y wealth, donde child y married difieren de los modelos anteriores. \n",
    "\n",
    "* En una población, las personas que beben al menos una vez al mes aumentan su puntaje cesd en 0,3537 puntos, por lo que su salud mental disminuye. Se evidencia que el efecto del alcohol es contrario al modelo anterior. \n",
    "* En cuanto al genero, las mujeres de una población tienden a aumentar el puntaje cesd en 2,6603 puntos, disminuyendo su salud mental en comparación con los hombres. \n",
    "* Frente a un aumento de 10 horas de trabajo semanal de las personas, su puntaje cesd aumenta en 0,093 unidades, por lo que la salud mental de la población no se ve muy afectada por más hora de trabajo. \n",
    "* Mientras más años de escolaridad tienen las personas, su salud mental tiende a mejorar en 0,0738 puntos por cada año. \n",
    "* Vivir en una zona urbana puede afectar positivamente la salud mental de las personas, haciendo que su puntaje disminuya 1,7715 puntos. \n",
    "* Mientras más años cumplan las personas de una población, su puntaje de salud tiende a aumentar en 0,1281 puntos, de donde se extrae que las personas van empeorando su salud mental progresivamente. "
   ]
  },
  {
   "cell_type": "markdown",
   "metadata": {},
   "source": [
    "A continuación, se extraerán algunas variables para poder comparar random effects y efectos fijos a través del test de Hausman."
   ]
  },
  {
   "cell_type": "code",
   "execution_count": 19,
   "metadata": {},
   "outputs": [
    {
     "name": "stdout",
     "output_type": "stream",
     "text": [
      "                        RandomEffects Estimation Summary                        \n",
      "================================================================================\n",
      "Dep. Variable:                   cesd   R-squared:                        0.4354\n",
      "Estimator:              RandomEffects   R-squared (Between):              0.7078\n",
      "No. Observations:               10023   R-squared (Within):              -0.0545\n",
      "Date:                Wed, Oct 05 2022   R-squared (Overall):              0.6224\n",
      "Time:                        20:14:20   Log-likelihood                -2.947e+04\n",
      "Cov. Estimator:                Robust                                           \n",
      "                                        F-statistic:                      1103.3\n",
      "Entities:                        3346   P-value                           0.0000\n",
      "Avg Obs:                       2.9955   Distribution:                 F(7,10016)\n",
      "Min Obs:                       1.0000                                           \n",
      "Max Obs:                       3.0000   F-statistic (robust):             1140.1\n",
      "                                        P-value                           0.0000\n",
      "Time periods:                       3   Distribution:                 F(7,10016)\n",
      "Avg Obs:                       3341.0                                           \n",
      "Min Obs:                       3337.0                                           \n",
      "Max Obs:                       3343.0                                           \n",
      "                                                                                \n",
      "                             Parameter Estimates                              \n",
      "==============================================================================\n",
      "            Parameter  Std. Err.     T-stat    P-value    Lower CI    Upper CI\n",
      "------------------------------------------------------------------------------\n",
      "child          1.1537     0.0524     22.019     0.0000      1.0510      1.2564\n",
      "drinkly        0.2823     0.1499     1.8830     0.0597     -0.0116      0.5762\n",
      "hrsusu         0.0256     0.0027     9.6378     0.0000      0.0204      0.0308\n",
      "hsize          0.2711     0.0355     7.6333     0.0000      0.2015      0.3407\n",
      "married        3.0070     0.2091     14.378     0.0000      2.5970      3.4170\n",
      "retired        1.7569     0.1734     10.133     0.0000      1.4170      2.0967\n",
      "wealth     -1.175e-06  9.241e-07    -1.2720     0.2034  -2.987e-06    6.36e-07\n",
      "==============================================================================\n"
     ]
    }
   ],
   "source": [
    "X=Xc[['child','drinkly','hrsusu','hsize','married','retired','wealth']]\n",
    "model=lmp.RandomEffects(y,X)\n",
    "re=model.fit(cov_type=\"robust\")\n",
    "print(re)"
   ]
  },
  {
   "cell_type": "markdown",
   "metadata": {},
   "source": [
    "### Interpretación\n",
    "\n",
    "* En este nuevo modelo el valor del R-cuadrado disminuyó con respecto al modelo anterior, siendo ahora de 0,01, y el valor p de la prueba F se mantiene igual a cero. \n",
    "* Las variables significativas y no significativas cambiaron, donde ahora solo child, drinkly y married explican el puntaje de salud mental de los individuos.  "
   ]
  },
  {
   "cell_type": "code",
   "execution_count": 20,
   "metadata": {},
   "outputs": [
    {
     "data": {
      "text/plain": [
       "Effects                   22.521591\n",
       "Residual                  19.850840\n",
       "Percent due to Effects     0.531515\n",
       "Name: Variance Decomposition, dtype: float64"
      ]
     },
     "execution_count": 20,
     "metadata": {},
     "output_type": "execute_result"
    }
   ],
   "source": [
    "re.variance_decomposition"
   ]
  },
  {
   "cell_type": "markdown",
   "metadata": {},
   "source": [
    "### Interpretación\n",
    "\n",
    "Se obtiene la descomposición de varianzas que indica que proporción es el mu y U.\n",
    "Si asumimos que la correlación es 0 las proporciones serán cerca de 50% y 50%. Esto indica que 50% de los efectos vienen de la heteregeonidad entre los individuos encuestados y la otra mitad vienen de los errores residuales de shocks que varían en el tiempo y entre individuo."
   ]
  },
  {
   "cell_type": "markdown",
   "metadata": {},
   "source": [
    "## Model comparison"
   ]
  },
  {
   "cell_type": "code",
   "execution_count": 21,
   "metadata": {},
   "outputs": [
    {
     "name": "stdout",
     "output_type": "stream",
     "text": [
      "                        Model Comparison                       \n",
      "===============================================================\n",
      "                                FE              RE       Pooled\n",
      "---------------------------------------------------------------\n",
      "Dep. Variable                 cesd            cesd         cesd\n",
      "Estimator                 PanelOLS   RandomEffects    PooledOLS\n",
      "No. Observations             10023           10023        10023\n",
      "Cov. Est.                   Robust          Robust       Robust\n",
      "R-squared                   0.0219          0.4354       0.0722\n",
      "R-Squared (Within)         -0.0079         -0.0545       0.0011\n",
      "R-Squared (Between)         0.0369          0.7078       0.1079\n",
      "R-Squared (Overall)         0.0219          0.6224       0.0722\n",
      "F-statistic                 32.052          1103.3       70.791\n",
      "P-value (F-stat)            0.0000          0.0000       0.0000\n",
      "===================== ============ =============== ============\n",
      "const                       10.034                       11.126\n",
      "                          (36.530)                     (18.017)\n",
      "child                       0.2492          1.1537       0.0934\n",
      "                          (5.5341)        (22.019)     (1.8708)\n",
      "drinkly                    -0.8938          0.2823      -0.0064\n",
      "                         (-6.7595)        (1.8830)    (-0.0448)\n",
      "hrsusu                      0.0047          0.0256       0.0059\n",
      "                          (1.6075)        (9.6378)     (2.0574)\n",
      "hsize                      -0.0322          0.2711      -0.0767\n",
      "                         (-0.9243)        (7.6333)    (-2.2176)\n",
      "married                    -1.7562          3.0070      -1.3845\n",
      "                         (-8.7490)        (14.378)    (-6.8452)\n",
      "retired                    -0.1540          1.7569       0.4886\n",
      "                         (-0.8294)        (10.133)     (2.6155)\n",
      "wealth                  -3.204e-06      -1.175e-06   -2.327e-06\n",
      "                         (-1.3834)       (-1.2720)    (-1.1908)\n",
      "female                                                   1.5231\n",
      "                                                       (10.600)\n",
      "schadj                                                  -0.1987\n",
      "                                                      (-10.855)\n",
      "urban                                                   -1.8002\n",
      "                                                      (-13.585)\n",
      "age                                                     -0.0131\n",
      "                                                      (-1.5333)\n",
      "---------------------------------------------------------------\n",
      "\n",
      "T-stats reported in parentheses\n"
     ]
    }
   ],
   "source": [
    "print(lmp.compare({\"FE\": fe, \"RE\": re, \"Pooled\": OLS}))"
   ]
  },
  {
   "cell_type": "code",
   "execution_count": 22,
   "metadata": {},
   "outputs": [],
   "source": [
    "import numpy.linalg as la\n",
    "from scipy import stats\n",
    "\n",
    "def hausman(fe, re):\n",
    "    diff = fe.params-re.params\n",
    "    psi = fe.cov - re.cov\n",
    "    dof = diff.size -1\n",
    "    W = diff.dot(la.inv(psi)).dot(diff)\n",
    "    pval = stats.chi2.sf(W, dof)\n",
    "    return W, dof, pval"
   ]
  },
  {
   "cell_type": "markdown",
   "metadata": {},
   "source": [
    "## Pregunta 5: Modelos Pooled OLS, Efectos Fijos y Efectos Aleatorios"
   ]
  },
  {
   "cell_type": "code",
   "execution_count": 23,
   "metadata": {},
   "outputs": [
    {
     "name": "stdout",
     "output_type": "stream",
     "text": [
      "Hausman Test: chi-2 = nan, df = 7, p-value = nan\n"
     ]
    }
   ],
   "source": [
    "htest = hausman(fe, re) \n",
    "print(\"Hausman Test: chi-2 = {0}, df = {1}, p-value = {2}\".format(htest[0], htest[1], htest[2]))"
   ]
  },
  {
   "cell_type": "markdown",
   "metadata": {},
   "source": [
    "Se tiene que los errores estándar de Pooled OLS ignoran la correlación serial positiva, por lo que no son las mismas variables que se comparan entre modelos con respecto a efectos fijos y aleatorios. \n",
    "\n",
    "Por otro lado, luego de realizar el test de Hausman, se obtuvo un p-value < 0.05 que rechaza la hipótesis nula de igualdad al 95% de confianza, lo que significa que la estimación de EF es mejor por sobre el modelo de efectos aleatorios. Lo anterior considerando solo cambios dentro de los mismos individuos en el tiempo, por lo que no se puede obtener mucha información de cambios entre personas.\n",
    "\n",
    "Las variables robustas entre efectos fijos y efectos aleatorios son: child, drinkly y married. Esto debido a que son significativas para ambos modelos y no presentaron grandes variaciones en los coeficientes obtenidos."
   ]
  },
  {
   "cell_type": "markdown",
   "metadata": {},
   "source": [
    "## Pregunta 6: Modelo de Efectos Aleatorios Correlacionados"
   ]
  },
  {
   "cell_type": "code",
   "execution_count": 24,
   "metadata": {
    "scrolled": false
   },
   "outputs": [
    {
     "name": "stdout",
     "output_type": "stream",
     "text": [
      "                        RandomEffects Estimation Summary                        \n",
      "================================================================================\n",
      "Dep. Variable:                   cesd   R-squared:                        0.0415\n",
      "Estimator:              RandomEffects   R-squared (Between):              0.1097\n",
      "No. Observations:               10023   R-squared (Within):               0.0039\n",
      "Date:                Wed, Oct 05 2022   R-squared (Overall):              0.0743\n",
      "Time:                        20:14:23   Log-likelihood                -2.919e+04\n",
      "Cov. Estimator:                Robust                                           \n",
      "                                        F-statistic:                      19.704\n",
      "Entities:                        3346   P-value                           0.0000\n",
      "Avg Obs:                       2.9955   Distribution:                F(22,10000)\n",
      "Min Obs:                       1.0000                                           \n",
      "Max Obs:                       3.0000   F-statistic (robust):             2.0964\n",
      "                                        P-value                           0.0019\n",
      "Time periods:                       3   Distribution:                F(22,10000)\n",
      "Avg Obs:                       3341.0                                           \n",
      "Min Obs:                       3337.0                                           \n",
      "Max Obs:                       3343.0                                           \n",
      "                                                                                \n",
      "                             Parameter Estimates                              \n",
      "==============================================================================\n",
      "            Parameter  Std. Err.     T-stat    P-value    Lower CI    Upper CI\n",
      "------------------------------------------------------------------------------\n",
      "const          10.505     0.9259     11.347     0.0000      8.6906      12.320\n",
      "child          0.1519     0.1007     1.5085     0.1315     -0.0455      0.3493\n",
      "drinkly        0.2146     0.1938     1.1076     0.2681     -0.1652      0.5944\n",
      "female         0.7596                                                         \n",
      "hrsusu        -0.0009     0.0030    -0.2930     0.7695     -0.0067      0.0049\n",
      "hsize         -0.1195     0.0428    -2.7889     0.0053     -0.2035     -0.0355\n",
      "married       -1.1849     0.4840    -2.4480     0.0144     -2.1338     -0.2361\n",
      "retired        0.3354     0.2026     1.6557     0.0978     -0.0617      0.7325\n",
      "schadj        -0.0954                                                         \n",
      "urban         -0.8932     1.8697    -0.4777     0.6329     -4.5583      2.7718\n",
      "wealth     -4.952e-07  1.426e-06    -0.3472     0.7285  -3.291e-06   2.301e-06\n",
      "age           -0.0038                                                         \n",
      "mchild        -0.0818     0.1260    -0.6497     0.5159     -0.3287      0.1651\n",
      "mdrinkly      -0.3436     0.3039    -1.1305     0.2583     -0.9393      0.2521\n",
      "mfemale        0.7596     1.0262     0.7402     0.4592     -1.2519      2.7711\n",
      "mhrsusu        0.0144     0.0065     2.2109     0.0271      0.0016      0.0272\n",
      "mhsize         0.0742     0.0768     0.9665     0.3338     -0.0763      0.2246\n",
      "mmarried      -0.2094     0.5695    -0.3676     0.7132     -1.3258      0.9070\n",
      "mretired       0.4217     0.4068     1.0368     0.2998     -0.3756      1.2191\n",
      "mschadj       -0.0954                                                         \n",
      "murban        -0.8932     1.9729    -0.4528     0.6507     -4.7605      2.9741\n",
      "mwealth    -4.734e-06  3.651e-06    -1.2967     0.1948  -1.189e-05   2.422e-06\n",
      "mage          -0.0038     0.0223    -0.1686     0.8662     -0.0475      0.0400\n",
      "==============================================================================\n"
     ]
    },
    {
     "name": "stderr",
     "output_type": "stream",
     "text": [
      "C:\\Users\\felip\\anaconda3\\lib\\site-packages\\linearmodels\\panel\\results.py:87: RuntimeWarning: invalid value encountered in sqrt\n",
      "  return Series(np.sqrt(np.diag(self.cov)), self._var_names, name=\"std_error\")\n"
     ]
    }
   ],
   "source": [
    "X=Xc[['child','drinkly','female','hrsusu','hsize','married','retired','schadj','urban','wealth','age','mchild','mdrinkly','mfemale','mhrsusu','mhsize','mmarried','mretired','mschadj','murban','mwealth','mage']]\n",
    "X=sm.add_constant(X)\n",
    "model=lmp.RandomEffects(y,X, check_rank=False)\n",
    "cre=model.fit(cov_type=\"robust\")\n",
    "print(cre)"
   ]
  },
  {
   "cell_type": "markdown",
   "metadata": {},
   "source": [
    "### Interpretación\n",
    "Utilizar el modelo de efectos aleatorios correlacionados permite considerar la heterogeneidad de cada persona encuestada, por lo que da más información considerando la caracterización de cada individuo con variables como age, urban, female.\n",
    "En este caso se observa que solo 2 variables resultaron significativas:  hsize y married, por lo que solo estas variables consiguen explicar la variación en el puntaje de salud mental de los individuos. Se tiene que:\n",
    "\n",
    "* Cuando el tamaño del hogar aumenta en 1, el puntaje cesd disminuye en 0,1195 unidades, indicando que a mayor tamaño del hogar las personas tienden a tener una mejor salud mental. \n",
    "* Las personas casadas tienden a disminuir su puntaje de salud mental en casi 2 unidades, por lo que su salud mental es mejor considerando esta variable. \n",
    "\n",
    "Cabe destacar que al considerar todos los promedios en el modelo no se logra identificar existosamente la heterogeneidad no observada, por lo que se deberían considerar solo algunas medias para el análisis."
   ]
  },
  {
   "cell_type": "code",
   "execution_count": 25,
   "metadata": {},
   "outputs": [
    {
     "name": "stdout",
     "output_type": "stream",
     "text": [
      "                         Model Comparison                         \n",
      "==================================================================\n",
      "                                FE              RE             CRE\n",
      "------------------------------------------------------------------\n",
      "Dep. Variable                 cesd            cesd            cesd\n",
      "Estimator                 PanelOLS   RandomEffects   RandomEffects\n",
      "No. Observations             10023           10023           10023\n",
      "Cov. Est.                   Robust          Robust          Robust\n",
      "R-squared                   0.0219          0.4354          0.0415\n",
      "R-Squared (Within)         -0.0079         -0.0545          0.0039\n",
      "R-Squared (Between)         0.0369          0.7078          0.1097\n",
      "R-Squared (Overall)         0.0219          0.6224          0.0743\n",
      "F-statistic                 32.052          1103.3          19.704\n",
      "P-value (F-stat)            0.0000          0.0000          0.0000\n",
      "===================== ============ =============== ===============\n",
      "const                       10.034                          10.505\n",
      "                          (36.530)                        (11.347)\n",
      "child                       0.2492          1.1537          0.1519\n",
      "                          (5.5341)        (22.019)        (1.5085)\n",
      "drinkly                    -0.8938          0.2823          0.2146\n",
      "                         (-6.7595)        (1.8830)        (1.1076)\n",
      "hrsusu                      0.0047          0.0256         -0.0009\n",
      "                          (1.6075)        (9.6378)       (-0.2930)\n",
      "hsize                      -0.0322          0.2711         -0.1195\n",
      "                         (-0.9243)        (7.6333)       (-2.7889)\n",
      "married                    -1.7562          3.0070         -1.1849\n",
      "                         (-8.7490)        (14.378)       (-2.4480)\n",
      "retired                    -0.1540          1.7569          0.3354\n",
      "                         (-0.8294)        (10.133)        (1.6557)\n",
      "wealth                  -3.204e-06      -1.175e-06      -4.952e-07\n",
      "                         (-1.3834)       (-1.2720)       (-0.3472)\n",
      "female                                                      0.7596\n",
      "                                                                  \n",
      "schadj                                                     -0.0954\n",
      "                                                                  \n",
      "urban                                                      -0.8932\n",
      "                                                         (-0.4777)\n",
      "age                                                        -0.0038\n",
      "                                                                  \n",
      "mchild                                                     -0.0818\n",
      "                                                         (-0.6497)\n",
      "mdrinkly                                                   -0.3436\n",
      "                                                         (-1.1305)\n",
      "mfemale                                                     0.7596\n",
      "                                                          (0.7402)\n",
      "mhrsusu                                                     0.0144\n",
      "                                                          (2.2109)\n",
      "mhsize                                                      0.0742\n",
      "                                                          (0.9665)\n",
      "mmarried                                                   -0.2094\n",
      "                                                         (-0.3676)\n",
      "mretired                                                    0.4217\n",
      "                                                          (1.0368)\n",
      "mschadj                                                    -0.0954\n",
      "                                                                  \n",
      "murban                                                     -0.8932\n",
      "                                                         (-0.4528)\n",
      "mwealth                                                 -4.734e-06\n",
      "                                                         (-1.2967)\n",
      "mage                                                       -0.0038\n",
      "                                                         (-0.1686)\n",
      "------------------------------------------------------------------\n",
      "\n",
      "T-stats reported in parentheses\n"
     ]
    }
   ],
   "source": [
    "print(lmp.compare({\"FE\": fe, \"RE\": re, \"CRE\": cre}))"
   ]
  },
  {
   "cell_type": "markdown",
   "metadata": {},
   "source": [
    "## Pregunta 8: ¿Qué modelo es mejor?"
   ]
  },
  {
   "cell_type": "markdown",
   "metadata": {},
   "source": [
    "Dado que el CRE no resultó mayormente significativo comparado con el modelo de efectos aleatorios, este último entregaría una mejor estimación. Sin embargo, el modelo de efectos aleatorios no favorece la estimación como el modelo de efectos fijos, lo cual fue corroborado con el test de Hausman."
   ]
  },
  {
   "cell_type": "markdown",
   "metadata": {},
   "source": [
    "<font size=\"3\">**Tarea 2**</font>\n",
    "\n",
    "<u> *Instrucciones* </u>\n",
    "\n",
    "Los resultados de los ejericicios propuestos se deben entregar como un notebook por correo electronico a *juan.caro@uni.lu* el dia 3/10 hasta las 21:00. \n",
    "\n",
    "Es importante considerar que el código debe poder ejecutarse en cualquier computadora con la data original del repositorio. Recordar la convencion para el nombre de archivo ademas de incluir en su documento titulos y encabezados por seccion. La data a utilizar es **charls.csv**.\n",
    "\n",
    "Las variables tienen la siguiente descripcion:\n",
    "\n",
    "- INID: identificador unico\n",
    "- wave: periodo de la encuesta (1-3)\n",
    "- cesd: puntaje en la escala de salud mental (0-30)\n",
    "- child: numero de hijos\n",
    "- drinkly: bebio alcohol en el ultimo mes (binario)\n",
    "- hrsusu: horas promedio trabajo semanal\n",
    "- hsize: tamano del hogar\n",
    "- intmonth: mes en que fue encuestado/a (1-12)\n",
    "- married: si esta casado/a (binario)\n",
    "- retired: si esta pensionado/a (binario)\n",
    "- schadj: años de escolaridad\n",
    "- urban: zona urbana (binario)\n",
    "- wealth: riqueza neta (miles RMB)\n",
    "- age: edad al entrar a la encuesta (no varia entre periodos)\n",
    "\n",
    "Preguntas:\n",
    "\n",
    "1. Cargar la base de datos *charls.csv* en el ambiente. Identifique los tipos de datos que se encuentran en la base, realice estadisticas descriptivas sobre las variables importantes (Hint: Revisar la distribuciones, datos faltantes, outliers, etc.) y limpie las variables cuando sea necesario. \n",
    "\n",
    "2. Ejecute un modelo Pooled OLS para explicar el puntaje en la escala de salud mental (CESD). Seleccione las variables dependientes a incluir en el modelo final e interprete su significado. \n",
    "\n",
    "3. Ejecute un modelo de efectos fijos para explicar el puntaje en la escala de salud mental (CESD).  Seleccione las variables dependientes a incluir en el modelo final e interprete su significado. \n",
    "\n",
    "4. Ejecute un modelo de efectos aleatorios para explicar el puntaje en la escala de salud mental (CESD). Seleccione las variables dependientes a incluir en el modelo final e interprete su significado. \n",
    "\n",
    "5. Comente los resultados obtenidos en 2, 3 y 4. ¿Cuáles y por qué existen las diferencias entre los resultados?. En su opinión, ¿Cuál sería el más adecuado para responder la pregunta de investgación y por qué? ¿Qué variables resultaron ser robustas a la especificación?\n",
    "\n",
    "6. Ejecute un modelo de efectos aleatorios correlacionados (CRE) para explicar el puntaje en la escala de salud mental (CESD). Seleccione las variables dependientes a incluir en el modelo final e interprete su significado. Es este modelo adecuado, dada la data disponible, para modelar el componente no observado?\n",
    "\n",
    "7. Usando el modelo CRE, prediga la distribucion del componente no observado. Que puede inferir respecto de la heterogeneidad fija en el tiempo y su impacto en el puntaje CESD? \n",
    "\n",
    "8. Usando sus respuestas anteriores, que modelo prefiere? que se puede inferir en general respecto del efecto de las variables explicativas sobre el puntaje CESD?\n"
   ]
  }
 ],
 "metadata": {
  "hide_input": false,
  "kernelspec": {
   "display_name": "Python 3 (ipykernel)",
   "language": "python",
   "name": "python3"
  },
  "language_info": {
   "codemirror_mode": {
    "name": "ipython",
    "version": 3
   },
   "file_extension": ".py",
   "mimetype": "text/x-python",
   "name": "python",
   "nbconvert_exporter": "python",
   "pygments_lexer": "ipython3",
   "version": "3.7.6"
  },
  "latex_envs": {
   "LaTeX_envs_menu_present": true,
   "autoclose": true,
   "autocomplete": true,
   "bibliofile": "biblio.bib",
   "cite_by": "apalike",
   "current_citInitial": 1,
   "eqLabelWithNumbers": true,
   "eqNumInitial": 1,
   "hotkeys": {
    "equation": "Ctrl-E",
    "itemize": "Ctrl-I"
   },
   "labels_anchors": false,
   "latex_user_defs": false,
   "report_style_numbering": false,
   "user_envs_cfg": false
  },
  "toc": {
   "base_numbering": 1,
   "nav_menu": {},
   "number_sections": true,
   "sideBar": true,
   "skip_h1_title": true,
   "title_cell": "Table of Contents",
   "title_sidebar": "Contents",
   "toc_cell": false,
   "toc_position": {
    "height": "calc(100% - 180px)",
    "left": "10px",
    "top": "150px",
    "width": "165px"
   },
   "toc_section_display": true,
   "toc_window_display": true
  }
 },
 "nbformat": 4,
 "nbformat_minor": 2
}
