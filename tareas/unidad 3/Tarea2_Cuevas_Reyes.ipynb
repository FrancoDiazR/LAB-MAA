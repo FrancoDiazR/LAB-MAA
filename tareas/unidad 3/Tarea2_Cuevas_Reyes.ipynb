{
 "cells": [
  {
   "cell_type": "code",
   "execution_count": null,
   "metadata": {
    "colab": {
     "base_uri": "https://localhost:8080/"
    },
    "id": "vnU5h2MYDv3H",
    "outputId": "4c98ffd9-8583-4710-8371-8c694274c699"
   },
   "outputs": [
    {
     "name": "stdout",
     "output_type": "stream",
     "text": [
      "Looking in indexes: https://pypi.org/simple, https://us-python.pkg.dev/colab-wheels/public/simple/\n",
      "Collecting linearmodels\n",
      "  Downloading linearmodels-4.25-cp37-cp37m-manylinux_2_17_x86_64.manylinux2014_x86_64.whl (1.5 MB)\n",
      "\u001b[K     |████████████████████████████████| 1.5 MB 5.1 MB/s \n",
      "\u001b[?25hRequirement already satisfied: statsmodels>=0.11 in /usr/local/lib/python3.7/dist-packages (from linearmodels) (0.12.2)\n",
      "Collecting formulaic\n",
      "  Downloading formulaic-0.5.2-py3-none-any.whl (77 kB)\n",
      "\u001b[K     |████████████████████████████████| 77 kB 5.5 MB/s \n",
      "\u001b[?25hCollecting property-cached>=1.6.3\n",
      "  Downloading property_cached-1.6.4-py2.py3-none-any.whl (7.8 kB)\n",
      "Requirement already satisfied: Cython>=0.29.21 in /usr/local/lib/python3.7/dist-packages (from linearmodels) (0.29.32)\n",
      "Requirement already satisfied: patsy in /usr/local/lib/python3.7/dist-packages (from linearmodels) (0.5.2)\n",
      "Collecting mypy-extensions>=0.4\n",
      "  Downloading mypy_extensions-0.4.3-py2.py3-none-any.whl (4.5 kB)\n",
      "Requirement already satisfied: scipy>=1.2 in /usr/local/lib/python3.7/dist-packages (from linearmodels) (1.7.3)\n",
      "Requirement already satisfied: numpy>=1.16 in /usr/local/lib/python3.7/dist-packages (from linearmodels) (1.21.6)\n",
      "Collecting pyhdfe>=0.1\n",
      "  Downloading pyhdfe-0.1.0-py3-none-any.whl (18 kB)\n",
      "Requirement already satisfied: pandas>=0.24 in /usr/local/lib/python3.7/dist-packages (from linearmodels) (1.3.5)\n",
      "Requirement already satisfied: python-dateutil>=2.7.3 in /usr/local/lib/python3.7/dist-packages (from pandas>=0.24->linearmodels) (2.8.2)\n",
      "Requirement already satisfied: pytz>=2017.3 in /usr/local/lib/python3.7/dist-packages (from pandas>=0.24->linearmodels) (2022.2.1)\n",
      "Requirement already satisfied: six>=1.5 in /usr/local/lib/python3.7/dist-packages (from python-dateutil>=2.7.3->pandas>=0.24->linearmodels) (1.15.0)\n",
      "Requirement already satisfied: astor>=0.8 in /usr/local/lib/python3.7/dist-packages (from formulaic->linearmodels) (0.8.1)\n",
      "Collecting typing-extensions>=4.2.0\n",
      "  Downloading typing_extensions-4.3.0-py3-none-any.whl (25 kB)\n",
      "Requirement already satisfied: wrapt>=1.0 in /usr/local/lib/python3.7/dist-packages (from formulaic->linearmodels) (1.14.1)\n",
      "Collecting interface-meta>=1.2.0\n",
      "  Downloading interface_meta-1.3.0-py3-none-any.whl (14 kB)\n",
      "Collecting graphlib-backport>=1.0.0\n",
      "  Downloading graphlib_backport-1.0.3-py3-none-any.whl (5.1 kB)\n",
      "Requirement already satisfied: cached-property>=1.3.0 in /usr/local/lib/python3.7/dist-packages (from formulaic->linearmodels) (1.5.2)\n",
      "Installing collected packages: typing-extensions, interface-meta, graphlib-backport, pyhdfe, property-cached, mypy-extensions, formulaic, linearmodels\n",
      "  Attempting uninstall: typing-extensions\n",
      "    Found existing installation: typing-extensions 4.1.1\n",
      "    Uninstalling typing-extensions-4.1.1:\n"
     ]
    }
   ],
   "source": [
    "!pip install linearmodels"
   ]
  },
  {
   "cell_type": "code",
   "execution_count": null,
   "metadata": {
    "id": "Xm3P1s4Htah4"
   },
   "outputs": [],
   "source": [
    "import numpy as np\n",
    "import pandas as pd\n",
    "import matplotlib.pyplot as plt\n",
    "import statsmodels.api as sm\n",
    "import statsmodels.formula.api as smf\n",
    "import sklearn\n",
    "import scipy \n",
    "import seaborn as sns\n",
    "import linearmodels.panel as lmp\n",
    "\n",
    "from sklearn.preprocessing import OneHotEncoder\n",
    "\n",
    "%matplotlib inline"
   ]
  },
  {
   "cell_type": "markdown",
   "metadata": {
    "id": "iaR7jFyzQQSs"
   },
   "source": [
    "# Pregunta 1:\n",
    "\n",
    "Cargar la base de datos *charls.csv* en el ambiente. Identifique los tipos de datos que se encuentran en la base, realice estadisticas descriptivas sobre las variables importantes (Hint: Revisar la distribuciones, datos faltantes, outliers, etc.) y limpie las variables cuando sea necesario. "
   ]
  },
  {
   "cell_type": "code",
   "execution_count": null,
   "metadata": {
    "id": "bkHAtBiRtrQE"
   },
   "outputs": [],
   "source": [
    "try:\n",
    "    charls = pd.read_csv(\"../data/charls.csv\")\n",
    "except:\n",
    "    try:\n",
    "        charls = pd.read_csv(\"../../data/charls.csv\")\n",
    "    except:\n",
    "        charls = pd.read_csv(\"https://raw.githubusercontent.com/juancaros/LAB-MAA/main/data/charls.csv\")\n",
    "    charls[\"inid\"] = charls[\"inid\"].astype(\"int\")"
   ]
  },
  {
   "cell_type": "markdown",
   "metadata": {
    "id": "q7SmjvQyXDfW"
   },
   "source": [
    "Los datos se se intentan cargas de dos manera, buscar el archivo llamado \"charls.csv\" en el computador donde se corra el codigo o directamente desde el repositorio de github del curso"
   ]
  },
  {
   "cell_type": "code",
   "execution_count": null,
   "metadata": {
    "colab": {
     "base_uri": "https://localhost:8080/"
    },
    "id": "o0ntH3-4uVR5",
    "outputId": "b2462946-4ba9-4b12-8ee4-f8c3747c499b"
   },
   "outputs": [
    {
     "name": "stdout",
     "output_type": "stream",
     "text": [
      "<class 'pandas.core.frame.DataFrame'>\n",
      "RangeIndex: 34371 entries, 0 to 34370\n",
      "Data columns (total 15 columns):\n",
      " #   Column    Non-Null Count  Dtype  \n",
      "---  ------    --------------  -----  \n",
      " 0   cesd      34371 non-null  int64  \n",
      " 1   child     34371 non-null  int64  \n",
      " 2   drinkly   34371 non-null  object \n",
      " 3   female    34371 non-null  int64  \n",
      " 4   hrsusu    34371 non-null  float64\n",
      " 5   hsize     34371 non-null  int64  \n",
      " 6   inid      34371 non-null  int64  \n",
      " 7   intmonth  34371 non-null  int64  \n",
      " 8   married   34371 non-null  int64  \n",
      " 9   retired   34371 non-null  int64  \n",
      " 10  schadj    34371 non-null  int64  \n",
      " 11  urban     34371 non-null  int64  \n",
      " 12  wave      34371 non-null  int64  \n",
      " 13  wealth    34371 non-null  float64\n",
      " 14  age       34371 non-null  int64  \n",
      "dtypes: float64(2), int64(12), object(1)\n",
      "memory usage: 3.9+ MB\n"
     ]
    }
   ],
   "source": [
    "charls.info()"
   ]
  },
  {
   "cell_type": "code",
   "execution_count": null,
   "metadata": {
    "id": "v2OLj97aavg-"
   },
   "outputs": [],
   "source": [
    "charls.loc[charls.drinkly == \"0.None\", \"drinkly\"] = 0\n",
    "charls.loc[charls.drinkly == \"1.Yes\", \"drinkly\"] = 1\n",
    "charls.loc[charls.drinkly == \".m:missing\", \"drinkly\"] = None\n",
    "charls.dropna(inplace = True)\n",
    "\n",
    "\n",
    "aux = charls.value_counts(\"inid\").to_frame().reset_index()\n",
    "aux.columns = [\"inid\", \"counts\"]\n",
    "inids = aux[aux.counts == 3][\"inid\"]\n",
    "charls = charls[charls.inid.isin(inids)]\n",
    "\n",
    "categories = pd.get_dummies(charls[\"intmonth\"])\n",
    "categories.columns = [\"jan\", \"feb\", \"jun\", \"jul\",\"ago\", \"sept\", \"oct\", \"nov\", \"dic\"]"
   ]
  },
  {
   "cell_type": "code",
   "execution_count": null,
   "metadata": {
    "colab": {
     "base_uri": "https://localhost:8080/"
    },
    "id": "G34WbWvXqiN1",
    "outputId": "8f1a393c-dc54-426f-e775-3b59c81d255c"
   },
   "outputs": [
    {
     "data": {
      "text/plain": [
       "jan       54\n",
       "feb       42\n",
       "jun       60\n",
       "jul     4994\n",
       "ago     4093\n",
       "sept     344\n",
       "oct      147\n",
       "nov      188\n",
       "dic      113\n",
       "dtype: int64"
      ]
     },
     "execution_count": 8,
     "metadata": {},
     "output_type": "execute_result"
    }
   ],
   "source": [
    "categories.sum()"
   ]
  },
  {
   "cell_type": "code",
   "execution_count": null,
   "metadata": {
    "colab": {
     "base_uri": "https://localhost:8080/"
    },
    "id": "i8YX5YMjbKuW",
    "outputId": "35854723-68aa-40a4-e71a-020a99ca47d4"
   },
   "outputs": [
    {
     "name": "stdout",
     "output_type": "stream",
     "text": [
      "<class 'pandas.core.frame.DataFrame'>\n",
      "Int64Index: 10035 entries, 0 to 10055\n",
      "Data columns (total 15 columns):\n",
      " #   Column    Non-Null Count  Dtype  \n",
      "---  ------    --------------  -----  \n",
      " 0   cesd      10035 non-null  int64  \n",
      " 1   child     10035 non-null  int64  \n",
      " 2   drinkly   10035 non-null  object \n",
      " 3   female    10035 non-null  int64  \n",
      " 4   hrsusu    10035 non-null  float64\n",
      " 5   hsize     10035 non-null  int64  \n",
      " 6   inid      10035 non-null  int64  \n",
      " 7   intmonth  10035 non-null  int64  \n",
      " 8   married   10035 non-null  int64  \n",
      " 9   retired   10035 non-null  int64  \n",
      " 10  schadj    10035 non-null  int64  \n",
      " 11  urban     10035 non-null  int64  \n",
      " 12  wave      10035 non-null  int64  \n",
      " 13  wealth    10035 non-null  float64\n",
      " 14  age       10035 non-null  int64  \n",
      "dtypes: float64(2), int64(12), object(1)\n",
      "memory usage: 1.2+ MB\n"
     ]
    }
   ],
   "source": [
    "charls.info()"
   ]
  },
  {
   "cell_type": "markdown",
   "metadata": {
    "id": "Sll4q9zrEh0s"
   },
   "source": [
    "R: Se identifican los siguientes grupos de variables:\n",
    "\n",
    "- Dicotómicas: drinkly (*), married, retired, urban, female\n",
    "- Categórica: intmonth (**), INID (***), wave\n",
    "- Numérica: cesd (****), child, hrsusu, hsize, wealth, age\n",
    "\n",
    "\n",
    "Además se rescata que la variable intmonth, correspondiente al mes de toma de resultados de la muestra, tienen casi todos sus valores en el mes 7 y 8 (Julio y Agosto) y muy pocos valores en febrero, como se puede ver en el anexo 1, es por eso que se decide omitir el mes de febrero (por lo explicado en **)\n",
    "\n",
    "Se encontró que habían algunos individuos en la muestra que tenían más valores asociados a un mismo identificador INID (Anexo 3), por los que estos fueron sacados de la muestra, quedando asi un total de 10035 filas, correspondientes a 3345 individuos, los que aparecen en cada uno de los periodos de encuestación quedando  una base de datos de panel balanceado (no hay atrición) .\n",
    "\n",
    "Finalmente se prepararon los datos calculando la media de las variables numéricas, exceptuando cesd, ya que es la variable explicada de los modelos, y age ya que este dato es estático para cada individuo dependiendo de la edad que tenía al comenzar las encuestas. Luego se le da estructura de panel, como se ve a continuación\n",
    "\n",
    "(*) Para el caso de drinkly esta variable fue transformada de a dicotomica 0-1 en vez de 0.None-1.Yes, en este proceso se encontraron valores faltantes los cuales fueron eliminados\n",
    "\n",
    "(**) intmonth fue separada en variables dicotómicas donde cada una toma el valor si el dato fue tomado en el mes representado por esta o no, con el objetivo de ver si este tiene algún impacto o no en el modelo. **añadir un poquito mas de explicacion**  Es importante notar que para la elaboración de los modelos es importante no poner la variable intmonth y omitir uno de los meses, ya que en caso contrario las variables pasan a formar combinaciones lineales entre si y causa problemas en el modelo por lo explicado anteriormente.\n",
    "\n",
    "\n",
    "(***) Se transforma la variable INID de float a int para facilitar el arreglo del problema de que el identificador no sea unico\n",
    "\n",
    "(****) Se investigó el significado del cesd, donde según el articulo adjunto se especifica que a mayor número más sintomas depresivos presentan los encuestados.\n",
    "https://www.sciencedirect.com/science/article/pii/S0033350621002572#appsec1"
   ]
  },
  {
   "cell_type": "code",
   "execution_count": null,
   "metadata": {
    "id": "1OrX2IwU8nPe"
   },
   "outputs": [],
   "source": [
    "X = charls[['child', 'hrsusu', 'hsize', 'wealth']]\n",
    "Xm = X.groupby(charls[\"inid\"]).transform(\"mean\")\n",
    "Xid = charls[['inid', 'wave', 'cesd', 'drinkly', 'married', \n",
    "              'retired', 'urban', 'female', \"intmonth\", 'child', 'hrsusu', 'hsize', \n",
    "              'wealth', 'age']]\n",
    "\n",
    "Xc=pd.DataFrame(\n",
    "    np.c_[Xid, categories, Xm], \n",
    "    columns=['inid', 'wave', 'cesd', 'drinkly', 'married', 'retired', 'urban', \n",
    "             'female', \"intmonth\", \n",
    "             'child', 'hrsusu', 'hsize', 'wealth', 'age', \n",
    "             'mchild', 'mhrsusu', 'mhsize', 'mwealth',\n",
    "             \"jan\", \"feb\", \"jun\",\"jul\",\"ago\", \"sept\", \"oct\", \"nov\", \"dic\"])\n",
    "\n",
    "#set panel structure\n",
    "Xc = Xc.set_index([\"inid\",\"wave\"])\n",
    "# Xc.describe()"
   ]
  },
  {
   "cell_type": "markdown",
   "metadata": {
    "id": "nXvIEiN_QUgN"
   },
   "source": [
    "# Pregunta 2\n",
    "\n",
    "Ejecute un modelo Pooled OLS para explicar el puntaje en la escala de salud mental (CESD). Seleccione las variables dependientes a incluir en el modelo final e interprete su significado.\n",
    "\n",
    "* Consideraciones previas:  Se propone que las variable hrsusu y retired no pueden coexistir, debido a que si  los individuos  estan retirados la variable retired tomará valor 1  y hara que la variable hrsusu tambien tome el valor 0 ya que indica la cantidad de horas trabajadas a la semana, habiendo una alta correlación, se puede apreciar mejor en el anexo 2, que indica su alta correlacion, por lo que se decide eliminar la variable retired. Lo mismo pasa con la variable age y child que tienen una alta correlación, donde se elige omitir age"
   ]
  },
  {
   "cell_type": "code",
   "execution_count": null,
   "metadata": {
    "colab": {
     "base_uri": "https://localhost:8080/"
    },
    "id": "8kHWZvD7e9ni",
    "outputId": "5f3d6592-2936-4f33-a165-922e0a411ba8"
   },
   "outputs": [
    {
     "name": "stdout",
     "output_type": "stream",
     "text": [
      "                          PooledOLS Estimation Summary                          \n",
      "================================================================================\n",
      "Dep. Variable:                   cesd   R-squared:                        0.0616\n",
      "Estimator:                  PooledOLS   R-squared (Between):              0.0929\n",
      "No. Observations:               10035   R-squared (Within):              -0.0003\n",
      "Date:                Mon, Oct 03 2022   R-squared (Overall):              0.0616\n",
      "Time:                        02:45:04   Log-likelihood                -3.237e+04\n",
      "Cov. Estimator:                Robust                                           \n",
      "                                        F-statistic:                      82.276\n",
      "Entities:                        3345   P-value                           0.0000\n",
      "Avg Obs:                       3.0000   Distribution:                 F(8,10026)\n",
      "Min Obs:                       3.0000                                           \n",
      "Max Obs:                       3.0000   F-statistic (robust):             77.831\n",
      "                                        P-value                           0.0000\n",
      "Time periods:                       3   Distribution:                 F(8,10026)\n",
      "Avg Obs:                       3345.0                                           \n",
      "Min Obs:                       3345.0                                           \n",
      "Max Obs:                       3345.0                                           \n",
      "                                                                                \n",
      "                             Parameter Estimates                              \n",
      "==============================================================================\n",
      "            Parameter  Std. Err.     T-stat    P-value    Lower CI    Upper CI\n",
      "------------------------------------------------------------------------------\n",
      "const          9.5485     0.2781     34.330     0.0000      9.0033      10.094\n",
      "drinkly       -0.0635     0.1431    -0.4438     0.6572     -0.3441      0.2170\n",
      "married       -1.5940     0.1956    -8.1481     0.0000     -1.9775     -1.2105\n",
      "urban         -2.0081     0.1289    -15.581     0.0000     -2.2607     -1.7554\n",
      "female         1.9443     0.1358     14.319     0.0000      1.6781      2.2104\n",
      "child          0.1590     0.0441     3.6066     0.0003      0.0726      0.2455\n",
      "hrsusu         0.0028     0.0023     1.1881     0.2348     -0.0018      0.0074\n",
      "hsize         -0.0560     0.0342    -1.6366     0.1018     -0.1230      0.0111\n",
      "wealth     -2.757e-06  2.181e-06    -1.2644     0.2061  -7.032e-06   1.517e-06\n",
      "==============================================================================\n"
     ]
    }
   ],
   "source": [
    "y=Xc['cesd']\n",
    "X=Xc[['drinkly', 'married', 'urban', 'female', 'child', \n",
    "      'hrsusu', 'hsize', 'wealth']]\n",
    "\n",
    "X=sm.add_constant(X)\n",
    "\n",
    "model=lmp.PooledOLS(y,X)\n",
    "OLS=model.fit(cov_type=\"robust\")\n",
    "print(OLS)"
   ]
  },
  {
   "cell_type": "markdown",
   "metadata": {
    "id": "dgpxF8Sv1Sos"
   },
   "source": [
    "\n",
    "# Interpretación\n",
    "\n",
    "Dada la significancia de las variables se estima que la constante es significativa por lo que se podría representar una tendencia al aumento en la escala de salud mental, las demas variables que son significativas son \"married\" y \"urban\", lo que implica que el estar casado y vivir en zona urbana que disminuye en la escala de salud mental. Mientras que las variables \"female\" y \"child\", el ser mujer indica aumento en la escala de salud mental y el numero de hijos, a mayor cantidad mayor puntacion en la escala de la salud mental. "
   ]
  },
  {
   "cell_type": "markdown",
   "metadata": {
    "id": "UJBdUzCriNus"
   },
   "source": [
    "# Pregunta 3:\n",
    "Ejecute un modelo de efectos fijos para explicar el puntaje en la escala de salud mental (CESD).  Seleccione las variables dependientes a incluir en el modelo final e interprete su significado. \n",
    "\n",
    "Asumiendo cov(μᵢ,Xᵢₜ) != 0\n"
   ]
  },
  {
   "cell_type": "code",
   "execution_count": null,
   "metadata": {
    "colab": {
     "base_uri": "https://localhost:8080/"
    },
    "id": "r9Fodqa6iJII",
    "outputId": "f5c5cdd7-4a48-4b22-afe8-04b07912a573"
   },
   "outputs": [
    {
     "name": "stdout",
     "output_type": "stream",
     "text": [
      "                          PanelOLS Estimation Summary                           \n",
      "================================================================================\n",
      "Dep. Variable:                   cesd   R-squared:                        0.0034\n",
      "Estimator:                   PanelOLS   R-squared (Between):              0.0142\n",
      "No. Observations:               10035   R-squared (Within):               0.0034\n",
      "Date:                Mon, Oct 03 2022   R-squared (Overall):              0.0106\n",
      "Time:                        02:48:23   Log-likelihood                 -2.72e+04\n",
      "Cov. Estimator:                Robust                                           \n",
      "                                        F-statistic:                      3.8510\n",
      "Entities:                        3345   P-value                           0.0008\n",
      "Avg Obs:                       3.0000   Distribution:                  F(6,6684)\n",
      "Min Obs:                       3.0000                                           \n",
      "Max Obs:                       3.0000   F-statistic (robust):             3.2589\n",
      "                                        P-value                           0.0034\n",
      "Time periods:                       3   Distribution:                  F(6,6684)\n",
      "Avg Obs:                       3345.0                                           \n",
      "Min Obs:                       3345.0                                           \n",
      "Max Obs:                       3345.0                                           \n",
      "                                                                                \n",
      "                             Parameter Estimates                              \n",
      "==============================================================================\n",
      "            Parameter  Std. Err.     T-stat    P-value    Lower CI    Upper CI\n",
      "------------------------------------------------------------------------------\n",
      "const          9.9426     0.5373     18.504     0.0000      8.8893      10.996\n",
      "drinkly        0.2079     0.1886     1.1028     0.2702     -0.1617      0.5776\n",
      "married       -1.2113     0.5051    -2.3980     0.0165     -2.2016     -0.2211\n",
      "child          0.1533     0.0960     1.5972     0.1103     -0.0349      0.3415\n",
      "hrsusu        -0.0026     0.0026    -0.9864     0.3240     -0.0077      0.0026\n",
      "hsize         -0.1235     0.0440    -2.8080     0.0050     -0.2098     -0.0373\n",
      "wealth     -5.037e-07  8.412e-07    -0.5988     0.5493  -2.153e-06   1.145e-06\n",
      "==============================================================================\n",
      "\n",
      "F-test for Poolability: 3.8462\n",
      "P-value: 0.0000\n",
      "Distribution: F(3344,6684)\n",
      "\n",
      "Included effects: Entity\n"
     ]
    }
   ],
   "source": [
    "y=Xc['cesd']\n",
    "X=Xc[['drinkly', 'married', 'child', \n",
    "      'hrsusu', 'hsize', 'wealth']]\n",
    "\n",
    "X=sm.add_constant(X)\n",
    "\n",
    "model=lmp.PanelOLS(y,X, entity_effects=True)\n",
    "fe=model.fit(cov_type=\"robust\")\n",
    "print(fe)"
   ]
  },
  {
   "cell_type": "markdown",
   "metadata": {
    "id": "EG51H9h78M_Y"
   },
   "source": [
    "## Inclusión de variables: \n",
    "\n",
    "Se utilizaron las mismas variables propuestas para la resolución en OLS, con la singularidad de que en esta ocasión se eliminaron las variable urban y female, debido a que estas eran absorvidas completamente por los efectos incluidos.\n",
    "\n",
    "## Interpretación\n",
    "\n",
    "Dada la significancia de las variables se estima que el estar casado/a y el tamaño del hogar tienen un impacto en la salud mental de los encuestados con un 95% de confianza, los cuales tienen un impacto negativo para la métrica. Recordar que un impacto negativo para la métrica implica una disminución en los sintomas depresivos (y la gravedad de estos).\n",
    "Distinto es el caso de la constante, ya que si las demas variables se mantienen constantes, existe una tendencia al aumento en la metrica y por lo tanto aumento en sintomas depresivos.\n",
    "\n"
   ]
  },
  {
   "cell_type": "markdown",
   "metadata": {
    "id": "-HRbxnMhjNju"
   },
   "source": [
    "# Pregunta 4\n",
    "\n",
    "Ejecute un modelo de efectos aleatorios para explicar el puntaje en la escala de salud mental (CESD). Seleccione las variables dependientes a incluir en el modelo final e interprete su significado. \n",
    "\n",
    "Asumiendo cov(μᵢ,Xᵢₜ) = 0"
   ]
  },
  {
   "cell_type": "code",
   "execution_count": null,
   "metadata": {
    "colab": {
     "base_uri": "https://localhost:8080/"
    },
    "id": "M2TUCNv0u0Nk",
    "outputId": "b1f25f78-c12b-4dcc-fba9-2a329c61d33e"
   },
   "outputs": [
    {
     "name": "stdout",
     "output_type": "stream",
     "text": [
      "                        RandomEffects Estimation Summary                        \n",
      "================================================================================\n",
      "Dep. Variable:                   cesd   R-squared:                        0.0337\n",
      "Estimator:              RandomEffects   R-squared (Between):              0.0902\n",
      "No. Observations:               10035   R-squared (Within):               0.0027\n",
      "Date:                Mon, Oct 03 2022   R-squared (Overall):              0.0608\n",
      "Time:                        02:45:16   Log-likelihood                -2.924e+04\n",
      "Cov. Estimator:                Robust                                           \n",
      "                                        F-statistic:                      43.765\n",
      "Entities:                        3345   P-value                           0.0000\n",
      "Avg Obs:                       3.0000   Distribution:                 F(8,10026)\n",
      "Min Obs:                       3.0000                                           \n",
      "Max Obs:                       3.0000   F-statistic (robust):             42.582\n",
      "                                        P-value                           0.0000\n",
      "Time periods:                       3   Distribution:                 F(8,10026)\n",
      "Avg Obs:                       3345.0                                           \n",
      "Min Obs:                       3345.0                                           \n",
      "Max Obs:                       3345.0                                           \n",
      "                                                                                \n",
      "                             Parameter Estimates                              \n",
      "==============================================================================\n",
      "            Parameter  Std. Err.     T-stat    P-value    Lower CI    Upper CI\n",
      "------------------------------------------------------------------------------\n",
      "const          9.5882     0.3382     28.353     0.0000      8.9253      10.251\n",
      "drinkly        0.0628     0.1503     0.4178     0.6761     -0.2319      0.3575\n",
      "married       -1.4898     0.2424    -6.1449     0.0000     -1.9650     -1.0145\n",
      "urban         -2.0460     0.1772    -11.544     0.0000     -2.3934     -1.6986\n",
      "female         1.9895     0.1815     10.964     0.0000      1.6338      2.3452\n",
      "child          0.1585     0.0540     2.9334     0.0034      0.0526      0.2643\n",
      "hrsusu     -7.508e-05     0.0022    -0.0336     0.9732     -0.0045      0.0043\n",
      "hsize         -0.0875     0.0347    -2.5181     0.0118     -0.1555     -0.0194\n",
      "wealth     -1.381e-06  1.127e-06    -1.2261     0.2202   -3.59e-06   8.271e-07\n",
      "==============================================================================\n"
     ]
    }
   ],
   "source": [
    "y=Xc['cesd']\n",
    "X=Xc[['drinkly', 'married', 'urban', 'female', 'child', \n",
    "      'hrsusu', 'hsize', 'wealth']]\n",
    "\n",
    "X=sm.add_constant(X)\n",
    "\n",
    "model=lmp.RandomEffects(y,X)\n",
    "re=model.fit(cov_type=\"robust\")\n",
    "print(re)"
   ]
  },
  {
   "cell_type": "markdown",
   "metadata": {
    "id": "LBLgtT7pnYMf"
   },
   "source": [
    "## Inclusión de variables: \n",
    "\n",
    "Se utilizaron las mismas variables propuestas para la resolución en Pooled OLS.\n",
    "\n",
    "## Interpretación\n",
    "\n",
    "Dada la significancia de las variables se estima que el estar casado/a (-), el tamaño del hogar (-), que este tenga una ubicación urbana (-), ser mujer (+) y el numero de hijos (+) tienen un impacto en la salud mental de los encuestados con un 95% de confianza. En donde el impacto que tienen estos en el puntaje esperado para el CESD fue descrito en parentesis, cabe recalcar que un mayor CESD implica mayores numero y gravedad de sintomas depresivos.\n",
    "Para la constante ocurren los mismo efectos que en el modelo de efectos fijos, en este caso la constante(+) toma un valor un poco mas alta. "
   ]
  },
  {
   "cell_type": "markdown",
   "metadata": {
    "id": "IxH73JkRvVaq"
   },
   "source": [
    "# Pregunta 5\n",
    "\n",
    "Comente los resultados obtenidos en 2, 3 y 4. ¿Cuáles y por qué existen las diferencias entre los resultados?. En su opinión, ¿Cuál sería el más adecuado para responder la pregunta de investgación y por qué? ¿Qué variables resultaron ser robustas a la especificación?\n",
    "\n"
   ]
  },
  {
   "cell_type": "code",
   "execution_count": null,
   "metadata": {
    "colab": {
     "base_uri": "https://localhost:8080/"
    },
    "id": "YO2YWPcisVBu",
    "outputId": "519ff98a-45e3-47d7-8de2-066f521f9a95"
   },
   "outputs": [
    {
     "name": "stdout",
     "output_type": "stream",
     "text": [
      "                            Model Comparison                           \n",
      "=======================================================================\n",
      "                                    FE                RE         Pooled\n",
      "-----------------------------------------------------------------------\n",
      "Dep. Variable                     cesd              cesd           cesd\n",
      "Estimator                     PanelOLS     RandomEffects      PooledOLS\n",
      "No. Observations                 10035             10035          10035\n",
      "Cov. Est.                       Robust            Robust         Robust\n",
      "R-squared                       0.0034            0.0337         0.0616\n",
      "R-Squared (Within)              0.0034            0.0027        -0.0003\n",
      "R-Squared (Between)             0.0142            0.0902         0.0929\n",
      "R-Squared (Overall)             0.0106            0.0608         0.0616\n",
      "F-statistic                     3.8510            43.765         82.276\n",
      "P-value (F-stat)                0.0008            0.0000         0.0000\n",
      "=====================     ============   ===============   ============\n",
      "const                        9.9426***         9.5882***      9.5485***\n",
      "                              (18.504)          (28.353)       (34.330)\n",
      "drinkly                         0.2079            0.0628        -0.0635\n",
      "                              (1.1028)          (0.4178)      (-0.4438)\n",
      "married                      -1.2113**        -1.4898***     -1.5940***\n",
      "                             (-2.3980)         (-6.1449)      (-8.1481)\n",
      "child                           0.1533         0.1585***      0.1590***\n",
      "                              (1.5972)          (2.9334)       (3.6066)\n",
      "hrsusu                         -0.0026        -7.508e-05         0.0028\n",
      "                             (-0.9864)         (-0.0336)       (1.1881)\n",
      "hsize                       -0.1235***         -0.0875**        -0.0560\n",
      "                             (-2.8080)         (-2.5181)      (-1.6366)\n",
      "wealth                      -5.037e-07        -1.381e-06     -2.757e-06\n",
      "                             (-0.5988)         (-1.2261)      (-1.2644)\n",
      "urban                                         -2.0460***     -2.0081***\n",
      "                                               (-11.544)      (-15.581)\n",
      "female                                         1.9895***      1.9443***\n",
      "                                                (10.964)       (14.319)\n",
      "======================= ============== ================= ==============\n",
      "Effects                         Entity                                 \n",
      "-----------------------------------------------------------------------\n",
      "\n",
      "T-stats reported in parentheses\n"
     ]
    }
   ],
   "source": [
    "print(lmp.compare({\"FE\": fe, \"RE\": re,  \"Pooled\": OLS}, stars = True))"
   ]
  },
  {
   "cell_type": "markdown",
   "metadata": {
    "id": "w6wKw0daz-If"
   },
   "source": [
    "## Comentarios\n",
    "Algunas diferencias que se pueden observar son que, por un lado el modelo de efectos fijos permite un menor número de variables, dado que \"urban\" y \"female\" generan conflictos en dicho modelo al ser estas fijas para cada individuo. Esto se debe además a la forma en que cada uno está formulado, el FE resta la media de cada individuo a los datos de este, por lo que elimina variables fijas, el Pooled OLS en cambio resuelve directamente los minimos cuadrados pero agregando variables dummy para cada periodo, con lo que se estima una especie de efecto promedio, mientras que el RE si bien aplica una transformación a las variables, no pierde la capacidad de trabajar variables fijas en el tiempo, como lo hace el FE.\n",
    "\n",
    "El más adecuado para responder la pregunta de investigación puede ser el Fixed Effects , tal como indica el test de hausman. lo que sugiere que no se está cumpliendo el supuesto del random efects. Cabe destacat que para realizar el test se tienen que eliminar algunas variables de la especificaicón del modelo Random Effects, las cuales además son significativas en este, por lo que puede que este modelo aporte información nueva que de todas formas sea relevante.\n",
    "\n",
    "Existe un concenso entre los 3 modelos en que el estar casado genera una reducción en los sintomas depresivos de los encuestados. Además para los Pooled OLS y  Random Effects el vivir en una zona urbana, el numero de hijos y ser mujer también tienen impactos significativos.\n",
    "\n",
    "Adicionalmente, se trató de modelar que pasaba con el mes en que se tomaron las muestras, como se muestra en el anexo 4, sin embargo no se tomó en cuenta para los modelos finales esta especificación debido a que se producían muchas diferencias entre los modelos, además de existir una disparidad en la cantdiad de encuestados por mes"
   ]
  },
  {
   "cell_type": "code",
   "execution_count": null,
   "metadata": {
    "colab": {
     "base_uri": "https://localhost:8080/"
    },
    "id": "dD3sta28yyWD",
    "outputId": "13d69aed-3473-46f5-d7be-1d0aa2c75c84"
   },
   "outputs": [
    {
     "name": "stderr",
     "output_type": "stream",
     "text": [
      "/usr/local/lib/python3.7/dist-packages/statsmodels/tsa/tsatools.py:142: FutureWarning: In a future version of pandas all arguments of concat except for the argument 'objs' will be keyword-only\n",
      "  x = pd.concat(x[::order], 1)\n"
     ]
    },
    {
     "name": "stdout",
     "output_type": "stream",
     "text": [
      "Hausman Test: chi-2 = 37.385122013511406, df = 6, p-value = 1.4812104449515861e-06\n"
     ]
    }
   ],
   "source": [
    "import numpy.linalg as la\n",
    "from scipy import stats\n",
    "\n",
    "y=Xc['cesd']\n",
    "X=Xc[['drinkly', 'married', 'child', \n",
    "      'hrsusu', 'hsize', 'wealth']]\n",
    "\n",
    "X=sm.add_constant(X)\n",
    "\n",
    "model=lmp.RandomEffects(y,X)\n",
    "re_aux=model.fit(cov_type=\"robust\")\n",
    "\n",
    "def hausman(fe, re):\n",
    "    diff = fe.params-re.params\n",
    "    psi = fe.cov - re.cov\n",
    "    dof = diff.size -1\n",
    "    W = diff.dot(la.inv(psi)).dot(diff)\n",
    "    pval = stats.chi2.sf(W, dof)\n",
    "    return W, dof, pval\n",
    "\n",
    "htest = hausman(fe, re_aux) \n",
    "print(\"Hausman Test: chi-2 = {0}, df = {1}, p-value = {2}\".format(htest[0], htest[1], htest[2]))"
   ]
  },
  {
   "cell_type": "markdown",
   "metadata": {
    "id": "KgmrFLVFvZpL"
   },
   "source": [
    "# Pregunta 6\n",
    "\n",
    "Ejecute un modelo de efectos aleatorios correlacionados (CRE) para explicar el puntaje en la escala de salud mental (CESD). Seleccione las variables dependientes a incluir en el modelo final e interprete su significado. Es este modelo adecuado, dada la data disponible, para modelar el componente no observado?\n",
    "\n"
   ]
  },
  {
   "cell_type": "code",
   "execution_count": null,
   "metadata": {
    "colab": {
     "base_uri": "https://localhost:8080/"
    },
    "id": "4dhqvCKvvjAl",
    "outputId": "f0e66b5a-ebec-4baa-8f48-dc659a0e403d"
   },
   "outputs": [
    {
     "name": "stdout",
     "output_type": "stream",
     "text": [
      "                        RandomEffects Estimation Summary                        \n",
      "================================================================================\n",
      "Dep. Variable:                   cesd   R-squared:                        0.0343\n",
      "Estimator:              RandomEffects   R-squared (Between):              0.0901\n",
      "No. Observations:               10035   R-squared (Within):               0.0035\n",
      "Date:                Mon, Oct 03 2022   R-squared (Overall):              0.0610\n",
      "Time:                        03:31:27   Log-likelihood                -2.924e+04\n",
      "Cov. Estimator:                Robust                                           \n",
      "                                        F-statistic:                      29.625\n",
      "Entities:                        3345   P-value                           0.0000\n",
      "Avg Obs:                       3.0000   Distribution:                F(12,10022)\n",
      "Min Obs:                       3.0000                                           \n",
      "Max Obs:                       3.0000   F-statistic (robust):             28.909\n",
      "                                        P-value                           0.0000\n",
      "Time periods:                       3   Distribution:                F(12,10022)\n",
      "Avg Obs:                       3345.0                                           \n",
      "Min Obs:                       3345.0                                           \n",
      "Max Obs:                       3345.0                                           \n",
      "                                                                                \n",
      "                             Parameter Estimates                              \n",
      "==============================================================================\n",
      "            Parameter  Std. Err.     T-stat    P-value    Lower CI    Upper CI\n",
      "------------------------------------------------------------------------------\n",
      "const          9.5479     0.3464     27.563     0.0000      8.8689      10.227\n",
      "drinkly        0.0595     0.1504     0.3958     0.6922     -0.2353      0.3543\n",
      "married       -1.4977     0.2424    -6.1793     0.0000     -1.9728     -1.0226\n",
      "urban         -2.0461     0.1779    -11.502     0.0000     -2.3948     -1.6974\n",
      "female         1.9894     0.1814     10.968     0.0000      1.6339      2.3450\n",
      "child          0.1570     0.0540     2.9059     0.0037      0.0511      0.2628\n",
      "hrsusu      3.377e-05     0.0022     0.0151     0.9879     -0.0043      0.0044\n",
      "hsize         -0.0816     0.0350    -2.3297     0.0198     -0.1503     -0.0129\n",
      "wealth     -1.393e-06  1.133e-06    -1.2297     0.2188  -3.613e-06   8.274e-07\n",
      "mchild        -0.9394     0.6385    -1.4712     0.1413     -2.1911      0.3122\n",
      "mhrsusu       -1.2091     0.6943    -1.7416     0.0816     -2.5701      0.1518\n",
      "mhsize        -0.1889     0.7443    -0.2538     0.7996     -1.6479      1.2700\n",
      "mwealth        0.0792     0.1095     0.7235     0.4694     -0.1354      0.2939\n",
      "==============================================================================\n"
     ]
    }
   ],
   "source": [
    "y=Xc['cesd']\n",
    "X=Xc[['drinkly', 'married', 'urban', 'female', 'child', \n",
    "      'hrsusu', 'hsize', 'wealth','mchild', 'mhrsusu', 'mhsize', 'mwealth']]\n",
    "\n",
    "X=sm.add_constant(X)\n",
    "\n",
    "model=lmp.RandomEffects(y,X)\n",
    "cre=model.fit(cov_type=\"robust\")\n",
    "print(cre)"
   ]
  },
  {
   "cell_type": "markdown",
   "metadata": {
    "id": "KGIgM2Rd5nPV"
   },
   "source": [
    "##Inclusión de variables:\n",
    "Se utilizaron las mismas variables propuestas para la resolución en Pooled OLS, agregando la media individual para \"child\", \"hrsusu\", \"hsize\" y \"wealth\" a fin de estimar la correlación entre el factor heterogeneo no observado.\n",
    "\n",
    "##Interpretación\n",
    "Al igual que en el modelo random effects se ecnuentra que estar casado/a (-), el tamaño del hogar (-), que este tenga una ubicación urbana (-), ser mujer (+) y el numero de hijos (+) tienen un impacto en la salud mental de los encuestados con un 95% de confianza. En donde el impacto que tienen estos en el puntaje esperado para el CESD fue descrito en parentesis, cabe recalcar que un mayor CESD implica mayores numero y gravedad de sintomas depresivos.\n",
    "\n",
    "Además se encuentra que mhrsusu tiene una correlación significativa en un 90% con el factor heterogeneo no observado"
   ]
  },
  {
   "cell_type": "markdown",
   "metadata": {
    "id": "3jYt9FW7vvIV"
   },
   "source": [
    "# Pregunta 7\n",
    "\n",
    "Usando el modelo CRE, prediga la distribucion del componente no observado. Que puede inferir respecto de la heterogeneidad fija en el tiempo y su impacto en el puntaje CESD?"
   ]
  },
  {
   "cell_type": "markdown",
   "metadata": {
    "id": "5WMaoMZk82fp"
   },
   "source": [
    "Tomando en cuenta que:\n",
    "\n",
    "yᵢₜ = Xᵢₜβ + \\[ψ + Xₘκ\\] + Uᵢₜ \n",
    "\n",
    "Y con la estimación realizada anteriormente, se identifica que la heterogeneidad fija en el tiempo existe y tiene una correlación significativa (90%) con las horas de trabajo de los encuestados"
   ]
  },
  {
   "cell_type": "markdown",
   "metadata": {
    "id": "Vpktu2otwBgw"
   },
   "source": [
    "# Pregunta 8\n",
    "\n",
    "Usando sus respuestas anteriores, que modelo prefiere? que se puede inferir en general respecto del efecto de las variables explicativas sobre el puntaje CESD?"
   ]
  },
  {
   "cell_type": "markdown",
   "metadata": {
    "id": "JPHzOe8WDb-Y"
   },
   "source": [
    "Preferimos el modelo de efectos aleatorios correlacionados, ya que este busca modelar la correlación con la heterogeneidad no observada, la cual es distinta de cero, como se mostró en pasos anteriores con e test de hausman; sin dejar de lado las variables fijas como lo habría hecho un modelo de efectos fijos."
   ]
  },
  {
   "cell_type": "code",
   "execution_count": null,
   "metadata": {
    "colab": {
     "base_uri": "https://localhost:8080/"
    },
    "id": "vwRojKouybPj",
    "outputId": "fddb9723-d60b-441c-b12d-46e1b6e72d64"
   },
   "outputs": [
    {
     "name": "stdout",
     "output_type": "stream",
     "text": [
      "                                     Model Comparison                                    \n",
      "=========================================================================================\n",
      "                                    FE                RE               cre         Pooled\n",
      "-----------------------------------------------------------------------------------------\n",
      "Dep. Variable                     cesd              cesd              cesd           cesd\n",
      "Estimator                     PanelOLS     RandomEffects     RandomEffects      PooledOLS\n",
      "No. Observations                 10035             10035             10035          10035\n",
      "Cov. Est.                       Robust            Robust            Robust         Robust\n",
      "R-squared                       0.0034            0.0337            0.0343         0.0616\n",
      "R-Squared (Within)              0.0034            0.0027            0.0035        -0.0003\n",
      "R-Squared (Between)             0.0142            0.0902            0.0901         0.0929\n",
      "R-Squared (Overall)             0.0106            0.0608            0.0610         0.0616\n",
      "F-statistic                     3.8510            43.765            29.625         82.276\n",
      "P-value (F-stat)                0.0008            0.0000            0.0000         0.0000\n",
      "=====================     ============   ===============   ===============   ============\n",
      "const                        9.9426***         9.5882***         9.5479***      9.5485***\n",
      "                              (18.504)          (28.353)          (27.563)       (34.330)\n",
      "drinkly                         0.2079            0.0628            0.0595        -0.0635\n",
      "                              (1.1028)          (0.4178)          (0.3958)      (-0.4438)\n",
      "married                      -1.2113**        -1.4898***        -1.4977***     -1.5940***\n",
      "                             (-2.3980)         (-6.1449)         (-6.1793)      (-8.1481)\n",
      "child                           0.1533         0.1585***         0.1570***      0.1590***\n",
      "                              (1.5972)          (2.9334)          (2.9059)       (3.6066)\n",
      "hrsusu                         -0.0026        -7.508e-05         3.377e-05         0.0028\n",
      "                             (-0.9864)         (-0.0336)          (0.0151)       (1.1881)\n",
      "hsize                       -0.1235***         -0.0875**         -0.0816**        -0.0560\n",
      "                             (-2.8080)         (-2.5181)         (-2.3297)      (-1.6366)\n",
      "wealth                      -5.037e-07        -1.381e-06        -1.393e-06     -2.757e-06\n",
      "                             (-0.5988)         (-1.2261)         (-1.2297)      (-1.2644)\n",
      "urban                                         -2.0460***        -2.0461***     -2.0081***\n",
      "                                               (-11.544)         (-11.502)      (-15.581)\n",
      "female                                         1.9895***         1.9894***      1.9443***\n",
      "                                                (10.964)          (10.968)       (14.319)\n",
      "mchild                                                             -0.9394               \n",
      "                                                                 (-1.4712)               \n",
      "mhrsusu                                                           -1.2091*               \n",
      "                                                                 (-1.7416)               \n",
      "mhsize                                                             -0.1889               \n",
      "                                                                 (-0.2538)               \n",
      "mwealth                                                             0.0792               \n",
      "                                                                  (0.7235)               \n",
      "======================= ============== ================= ================= ==============\n",
      "Effects                         Entity                                                   \n",
      "-----------------------------------------------------------------------------------------\n",
      "\n",
      "T-stats reported in parentheses\n"
     ]
    }
   ],
   "source": [
    "print(lmp.compare({\"FE\": fe, \"RE\": re, \"cre\": cre, \"Pooled\": OLS}, stars = True))"
   ]
  },
  {
   "cell_type": "markdown",
   "metadata": {
    "id": "vYgQc8xYEbQc"
   },
   "source": [
    "# Anexos"
   ]
  },
  {
   "cell_type": "markdown",
   "metadata": {
    "id": "gGWb2t1RRdYZ"
   },
   "source": [
    "## Anexo 1: Variable intmonth"
   ]
  },
  {
   "cell_type": "code",
   "execution_count": null,
   "metadata": {
    "colab": {
     "base_uri": "https://localhost:8080/",
     "height": 487
    },
    "id": "N97bxYPBEcIN",
    "outputId": "8b4eb16c-e818-48f4-d955-898926fa25fa"
   },
   "outputs": [
    {
     "data": {
      "text/plain": [
       "intmonth\n",
       "7     18414\n",
       "8     13424\n",
       "9      1013\n",
       "10      479\n",
       "11      366\n",
       "6       298\n",
       "12      195\n",
       "1       105\n",
       "2        54\n",
       "3        23\n",
       "dtype: int64"
      ]
     },
     "execution_count": 6,
     "metadata": {},
     "output_type": "execute_result"
    },
    {
     "data": {
      "image/png": "[encoded data removed]",
      "text/plain": [
       "<Figure size 432x288 with 1 Axes>"
      ]
     },
     "metadata": {
      "needs_background": "light"
     },
     "output_type": "display_data"
    }
   ],
   "source": [
    "sns.histplot(charls, x = \"intmonth\", discrete=True)\n",
    "charls.value_counts(\"intmonth\")"
   ]
  },
  {
   "cell_type": "markdown",
   "metadata": {
    "id": "DQ7w2Ej3Rhjx"
   },
   "source": [
    "# Anexo 2: Correlación entre variables\n",
    "\n",
    "Se encuentra una correlación relevante entre retired-hsusu y entre child-age"
   ]
  },
  {
   "cell_type": "code",
   "execution_count": null,
   "metadata": {
    "colab": {
     "base_uri": "https://localhost:8080/",
     "height": 757
    },
    "id": "2ijPSCmRPpWw",
    "outputId": "0ce3eb74-bf7d-4d8e-dd02-7d2f1c5763fb"
   },
   "outputs": [
    {
     "data": {
      "text/plain": [
       "<matplotlib.axes._subplots.AxesSubplot at 0x7fb1f3e0afd0>"
      ]
     },
     "execution_count": 7,
     "metadata": {},
     "output_type": "execute_result"
    },
    {
     "data": {
      "image/png": "[encoded data removed]",
      "text/plain": [
       "<Figure size 864x864 with 2 Axes>"
      ]
     },
     "metadata": {
      "needs_background": "light"
     },
     "output_type": "display_data"
    }
   ],
   "source": [
    "f, ax = plt.subplots(figsize = (12,12))\n",
    "sns.heatmap(charls.corr(), annot=True)"
   ]
  },
  {
   "cell_type": "markdown",
   "metadata": {
    "id": "qTpvgoZcSFyF"
   },
   "source": [
    "# Anexo 3: inid que se repiten más de 3 veces"
   ]
  },
  {
   "cell_type": "code",
   "execution_count": null,
   "metadata": {
    "colab": {
     "base_uri": "https://localhost:8080/"
    },
    "id": "ADsTh2lXUlC1",
    "outputId": "a0eb55de-e36f-4c82-c31e-3cce162154c0"
   },
   "outputs": [
    {
     "data": {
      "text/plain": [
       "inid\n",
       "296331000000    468\n",
       "108259000000    396\n",
       "270402000000    393\n",
       "298245000000    378\n",
       "244604000000    369\n",
       "               ... \n",
       "46746323001       3\n",
       "46746324001       3\n",
       "46746324002       3\n",
       "46746325001       3\n",
       "56346116002       3\n",
       "Length: 3459, dtype: int64"
      ]
     },
     "execution_count": 8,
     "metadata": {},
     "output_type": "execute_result"
    }
   ],
   "source": [
    "charls.value_counts(\"inid\")"
   ]
  },
  {
   "cell_type": "code",
   "execution_count": null,
   "metadata": {
    "colab": {
     "base_uri": "https://localhost:8080/"
    },
    "id": "lxEWXsLdSQ4h",
    "outputId": "68db79f9-fc47-468b-9900-3d6973df4835"
   },
   "outputs": [
    {
     "data": {
      "text/plain": [
       "107     60440220002\n",
       "108     60440214001\n",
       "109     60440207001\n",
       "110     60440207002\n",
       "111     60440209001\n",
       "           ...     \n",
       "3454    46746323001\n",
       "3455    46746324001\n",
       "3456    46746324002\n",
       "3457    46746325001\n",
       "3458    56346116002\n",
       "Name: inid, Length: 3352, dtype: int64"
      ]
     },
     "execution_count": 9,
     "metadata": {},
     "output_type": "execute_result"
    }
   ],
   "source": [
    "aux = charls.value_counts(\"inid\").to_frame().reset_index()\n",
    "aux.columns = [\"inid\", \"counts\"]\n",
    "inids = aux[aux.counts < 4][\"inid\"]\n",
    "inids"
   ]
  },
  {
   "cell_type": "markdown",
   "metadata": {
    "id": "AwZXrGd-t69V"
   },
   "source": [
    "## Anexo 4: Modelos incluyendo los meses"
   ]
  },
  {
   "cell_type": "code",
   "execution_count": null,
   "metadata": {
    "colab": {
     "base_uri": "https://localhost:8080/"
    },
    "id": "ou_0Os65X0po",
    "outputId": "a7a83a90-6d4a-48c6-a3ec-92b8853b2e6f"
   },
   "outputs": [
    {
     "name": "stdout",
     "output_type": "stream",
     "text": [
      "                            Model Comparison                           \n",
      "=======================================================================\n",
      "                                Pooled             FE                RE\n",
      "-----------------------------------------------------------------------\n",
      "Dep. Variable                     cesd           cesd              cesd\n",
      "Estimator                    PooledOLS       PanelOLS     RandomEffects\n",
      "No. Observations                 10035          10035             10035\n",
      "Cov. Est.                       Robust         Robust            Robust\n",
      "R-squared                       0.0653         0.0074            0.0370\n",
      "R-Squared (Within)             -0.0002         0.0074            0.0061\n",
      "R-Squared (Between)             0.0984         0.0126            0.0928\n",
      "R-Squared (Overall)             0.0653         0.0109            0.0637\n",
      "F-statistic                     43.743         3.5781            24.035\n",
      "P-value (F-stat)                0.0000         0.0000            0.0000\n",
      "=====================     ============   ============   ===============\n",
      "const                        9.5402***      10.030***         9.6289***\n",
      "                              (33.931)       (18.549)          (28.349)\n",
      "drinkly                        -0.0577         0.2357            0.0762\n",
      "                             (-0.4032)       (1.2477)          (0.5073)\n",
      "married                     -1.5850***      -1.2060**        -1.4929***\n",
      "                             (-8.0824)      (-2.3817)         (-6.1642)\n",
      "urban                       -2.1246***                       -2.1087***\n",
      "                             (-16.213)                        (-11.840)\n",
      "female                       1.9489***                        1.9974***\n",
      "                              (14.367)                         (11.030)\n",
      "child                        0.1543***         0.1390         0.1568***\n",
      "                              (3.4962)       (1.4423)          (2.9062)\n",
      "hrsusu                          0.0028        -0.0025           -0.0001\n",
      "                              (1.1757)      (-0.9608)         (-0.0456)\n",
      "hsize                         -0.0606*      -0.1108**         -0.0825**\n",
      "                             (-1.7540)      (-2.4907)         (-2.3538)\n",
      "wealth                      -2.711e-06     -5.041e-07        -1.393e-06\n",
      "                             (-1.2518)      (-0.5980)         (-1.2264)\n",
      "jan                          -1.5264**        -0.7575           -1.0003\n",
      "                             (-2.0475)      (-1.0440)         (-1.5591)\n",
      "feb                            -0.7181      -1.6754**          -1.2756*\n",
      "                             (-0.9240)      (-1.9910)         (-1.8315)\n",
      "jun                            -0.8855         0.1980           -0.2701\n",
      "                             (-1.0126)       (0.2688)         (-0.3651)\n",
      "ago                             0.1363        -0.1850           -0.0502\n",
      "                              (1.0446)      (-1.4286)         (-0.4321)\n",
      "sept                            0.4172         0.0039            0.1560\n",
      "                              (1.2464)       (0.0129)          (0.5583)\n",
      "oct                         -2.0034***     -2.0441***        -2.0337***\n",
      "                             (-4.7205)      (-4.4627)         (-5.4211)\n",
      "nov                            0.8480*         0.2764            0.4898\n",
      "                              (1.9285)       (0.7059)          (1.3525)\n",
      "dic                          2.0631***         0.0377            0.7775\n",
      "                              (3.2102)       (0.0637)          (1.3965)\n",
      "======================= ============== ============== =================\n",
      "Effects                                        Entity                  \n",
      "-----------------------------------------------------------------------\n",
      "\n",
      "T-stats reported in parentheses\n"
     ]
    }
   ],
   "source": [
    "y=Xc['cesd']\n",
    "X=Xc[['drinkly', 'married', 'urban', 'female', 'child', \n",
    "      'hrsusu', 'hsize', 'wealth', \"jan\", \"feb\", \"jun\", \"ago\", \"sept\", \"oct\", \"nov\", \"dic\"]]\n",
    "X=sm.add_constant(X)\n",
    "\n",
    "model=lmp.PooledOLS(y,X)\n",
    "OLS2=model.fit(cov_type=\"robust\")\n",
    "\n",
    "\n",
    "X=Xc[['drinkly', 'married', 'child', \n",
    "      'hrsusu', 'hsize', 'wealth', \"jan\", \"feb\", \"jun\", \"ago\", \"sept\", \"oct\", \"nov\", \"dic\"]]\n",
    "\n",
    "X=sm.add_constant(X)\n",
    "\n",
    "model=lmp.PanelOLS(y,X, entity_effects=True)\n",
    "fe2=model.fit(cov_type=\"robust\")\n",
    "\n",
    "X=Xc[['drinkly', 'married', 'urban', 'female', 'child', \n",
    "      'hrsusu', 'hsize', 'wealth', \"jan\", \"feb\", \"jun\",\"ago\", \"sept\", \"oct\", \"nov\", \"dic\"]]\n",
    "X=sm.add_constant(X)\n",
    "\n",
    "model=lmp.RandomEffects(y,X)\n",
    "re2=model.fit(cov_type=\"robust\")\n",
    "\n",
    "print(lmp.compare({\"Pooled\": OLS2, \"FE\": fe2, \"RE\": re2}, stars = True))"
   ]
  }
 ],
 "metadata": {
  "colab": {
   "collapsed_sections": [],
   "provenance": []
  },
  "hide_input": false,
  "kernelspec": {
   "display_name": "Python 3 (ipykernel)",
   "language": "python",
   "name": "python3"
  },
  "language_info": {
   "codemirror_mode": {
    "name": "ipython",
    "version": 3
   },
   "file_extension": ".py",
   "mimetype": "text/x-python",
   "name": "python",
   "nbconvert_exporter": "python",
   "pygments_lexer": "ipython3",
   "version": "3.7.6"
  },
  "latex_envs": {
   "LaTeX_envs_menu_present": true,
   "autoclose": true,
   "autocomplete": true,
   "bibliofile": "biblio.bib",
   "cite_by": "apalike",
   "current_citInitial": 1,
   "eqLabelWithNumbers": true,
   "eqNumInitial": 1,
   "hotkeys": {
    "equation": "Ctrl-E",
    "itemize": "Ctrl-I"
   },
   "labels_anchors": false,
   "latex_user_defs": false,
   "report_style_numbering": false,
   "user_envs_cfg": false
  },
  "toc": {
   "base_numbering": 1,
   "nav_menu": {},
   "number_sections": true,
   "sideBar": true,
   "skip_h1_title": false,
   "title_cell": "Table of Contents",
   "title_sidebar": "Contents",
   "toc_cell": false,
   "toc_position": {},
   "toc_section_display": true,
   "toc_window_display": true
  }
 },
 "nbformat": 4,
 "nbformat_minor": 1
}
