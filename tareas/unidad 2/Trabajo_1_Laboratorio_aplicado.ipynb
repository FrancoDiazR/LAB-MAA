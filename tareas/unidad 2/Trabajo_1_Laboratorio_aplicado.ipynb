{
 "cells": [
  {
   "cell_type": "markdown",
   "id": "567619f3",
   "metadata": {},
   "source": [
    "### Analisis de datos y limpieza"
   ]
  },
  {
   "cell_type": "code",
   "execution_count": 6,
   "id": "f1253988",
   "metadata": {
    "run_control": {
     "marked": false
    }
   },
   "outputs": [],
   "source": [
    "# Tratamiento de datos\n",
    "# ==============================================================================\n",
    "import pandas as pd\n",
    "import numpy as np\n",
    "\n",
    "# Gráficos\n",
    "# ==============================================================================\n",
    "import matplotlib.pyplot as plt\n",
    "from matplotlib import style\n",
    "import seaborn as sns\n",
    "%matplotlib inline\n",
    "\n",
    "# Preprocesado y análisis\n",
    "# ==============================================================================\n",
    "import scipy \n",
    "import sklearn\n",
    "import statsmodels.api as sm\n",
    "from scipy import stats\n",
    "from scipy.stats import pearsonr\n",
    "from sklearn.linear_model import LinearRegression\n",
    "from sklearn.model_selection import train_test_split\n",
    "from sklearn.metrics import r2_score\n",
    "from sklearn.metrics import mean_squared_error\n",
    "from sklearn.linear_model import LogisticRegression\n",
    "from sklearn.metrics import accuracy_score\n",
    "from sklearn.metrics import plot_confusion_matrix\n",
    "import statsmodels.api as sm\n",
    "import statsmodels.formula.api as smf\n",
    "\n",
    "# Configuración matplotlib\n",
    "# ==============================================================================\n",
    "plt.style.use('ggplot')\n",
    "\n",
    "# Configuración warnings\n",
    "# ==============================================================================\n",
    "import warnings\n",
    "warnings.filterwarnings('ignore')\n",
    "\n",
    "# Configuración matplotlib\n",
    "# ==============================================================================\n",
    "plt.rcParams['image.cmap'] = \"bwr\"\n",
    "#plt.rcParams['figure.dpi'] = \"100\"\n",
    "plt.rcParams['savefig.bbox'] = \"tight\"\n",
    "style.use('ggplot') or plt.style.use('ggplot')\n",
    "\n",
    "#Libreria para analizar VIF\n",
    "from statsmodels.stats.outliers_influence import variance_inflation_factor \n",
    "from sklearn.linear_model import LinearRegression"
   ]
  },
  {
   "cell_type": "code",
   "execution_count": 7,
   "id": "34dceef0",
   "metadata": {
    "code_folding": [],
    "hide_input": false,
    "run_control": {
     "marked": false
    },
    "scrolled": true
   },
   "outputs": [
    {
     "data": {
      "text/html": [
       "<div>\n",
       "<style scoped>\n",
       "    .dataframe tbody tr th:only-of-type {\n",
       "        vertical-align: middle;\n",
       "    }\n",
       "\n",
       "    .dataframe tbody tr th {\n",
       "        vertical-align: top;\n",
       "    }\n",
       "\n",
       "    .dataframe thead th {\n",
       "        text-align: right;\n",
       "    }\n",
       "</style>\n",
       "<table border=\"1\" class=\"dataframe\">\n",
       "  <thead>\n",
       "    <tr style=\"text-align: right;\">\n",
       "      <th></th>\n",
       "      <th>vive_padre</th>\n",
       "      <th>vive_madre</th>\n",
       "      <th>n_personas</th>\n",
       "      <th>n_habitaciones</th>\n",
       "      <th>cercania_juegos</th>\n",
       "      <th>cercania_servicios</th>\n",
       "      <th>edad_primer_parto</th>\n",
       "      <th>area</th>\n",
       "      <th>educm</th>\n",
       "      <th>educp</th>\n",
       "    </tr>\n",
       "  </thead>\n",
       "  <tbody>\n",
       "    <tr>\n",
       "      <th>0</th>\n",
       "      <td>0</td>\n",
       "      <td>1</td>\n",
       "      <td>3.0</td>\n",
       "      <td>4.0</td>\n",
       "      <td>1.0</td>\n",
       "      <td>1.0</td>\n",
       "      <td>25.0</td>\n",
       "      <td>1</td>\n",
       "      <td>0</td>\n",
       "      <td>0</td>\n",
       "    </tr>\n",
       "    <tr>\n",
       "      <th>1</th>\n",
       "      <td>0</td>\n",
       "      <td>1</td>\n",
       "      <td>5.0</td>\n",
       "      <td>3.0</td>\n",
       "      <td>1.0</td>\n",
       "      <td>1.0</td>\n",
       "      <td>23.0</td>\n",
       "      <td>1</td>\n",
       "      <td>13</td>\n",
       "      <td>13</td>\n",
       "    </tr>\n",
       "    <tr>\n",
       "      <th>2</th>\n",
       "      <td>1</td>\n",
       "      <td>1</td>\n",
       "      <td>5.0</td>\n",
       "      <td>3.0</td>\n",
       "      <td>1.0</td>\n",
       "      <td>1.0</td>\n",
       "      <td>19.0</td>\n",
       "      <td>1</td>\n",
       "      <td>12</td>\n",
       "      <td>17</td>\n",
       "    </tr>\n",
       "    <tr>\n",
       "      <th>3</th>\n",
       "      <td>1</td>\n",
       "      <td>1</td>\n",
       "      <td>4.0</td>\n",
       "      <td>2.0</td>\n",
       "      <td>1.0</td>\n",
       "      <td>1.0</td>\n",
       "      <td>27.0</td>\n",
       "      <td>1</td>\n",
       "      <td>6</td>\n",
       "      <td>13</td>\n",
       "    </tr>\n",
       "    <tr>\n",
       "      <th>4</th>\n",
       "      <td>1</td>\n",
       "      <td>1</td>\n",
       "      <td>5.0</td>\n",
       "      <td>3.0</td>\n",
       "      <td>2.0</td>\n",
       "      <td>1.0</td>\n",
       "      <td>20.0</td>\n",
       "      <td>1</td>\n",
       "      <td>13</td>\n",
       "      <td>16</td>\n",
       "    </tr>\n",
       "    <tr>\n",
       "      <th>...</th>\n",
       "      <td>...</td>\n",
       "      <td>...</td>\n",
       "      <td>...</td>\n",
       "      <td>...</td>\n",
       "      <td>...</td>\n",
       "      <td>...</td>\n",
       "      <td>...</td>\n",
       "      <td>...</td>\n",
       "      <td>...</td>\n",
       "      <td>...</td>\n",
       "    </tr>\n",
       "    <tr>\n",
       "      <th>6602</th>\n",
       "      <td>0</td>\n",
       "      <td>0</td>\n",
       "      <td>NaN</td>\n",
       "      <td>NaN</td>\n",
       "      <td>NaN</td>\n",
       "      <td>NaN</td>\n",
       "      <td>NaN</td>\n",
       "      <td>1</td>\n",
       "      <td>0</td>\n",
       "      <td>0</td>\n",
       "    </tr>\n",
       "    <tr>\n",
       "      <th>6603</th>\n",
       "      <td>0</td>\n",
       "      <td>0</td>\n",
       "      <td>NaN</td>\n",
       "      <td>NaN</td>\n",
       "      <td>NaN</td>\n",
       "      <td>NaN</td>\n",
       "      <td>NaN</td>\n",
       "      <td>1</td>\n",
       "      <td>0</td>\n",
       "      <td>0</td>\n",
       "    </tr>\n",
       "    <tr>\n",
       "      <th>6604</th>\n",
       "      <td>0</td>\n",
       "      <td>0</td>\n",
       "      <td>NaN</td>\n",
       "      <td>NaN</td>\n",
       "      <td>NaN</td>\n",
       "      <td>NaN</td>\n",
       "      <td>NaN</td>\n",
       "      <td>1</td>\n",
       "      <td>0</td>\n",
       "      <td>0</td>\n",
       "    </tr>\n",
       "    <tr>\n",
       "      <th>6605</th>\n",
       "      <td>0</td>\n",
       "      <td>0</td>\n",
       "      <td>NaN</td>\n",
       "      <td>NaN</td>\n",
       "      <td>NaN</td>\n",
       "      <td>NaN</td>\n",
       "      <td>NaN</td>\n",
       "      <td>1</td>\n",
       "      <td>0</td>\n",
       "      <td>0</td>\n",
       "    </tr>\n",
       "    <tr>\n",
       "      <th>6606</th>\n",
       "      <td>0</td>\n",
       "      <td>0</td>\n",
       "      <td>NaN</td>\n",
       "      <td>NaN</td>\n",
       "      <td>NaN</td>\n",
       "      <td>NaN</td>\n",
       "      <td>NaN</td>\n",
       "      <td>1</td>\n",
       "      <td>0</td>\n",
       "      <td>0</td>\n",
       "    </tr>\n",
       "  </tbody>\n",
       "</table>\n",
       "<p>6607 rows × 10 columns</p>\n",
       "</div>"
      ],
      "text/plain": [
       "      vive_padre  vive_madre  n_personas  n_habitaciones  cercania_juegos  \\\n",
       "0              0           1         3.0             4.0              1.0   \n",
       "1              0           1         5.0             3.0              1.0   \n",
       "2              1           1         5.0             3.0              1.0   \n",
       "3              1           1         4.0             2.0              1.0   \n",
       "4              1           1         5.0             3.0              2.0   \n",
       "...          ...         ...         ...             ...              ...   \n",
       "6602           0           0         NaN             NaN              NaN   \n",
       "6603           0           0         NaN             NaN              NaN   \n",
       "6604           0           0         NaN             NaN              NaN   \n",
       "6605           0           0         NaN             NaN              NaN   \n",
       "6606           0           0         NaN             NaN              NaN   \n",
       "\n",
       "      cercania_servicios  edad_primer_parto  area  educm  educp  \n",
       "0                    1.0               25.0     1      0      0  \n",
       "1                    1.0               23.0     1     13     13  \n",
       "2                    1.0               19.0     1     12     17  \n",
       "3                    1.0               27.0     1      6     13  \n",
       "4                    1.0               20.0     1     13     16  \n",
       "...                  ...                ...   ...    ...    ...  \n",
       "6602                 NaN                NaN     1      0      0  \n",
       "6603                 NaN                NaN     1      0      0  \n",
       "6604                 NaN                NaN     1      0      0  \n",
       "6605                 NaN                NaN     1      0      0  \n",
       "6606                 NaN                NaN     1      0      0  \n",
       "\n",
       "[6607 rows x 10 columns]"
      ]
     },
     "execution_count": 7,
     "metadata": {},
     "output_type": "execute_result"
    }
   ],
   "source": [
    "# Cargando data\n",
    "#junaeb = pd.read_csv('C:/Users/crist/Documents/GitHub/LAB-MAA/data/junaeb.csv')\n",
    "junaeb = pd.read_csv('junaeb.csv')\n",
    "junaeb"
   ]
  },
  {
   "cell_type": "code",
   "execution_count": 3,
   "id": "e3666627",
   "metadata": {},
   "outputs": [
    {
     "name": "stdout",
     "output_type": "stream",
     "text": [
      "<class 'pandas.core.frame.DataFrame'>\n",
      "RangeIndex: 6607 entries, 0 to 6606\n",
      "Data columns (total 10 columns):\n",
      " #   Column              Non-Null Count  Dtype  \n",
      "---  ------              --------------  -----  \n",
      " 0   vive_padre          6607 non-null   int64  \n",
      " 1   vive_madre          6607 non-null   int64  \n",
      " 2   n_personas          6472 non-null   float64\n",
      " 3   n_habitaciones      6457 non-null   float64\n",
      " 4   cercania_juegos     6475 non-null   float64\n",
      " 5   cercania_servicios  6475 non-null   float64\n",
      " 6   edad_primer_parto   6386 non-null   float64\n",
      " 7   area                6607 non-null   int64  \n",
      " 8   educm               6607 non-null   int64  \n",
      " 9   educp               6607 non-null   int64  \n",
      "dtypes: float64(5), int64(5)\n",
      "memory usage: 516.3 KB\n"
     ]
    }
   ],
   "source": [
    "junaeb.info()"
   ]
  },
  {
   "cell_type": "code",
   "execution_count": 4,
   "id": "2db247be",
   "metadata": {},
   "outputs": [
    {
     "data": {
      "application/vnd.jupyter.widget-view+json": {
       "model_id": "d3f269490921419cb40635e4288d48bb",
       "version_major": 2,
       "version_minor": 0
      },
      "text/plain": [
       "QgridWidget(grid_options={'fullWidthRows': True, 'syncColumnCellResize': True, 'forceFitColumns': True, 'defau…"
      ]
     },
     "metadata": {},
     "output_type": "display_data"
    }
   ],
   "source": [
    "import qgrid\n",
    "qgrid_widget = qgrid.show_grid(junaeb,show_toolbar=True)\n",
    "qgrid_widget"
   ]
  },
  {
   "cell_type": "markdown",
   "id": "ed5d4a94",
   "metadata": {},
   "source": [
    "#### Outliers \n",
    "Vive_madre = 2 , no tiene sentido por lo que se procede a eliminar"
   ]
  },
  {
   "cell_type": "code",
   "execution_count": 5,
   "id": "30f2a9ee",
   "metadata": {
    "hide_input": false
   },
   "outputs": [
    {
     "data": {
      "text/plain": [
       "<matplotlib.collections.PathCollection at 0x23b4d570b20>"
      ]
     },
     "execution_count": 5,
     "metadata": {},
     "output_type": "execute_result"
    },
    {
     "data": {
      "image/png": "[encoded data removed]",
      "text/plain": [
       "<Figure size 432x288 with 1 Axes>"
      ]
     },
     "metadata": {},
     "output_type": "display_data"
    }
   ],
   "source": [
    "plt.scatter(junaeb['vive_madre'],junaeb['vive_padre'])\n"
   ]
  },
  {
   "cell_type": "code",
   "execution_count": 6,
   "id": "253a675b",
   "metadata": {},
   "outputs": [],
   "source": [
    "junaeb.drop(junaeb[junaeb['vive_madre']==2].index,inplace =True)"
   ]
  },
  {
   "cell_type": "code",
   "execution_count": 7,
   "id": "f93380bd",
   "metadata": {},
   "outputs": [
    {
     "name": "stdout",
     "output_type": "stream",
     "text": [
      "1.0    5245\n",
      "2.0    1173\n",
      "4.0      52\n",
      "Name: cercania_juegos, dtype: int64\n"
     ]
    }
   ],
   "source": [
    "print(junaeb[\"cercania_juegos\"].value_counts(normalize=False))\n",
    "junaeb.drop(junaeb[junaeb['cercania_juegos']==4].index,inplace =True)\n",
    "junaeb.drop(junaeb[junaeb['cercania_servicios']==2].index,inplace =True)"
   ]
  },
  {
   "cell_type": "markdown",
   "id": "b58a9868",
   "metadata": {},
   "source": [
    "#### Visualiacion de datos\n"
   ]
  },
  {
   "cell_type": "code",
   "execution_count": 8,
   "id": "fffe6589",
   "metadata": {
    "scrolled": true
   },
   "outputs": [
    {
     "name": "stdout",
     "output_type": "stream",
     "text": [
      "1    3826\n",
      "0    1881\n",
      "Name: vive_padre, dtype: int64\n",
      "Porcentaje de padres que viven en la residencia vs los que no viven\n",
      "1    67.040477\n",
      "0    32.959523\n",
      "Name: vive_padre, dtype: float64\n"
     ]
    }
   ],
   "source": [
    "print(junaeb[\"vive_padre\"].value_counts())\n",
    "print(\"Porcentaje de padres que viven en la residencia vs los que no viven\")\n",
    "print(100*junaeb[\"vive_padre\"].value_counts(normalize=True))"
   ]
  },
  {
   "cell_type": "code",
   "execution_count": 9,
   "id": "69613c68",
   "metadata": {
    "scrolled": false
   },
   "outputs": [
    {
     "data": {
      "text/plain": [
       "<AxesSubplot:xlabel='n_personas'>"
      ]
     },
     "execution_count": 9,
     "metadata": {},
     "output_type": "execute_result"
    },
    {
     "data": {
      "image/png": "[encoded data removed]",
      "text/plain": [
       "<Figure size 432x288 with 1 Axes>"
      ]
     },
     "metadata": {},
     "output_type": "display_data"
    }
   ],
   "source": [
    "temp_0 =junaeb.loc[junaeb.vive_madre==1].groupby(by = 'n_personas').count()[\"vive_madre\"].plot.bar()\n",
    "temp_0\n",
    "    \n"
   ]
  },
  {
   "cell_type": "code",
   "execution_count": 10,
   "id": "e58bff0d",
   "metadata": {},
   "outputs": [
    {
     "data": {
      "image/png": "[encoded data removed]",
      "text/plain": [
       "<Figure size 432x288 with 1 Axes>"
      ]
     },
     "metadata": {},
     "output_type": "display_data"
    }
   ],
   "source": [
    "temp = junaeb.groupby('n_personas').vive_padre.sum()\n",
    "temp.plot.bar();"
   ]
  },
  {
   "cell_type": "code",
   "execution_count": 11,
   "id": "fb43074b",
   "metadata": {},
   "outputs": [
    {
     "data": {
      "image/png": "[encoded data removed]",
      "text/plain": [
       "<Figure size 432x288 with 1 Axes>"
      ]
     },
     "metadata": {},
     "output_type": "display_data"
    }
   ],
   "source": [
    "temp = junaeb.groupby('vive_madre').n_personas.sum()\n",
    "temp.plot.bar();"
   ]
  },
  {
   "cell_type": "code",
   "execution_count": 12,
   "id": "b120d21a",
   "metadata": {
    "scrolled": true
   },
   "outputs": [
    {
     "data": {
      "text/plain": [
       "<AxesSubplot:xlabel='vive_madre'>"
      ]
     },
     "execution_count": 12,
     "metadata": {},
     "output_type": "execute_result"
    },
    {
     "data": {
      "image/png": "[encoded data removed]",
      "text/plain": [
       "<Figure size 432x288 with 1 Axes>"
      ]
     },
     "metadata": {},
     "output_type": "display_data"
    }
   ],
   "source": [
    "junaeb.loc[junaeb.vive_padre==0].groupby(by = 'vive_madre').count()[\"vive_padre\"].plot.bar()"
   ]
  },
  {
   "cell_type": "code",
   "execution_count": 13,
   "id": "f31f5eb6",
   "metadata": {
    "scrolled": true
   },
   "outputs": [
    {
     "data": {
      "text/plain": [
       "vive_madre\n",
       "0     215\n",
       "1    1666\n",
       "Name: vive_padre, dtype: int64"
      ]
     },
     "execution_count": 13,
     "metadata": {},
     "output_type": "execute_result"
    }
   ],
   "source": [
    "junaeb.groupby(by=\"vive_madre\").count()[\"vive_padre\"]\n",
    "junaeb.loc[junaeb.vive_padre==0].groupby(by = 'vive_madre').count()[\"vive_padre\"]\n"
   ]
  },
  {
   "cell_type": "code",
   "execution_count": 14,
   "id": "d5081077",
   "metadata": {
    "scrolled": true
   },
   "outputs": [
    {
     "data": {
      "text/plain": [
       "vive_madre\n",
       "0     302\n",
       "1    5405\n",
       "Name: vive_padre, dtype: int64"
      ]
     },
     "execution_count": 14,
     "metadata": {},
     "output_type": "execute_result"
    }
   ],
   "source": [
    "junaeb.groupby(by = 'vive_madre').count()[\"vive_padre\"]"
   ]
  },
  {
   "cell_type": "code",
   "execution_count": 15,
   "id": "92c9dbd6",
   "metadata": {
    "scrolled": true
   },
   "outputs": [
    {
     "data": {
      "text/plain": [
       "vive_madre\n",
       "0      87\n",
       "1    3739\n",
       "Name: vive_padre, dtype: int64"
      ]
     },
     "execution_count": 15,
     "metadata": {},
     "output_type": "execute_result"
    }
   ],
   "source": [
    "junaeb.loc[junaeb.vive_padre==1].groupby(by = 'vive_madre').count()[\"vive_padre\"]"
   ]
  },
  {
   "cell_type": "code",
   "execution_count": 16,
   "id": "2ea97158",
   "metadata": {},
   "outputs": [
    {
     "data": {
      "text/plain": [
       "<AxesSubplot:xlabel='educm'>"
      ]
     },
     "execution_count": 16,
     "metadata": {},
     "output_type": "execute_result"
    },
    {
     "data": {
      "image/png": "[encoded data removed]",
      "text/plain": [
       "<Figure size 432x288 with 1 Axes>"
      ]
     },
     "metadata": {},
     "output_type": "display_data"
    }
   ],
   "source": [
    "junaeb.loc[junaeb.vive_padre==1].groupby(by = 'educm').count()[\"vive_padre\"].plot.bar()"
   ]
  },
  {
   "cell_type": "code",
   "execution_count": 17,
   "id": "1df0152f",
   "metadata": {
    "scrolled": true
   },
   "outputs": [
    {
     "data": {
      "text/plain": [
       "<AxesSubplot:xlabel='educm'>"
      ]
     },
     "execution_count": 17,
     "metadata": {},
     "output_type": "execute_result"
    },
    {
     "data": {
      "image/png": "[encoded data removed]",
      "text/plain": [
       "<Figure size 432x288 with 1 Axes>"
      ]
     },
     "metadata": {},
     "output_type": "display_data"
    }
   ],
   "source": [
    "junaeb.loc[junaeb.vive_padre==0].groupby(by = 'educm').count()[\"vive_padre\"].plot.bar()"
   ]
  },
  {
   "cell_type": "code",
   "execution_count": 18,
   "id": "4875ea63",
   "metadata": {},
   "outputs": [
    {
     "data": {
      "text/plain": [
       "<AxesSubplot:xlabel='edad_primer_parto'>"
      ]
     },
     "execution_count": 18,
     "metadata": {},
     "output_type": "execute_result"
    },
    {
     "data": {
      "image/png": "[encoded data removed]",
      "text/plain": [
       "<Figure size 432x288 with 1 Axes>"
      ]
     },
     "metadata": {},
     "output_type": "display_data"
    }
   ],
   "source": [
    "junaeb.loc[junaeb.vive_padre==0].groupby(by = 'edad_primer_parto').count()[\"vive_padre\"].plot.bar()"
   ]
  },
  {
   "cell_type": "code",
   "execution_count": 19,
   "id": "58a8e2f1",
   "metadata": {},
   "outputs": [
    {
     "data": {
      "text/plain": [
       "<AxesSubplot:xlabel='edad_primer_parto'>"
      ]
     },
     "execution_count": 19,
     "metadata": {},
     "output_type": "execute_result"
    },
    {
     "data": {
      "image/png": "[encoded data removed]",
      "text/plain": [
       "<Figure size 432x288 with 1 Axes>"
      ]
     },
     "metadata": {},
     "output_type": "display_data"
    }
   ],
   "source": [
    "junaeb.loc[junaeb.vive_padre==1].groupby(by = 'edad_primer_parto').count()[\"vive_padre\"].plot.bar()"
   ]
  },
  {
   "cell_type": "markdown",
   "id": "1ad88b72",
   "metadata": {},
   "source": [
    "#### Analisis de nulos\n",
    " Se procede a analizar los nulos haciendo una suma de la cantidad que hay para ver si esque conviene eliminarlos o reemplarzarlos por ejemplo por el promedio"
   ]
  },
  {
   "cell_type": "code",
   "execution_count": 20,
   "id": "7c120eb4",
   "metadata": {
    "scrolled": true
   },
   "outputs": [
    {
     "data": {
      "text/plain": [
       "edad_primer_parto     200\n",
       "n_habitaciones        141\n",
       "n_personas            134\n",
       "cercania_juegos       132\n",
       "cercania_servicios    132\n",
       "vive_padre              0\n",
       "vive_madre              0\n",
       "area                    0\n",
       "educm                   0\n",
       "educp                   0\n",
       "dtype: int64"
      ]
     },
     "execution_count": 20,
     "metadata": {},
     "output_type": "execute_result"
    }
   ],
   "source": [
    "junaeb.isna().sum().sort_values(ascending = False)"
   ]
  },
  {
   "cell_type": "code",
   "execution_count": 21,
   "id": "c0a3cc61",
   "metadata": {
    "run_control": {
     "marked": true
    }
   },
   "outputs": [
    {
     "data": {
      "text/html": [
       "<div>\n",
       "<style scoped>\n",
       "    .dataframe tbody tr th:only-of-type {\n",
       "        vertical-align: middle;\n",
       "    }\n",
       "\n",
       "    .dataframe tbody tr th {\n",
       "        vertical-align: top;\n",
       "    }\n",
       "\n",
       "    .dataframe thead th {\n",
       "        text-align: right;\n",
       "    }\n",
       "</style>\n",
       "<table border=\"1\" class=\"dataframe\">\n",
       "  <thead>\n",
       "    <tr style=\"text-align: right;\">\n",
       "      <th></th>\n",
       "      <th>vive_padre</th>\n",
       "      <th>vive_madre</th>\n",
       "      <th>n_personas</th>\n",
       "      <th>n_habitaciones</th>\n",
       "      <th>cercania_juegos</th>\n",
       "      <th>cercania_servicios</th>\n",
       "      <th>edad_primer_parto</th>\n",
       "      <th>area</th>\n",
       "      <th>educm</th>\n",
       "      <th>educp</th>\n",
       "    </tr>\n",
       "  </thead>\n",
       "  <tbody>\n",
       "    <tr>\n",
       "      <th>0</th>\n",
       "      <td>0</td>\n",
       "      <td>1</td>\n",
       "      <td>3.0</td>\n",
       "      <td>4.0</td>\n",
       "      <td>1.0</td>\n",
       "      <td>1.0</td>\n",
       "      <td>25.0</td>\n",
       "      <td>1</td>\n",
       "      <td>0</td>\n",
       "      <td>0</td>\n",
       "    </tr>\n",
       "    <tr>\n",
       "      <th>1</th>\n",
       "      <td>0</td>\n",
       "      <td>1</td>\n",
       "      <td>5.0</td>\n",
       "      <td>3.0</td>\n",
       "      <td>1.0</td>\n",
       "      <td>1.0</td>\n",
       "      <td>23.0</td>\n",
       "      <td>1</td>\n",
       "      <td>13</td>\n",
       "      <td>13</td>\n",
       "    </tr>\n",
       "    <tr>\n",
       "      <th>2</th>\n",
       "      <td>1</td>\n",
       "      <td>1</td>\n",
       "      <td>5.0</td>\n",
       "      <td>3.0</td>\n",
       "      <td>1.0</td>\n",
       "      <td>1.0</td>\n",
       "      <td>19.0</td>\n",
       "      <td>1</td>\n",
       "      <td>12</td>\n",
       "      <td>17</td>\n",
       "    </tr>\n",
       "    <tr>\n",
       "      <th>3</th>\n",
       "      <td>1</td>\n",
       "      <td>1</td>\n",
       "      <td>4.0</td>\n",
       "      <td>2.0</td>\n",
       "      <td>1.0</td>\n",
       "      <td>1.0</td>\n",
       "      <td>27.0</td>\n",
       "      <td>1</td>\n",
       "      <td>6</td>\n",
       "      <td>13</td>\n",
       "    </tr>\n",
       "    <tr>\n",
       "      <th>4</th>\n",
       "      <td>1</td>\n",
       "      <td>1</td>\n",
       "      <td>5.0</td>\n",
       "      <td>3.0</td>\n",
       "      <td>2.0</td>\n",
       "      <td>1.0</td>\n",
       "      <td>20.0</td>\n",
       "      <td>1</td>\n",
       "      <td>13</td>\n",
       "      <td>16</td>\n",
       "    </tr>\n",
       "  </tbody>\n",
       "</table>\n",
       "</div>"
      ],
      "text/plain": [
       "   vive_padre  vive_madre  n_personas  n_habitaciones  cercania_juegos  \\\n",
       "0           0           1         3.0             4.0              1.0   \n",
       "1           0           1         5.0             3.0              1.0   \n",
       "2           1           1         5.0             3.0              1.0   \n",
       "3           1           1         4.0             2.0              1.0   \n",
       "4           1           1         5.0             3.0              2.0   \n",
       "\n",
       "   cercania_servicios  edad_primer_parto  area  educm  educp  \n",
       "0                 1.0               25.0     1      0      0  \n",
       "1                 1.0               23.0     1     13     13  \n",
       "2                 1.0               19.0     1     12     17  \n",
       "3                 1.0               27.0     1      6     13  \n",
       "4                 1.0               20.0     1     13     16  "
      ]
     },
     "execution_count": 21,
     "metadata": {},
     "output_type": "execute_result"
    }
   ],
   "source": [
    "#Se procede a eliminar los nulos del data frame\n",
    "junaeb.dropna(inplace=True)\n",
    "junaeb.reset_index(drop=True, inplace=True)\n",
    "junaeb.head()"
   ]
  },
  {
   "cell_type": "code",
   "execution_count": 22,
   "id": "d1e52748",
   "metadata": {},
   "outputs": [
    {
     "data": {
      "text/plain": [
       "19.0    558\n",
       "18.0    556\n",
       "21.0    494\n",
       "20.0    477\n",
       "17.0    388\n",
       "22.0    379\n",
       "23.0    314\n",
       "25.0    292\n",
       "24.0    275\n",
       "16.0    270\n",
       "27.0    197\n",
       "26.0    195\n",
       "28.0    183\n",
       "30.0    150\n",
       "15.0    144\n",
       "29.0    132\n",
       "31.0     90\n",
       "33.0     70\n",
       "32.0     58\n",
       "34.0     51\n",
       "35.0     50\n",
       "14.0     42\n",
       "36.0     41\n",
       "37.0     26\n",
       "38.0     22\n",
       "39.0     15\n",
       "40.0     12\n",
       "13.0      9\n",
       "43.0      3\n",
       "41.0      2\n",
       "42.0      2\n",
       "11.0      1\n",
       "44.0      1\n",
       "10.0      1\n",
       "48.0      1\n",
       "Name: edad_primer_parto, dtype: int64"
      ]
     },
     "execution_count": 22,
     "metadata": {},
     "output_type": "execute_result"
    }
   ],
   "source": [
    "\n",
    "junaeb.edad_primer_parto.value_counts()"
   ]
  },
  {
   "cell_type": "code",
   "execution_count": 23,
   "id": "b0889d8d",
   "metadata": {},
   "outputs": [],
   "source": [
    "def estadisticos_cont(num):\n",
    "    #Calculamos describe\n",
    "    estadisticos = num.describe().T\n",
    "    #Añadimos la mediana\n",
    "    estadisticos['median'] = num.median()\n",
    "    #Reordenamos para que la mediana esté al lado de la media\n",
    "    estadisticos = estadisticos.iloc[:,[0,1,8,2,3,4,5,6,7]]\n",
    "    #Lo devolvemos\n",
    "    return(estadisticos)"
   ]
  },
  {
   "cell_type": "code",
   "execution_count": 24,
   "id": "b58d54be",
   "metadata": {},
   "outputs": [
    {
     "data": {
      "text/html": [
       "<div>\n",
       "<style scoped>\n",
       "    .dataframe tbody tr th:only-of-type {\n",
       "        vertical-align: middle;\n",
       "    }\n",
       "\n",
       "    .dataframe tbody tr th {\n",
       "        vertical-align: top;\n",
       "    }\n",
       "\n",
       "    .dataframe thead th {\n",
       "        text-align: right;\n",
       "    }\n",
       "</style>\n",
       "<table border=\"1\" class=\"dataframe\">\n",
       "  <thead>\n",
       "    <tr style=\"text-align: right;\">\n",
       "      <th></th>\n",
       "      <th>count</th>\n",
       "      <th>mean</th>\n",
       "      <th>median</th>\n",
       "      <th>std</th>\n",
       "      <th>min</th>\n",
       "      <th>25%</th>\n",
       "      <th>50%</th>\n",
       "      <th>75%</th>\n",
       "      <th>max</th>\n",
       "    </tr>\n",
       "  </thead>\n",
       "  <tbody>\n",
       "    <tr>\n",
       "      <th>vive_padre</th>\n",
       "      <td>5501.0</td>\n",
       "      <td>0.688057</td>\n",
       "      <td>1.0</td>\n",
       "      <td>0.463329</td>\n",
       "      <td>0.0</td>\n",
       "      <td>0.0</td>\n",
       "      <td>1.0</td>\n",
       "      <td>1.0</td>\n",
       "      <td>1.0</td>\n",
       "    </tr>\n",
       "    <tr>\n",
       "      <th>vive_madre</th>\n",
       "      <td>5501.0</td>\n",
       "      <td>0.974187</td>\n",
       "      <td>1.0</td>\n",
       "      <td>0.158593</td>\n",
       "      <td>0.0</td>\n",
       "      <td>1.0</td>\n",
       "      <td>1.0</td>\n",
       "      <td>1.0</td>\n",
       "      <td>1.0</td>\n",
       "    </tr>\n",
       "    <tr>\n",
       "      <th>n_personas</th>\n",
       "      <td>5501.0</td>\n",
       "      <td>4.385930</td>\n",
       "      <td>4.0</td>\n",
       "      <td>1.342025</td>\n",
       "      <td>1.0</td>\n",
       "      <td>4.0</td>\n",
       "      <td>4.0</td>\n",
       "      <td>5.0</td>\n",
       "      <td>16.0</td>\n",
       "    </tr>\n",
       "    <tr>\n",
       "      <th>n_habitaciones</th>\n",
       "      <td>5501.0</td>\n",
       "      <td>2.606253</td>\n",
       "      <td>2.0</td>\n",
       "      <td>0.907659</td>\n",
       "      <td>0.0</td>\n",
       "      <td>2.0</td>\n",
       "      <td>2.0</td>\n",
       "      <td>3.0</td>\n",
       "      <td>20.0</td>\n",
       "    </tr>\n",
       "    <tr>\n",
       "      <th>cercania_juegos</th>\n",
       "      <td>5501.0</td>\n",
       "      <td>1.128340</td>\n",
       "      <td>1.0</td>\n",
       "      <td>0.334499</td>\n",
       "      <td>1.0</td>\n",
       "      <td>1.0</td>\n",
       "      <td>1.0</td>\n",
       "      <td>1.0</td>\n",
       "      <td>2.0</td>\n",
       "    </tr>\n",
       "    <tr>\n",
       "      <th>cercania_servicios</th>\n",
       "      <td>5501.0</td>\n",
       "      <td>1.013089</td>\n",
       "      <td>1.0</td>\n",
       "      <td>0.197741</td>\n",
       "      <td>1.0</td>\n",
       "      <td>1.0</td>\n",
       "      <td>1.0</td>\n",
       "      <td>1.0</td>\n",
       "      <td>4.0</td>\n",
       "    </tr>\n",
       "    <tr>\n",
       "      <th>edad_primer_parto</th>\n",
       "      <td>5501.0</td>\n",
       "      <td>22.321941</td>\n",
       "      <td>21.0</td>\n",
       "      <td>5.217991</td>\n",
       "      <td>10.0</td>\n",
       "      <td>18.0</td>\n",
       "      <td>21.0</td>\n",
       "      <td>25.0</td>\n",
       "      <td>48.0</td>\n",
       "    </tr>\n",
       "    <tr>\n",
       "      <th>area</th>\n",
       "      <td>5501.0</td>\n",
       "      <td>0.924196</td>\n",
       "      <td>1.0</td>\n",
       "      <td>0.264709</td>\n",
       "      <td>0.0</td>\n",
       "      <td>1.0</td>\n",
       "      <td>1.0</td>\n",
       "      <td>1.0</td>\n",
       "      <td>1.0</td>\n",
       "    </tr>\n",
       "    <tr>\n",
       "      <th>educm</th>\n",
       "      <td>5501.0</td>\n",
       "      <td>12.795855</td>\n",
       "      <td>13.0</td>\n",
       "      <td>3.911051</td>\n",
       "      <td>0.0</td>\n",
       "      <td>12.0</td>\n",
       "      <td>13.0</td>\n",
       "      <td>15.0</td>\n",
       "      <td>20.0</td>\n",
       "    </tr>\n",
       "    <tr>\n",
       "      <th>educp</th>\n",
       "      <td>5501.0</td>\n",
       "      <td>11.414652</td>\n",
       "      <td>13.0</td>\n",
       "      <td>5.244827</td>\n",
       "      <td>0.0</td>\n",
       "      <td>10.0</td>\n",
       "      <td>13.0</td>\n",
       "      <td>13.0</td>\n",
       "      <td>20.0</td>\n",
       "    </tr>\n",
       "  </tbody>\n",
       "</table>\n",
       "</div>"
      ],
      "text/plain": [
       "                     count       mean  median       std   min   25%   50%  \\\n",
       "vive_padre          5501.0   0.688057     1.0  0.463329   0.0   0.0   1.0   \n",
       "vive_madre          5501.0   0.974187     1.0  0.158593   0.0   1.0   1.0   \n",
       "n_personas          5501.0   4.385930     4.0  1.342025   1.0   4.0   4.0   \n",
       "n_habitaciones      5501.0   2.606253     2.0  0.907659   0.0   2.0   2.0   \n",
       "cercania_juegos     5501.0   1.128340     1.0  0.334499   1.0   1.0   1.0   \n",
       "cercania_servicios  5501.0   1.013089     1.0  0.197741   1.0   1.0   1.0   \n",
       "edad_primer_parto   5501.0  22.321941    21.0  5.217991  10.0  18.0  21.0   \n",
       "area                5501.0   0.924196     1.0  0.264709   0.0   1.0   1.0   \n",
       "educm               5501.0  12.795855    13.0  3.911051   0.0  12.0  13.0   \n",
       "educp               5501.0  11.414652    13.0  5.244827   0.0  10.0  13.0   \n",
       "\n",
       "                     75%   max  \n",
       "vive_padre           1.0   1.0  \n",
       "vive_madre           1.0   1.0  \n",
       "n_personas           5.0  16.0  \n",
       "n_habitaciones       3.0  20.0  \n",
       "cercania_juegos      1.0   2.0  \n",
       "cercania_servicios   1.0   4.0  \n",
       "edad_primer_parto   25.0  48.0  \n",
       "area                 1.0   1.0  \n",
       "educm               15.0  20.0  \n",
       "educp               13.0  20.0  "
      ]
     },
     "execution_count": 24,
     "metadata": {},
     "output_type": "execute_result"
    }
   ],
   "source": [
    "estadisticos_cont(junaeb.select_dtypes('number'))"
   ]
  },
  {
   "cell_type": "code",
   "execution_count": 25,
   "id": "e4f0df8a",
   "metadata": {
    "scrolled": true
   },
   "outputs": [
    {
     "data": {
      "text/html": [
       "<div>\n",
       "<style scoped>\n",
       "    .dataframe tbody tr th:only-of-type {\n",
       "        vertical-align: middle;\n",
       "    }\n",
       "\n",
       "    .dataframe tbody tr th {\n",
       "        vertical-align: top;\n",
       "    }\n",
       "\n",
       "    .dataframe thead th {\n",
       "        text-align: right;\n",
       "    }\n",
       "</style>\n",
       "<table border=\"1\" class=\"dataframe\">\n",
       "  <thead>\n",
       "    <tr style=\"text-align: right;\">\n",
       "      <th></th>\n",
       "      <th>vive_padre</th>\n",
       "      <th>vive_madre</th>\n",
       "      <th>n_personas</th>\n",
       "      <th>n_habitaciones</th>\n",
       "      <th>cercania_juegos</th>\n",
       "      <th>cercania_servicios</th>\n",
       "      <th>edad_primer_parto</th>\n",
       "      <th>area</th>\n",
       "      <th>educm</th>\n",
       "      <th>educp</th>\n",
       "    </tr>\n",
       "  </thead>\n",
       "  <tbody>\n",
       "    <tr>\n",
       "      <th>vive_padre</th>\n",
       "      <td>1.000000</td>\n",
       "      <td>0.056178</td>\n",
       "      <td>0.110020</td>\n",
       "      <td>-0.004613</td>\n",
       "      <td>-0.012633</td>\n",
       "      <td>0.014804</td>\n",
       "      <td>0.113367</td>\n",
       "      <td>-0.023838</td>\n",
       "      <td>-0.010567</td>\n",
       "      <td>0.344436</td>\n",
       "    </tr>\n",
       "    <tr>\n",
       "      <th>vive_madre</th>\n",
       "      <td>0.056178</td>\n",
       "      <td>1.000000</td>\n",
       "      <td>0.013499</td>\n",
       "      <td>-0.049149</td>\n",
       "      <td>-0.009513</td>\n",
       "      <td>0.010775</td>\n",
       "      <td>0.070025</td>\n",
       "      <td>0.035669</td>\n",
       "      <td>0.163277</td>\n",
       "      <td>0.066861</td>\n",
       "    </tr>\n",
       "    <tr>\n",
       "      <th>n_personas</th>\n",
       "      <td>0.110020</td>\n",
       "      <td>0.013499</td>\n",
       "      <td>1.000000</td>\n",
       "      <td>0.445391</td>\n",
       "      <td>0.019657</td>\n",
       "      <td>-0.006705</td>\n",
       "      <td>-0.181605</td>\n",
       "      <td>0.009178</td>\n",
       "      <td>-0.045365</td>\n",
       "      <td>0.023163</td>\n",
       "    </tr>\n",
       "    <tr>\n",
       "      <th>n_habitaciones</th>\n",
       "      <td>-0.004613</td>\n",
       "      <td>-0.049149</td>\n",
       "      <td>0.445391</td>\n",
       "      <td>1.000000</td>\n",
       "      <td>-0.022166</td>\n",
       "      <td>-0.016867</td>\n",
       "      <td>-0.002905</td>\n",
       "      <td>0.012719</td>\n",
       "      <td>0.031183</td>\n",
       "      <td>0.054048</td>\n",
       "    </tr>\n",
       "    <tr>\n",
       "      <th>cercania_juegos</th>\n",
       "      <td>-0.012633</td>\n",
       "      <td>-0.009513</td>\n",
       "      <td>0.019657</td>\n",
       "      <td>-0.022166</td>\n",
       "      <td>1.000000</td>\n",
       "      <td>0.032325</td>\n",
       "      <td>-0.054615</td>\n",
       "      <td>-0.163209</td>\n",
       "      <td>-0.043761</td>\n",
       "      <td>-0.075524</td>\n",
       "    </tr>\n",
       "    <tr>\n",
       "      <th>cercania_servicios</th>\n",
       "      <td>0.014804</td>\n",
       "      <td>0.010775</td>\n",
       "      <td>-0.006705</td>\n",
       "      <td>-0.016867</td>\n",
       "      <td>0.032325</td>\n",
       "      <td>1.000000</td>\n",
       "      <td>-0.008842</td>\n",
       "      <td>0.008538</td>\n",
       "      <td>-0.033220</td>\n",
       "      <td>-0.015753</td>\n",
       "    </tr>\n",
       "    <tr>\n",
       "      <th>edad_primer_parto</th>\n",
       "      <td>0.113367</td>\n",
       "      <td>0.070025</td>\n",
       "      <td>-0.181605</td>\n",
       "      <td>-0.002905</td>\n",
       "      <td>-0.054615</td>\n",
       "      <td>-0.008842</td>\n",
       "      <td>1.000000</td>\n",
       "      <td>0.054002</td>\n",
       "      <td>0.130561</td>\n",
       "      <td>0.142151</td>\n",
       "    </tr>\n",
       "    <tr>\n",
       "      <th>area</th>\n",
       "      <td>-0.023838</td>\n",
       "      <td>0.035669</td>\n",
       "      <td>0.009178</td>\n",
       "      <td>0.012719</td>\n",
       "      <td>-0.163209</td>\n",
       "      <td>0.008538</td>\n",
       "      <td>0.054002</td>\n",
       "      <td>1.000000</td>\n",
       "      <td>0.082870</td>\n",
       "      <td>0.064682</td>\n",
       "    </tr>\n",
       "    <tr>\n",
       "      <th>educm</th>\n",
       "      <td>-0.010567</td>\n",
       "      <td>0.163277</td>\n",
       "      <td>-0.045365</td>\n",
       "      <td>0.031183</td>\n",
       "      <td>-0.043761</td>\n",
       "      <td>-0.033220</td>\n",
       "      <td>0.130561</td>\n",
       "      <td>0.082870</td>\n",
       "      <td>1.000000</td>\n",
       "      <td>0.296504</td>\n",
       "    </tr>\n",
       "    <tr>\n",
       "      <th>educp</th>\n",
       "      <td>0.344436</td>\n",
       "      <td>0.066861</td>\n",
       "      <td>0.023163</td>\n",
       "      <td>0.054048</td>\n",
       "      <td>-0.075524</td>\n",
       "      <td>-0.015753</td>\n",
       "      <td>0.142151</td>\n",
       "      <td>0.064682</td>\n",
       "      <td>0.296504</td>\n",
       "      <td>1.000000</td>\n",
       "    </tr>\n",
       "  </tbody>\n",
       "</table>\n",
       "</div>"
      ],
      "text/plain": [
       "                    vive_padre  vive_madre  n_personas  n_habitaciones  \\\n",
       "vive_padre            1.000000    0.056178    0.110020       -0.004613   \n",
       "vive_madre            0.056178    1.000000    0.013499       -0.049149   \n",
       "n_personas            0.110020    0.013499    1.000000        0.445391   \n",
       "n_habitaciones       -0.004613   -0.049149    0.445391        1.000000   \n",
       "cercania_juegos      -0.012633   -0.009513    0.019657       -0.022166   \n",
       "cercania_servicios    0.014804    0.010775   -0.006705       -0.016867   \n",
       "edad_primer_parto     0.113367    0.070025   -0.181605       -0.002905   \n",
       "area                 -0.023838    0.035669    0.009178        0.012719   \n",
       "educm                -0.010567    0.163277   -0.045365        0.031183   \n",
       "educp                 0.344436    0.066861    0.023163        0.054048   \n",
       "\n",
       "                    cercania_juegos  cercania_servicios  edad_primer_parto  \\\n",
       "vive_padre                -0.012633            0.014804           0.113367   \n",
       "vive_madre                -0.009513            0.010775           0.070025   \n",
       "n_personas                 0.019657           -0.006705          -0.181605   \n",
       "n_habitaciones            -0.022166           -0.016867          -0.002905   \n",
       "cercania_juegos            1.000000            0.032325          -0.054615   \n",
       "cercania_servicios         0.032325            1.000000          -0.008842   \n",
       "edad_primer_parto         -0.054615           -0.008842           1.000000   \n",
       "area                      -0.163209            0.008538           0.054002   \n",
       "educm                     -0.043761           -0.033220           0.130561   \n",
       "educp                     -0.075524           -0.015753           0.142151   \n",
       "\n",
       "                        area     educm     educp  \n",
       "vive_padre         -0.023838 -0.010567  0.344436  \n",
       "vive_madre          0.035669  0.163277  0.066861  \n",
       "n_personas          0.009178 -0.045365  0.023163  \n",
       "n_habitaciones      0.012719  0.031183  0.054048  \n",
       "cercania_juegos    -0.163209 -0.043761 -0.075524  \n",
       "cercania_servicios  0.008538 -0.033220 -0.015753  \n",
       "edad_primer_parto   0.054002  0.130561  0.142151  \n",
       "area                1.000000  0.082870  0.064682  \n",
       "educm               0.082870  1.000000  0.296504  \n",
       "educp               0.064682  0.296504  1.000000  "
      ]
     },
     "execution_count": 25,
     "metadata": {},
     "output_type": "execute_result"
    }
   ],
   "source": [
    " junaeb.corr()"
   ]
  },
  {
   "cell_type": "code",
   "execution_count": 26,
   "id": "00e23c09",
   "metadata": {},
   "outputs": [
    {
     "data": {
      "image/png": "[encoded data removed]",
      "text/plain": [
       "<Figure size 432x288 with 1 Axes>"
      ]
     },
     "metadata": {},
     "output_type": "display_data"
    }
   ],
   "source": [
    "\n",
    "plt.hist(junaeb[\"edad_primer_parto\"])\n",
    "plt.title('Histograma de una variable')\n",
    "plt.xlabel('Valor de la variable')\n",
    "plt.ylabel('Conteo')\n",
    "plt.show()"
   ]
  },
  {
   "cell_type": "code",
   "execution_count": 27,
   "id": "1310d2ef",
   "metadata": {
    "code_folding": []
   },
   "outputs": [
    {
     "data": {
      "image/png": "[encoded data removed]",
      "text/plain": [
       "<Figure size 432x276.48 with 1 Axes>"
      ]
     },
     "metadata": {},
     "output_type": "display_data"
    }
   ],
   "source": [
    "ig, ax = plt.subplots(figsize=(6, 3.84))\n",
    "\n",
    "junaeb.plot(\n",
    "    x    = \"educp\",\n",
    "    y    = 'vive_padre',\n",
    "    c    = 'firebrick',\n",
    "    kind = \"scatter\",\n",
    "    ax   = ax\n",
    ")\n",
    "ax.set_title(\"educp y vive_padre\");"
   ]
  },
  {
   "cell_type": "code",
   "execution_count": 28,
   "id": "653af879",
   "metadata": {
    "scrolled": true
   },
   "outputs": [
    {
     "data": {
      "image/png": "[encoded data removed]",
      "text/plain": [
       "<Figure size 1440x1440 with 12 Axes>"
      ]
     },
     "metadata": {},
     "output_type": "display_data"
    }
   ],
   "source": [
    "# Gráfico de distribución para cada variable numérica\n",
    "# ==============================================================================\n",
    "# Ajustar número de subplots en función del número de columnas\n",
    "fig, axes = plt.subplots(nrows=4, ncols=3, figsize=(20, 20))\n",
    "axes = axes.flat\n",
    "columnas_numeric = junaeb.select_dtypes(include=['float64', 'int']).columns\n",
    "\n",
    "for i, colum in enumerate(columnas_numeric):\n",
    "        sns.histplot(\n",
    "            data    = junaeb,\n",
    "            x       = colum,\n",
    "            stat    = \"count\",\n",
    "            kde     = True,\n",
    "            color   = (list(plt.rcParams['axes.prop_cycle'])*2)[i][\"color\"],\n",
    "            line_kws= {'linewidth': 2},\n",
    "            alpha   = 0.3,\n",
    "            ax      = axes[i]\n",
    "        )\n",
    "        axes[i].set_title(colum, fontsize = 10, fontweight = \"bold\")\n",
    "        axes[i].tick_params(labelsize = 8)\n",
    "        axes[i].set_xlabel(\"\")\n",
    "\n",
    "\n",
    "    \n",
    "fig.tight_layout()\n",
    "plt.subplots_adjust(top = 0.9)\n",
    "fig.suptitle('Distribución variables numéricas', fontsize = 10, fontweight = \"bold\");"
   ]
  },
  {
   "cell_type": "code",
   "execution_count": 29,
   "id": "dae1d255",
   "metadata": {},
   "outputs": [],
   "source": [
    "# Tratamiento de datos\n",
    "# ==============================================================================\n",
    "import pandas as pd\n",
    "import numpy as np\n",
    "\n",
    "# Gráficos\n",
    "# ==============================================================================\n",
    "import matplotlib.pyplot as plt\n",
    "from matplotlib import style\n",
    "import seaborn as sns\n",
    "\n",
    "# Preprocesado y análisis\n",
    "# ==============================================================================\n",
    "import statsmodels.api as sm\n",
    "from scipy import stats\n",
    "\n",
    "# Configuración matplotlib\n",
    "# ==============================================================================\n",
    "plt.style.use('ggplot')\n",
    "\n",
    "# Configuración warnings\n",
    "# ==============================================================================\n",
    "import warnings\n",
    "warnings.filterwarnings('ignore')\n",
    "# Tratamiento de datos\n",
    "# ==============================================================================\n",
    "import pandas as pd\n",
    "import numpy as np\n",
    "\n",
    "# Gráficos\n",
    "# ==============================================================================\n",
    "import matplotlib.pyplot as plt\n",
    "from matplotlib import style\n",
    "import seaborn as sns\n",
    "\n",
    "# Preprocesado y modelado\n",
    "# ==============================================================================\n",
    "from scipy.stats import pearsonr\n",
    "from sklearn.linear_model import LinearRegression\n",
    "from sklearn.model_selection import train_test_split\n",
    "from sklearn.metrics import r2_score\n",
    "from sklearn.metrics import mean_squared_error\n",
    "import statsmodels.api as sm\n",
    "import statsmodels.formula.api as smf\n",
    "\n",
    "# Configuración matplotlib\n",
    "# ==============================================================================\n",
    "plt.rcParams['image.cmap'] = \"bwr\"\n",
    "#plt.rcParams['figure.dpi'] = \"100\"\n",
    "plt.rcParams['savefig.bbox'] = \"tight\"\n",
    "style.use('ggplot') or plt.style.use('ggplot')\n",
    "\n",
    "# Configuración warnings\n",
    "# ==============================================================================\n",
    "import warnings\n",
    "warnings.filterwarnings('ignore')\n",
    "#Libreria para analizar VIF\n",
    "from statsmodels.stats.outliers_influence import variance_inflation_factor \n",
    "from sklearn.linear_model import LinearRegression"
   ]
  },
  {
   "cell_type": "markdown",
   "id": "e38a52e5",
   "metadata": {},
   "source": [
    "### OLS\n",
    "#### Analisis de variables independientes a traves del estadistico T-student\n",
    "Podemos visualizar que las variables cercania_juegos y cercania_servicios son no significativas por lo que podemos sacarlas del modelo\n"
   ]
  },
  {
   "cell_type": "code",
   "execution_count": 30,
   "id": "05572fe1",
   "metadata": {
    "scrolled": true
   },
   "outputs": [
    {
     "name": "stdout",
     "output_type": "stream",
     "text": [
      "                            OLS Regression Results                            \n",
      "==============================================================================\n",
      "Dep. Variable:             vive_padre   R-squared:                       0.161\n",
      "Model:                            OLS   Adj. R-squared:                  0.160\n",
      "Method:                 Least Squares   F-statistic:                     117.0\n",
      "Date:                Thu, 15 Sep 2022   Prob (F-statistic):          9.79e-202\n",
      "Time:                        20:13:12   Log-Likelihood:                -3090.5\n",
      "No. Observations:                5501   AIC:                             6201.\n",
      "Df Residuals:                    5491   BIC:                             6267.\n",
      "Df Model:                           9                                         \n",
      "Covariance Type:            nonrobust                                         \n",
      "======================================================================================\n",
      "                         coef    std err          t      P>|t|      [0.025      0.975]\n",
      "--------------------------------------------------------------------------------------\n",
      "const                  0.0952      0.065      1.475      0.140      -0.031       0.222\n",
      "vive_madre             0.1167      0.037      3.172      0.002       0.045       0.189\n",
      "n_personas             0.0527      0.005     10.795      0.000       0.043       0.062\n",
      "n_habitaciones        -0.0436      0.007     -6.137      0.000      -0.058      -0.030\n",
      "edad_primer_parto      0.0093      0.001      8.166      0.000       0.007       0.012\n",
      "area                  -0.0775      0.022     -3.517      0.000      -0.121      -0.034\n",
      "educm                 -0.0149      0.002     -9.557      0.000      -0.018      -0.012\n",
      "educp                  0.0326      0.001     28.193      0.000       0.030       0.035\n",
      "cercania_juegos        0.0043      0.017      0.249      0.803      -0.030       0.039\n",
      "cercania_servicios     0.0393      0.029      1.355      0.175      -0.018       0.096\n",
      "==============================================================================\n",
      "Omnibus:                      684.852   Durbin-Watson:                   1.987\n",
      "Prob(Omnibus):                  0.000   Jarque-Bera (JB):              721.910\n",
      "Skew:                          -0.832   Prob(JB):                    1.73e-157\n",
      "Kurtosis:                       2.381   Cond. No.                         353.\n",
      "==============================================================================\n",
      "\n",
      "Notes:\n",
      "[1] Standard Errors assume that the covariance matrix of the errors is correctly specified.\n"
     ]
    }
   ],
   "source": [
    "y=junaeb['vive_padre']\n",
    "X_0=junaeb[[\"vive_madre\",\"n_personas\",\"n_habitaciones\",\"edad_primer_parto\",\"area\",\"educm\",\"educp\",\"cercania_juegos\",\"cercania_servicios\"]]\n",
    "X_0=sm.add_constant(X_0)\n",
    "model = sm.OLS(y, X_0)\n",
    "results = model.fit()\n",
    "print(results.summary())"
   ]
  },
  {
   "cell_type": "code",
   "execution_count": 31,
   "id": "7d983506",
   "metadata": {
    "scrolled": true
   },
   "outputs": [
    {
     "name": "stdout",
     "output_type": "stream",
     "text": [
      "                            OLS Regression Results                            \n",
      "==============================================================================\n",
      "Dep. Variable:             vive_padre   R-squared:                       0.161\n",
      "Model:                            OLS   Adj. R-squared:                  0.160\n",
      "Method:                 Least Squares   F-statistic:                     150.2\n",
      "Date:                Thu, 15 Sep 2022   Prob (F-statistic):          1.69e-203\n",
      "Time:                        20:13:12   Log-Likelihood:                -3091.4\n",
      "No. Observations:                5501   AIC:                             6199.\n",
      "Df Residuals:                    5493   BIC:                             6252.\n",
      "Df Model:                           7                                         \n",
      "Covariance Type:            nonrobust                                         \n",
      "=====================================================================================\n",
      "                        coef    std err          t      P>|t|      [0.025      0.975]\n",
      "-------------------------------------------------------------------------------------\n",
      "const                 0.1416      0.052      2.706      0.007       0.039       0.244\n",
      "vive_madre            0.1175      0.037      3.194      0.001       0.045       0.190\n",
      "n_personas            0.0528      0.005     10.801      0.000       0.043       0.062\n",
      "n_habitaciones       -0.0438      0.007     -6.162      0.000      -0.058      -0.030\n",
      "edad_primer_parto     0.0093      0.001      8.155      0.000       0.007       0.012\n",
      "area                 -0.0780      0.022     -3.585      0.000      -0.121      -0.035\n",
      "educm                -0.0150      0.002     -9.607      0.000      -0.018      -0.012\n",
      "educp                 0.0325      0.001     28.215      0.000       0.030       0.035\n",
      "==============================================================================\n",
      "Omnibus:                      686.250   Durbin-Watson:                   1.988\n",
      "Prob(Omnibus):                  0.000   Jarque-Bera (JB):              722.178\n",
      "Skew:                          -0.832   Prob(JB):                    1.52e-157\n",
      "Kurtosis:                       2.380   Cond. No.                         298.\n",
      "==============================================================================\n",
      "\n",
      "Notes:\n",
      "[1] Standard Errors assume that the covariance matrix of the errors is correctly specified.\n"
     ]
    }
   ],
   "source": [
    "y=junaeb['vive_padre']\n",
    "X=junaeb[[\"vive_madre\",\"n_personas\",\"n_habitaciones\",\"edad_primer_parto\",\"area\",\"educm\",\"educp\"]]\n",
    "X=sm.add_constant(X)\n",
    "model = sm.OLS(y, X)\n",
    "results = model.fit()\n",
    "print(results.summary())"
   ]
  },
  {
   "cell_type": "markdown",
   "id": "80063889",
   "metadata": {},
   "source": [
    "#### Interpretacion de los coeficientes\n",
    "Podemos notar a traves de los coefiecientes del modelo OLS , que la proporcion de que el padre viva en la casa disminuye si el lugar donde habita es en zona urbana. Ademas la proporcion de que el padre viva en la casa disminuye a medida que la educacion de la madre se incrementa y tambien la proporcion de que el padre viva en la casa disminuye si se incrementa el numero de habitaciones. Estas tres variables hacen que la probabilidad de que el padre viva en la casa se vea disminuida.\n",
    "\n",
    "Por otro lado las variables vive_madre , n_personas , edad_primer_parto , educp hacen que la probabilidad de que el padre viva en la casa aumente , por ejemplo si la madre vive en la casa la proporcion de que el padre viva en la casa aumenta.\n",
    "\n",
    "Podemos notar que a medida si vive una madre en el hogar la probabilidad de que viva el padre aumenta en un 12.16% ¿Correcto?"
   ]
  },
  {
   "cell_type": "markdown",
   "id": "7b6e4ea4",
   "metadata": {},
   "source": [
    "#### Analisis prediccion\n",
    "Se extrajo el 70% de los datos para entrenar al modelo con esos datos , para luego realizar la prediccion con el 30% restante"
   ]
  },
  {
   "cell_type": "code",
   "execution_count": 32,
   "id": "708fc15e",
   "metadata": {
    "scrolled": true
   },
   "outputs": [
    {
     "name": "stdout",
     "output_type": "stream",
     "text": [
      "                            OLS Regression Results                            \n",
      "==============================================================================\n",
      "Dep. Variable:             vive_padre   R-squared:                       0.159\n",
      "Model:                            OLS   Adj. R-squared:                  0.157\n",
      "Method:                 Least Squares   F-statistic:                     103.7\n",
      "Date:                Thu, 15 Sep 2022   Prob (F-statistic):          1.79e-139\n",
      "Time:                        20:13:12   Log-Likelihood:                -2177.0\n",
      "No. Observations:                3850   AIC:                             4370.\n",
      "Df Residuals:                    3842   BIC:                             4420.\n",
      "Df Model:                           7                                         \n",
      "Covariance Type:            nonrobust                                         \n",
      "=====================================================================================\n",
      "                        coef    std err          t      P>|t|      [0.025      0.975]\n",
      "-------------------------------------------------------------------------------------\n",
      "const                 0.1450      0.062      2.335      0.020       0.023       0.267\n",
      "vive_madre            0.1333      0.043      3.082      0.002       0.048       0.218\n",
      "n_personas            0.0514      0.006      8.853      0.000       0.040       0.063\n",
      "n_habitaciones       -0.0368      0.008     -4.380      0.000      -0.053      -0.020\n",
      "edad_primer_parto     0.0089      0.001      6.443      0.000       0.006       0.012\n",
      "area                 -0.0826      0.026     -3.127      0.002      -0.134      -0.031\n",
      "educm                -0.0163      0.002     -8.731      0.000      -0.020      -0.013\n",
      "educp                 0.0323      0.001     23.371      0.000       0.030       0.035\n",
      "==============================================================================\n",
      "Omnibus:                      496.525   Durbin-Watson:                   1.993\n",
      "Prob(Omnibus):                  0.000   Jarque-Bera (JB):              495.203\n",
      "Skew:                          -0.815   Prob(JB):                    2.94e-108\n",
      "Kurtosis:                       2.343   Cond. No.                         293.\n",
      "==============================================================================\n",
      "\n",
      "Notes:\n",
      "[1] Standard Errors assume that the covariance matrix of the errors is correctly specified.\n",
      "AxesSubplot(0.125,0.125;0.775x0.755)\n"
     ]
    },
    {
     "data": {
      "image/png": "[encoded data removed]",
      "text/plain": [
       "<Figure size 432x288 with 1 Axes>"
      ]
     },
     "metadata": {},
     "output_type": "display_data"
    }
   ],
   "source": [
    "X_train, X_test, y_train, y_test = train_test_split(\n",
    "                                        X,\n",
    "                                        y,\n",
    "                                        train_size   = 0.7,\n",
    "                                        random_state = 1,\n",
    "                                        shuffle      = True\n",
    "                                    )\n",
    "# A la matriz de predictores se le tiene que añadir una columna de 1s para el intercept del modelo\n",
    "X_train = sm.add_constant(X_train, prepend=True)\n",
    "modelo = sm.OLS(endog=y_train, exog=X_train,)\n",
    "modelo = modelo.fit()\n",
    "print(modelo.summary())\n",
    "\n",
    "df_prediccion= pd.read_csv('C:/Users/crist/Documents/GitHub/LAB-MAA/data/Prediccion_real.csv')\n",
    "df_prediccion.rename(columns={'Sheet1.Prediccion':'vive_padre_prediccion'},\n",
    "               inplace=True)\n",
    "print(df_prediccion.plot(\"vive_padre\", \"vive_padre_prediccion\", kind=\"scatter\"))\n"
   ]
  },
  {
   "cell_type": "markdown",
   "id": "88adc612",
   "metadata": {},
   "source": [
    "##### Resultados valor real vs predicho\n",
    "Podemos notar que hay valores que se escapan del rango [0-1]"
   ]
  },
  {
   "cell_type": "code",
   "execution_count": 8,
   "id": "56960c31",
   "metadata": {
    "run_control": {
     "marked": true
    }
   },
   "outputs": [
    {
     "name": "stdout",
     "output_type": "stream",
     "text": [
      "AxesSubplot(0.125,0.125;0.775x0.755)\n"
     ]
    },
    {
     "data": {
      "text/html": [
       "<div>\n",
       "<style scoped>\n",
       "    .dataframe tbody tr th:only-of-type {\n",
       "        vertical-align: middle;\n",
       "    }\n",
       "\n",
       "    .dataframe tbody tr th {\n",
       "        vertical-align: top;\n",
       "    }\n",
       "\n",
       "    .dataframe thead th {\n",
       "        text-align: right;\n",
       "    }\n",
       "</style>\n",
       "<table border=\"1\" class=\"dataframe\">\n",
       "  <thead>\n",
       "    <tr style=\"text-align: right;\">\n",
       "      <th></th>\n",
       "      <th>ID</th>\n",
       "      <th>vive_padre</th>\n",
       "      <th>Prediccion</th>\n",
       "    </tr>\n",
       "  </thead>\n",
       "  <tbody>\n",
       "    <tr>\n",
       "      <th>0</th>\n",
       "      <td>885</td>\n",
       "      <td>1</td>\n",
       "      <td>1.369920</td>\n",
       "    </tr>\n",
       "    <tr>\n",
       "      <th>1</th>\n",
       "      <td>5274</td>\n",
       "      <td>1</td>\n",
       "      <td>1.261178</td>\n",
       "    </tr>\n",
       "    <tr>\n",
       "      <th>2</th>\n",
       "      <td>840</td>\n",
       "      <td>1</td>\n",
       "      <td>1.249096</td>\n",
       "    </tr>\n",
       "    <tr>\n",
       "      <th>3</th>\n",
       "      <td>1098</td>\n",
       "      <td>1</td>\n",
       "      <td>1.246016</td>\n",
       "    </tr>\n",
       "    <tr>\n",
       "      <th>4</th>\n",
       "      <td>1946</td>\n",
       "      <td>1</td>\n",
       "      <td>1.244761</td>\n",
       "    </tr>\n",
       "    <tr>\n",
       "      <th>...</th>\n",
       "      <td>...</td>\n",
       "      <td>...</td>\n",
       "      <td>...</td>\n",
       "    </tr>\n",
       "    <tr>\n",
       "      <th>1908</th>\n",
       "      <td>4040</td>\n",
       "      <td>0</td>\n",
       "      <td>0.078419</td>\n",
       "    </tr>\n",
       "    <tr>\n",
       "      <th>1909</th>\n",
       "      <td>3059</td>\n",
       "      <td>0</td>\n",
       "      <td>0.074085</td>\n",
       "    </tr>\n",
       "    <tr>\n",
       "      <th>1910</th>\n",
       "      <td>3771</td>\n",
       "      <td>0</td>\n",
       "      <td>0.067901</td>\n",
       "    </tr>\n",
       "    <tr>\n",
       "      <th>1911</th>\n",
       "      <td>5104</td>\n",
       "      <td>0</td>\n",
       "      <td>0.066310</td>\n",
       "    </tr>\n",
       "    <tr>\n",
       "      <th>1912</th>\n",
       "      <td>1691</td>\n",
       "      <td>0</td>\n",
       "      <td>0.046000</td>\n",
       "    </tr>\n",
       "  </tbody>\n",
       "</table>\n",
       "<p>1913 rows × 3 columns</p>\n",
       "</div>"
      ],
      "text/plain": [
       "        ID  vive_padre  Prediccion\n",
       "0      885           1    1.369920\n",
       "1     5274           1    1.261178\n",
       "2      840           1    1.249096\n",
       "3     1098           1    1.246016\n",
       "4     1946           1    1.244761\n",
       "...    ...         ...         ...\n",
       "1908  4040           0    0.078419\n",
       "1909  3059           0    0.074085\n",
       "1910  3771           0    0.067901\n",
       "1911  5104           0    0.066310\n",
       "1912  1691           0    0.046000\n",
       "\n",
       "[1913 rows x 3 columns]"
      ]
     },
     "execution_count": 8,
     "metadata": {},
     "output_type": "execute_result"
    },
    {
     "data": {
      "image/png": "[encoded data removed]",
      "text/plain": [
       "<Figure size 432x288 with 1 Axes>"
      ]
     },
     "metadata": {},
     "output_type": "display_data"
    }
   ],
   "source": [
    "df_prediccion= pd.read_csv('Predicciones_X_Test_Y_Test.csv')\n",
    "print(df_prediccion.plot(\"vive_padre\", \"Prediccion\", kind=\"scatter\"))\n",
    "df_prediccion"
   ]
  },
  {
   "cell_type": "code",
   "execution_count": 34,
   "id": "93e63086",
   "metadata": {},
   "outputs": [
    {
     "data": {
      "text/plain": [
       "<matplotlib.collections.PathCollection at 0x23b51455910>"
      ]
     },
     "execution_count": 34,
     "metadata": {},
     "output_type": "execute_result"
    },
    {
     "data": {
      "image/png": "[encoded data removed]",
      "text/plain": [
       "<Figure size 432x288 with 1 Axes>"
      ]
     },
     "metadata": {},
     "output_type": "display_data"
    }
   ],
   "source": [
    "prediccion_train = modelo.predict(exog = X_test)\n",
    "residuos_train   = prediccion_train - y_test\n",
    "plt.scatter(y_test,prediccion_train)\n"
   ]
  },
  {
   "cell_type": "markdown",
   "id": "35cb6069",
   "metadata": {},
   "source": [
    "##### Valores maximos y minimos de la prediccion\n",
    "Aqui se visualiza los valores predichos por el modelo OLS que no tienen sentido"
   ]
  },
  {
   "cell_type": "code",
   "execution_count": 35,
   "id": "18042eba",
   "metadata": {
    "scrolled": true
   },
   "outputs": [
    {
     "name": "stdout",
     "output_type": "stream",
     "text": [
      "1.369920345000249 No tienen sentido estos valores predichos por el OLS que se pueden apreciar en el grafico y en el resultado\n"
     ]
    }
   ],
   "source": [
    "print(max(df_prediccion[\"Prediccion\"]), \"No tienen sentido estos valores predichos por el OLS que se pueden apreciar en el grafico y en el resultado\")"
   ]
  },
  {
   "cell_type": "markdown",
   "id": "c79cf2bf",
   "metadata": {},
   "source": [
    "#### analizar residuos graficos y  shapiro_test \n",
    "A traves de los graficos y del test de shapiro podemos concluir que los errores no se distribuyen normalmente por lo que no se cumple uno de los supuestos del modelo ocasionando que los estimadores del modelo no sean MELI , ademas esto ya se podia concluir al saber que la variable dependiente vive_padre es una variable limitada binaria que admite valores 0 y 1 y como vimos en clases si la variable dependiente no se comporta de manera lineal entonces los residuos no siguen una dist normal"
   ]
  },
  {
   "cell_type": "code",
   "execution_count": 36,
   "id": "b66e8eed",
   "metadata": {},
   "outputs": [
    {
     "data": {
      "image/png": "[encoded data removed]",
      "text/plain": [
       "<Figure size 1440x1440 with 4 Axes>"
      ]
     },
     "metadata": {},
     "output_type": "display_data"
    }
   ],
   "source": [
    "# Gráficos\n",
    "# ==============================================================================\n",
    "fig, axes = plt.subplots(nrows=2, ncols=2, figsize=(20, 20))\n",
    "\n",
    "\n",
    "sns.histplot(\n",
    "    data    = residuos_train,\n",
    "    stat    = \"density\",\n",
    "    kde     = True,\n",
    "    line_kws= {'linewidth': 1},\n",
    "    color   = \"firebrick\",\n",
    "    alpha   = 0.3,\n",
    "    ax      = axes[0, 0]\n",
    ")\n",
    "\n",
    "axes[0, 0].set_title('Distribución residuos del modelo', fontsize = 10,\n",
    "                     fontweight = \"bold\")\n",
    "axes[0, 0].set_xlabel(\"Residuo\")\n",
    "axes[0, 0].tick_params(labelsize = 7)\n",
    "\n",
    "\n",
    "sm.qqplot(\n",
    "    residuos_train,\n",
    "    fit   = True,\n",
    "    line  = 'q',\n",
    "    ax    = axes[0, 1], \n",
    "    color = 'firebrick',\n",
    "    alpha = 0.4,\n",
    "    lw    = 2\n",
    ")\n",
    "axes[0, 1].set_title('Q-Q residuos del modelo', fontsize = 10, fontweight = \"bold\")\n",
    "axes[0, 1].tick_params(labelsize = 7)\n",
    "\n",
    "\n",
    "\n",
    "fig.tight_layout()\n",
    "plt.subplots_adjust(top=0.9)\n",
    "fig.suptitle('Diagnóstico residuos', fontsize = 12, fontweight = \"bold\");"
   ]
  },
  {
   "cell_type": "code",
   "execution_count": 37,
   "id": "64a2dec1",
   "metadata": {},
   "outputs": [
    {
     "data": {
      "text/plain": [
       "ShapiroResult(statistic=0.8492597341537476, pvalue=5.073376203027274e-37)"
      ]
     },
     "execution_count": 37,
     "metadata": {},
     "output_type": "execute_result"
    }
   ],
   "source": [
    "shapiro_test = stats.shapiro(residuos_train)\n",
    "shapiro_test"
   ]
  },
  {
   "cell_type": "markdown",
   "id": "adb3b908",
   "metadata": {},
   "source": [
    "#### analisis multicolinealidad y correlaciones\n",
    "Se puede ver que los VIF son inferiores a 10 por lo que no hay problemas de multicolinealidad"
   ]
  },
  {
   "cell_type": "code",
   "execution_count": 38,
   "id": "97adfa5b",
   "metadata": {},
   "outputs": [
    {
     "data": {
      "text/html": [
       "<div>\n",
       "<style scoped>\n",
       "    .dataframe tbody tr th:only-of-type {\n",
       "        vertical-align: middle;\n",
       "    }\n",
       "\n",
       "    .dataframe tbody tr th {\n",
       "        vertical-align: top;\n",
       "    }\n",
       "\n",
       "    .dataframe thead th {\n",
       "        text-align: right;\n",
       "    }\n",
       "</style>\n",
       "<table border=\"1\" class=\"dataframe\">\n",
       "  <thead>\n",
       "    <tr style=\"text-align: right;\">\n",
       "      <th></th>\n",
       "      <th>vive_padre</th>\n",
       "      <th>vive_madre</th>\n",
       "      <th>n_personas</th>\n",
       "      <th>n_habitaciones</th>\n",
       "      <th>cercania_juegos</th>\n",
       "      <th>cercania_servicios</th>\n",
       "      <th>edad_primer_parto</th>\n",
       "      <th>area</th>\n",
       "      <th>educm</th>\n",
       "      <th>educp</th>\n",
       "    </tr>\n",
       "  </thead>\n",
       "  <tbody>\n",
       "    <tr>\n",
       "      <th>vive_padre</th>\n",
       "      <td>1.000000</td>\n",
       "      <td>0.056178</td>\n",
       "      <td>0.110020</td>\n",
       "      <td>-0.004613</td>\n",
       "      <td>-0.012633</td>\n",
       "      <td>0.014804</td>\n",
       "      <td>0.113367</td>\n",
       "      <td>-0.023838</td>\n",
       "      <td>-0.010567</td>\n",
       "      <td>0.344436</td>\n",
       "    </tr>\n",
       "    <tr>\n",
       "      <th>vive_madre</th>\n",
       "      <td>0.056178</td>\n",
       "      <td>1.000000</td>\n",
       "      <td>0.013499</td>\n",
       "      <td>-0.049149</td>\n",
       "      <td>-0.009513</td>\n",
       "      <td>0.010775</td>\n",
       "      <td>0.070025</td>\n",
       "      <td>0.035669</td>\n",
       "      <td>0.163277</td>\n",
       "      <td>0.066861</td>\n",
       "    </tr>\n",
       "    <tr>\n",
       "      <th>n_personas</th>\n",
       "      <td>0.110020</td>\n",
       "      <td>0.013499</td>\n",
       "      <td>1.000000</td>\n",
       "      <td>0.445391</td>\n",
       "      <td>0.019657</td>\n",
       "      <td>-0.006705</td>\n",
       "      <td>-0.181605</td>\n",
       "      <td>0.009178</td>\n",
       "      <td>-0.045365</td>\n",
       "      <td>0.023163</td>\n",
       "    </tr>\n",
       "    <tr>\n",
       "      <th>n_habitaciones</th>\n",
       "      <td>-0.004613</td>\n",
       "      <td>-0.049149</td>\n",
       "      <td>0.445391</td>\n",
       "      <td>1.000000</td>\n",
       "      <td>-0.022166</td>\n",
       "      <td>-0.016867</td>\n",
       "      <td>-0.002905</td>\n",
       "      <td>0.012719</td>\n",
       "      <td>0.031183</td>\n",
       "      <td>0.054048</td>\n",
       "    </tr>\n",
       "    <tr>\n",
       "      <th>cercania_juegos</th>\n",
       "      <td>-0.012633</td>\n",
       "      <td>-0.009513</td>\n",
       "      <td>0.019657</td>\n",
       "      <td>-0.022166</td>\n",
       "      <td>1.000000</td>\n",
       "      <td>0.032325</td>\n",
       "      <td>-0.054615</td>\n",
       "      <td>-0.163209</td>\n",
       "      <td>-0.043761</td>\n",
       "      <td>-0.075524</td>\n",
       "    </tr>\n",
       "    <tr>\n",
       "      <th>cercania_servicios</th>\n",
       "      <td>0.014804</td>\n",
       "      <td>0.010775</td>\n",
       "      <td>-0.006705</td>\n",
       "      <td>-0.016867</td>\n",
       "      <td>0.032325</td>\n",
       "      <td>1.000000</td>\n",
       "      <td>-0.008842</td>\n",
       "      <td>0.008538</td>\n",
       "      <td>-0.033220</td>\n",
       "      <td>-0.015753</td>\n",
       "    </tr>\n",
       "    <tr>\n",
       "      <th>edad_primer_parto</th>\n",
       "      <td>0.113367</td>\n",
       "      <td>0.070025</td>\n",
       "      <td>-0.181605</td>\n",
       "      <td>-0.002905</td>\n",
       "      <td>-0.054615</td>\n",
       "      <td>-0.008842</td>\n",
       "      <td>1.000000</td>\n",
       "      <td>0.054002</td>\n",
       "      <td>0.130561</td>\n",
       "      <td>0.142151</td>\n",
       "    </tr>\n",
       "    <tr>\n",
       "      <th>area</th>\n",
       "      <td>-0.023838</td>\n",
       "      <td>0.035669</td>\n",
       "      <td>0.009178</td>\n",
       "      <td>0.012719</td>\n",
       "      <td>-0.163209</td>\n",
       "      <td>0.008538</td>\n",
       "      <td>0.054002</td>\n",
       "      <td>1.000000</td>\n",
       "      <td>0.082870</td>\n",
       "      <td>0.064682</td>\n",
       "    </tr>\n",
       "    <tr>\n",
       "      <th>educm</th>\n",
       "      <td>-0.010567</td>\n",
       "      <td>0.163277</td>\n",
       "      <td>-0.045365</td>\n",
       "      <td>0.031183</td>\n",
       "      <td>-0.043761</td>\n",
       "      <td>-0.033220</td>\n",
       "      <td>0.130561</td>\n",
       "      <td>0.082870</td>\n",
       "      <td>1.000000</td>\n",
       "      <td>0.296504</td>\n",
       "    </tr>\n",
       "    <tr>\n",
       "      <th>educp</th>\n",
       "      <td>0.344436</td>\n",
       "      <td>0.066861</td>\n",
       "      <td>0.023163</td>\n",
       "      <td>0.054048</td>\n",
       "      <td>-0.075524</td>\n",
       "      <td>-0.015753</td>\n",
       "      <td>0.142151</td>\n",
       "      <td>0.064682</td>\n",
       "      <td>0.296504</td>\n",
       "      <td>1.000000</td>\n",
       "    </tr>\n",
       "  </tbody>\n",
       "</table>\n",
       "</div>"
      ],
      "text/plain": [
       "                    vive_padre  vive_madre  n_personas  n_habitaciones  \\\n",
       "vive_padre            1.000000    0.056178    0.110020       -0.004613   \n",
       "vive_madre            0.056178    1.000000    0.013499       -0.049149   \n",
       "n_personas            0.110020    0.013499    1.000000        0.445391   \n",
       "n_habitaciones       -0.004613   -0.049149    0.445391        1.000000   \n",
       "cercania_juegos      -0.012633   -0.009513    0.019657       -0.022166   \n",
       "cercania_servicios    0.014804    0.010775   -0.006705       -0.016867   \n",
       "edad_primer_parto     0.113367    0.070025   -0.181605       -0.002905   \n",
       "area                 -0.023838    0.035669    0.009178        0.012719   \n",
       "educm                -0.010567    0.163277   -0.045365        0.031183   \n",
       "educp                 0.344436    0.066861    0.023163        0.054048   \n",
       "\n",
       "                    cercania_juegos  cercania_servicios  edad_primer_parto  \\\n",
       "vive_padre                -0.012633            0.014804           0.113367   \n",
       "vive_madre                -0.009513            0.010775           0.070025   \n",
       "n_personas                 0.019657           -0.006705          -0.181605   \n",
       "n_habitaciones            -0.022166           -0.016867          -0.002905   \n",
       "cercania_juegos            1.000000            0.032325          -0.054615   \n",
       "cercania_servicios         0.032325            1.000000          -0.008842   \n",
       "edad_primer_parto         -0.054615           -0.008842           1.000000   \n",
       "area                      -0.163209            0.008538           0.054002   \n",
       "educm                     -0.043761           -0.033220           0.130561   \n",
       "educp                     -0.075524           -0.015753           0.142151   \n",
       "\n",
       "                        area     educm     educp  \n",
       "vive_padre         -0.023838 -0.010567  0.344436  \n",
       "vive_madre          0.035669  0.163277  0.066861  \n",
       "n_personas          0.009178 -0.045365  0.023163  \n",
       "n_habitaciones      0.012719  0.031183  0.054048  \n",
       "cercania_juegos    -0.163209 -0.043761 -0.075524  \n",
       "cercania_servicios  0.008538 -0.033220 -0.015753  \n",
       "edad_primer_parto   0.054002  0.130561  0.142151  \n",
       "area                1.000000  0.082870  0.064682  \n",
       "educm               0.082870  1.000000  0.296504  \n",
       "educp               0.064682  0.296504  1.000000  "
      ]
     },
     "execution_count": 38,
     "metadata": {},
     "output_type": "execute_result"
    }
   ],
   "source": [
    "corr_matrix = junaeb.corr(method='pearson')\n",
    "corr_matrix"
   ]
  },
  {
   "cell_type": "code",
   "execution_count": 39,
   "id": "b1b1802f",
   "metadata": {
    "scrolled": true
   },
   "outputs": [
    {
     "data": {
      "text/html": [
       "<div>\n",
       "<style scoped>\n",
       "    .dataframe tbody tr th:only-of-type {\n",
       "        vertical-align: middle;\n",
       "    }\n",
       "\n",
       "    .dataframe tbody tr th {\n",
       "        vertical-align: top;\n",
       "    }\n",
       "\n",
       "    .dataframe thead th {\n",
       "        text-align: right;\n",
       "    }\n",
       "</style>\n",
       "<table border=\"1\" class=\"dataframe\">\n",
       "  <thead>\n",
       "    <tr style=\"text-align: right;\">\n",
       "      <th></th>\n",
       "      <th>variable_1</th>\n",
       "      <th>variable_2</th>\n",
       "      <th>r</th>\n",
       "      <th>abs_r</th>\n",
       "    </tr>\n",
       "  </thead>\n",
       "  <tbody>\n",
       "    <tr>\n",
       "      <th>32</th>\n",
       "      <td>n_habitaciones</td>\n",
       "      <td>n_personas</td>\n",
       "      <td>0.445391</td>\n",
       "      <td>0.445391</td>\n",
       "    </tr>\n",
       "    <tr>\n",
       "      <th>23</th>\n",
       "      <td>n_personas</td>\n",
       "      <td>n_habitaciones</td>\n",
       "      <td>0.445391</td>\n",
       "      <td>0.445391</td>\n",
       "    </tr>\n",
       "    <tr>\n",
       "      <th>90</th>\n",
       "      <td>educp</td>\n",
       "      <td>vive_padre</td>\n",
       "      <td>0.344436</td>\n",
       "      <td>0.344436</td>\n",
       "    </tr>\n",
       "    <tr>\n",
       "      <th>9</th>\n",
       "      <td>vive_padre</td>\n",
       "      <td>educp</td>\n",
       "      <td>0.344436</td>\n",
       "      <td>0.344436</td>\n",
       "    </tr>\n",
       "    <tr>\n",
       "      <th>89</th>\n",
       "      <td>educm</td>\n",
       "      <td>educp</td>\n",
       "      <td>0.296504</td>\n",
       "      <td>0.296504</td>\n",
       "    </tr>\n",
       "    <tr>\n",
       "      <th>98</th>\n",
       "      <td>educp</td>\n",
       "      <td>educm</td>\n",
       "      <td>0.296504</td>\n",
       "      <td>0.296504</td>\n",
       "    </tr>\n",
       "    <tr>\n",
       "      <th>62</th>\n",
       "      <td>edad_primer_parto</td>\n",
       "      <td>n_personas</td>\n",
       "      <td>-0.181605</td>\n",
       "      <td>0.181605</td>\n",
       "    </tr>\n",
       "    <tr>\n",
       "      <th>26</th>\n",
       "      <td>n_personas</td>\n",
       "      <td>edad_primer_parto</td>\n",
       "      <td>-0.181605</td>\n",
       "      <td>0.181605</td>\n",
       "    </tr>\n",
       "    <tr>\n",
       "      <th>81</th>\n",
       "      <td>educm</td>\n",
       "      <td>vive_madre</td>\n",
       "      <td>0.163277</td>\n",
       "      <td>0.163277</td>\n",
       "    </tr>\n",
       "    <tr>\n",
       "      <th>18</th>\n",
       "      <td>vive_madre</td>\n",
       "      <td>educm</td>\n",
       "      <td>0.163277</td>\n",
       "      <td>0.163277</td>\n",
       "    </tr>\n",
       "  </tbody>\n",
       "</table>\n",
       "</div>"
      ],
      "text/plain": [
       "           variable_1         variable_2         r     abs_r\n",
       "32     n_habitaciones         n_personas  0.445391  0.445391\n",
       "23         n_personas     n_habitaciones  0.445391  0.445391\n",
       "90              educp         vive_padre  0.344436  0.344436\n",
       "9          vive_padre              educp  0.344436  0.344436\n",
       "89              educm              educp  0.296504  0.296504\n",
       "98              educp              educm  0.296504  0.296504\n",
       "62  edad_primer_parto         n_personas -0.181605  0.181605\n",
       "26         n_personas  edad_primer_parto -0.181605  0.181605\n",
       "81              educm         vive_madre  0.163277  0.163277\n",
       "18         vive_madre              educm  0.163277  0.163277"
      ]
     },
     "execution_count": 39,
     "metadata": {},
     "output_type": "execute_result"
    }
   ],
   "source": [
    "def tidy_corr_matrix(corr_mat):\n",
    "    '''\n",
    "    Función para convertir una matriz de correlación de pandas en formato tidy.\n",
    "    '''\n",
    "    corr_mat = corr_mat.stack().reset_index()\n",
    "    corr_mat.columns = ['variable_1','variable_2','r']\n",
    "    corr_mat = corr_mat.loc[corr_mat['variable_1'] != corr_mat['variable_2'], :]\n",
    "    corr_mat['abs_r'] = np.abs(corr_mat['r'])\n",
    "    corr_mat = corr_mat.sort_values('abs_r', ascending=False)\n",
    "    \n",
    "    return(corr_mat)\n",
    "\n",
    "tidy_corr_matrix(corr_matrix).head(10)"
   ]
  },
  {
   "cell_type": "code",
   "execution_count": 40,
   "id": "25488727",
   "metadata": {},
   "outputs": [
    {
     "data": {
      "image/png": "[encoded data removed]",
      "text/plain": [
       "<Figure size 360x360 with 1 Axes>"
      ]
     },
     "metadata": {},
     "output_type": "display_data"
    }
   ],
   "source": [
    "# Heatmap matriz de correlaciones\n",
    "# ==============================================================================\n",
    "fig, ax = plt.subplots(nrows=1, ncols=1, figsize=(5, 5))\n",
    "\n",
    "sns.heatmap(\n",
    "    corr_matrix,\n",
    "    annot     = True,\n",
    "    cbar      = False,\n",
    "    annot_kws = {\"size\": 8},\n",
    "    vmin      = -1,\n",
    "    vmax      = 1,\n",
    "    center    = 0,\n",
    "    cmap      = sns.diverging_palette(20, 220, n=200),\n",
    "    square    = True,\n",
    "    ax        = ax\n",
    ")\n",
    "\n",
    "ax.set_xticklabels(\n",
    "    ax.get_xticklabels(),\n",
    "    rotation = 45,\n",
    "    horizontalalignment = 'right',\n",
    ")\n",
    "\n",
    "ax.tick_params(labelsize = 10)"
   ]
  },
  {
   "cell_type": "code",
   "execution_count": 41,
   "id": "c5d7d26a",
   "metadata": {
    "scrolled": false
   },
   "outputs": [
    {
     "data": {
      "text/html": [
       "<div>\n",
       "<style scoped>\n",
       "    .dataframe tbody tr th:only-of-type {\n",
       "        vertical-align: middle;\n",
       "    }\n",
       "\n",
       "    .dataframe tbody tr th {\n",
       "        vertical-align: top;\n",
       "    }\n",
       "\n",
       "    .dataframe thead th {\n",
       "        text-align: right;\n",
       "    }\n",
       "</style>\n",
       "<table border=\"1\" class=\"dataframe\">\n",
       "  <thead>\n",
       "    <tr style=\"text-align: right;\">\n",
       "      <th></th>\n",
       "      <th>VIF</th>\n",
       "    </tr>\n",
       "  </thead>\n",
       "  <tbody>\n",
       "    <tr>\n",
       "      <th>const</th>\n",
       "      <td>inf</td>\n",
       "    </tr>\n",
       "    <tr>\n",
       "      <th>vive_madre</th>\n",
       "      <td>1.037656</td>\n",
       "    </tr>\n",
       "    <tr>\n",
       "      <th>n_personas</th>\n",
       "      <td>1.309967</td>\n",
       "    </tr>\n",
       "    <tr>\n",
       "      <th>n_habitaciones</th>\n",
       "      <td>1.268409</td>\n",
       "    </tr>\n",
       "    <tr>\n",
       "      <th>edad_primer_parto</th>\n",
       "      <td>1.077390</td>\n",
       "    </tr>\n",
       "    <tr>\n",
       "      <th>area</th>\n",
       "      <td>1.011015</td>\n",
       "    </tr>\n",
       "    <tr>\n",
       "      <th>educm</th>\n",
       "      <td>1.138913</td>\n",
       "    </tr>\n",
       "    <tr>\n",
       "      <th>educp</th>\n",
       "      <td>1.115835</td>\n",
       "    </tr>\n",
       "  </tbody>\n",
       "</table>\n",
       "</div>"
      ],
      "text/plain": [
       "                        VIF\n",
       "const                   inf\n",
       "vive_madre         1.037656\n",
       "n_personas         1.309967\n",
       "n_habitaciones     1.268409\n",
       "edad_primer_parto  1.077390\n",
       "area               1.011015\n",
       "educm              1.138913\n",
       "educp              1.115835"
      ]
     },
     "execution_count": 41,
     "metadata": {},
     "output_type": "execute_result"
    }
   ],
   "source": [
    "def calculateVIF(var_predictoras_df):\n",
    "    var_pred_labels = list(var_predictoras_df.columns)\n",
    "    num_var_pred = len(var_pred_labels)\n",
    "    \n",
    "    lr_model = LinearRegression()\n",
    "    \n",
    "    result = pd.DataFrame(index = ['VIF'], columns = var_pred_labels)\n",
    "    result = result.fillna(0)\n",
    "    \n",
    "    for ite in range(num_var_pred):\n",
    "        x_features = var_pred_labels[:]\n",
    "        y_feature = var_pred_labels[ite]\n",
    "        x_features.remove(y_feature)\n",
    "        \n",
    "        x = var_predictoras_df[x_features]\n",
    "        y = var_predictoras_df[y_feature]\n",
    "        \n",
    "        lr_model.fit(var_predictoras_df[x_features], var_predictoras_df[y_feature])\n",
    "        \n",
    "        result[y_feature] = 1/(1 - lr_model.score(var_predictoras_df[x_features], var_predictoras_df[y_feature]))\n",
    "    \n",
    "    return result\n",
    "calculateVIF(X.copy(deep = True)).T"
   ]
  },
  {
   "cell_type": "markdown",
   "id": "2494ebc4",
   "metadata": {},
   "source": [
    "### Probit\n",
    "Aqui se emplea el modelo probit en donde los residuos se distribuyen de manera normal"
   ]
  },
  {
   "cell_type": "code",
   "execution_count": 42,
   "id": "240faf80",
   "metadata": {
    "run_control": {
     "marked": true
    },
    "scrolled": true
   },
   "outputs": [
    {
     "name": "stdout",
     "output_type": "stream",
     "text": [
      "Optimization terminated successfully.\n",
      "         Current function value: 0.540627\n",
      "         Iterations 5\n",
      "                          Probit Regression Results                           \n",
      "==============================================================================\n",
      "Dep. Variable:             vive_padre   No. Observations:                 5501\n",
      "Model:                         Probit   Df Residuals:                     5493\n",
      "Method:                           MLE   Df Model:                            7\n",
      "Date:                Thu, 15 Sep 2022   Pseudo R-squ.:                  0.1289\n",
      "Time:                        20:13:17   Log-Likelihood:                -2974.0\n",
      "converged:                       True   LL-Null:                       -3414.2\n",
      "Covariance Type:            nonrobust   LLR p-value:                8.283e-186\n",
      "=====================================================================================\n",
      "                        coef    std err          z      P>|z|      [0.025      0.975]\n",
      "-------------------------------------------------------------------------------------\n",
      "const                -1.1454      0.170     -6.747      0.000      -1.478      -0.813\n",
      "vive_madre            0.3280      0.116      2.829      0.005       0.101       0.555\n",
      "n_personas            0.1644      0.016     10.269      0.000       0.133       0.196\n",
      "n_habitaciones       -0.1321      0.023     -5.868      0.000      -0.176      -0.088\n",
      "edad_primer_parto     0.0329      0.004      8.563      0.000       0.025       0.040\n",
      "area                 -0.2421      0.072     -3.356      0.001      -0.383      -0.101\n",
      "educm                -0.0477      0.005     -9.024      0.000      -0.058      -0.037\n",
      "educp                 0.0947      0.004     24.510      0.000       0.087       0.102\n",
      "=====================================================================================\n",
      "       Probit Marginal Effects       \n",
      "=====================================\n",
      "Dep. Variable:             vive_padre\n",
      "Method:                          dydx\n",
      "At:                           overall\n",
      "=====================================================================================\n",
      "                       dy/dx    std err          z      P>|z|      [0.025      0.975]\n",
      "-------------------------------------------------------------------------------------\n",
      "vive_madre            0.1009      0.036      2.834      0.005       0.031       0.171\n",
      "n_personas            0.0506      0.005     10.500      0.000       0.041       0.060\n",
      "n_habitaciones       -0.0406      0.007     -5.913      0.000      -0.054      -0.027\n",
      "edad_primer_parto     0.0101      0.001      8.700      0.000       0.008       0.012\n",
      "area                 -0.0744      0.022     -3.366      0.001      -0.118      -0.031\n",
      "educm                -0.0147      0.002     -9.169      0.000      -0.018      -0.012\n",
      "educp                 0.0291      0.001     29.147      0.000       0.027       0.031\n",
      "=====================================================================================\n"
     ]
    }
   ],
   "source": [
    "model = sm.Probit(y, X)\n",
    "probit_model = model.fit()\n",
    "print(probit_model.summary())\n",
    "mfx = probit_model.get_margeff(at='overall')\n",
    "print(mfx.summary())\n"
   ]
  },
  {
   "cell_type": "markdown",
   "id": "6d6b8d70",
   "metadata": {},
   "source": [
    "#### analisis prediccion"
   ]
  },
  {
   "cell_type": "code",
   "execution_count": 43,
   "id": "e46b1ae9",
   "metadata": {
    "scrolled": true
   },
   "outputs": [
    {
     "name": "stdout",
     "output_type": "stream",
     "text": [
      "1    3785\n",
      "0    1716\n",
      "Name: vive_padre, dtype: int64\n",
      "Porcentaje de padres que viven en la residencia vs los que no viven\n",
      "1    68.805672\n",
      "0    31.194328\n",
      "Name: vive_padre, dtype: float64\n"
     ]
    }
   ],
   "source": [
    "print(junaeb[\"vive_padre\"].value_counts())\n",
    "print(\"Porcentaje de padres que viven en la residencia vs los que no viven\")\n",
    "print(100*junaeb[\"vive_padre\"].value_counts(normalize=True))"
   ]
  },
  {
   "cell_type": "code",
   "execution_count": 44,
   "id": "6db86d34",
   "metadata": {
    "run_control": {
     "marked": true
    },
    "scrolled": false
   },
   "outputs": [
    {
     "name": "stdout",
     "output_type": "stream",
     "text": [
      "Optimization terminated successfully.\n",
      "         Current function value: 0.543263\n",
      "         Iterations 5\n",
      "                          Probit Regression Results                           \n",
      "==============================================================================\n",
      "Dep. Variable:             vive_padre   No. Observations:                 3850\n",
      "Model:                         Probit   Df Residuals:                     3842\n",
      "Method:                           MLE   Df Model:                            7\n",
      "Date:                Thu, 15 Sep 2022   Pseudo R-squ.:                  0.1278\n",
      "Time:                        20:13:18   Log-Likelihood:                -2091.6\n",
      "converged:                       True   LL-Null:                       -2398.1\n",
      "Covariance Type:            nonrobust   LLR p-value:                3.601e-128\n",
      "=====================================================================================\n",
      "                        coef    std err          z      P>|z|      [0.025      0.975]\n",
      "-------------------------------------------------------------------------------------\n",
      "const                -1.1121      0.200     -5.561      0.000      -1.504      -0.720\n",
      "vive_madre            0.3761      0.135      2.787      0.005       0.112       0.641\n",
      "n_personas            0.1583      0.019      8.396      0.000       0.121       0.195\n",
      "n_habitaciones       -0.1078      0.026     -4.096      0.000      -0.159      -0.056\n",
      "edad_primer_parto     0.0316      0.005      6.839      0.000       0.023       0.041\n",
      "area                 -0.2623      0.088     -2.993      0.003      -0.434      -0.091\n",
      "educm                -0.0529      0.006     -8.309      0.000      -0.065      -0.040\n",
      "educp                 0.0943      0.005     20.388      0.000       0.085       0.103\n",
      "=====================================================================================\n"
     ]
    }
   ],
   "source": [
    "X_train = sm.add_constant(X_train, prepend=True)\n",
    "modelo = sm.Probit(endog=y_train, exog=X_train,)\n",
    "modelo = modelo.fit()\n",
    "print(modelo.summary())"
   ]
  },
  {
   "cell_type": "code",
   "execution_count": 45,
   "id": "a09f661a",
   "metadata": {},
   "outputs": [
    {
     "name": "stdout",
     "output_type": "stream",
     "text": [
      "\n",
      "El accuracy de test es: 77.83161720169595%\n"
     ]
    }
   ],
   "source": [
    "# Accuracy de test del modelo \n",
    "# ==============================================================================\n",
    "X_test = sm.add_constant(X_test, prepend=True)\n",
    "predicciones = modelo.predict(exog = X_test)\n",
    "clasificacion = np.where(predicciones<0.5, 0, 1)\n",
    "accuracy = accuracy_score(\n",
    "            y_true    = y_test,\n",
    "            y_pred    = clasificacion,\n",
    "            normalize = True\n",
    "           )\n",
    "print(\"\")\n",
    "print(f\"El accuracy de test es: {100*accuracy}%\")"
   ]
  },
  {
   "cell_type": "code",
   "execution_count": 46,
   "id": "018e0ca5",
   "metadata": {},
   "outputs": [
    {
     "data": {
      "text/html": [
       "<div>\n",
       "<style scoped>\n",
       "    .dataframe tbody tr th:only-of-type {\n",
       "        vertical-align: middle;\n",
       "    }\n",
       "\n",
       "    .dataframe tbody tr th {\n",
       "        vertical-align: top;\n",
       "    }\n",
       "\n",
       "    .dataframe thead th {\n",
       "        text-align: right;\n",
       "    }\n",
       "</style>\n",
       "<table border=\"1\" class=\"dataframe\">\n",
       "  <thead>\n",
       "    <tr style=\"text-align: right;\">\n",
       "      <th>Predicción</th>\n",
       "      <th>0</th>\n",
       "      <th>1</th>\n",
       "    </tr>\n",
       "    <tr>\n",
       "      <th>Real</th>\n",
       "      <th></th>\n",
       "      <th></th>\n",
       "    </tr>\n",
       "  </thead>\n",
       "  <tbody>\n",
       "    <tr>\n",
       "      <th>0</th>\n",
       "      <td>181</td>\n",
       "      <td>323</td>\n",
       "    </tr>\n",
       "    <tr>\n",
       "      <th>1</th>\n",
       "      <td>43</td>\n",
       "      <td>1104</td>\n",
       "    </tr>\n",
       "  </tbody>\n",
       "</table>\n",
       "</div>"
      ],
      "text/plain": [
       "Predicción    0     1\n",
       "Real                 \n",
       "0           181   323\n",
       "1            43  1104"
      ]
     },
     "execution_count": 46,
     "metadata": {},
     "output_type": "execute_result"
    }
   ],
   "source": [
    "# Matriz de confusión de las predicciones de test\n",
    "# ==============================================================================\n",
    "confusion_matrix = pd.crosstab(\n",
    "    y_test.ravel(),\n",
    "    clasificacion,\n",
    "    rownames=['Real'],\n",
    "    colnames=['Predicción']\n",
    ")\n",
    "confusion_matrix"
   ]
  },
  {
   "cell_type": "code",
   "execution_count": 47,
   "id": "8d3cf021",
   "metadata": {},
   "outputs": [
    {
     "name": "stdout",
     "output_type": "stream",
     "text": [
      "\n",
      "El accuracy de test es: 70.07874015748031%\n"
     ]
    }
   ],
   "source": [
    "# Accuracy de test del modelo utilizando un umbral de 0.68 equivalente al Porcentaje de padres que viven en la residencia vs los que no viven\n",
    "# ==============================================================================\n",
    "X_test = sm.add_constant(X_test, prepend=True)\n",
    "predicciones = modelo.predict(exog = X_test)\n",
    "clasificacion = np.where(predicciones<0.68, 0, 1)\n",
    "accuracy = accuracy_score(\n",
    "            y_true    = y_test,\n",
    "            y_pred    = clasificacion,\n",
    "            normalize = True\n",
    "           )\n",
    "print(\"\")\n",
    "print(f\"El accuracy de test es: {100*accuracy}%\")"
   ]
  },
  {
   "cell_type": "code",
   "execution_count": 48,
   "id": "5d32db8e",
   "metadata": {},
   "outputs": [
    {
     "data": {
      "text/html": [
       "<div>\n",
       "<style scoped>\n",
       "    .dataframe tbody tr th:only-of-type {\n",
       "        vertical-align: middle;\n",
       "    }\n",
       "\n",
       "    .dataframe tbody tr th {\n",
       "        vertical-align: top;\n",
       "    }\n",
       "\n",
       "    .dataframe thead th {\n",
       "        text-align: right;\n",
       "    }\n",
       "</style>\n",
       "<table border=\"1\" class=\"dataframe\">\n",
       "  <thead>\n",
       "    <tr style=\"text-align: right;\">\n",
       "      <th>Predicción</th>\n",
       "      <th>0</th>\n",
       "      <th>1</th>\n",
       "    </tr>\n",
       "    <tr>\n",
       "      <th>Real</th>\n",
       "      <th></th>\n",
       "      <th></th>\n",
       "    </tr>\n",
       "  </thead>\n",
       "  <tbody>\n",
       "    <tr>\n",
       "      <th>0</th>\n",
       "      <td>293</td>\n",
       "      <td>211</td>\n",
       "    </tr>\n",
       "    <tr>\n",
       "      <th>1</th>\n",
       "      <td>283</td>\n",
       "      <td>864</td>\n",
       "    </tr>\n",
       "  </tbody>\n",
       "</table>\n",
       "</div>"
      ],
      "text/plain": [
       "Predicción    0    1\n",
       "Real                \n",
       "0           293  211\n",
       "1           283  864"
      ]
     },
     "execution_count": 48,
     "metadata": {},
     "output_type": "execute_result"
    }
   ],
   "source": [
    "# Matriz de confusión de las predicciones de test\n",
    "# ==============================================================================\n",
    "confusion_matrix = pd.crosstab(\n",
    "    y_test.ravel(),\n",
    "    clasificacion,\n",
    "    rownames=['Real'],\n",
    "    colnames=['Predicción']\n",
    ")\n",
    "confusion_matrix"
   ]
  },
  {
   "cell_type": "markdown",
   "id": "b1515a14",
   "metadata": {},
   "source": [
    "### Logit"
   ]
  },
  {
   "cell_type": "code",
   "execution_count": 49,
   "id": "3e41730c",
   "metadata": {
    "scrolled": false
   },
   "outputs": [
    {
     "name": "stdout",
     "output_type": "stream",
     "text": [
      "Optimization terminated successfully.\n",
      "         Current function value: 0.538392\n",
      "         Iterations 6\n",
      "                           Logit Regression Results                           \n",
      "==============================================================================\n",
      "Dep. Variable:             vive_padre   No. Observations:                 5501\n",
      "Model:                          Logit   Df Residuals:                     5493\n",
      "Method:                           MLE   Df Model:                            7\n",
      "Date:                Thu, 15 Sep 2022   Pseudo R-squ.:                  0.1325\n",
      "Time:                        20:13:18   Log-Likelihood:                -2961.7\n",
      "converged:                       True   LL-Null:                       -3414.2\n",
      "Covariance Type:            nonrobust   LLR p-value:                4.058e-191\n",
      "=====================================================================================\n",
      "                        coef    std err          z      P>|z|      [0.025      0.975]\n",
      "-------------------------------------------------------------------------------------\n",
      "const                -2.0050      0.291     -6.886      0.000      -2.576      -1.434\n",
      "vive_madre            0.5851      0.193      3.025      0.002       0.206       0.964\n",
      "n_personas            0.2993      0.030     10.075      0.000       0.241       0.358\n",
      "n_habitaciones       -0.2355      0.041     -5.700      0.000      -0.316      -0.155\n",
      "edad_primer_parto     0.0580      0.007      8.617      0.000       0.045       0.071\n",
      "area                 -0.4043      0.124     -3.263      0.001      -0.647      -0.161\n",
      "educm                -0.0884      0.010     -9.226      0.000      -0.107      -0.070\n",
      "educp                 0.1617      0.007     23.789      0.000       0.148       0.175\n",
      "=====================================================================================\n",
      "        Logit Marginal Effects       \n",
      "=====================================\n",
      "Dep. Variable:             vive_padre\n",
      "Method:                          dydx\n",
      "At:                           overall\n",
      "=====================================================================================\n",
      "                       dy/dx    std err          z      P>|z|      [0.025      0.975]\n",
      "-------------------------------------------------------------------------------------\n",
      "vive_madre            0.1048      0.035      3.034      0.002       0.037       0.172\n",
      "n_personas            0.0536      0.005     10.368      0.000       0.043       0.064\n",
      "n_habitaciones       -0.0422      0.007     -5.753      0.000      -0.057      -0.028\n",
      "edad_primer_parto     0.0104      0.001      8.784      0.000       0.008       0.013\n",
      "area                 -0.0724      0.022     -3.274      0.001      -0.116      -0.029\n",
      "educm                -0.0158      0.002     -9.464      0.000      -0.019      -0.013\n",
      "educp                 0.0290      0.001     29.561      0.000       0.027       0.031\n",
      "=====================================================================================\n"
     ]
    }
   ],
   "source": [
    "model = sm.Logit(y, X)\n",
    "logit_model = model.fit()\n",
    "print(logit_model.summary())\n",
    "\n",
    "mfx = logit_model.get_margeff()\n",
    "print(mfx.summary())"
   ]
  },
  {
   "cell_type": "code",
   "execution_count": 50,
   "id": "281a6e64",
   "metadata": {
    "scrolled": true
   },
   "outputs": [
    {
     "name": "stdout",
     "output_type": "stream",
     "text": [
      "Optimization terminated successfully.\n",
      "         Current function value: 0.540975\n",
      "         Iterations 6\n",
      "                           Logit Regression Results                           \n",
      "==============================================================================\n",
      "Dep. Variable:             vive_padre   No. Observations:                 3850\n",
      "Model:                          Logit   Df Residuals:                     3842\n",
      "Method:                           MLE   Df Model:                            7\n",
      "Date:                Thu, 15 Sep 2022   Pseudo R-squ.:                  0.1315\n",
      "Time:                        20:13:18   Log-Likelihood:                -2082.8\n",
      "converged:                       True   LL-Null:                       -2398.1\n",
      "Covariance Type:            nonrobust   LLR p-value:                5.783e-132\n",
      "=====================================================================================\n",
      "                        coef    std err          z      P>|z|      [0.025      0.975]\n",
      "-------------------------------------------------------------------------------------\n",
      "const                -1.9632      0.344     -5.700      0.000      -2.638      -1.288\n",
      "vive_madre            0.6674      0.228      2.933      0.003       0.221       1.113\n",
      "n_personas            0.2918      0.035      8.288      0.000       0.223       0.361\n",
      "n_habitaciones       -0.1939      0.048     -4.014      0.000      -0.289      -0.099\n",
      "edad_primer_parto     0.0553      0.008      6.863      0.000       0.039       0.071\n",
      "area                 -0.4324      0.150     -2.878      0.004      -0.727      -0.138\n",
      "educm                -0.0972      0.012     -8.395      0.000      -0.120      -0.074\n",
      "educp                 0.1610      0.008     19.750      0.000       0.145       0.177\n",
      "=====================================================================================\n"
     ]
    }
   ],
   "source": [
    "# Creación del modelo utilizando matrices como en scikitlearn\n",
    "# ==============================================================================\n",
    "# A la matriz de predictores se le tiene que añadir una columna de 1s para el intercept del modelo\n",
    "X_train = sm.add_constant(X_train, prepend=True)\n",
    "modelo = sm.Logit(endog=y_train, exog=X_train,)\n",
    "modelo = modelo.fit()\n",
    "print(modelo.summary())"
   ]
  },
  {
   "cell_type": "code",
   "execution_count": 51,
   "id": "98da60d0",
   "metadata": {},
   "outputs": [
    {
     "data": {
      "text/plain": [
       "array([1, 1, 1, ..., 1, 1, 1])"
      ]
     },
     "execution_count": 51,
     "metadata": {},
     "output_type": "execute_result"
    }
   ],
   "source": [
    "predicciones = modelo.predict(exog = X_train)\n",
    "\n",
    "# Clasificación predicha\n",
    "# ==============================================================================\n",
    "clasificacion = np.where(predicciones<0.5, 0, 1)\n",
    "clasificacion"
   ]
  },
  {
   "cell_type": "code",
   "execution_count": 52,
   "id": "fc8f69a7",
   "metadata": {},
   "outputs": [
    {
     "name": "stdout",
     "output_type": "stream",
     "text": [
      "\n",
      "El accuracy de test es: 77.71047849788008%\n"
     ]
    }
   ],
   "source": [
    "# Accuracy de test del modelo \n",
    "X_test = sm.add_constant(X_test, prepend=True)\n",
    "predicciones = modelo.predict(exog = X_test)\n",
    "clasificacion = np.where(predicciones<0.5, 0, 1)\n",
    "accuracy = accuracy_score(\n",
    "            y_true    = y_test,\n",
    "            y_pred    = clasificacion,\n",
    "            normalize = True\n",
    "           )\n",
    "print(\"\")\n",
    "print(f\"El accuracy de test es: {100*accuracy}%\")"
   ]
  },
  {
   "cell_type": "code",
   "execution_count": 53,
   "id": "1b4dc470",
   "metadata": {},
   "outputs": [
    {
     "name": "stdout",
     "output_type": "stream",
     "text": [
      "\n",
      "El accuracy de test es: 70.44215626892793%\n"
     ]
    }
   ],
   "source": [
    "X_test = sm.add_constant(X_test, prepend=True)\n",
    "predicciones = modelo.predict(exog = X_test)\n",
    "clasificacion = np.where(predicciones<0.68, 0, 1)\n",
    "accuracy = accuracy_score(\n",
    "            y_true    = y_test,\n",
    "            y_pred    = clasificacion,\n",
    "            normalize = True\n",
    "           )\n",
    "print(\"\")\n",
    "print(f\"El accuracy de test es: {100*accuracy}%\")"
   ]
  },
  {
   "cell_type": "code",
   "execution_count": 54,
   "id": "053a39fa",
   "metadata": {
    "scrolled": false
   },
   "outputs": [
    {
     "data": {
      "text/html": [
       "<div>\n",
       "<style scoped>\n",
       "    .dataframe tbody tr th:only-of-type {\n",
       "        vertical-align: middle;\n",
       "    }\n",
       "\n",
       "    .dataframe tbody tr th {\n",
       "        vertical-align: top;\n",
       "    }\n",
       "\n",
       "    .dataframe thead th {\n",
       "        text-align: right;\n",
       "    }\n",
       "</style>\n",
       "<table border=\"1\" class=\"dataframe\">\n",
       "  <thead>\n",
       "    <tr style=\"text-align: right;\">\n",
       "      <th>Predicción</th>\n",
       "      <th>0</th>\n",
       "      <th>1</th>\n",
       "    </tr>\n",
       "    <tr>\n",
       "      <th>Real</th>\n",
       "      <th></th>\n",
       "      <th></th>\n",
       "    </tr>\n",
       "  </thead>\n",
       "  <tbody>\n",
       "    <tr>\n",
       "      <th>0</th>\n",
       "      <td>290</td>\n",
       "      <td>214</td>\n",
       "    </tr>\n",
       "    <tr>\n",
       "      <th>1</th>\n",
       "      <td>274</td>\n",
       "      <td>873</td>\n",
       "    </tr>\n",
       "  </tbody>\n",
       "</table>\n",
       "</div>"
      ],
      "text/plain": [
       "Predicción    0    1\n",
       "Real                \n",
       "0           290  214\n",
       "1           274  873"
      ]
     },
     "execution_count": 54,
     "metadata": {},
     "output_type": "execute_result"
    }
   ],
   "source": [
    "# Matriz de confusión de las predicciones de test\n",
    "confusion_matrix = pd.crosstab(\n",
    "    y_test.ravel(),\n",
    "    clasificacion,\n",
    "    rownames=['Real'],\n",
    "    colnames=['Predicción']\n",
    ")\n",
    "confusion_matrix"
   ]
  },
  {
   "cell_type": "markdown",
   "id": "b56ee3cb",
   "metadata": {},
   "source": [
    "### Poisson"
   ]
  },
  {
   "cell_type": "code",
   "execution_count": 55,
   "id": "87fc1696",
   "metadata": {},
   "outputs": [
    {
     "name": "stdout",
     "output_type": "stream",
     "text": [
      "                 Generalized Linear Model Regression Results                  \n",
      "==============================================================================\n",
      "Dep. Variable:             n_personas   No. Observations:                 5501\n",
      "Model:                            GLM   Df Residuals:                     5492\n",
      "Model Family:                 Poisson   Df Model:                            8\n",
      "Link Function:                    Log   Scale:                          1.0000\n",
      "Method:                          IRLS   Log-Likelihood:                -10081.\n",
      "Date:                Thu, 15 Sep 2022   Deviance:                       1934.4\n",
      "Time:                        20:13:18   Pearson chi2:                 2.09e+03\n",
      "No. Iterations:                     5   Pseudo R-squ. (CS):            0.03630\n",
      "Covariance Type:            nonrobust                                         \n",
      "======================================================================================\n",
      "                         coef    std err          z      P>|z|      [0.025      0.975]\n",
      "--------------------------------------------------------------------------------------\n",
      "vive_padre             0.1079      0.015      7.038      0.000       0.078       0.138\n",
      "vive_madre             0.5643      0.041     13.814      0.000       0.484       0.644\n",
      "n_habitaciones         0.1460      0.005     28.829      0.000       0.136       0.156\n",
      "edad_primer_parto     -0.0044      0.001     -3.610      0.000      -0.007      -0.002\n",
      "area                   0.1756      0.025      6.974      0.000       0.126       0.225\n",
      "educm                  0.0018      0.002      1.011      0.312      -0.002       0.005\n",
      "educp                  0.0007      0.001      0.484      0.628      -0.002       0.003\n",
      "cercania_juegos        0.1438      0.018      8.149      0.000       0.109       0.178\n",
      "cercania_servicios     0.1866      0.023      7.979      0.000       0.141       0.232\n",
      "======================================================================================\n"
     ]
    }
   ],
   "source": [
    "y=junaeb['n_personas']\n",
    "X_0=junaeb[[\"vive_padre\",\"vive_madre\",\"n_habitaciones\",\"edad_primer_parto\",\"area\",\"educm\",\"educp\",\"cercania_juegos\",\"cercania_servicios\"]]\n",
    "poisson=sm.GLM(y,X_0,family=sm.families.Poisson()).fit()\n",
    "print(poisson.summary())"
   ]
  },
  {
   "cell_type": "code",
   "execution_count": 56,
   "id": "a5f90d6a",
   "metadata": {
    "scrolled": false
   },
   "outputs": [
    {
     "name": "stdout",
     "output_type": "stream",
     "text": [
      "                 Generalized Linear Model Regression Results                  \n",
      "==============================================================================\n",
      "Dep. Variable:             n_personas   No. Observations:                 5501\n",
      "Model:                            GLM   Df Residuals:                     5494\n",
      "Model Family:                 Poisson   Df Model:                            6\n",
      "Link Function:                    Log   Scale:                          1.0000\n",
      "Method:                          IRLS   Log-Likelihood:                -10082.\n",
      "Date:                Thu, 15 Sep 2022   Deviance:                       1936.1\n",
      "Time:                        20:13:18   Pearson chi2:                 2.10e+03\n",
      "No. Iterations:                     5   Pseudo R-squ. (CS):            0.03600\n",
      "Covariance Type:            nonrobust                                         \n",
      "======================================================================================\n",
      "                         coef    std err          z      P>|z|      [0.025      0.975]\n",
      "--------------------------------------------------------------------------------------\n",
      "vive_padre             0.1101      0.014      7.679      0.000       0.082       0.138\n",
      "vive_madre             0.5800      0.039     14.869      0.000       0.504       0.657\n",
      "n_habitaciones         0.1466      0.005     29.113      0.000       0.137       0.156\n",
      "edad_primer_parto     -0.0041      0.001     -3.420      0.001      -0.006      -0.002\n",
      "area                   0.1804      0.025      7.233      0.000       0.131       0.229\n",
      "cercania_juegos        0.1442      0.018      8.183      0.000       0.110       0.179\n",
      "cercania_servicios     0.1869      0.023      8.006      0.000       0.141       0.233\n",
      "======================================================================================\n"
     ]
    }
   ],
   "source": [
    "y=junaeb['n_personas']\n",
    "X=junaeb[[\"vive_padre\",\"vive_madre\",\"n_habitaciones\",\"edad_primer_parto\",\"area\",\"cercania_juegos\",\"cercania_servicios\"]]\n",
    "poisson=sm.GLM(y,X,family=sm.families.Poisson()).fit()\n",
    "print(poisson.summary())"
   ]
  },
  {
   "cell_type": "code",
   "execution_count": 57,
   "id": "73a9e16b",
   "metadata": {},
   "outputs": [],
   "source": [
    "import math\n",
    "Coef=[]\n",
    "for i in range (len(poisson.params)):\n",
    "    math.exp(poisson.params[i])\n",
    "    Coef.append((math.exp(poisson.params[i])-1))\n"
   ]
  },
  {
   "cell_type": "code",
   "execution_count": 58,
   "id": "d3366dca",
   "metadata": {},
   "outputs": [
    {
     "data": {
      "text/html": [
       "<div>\n",
       "<style scoped>\n",
       "    .dataframe tbody tr th:only-of-type {\n",
       "        vertical-align: middle;\n",
       "    }\n",
       "\n",
       "    .dataframe tbody tr th {\n",
       "        vertical-align: top;\n",
       "    }\n",
       "\n",
       "    .dataframe thead th {\n",
       "        text-align: right;\n",
       "    }\n",
       "</style>\n",
       "<table border=\"1\" class=\"dataframe\">\n",
       "  <thead>\n",
       "    <tr style=\"text-align: right;\">\n",
       "      <th></th>\n",
       "      <th>Betas_Poisson</th>\n",
       "    </tr>\n",
       "  </thead>\n",
       "  <tbody>\n",
       "    <tr>\n",
       "      <th>vive_padre</th>\n",
       "      <td>0.116406</td>\n",
       "    </tr>\n",
       "    <tr>\n",
       "      <th>vive_madre</th>\n",
       "      <td>0.786125</td>\n",
       "    </tr>\n",
       "    <tr>\n",
       "      <th>n_habitaciones</th>\n",
       "      <td>0.157864</td>\n",
       "    </tr>\n",
       "    <tr>\n",
       "      <th>edad_primer_parto</th>\n",
       "      <td>-0.004069</td>\n",
       "    </tr>\n",
       "    <tr>\n",
       "      <th>area</th>\n",
       "      <td>0.197671</td>\n",
       "    </tr>\n",
       "    <tr>\n",
       "      <th>cercania_juegos</th>\n",
       "      <td>0.155063</td>\n",
       "    </tr>\n",
       "    <tr>\n",
       "      <th>cercania_servicios</th>\n",
       "      <td>0.205447</td>\n",
       "    </tr>\n",
       "  </tbody>\n",
       "</table>\n",
       "</div>"
      ],
      "text/plain": [
       "                    Betas_Poisson\n",
       "vive_padre               0.116406\n",
       "vive_madre               0.786125\n",
       "n_habitaciones           0.157864\n",
       "edad_primer_parto       -0.004069\n",
       "area                     0.197671\n",
       "cercania_juegos          0.155063\n",
       "cercania_servicios       0.205447"
      ]
     },
     "execution_count": 58,
     "metadata": {},
     "output_type": "execute_result"
    }
   ],
   "source": [
    "Coef\n",
    "coef_df = pd.DataFrame(Coef,\n",
    "                  columns=['Betas_Poisson'],\n",
    "                  index=['vive_padre','vive_madre','n_habitaciones','edad_primer_parto',\"area\",\"cercania_juegos\",\"cercania_servicios\"])\n",
    "coef_df"
   ]
  },
  {
   "cell_type": "code",
   "execution_count": 59,
   "id": "1013c836",
   "metadata": {
    "scrolled": false
   },
   "outputs": [
    {
     "data": {
      "text/plain": [
       "4.0     2075\n",
       "5.0     1237\n",
       "3.0     1067\n",
       "6.0      541\n",
       "2.0      223\n",
       "7.0      207\n",
       "8.0       94\n",
       "9.0       38\n",
       "10.0       7\n",
       "11.0       6\n",
       "12.0       2\n",
       "16.0       1\n",
       "14.0       1\n",
       "15.0       1\n",
       "1.0        1\n",
       "Name: n_personas, dtype: int64"
      ]
     },
     "execution_count": 59,
     "metadata": {},
     "output_type": "execute_result"
    }
   ],
   "source": [
    "junaeb.n_personas.value_counts()"
   ]
  },
  {
   "cell_type": "code",
   "execution_count": 60,
   "id": "b4b1d1dd",
   "metadata": {
    "scrolled": true
   },
   "outputs": [
    {
     "data": {
      "text/plain": [
       "(array([2.240e+02, 1.067e+03, 3.312e+03, 5.410e+02, 3.010e+02, 3.800e+01,\n",
       "        1.300e+01, 2.000e+00, 1.000e+00, 2.000e+00]),\n",
       " array([ 1. ,  2.5,  4. ,  5.5,  7. ,  8.5, 10. , 11.5, 13. , 14.5, 16. ]),\n",
       " <BarContainer object of 10 artists>)"
      ]
     },
     "execution_count": 60,
     "metadata": {},
     "output_type": "execute_result"
    },
    {
     "data": {
      "image/png": "[encoded data removed]",
      "text/plain": [
       "<Figure size 432x288 with 1 Axes>"
      ]
     },
     "metadata": {},
     "output_type": "display_data"
    }
   ],
   "source": [
    "plt.hist(junaeb.n_personas)"
   ]
  },
  {
   "cell_type": "code",
   "execution_count": 61,
   "id": "3bce59c8",
   "metadata": {
    "scrolled": false
   },
   "outputs": [
    {
     "name": "stdout",
     "output_type": "stream",
     "text": [
      "                 Generalized Linear Model Regression Results                  \n",
      "==============================================================================\n",
      "Dep. Variable:             n_personas   No. Observations:                 5501\n",
      "Model:                            GLM   Df Residuals:                     5494\n",
      "Model Family:                 Poisson   Df Model:                            6\n",
      "Link Function:                    Log   Scale:                          1.0000\n",
      "Method:                          IRLS   Log-Likelihood:                -10082.\n",
      "Date:                Thu, 15 Sep 2022   Deviance:                       1936.1\n",
      "Time:                        20:13:19   Pearson chi2:                 2.10e+03\n",
      "No. Iterations:                     5   Pseudo R-squ. (CS):            0.03600\n",
      "Covariance Type:            nonrobust                                         \n",
      "======================================================================================\n",
      "                         coef    std err          z      P>|z|      [0.025      0.975]\n",
      "--------------------------------------------------------------------------------------\n",
      "vive_padre             0.1101      0.014      7.679      0.000       0.082       0.138\n",
      "vive_madre             0.5800      0.039     14.869      0.000       0.504       0.657\n",
      "n_habitaciones         0.1466      0.005     29.113      0.000       0.137       0.156\n",
      "edad_primer_parto     -0.0041      0.001     -3.420      0.001      -0.006      -0.002\n",
      "area                   0.1804      0.025      7.233      0.000       0.131       0.229\n",
      "cercania_juegos        0.1442      0.018      8.183      0.000       0.110       0.179\n",
      "cercania_servicios     0.1869      0.023      8.006      0.000       0.141       0.233\n",
      "======================================================================================\n"
     ]
    }
   ],
   "source": [
    "\n",
    "poisson=sm.GLM(y,X,family=sm.families.Poisson()).fit()\n",
    "print(poisson.summary())\n"
   ]
  },
  {
   "cell_type": "markdown",
   "id": "eebdc4a5",
   "metadata": {},
   "source": [
    "#### Analisis Prediccion"
   ]
  },
  {
   "cell_type": "code",
   "execution_count": 62,
   "id": "4075c4e4",
   "metadata": {},
   "outputs": [
    {
     "name": "stdout",
     "output_type": "stream",
     "text": [
      "                 Generalized Linear Model Regression Results                  \n",
      "==============================================================================\n",
      "Dep. Variable:             n_personas   No. Observations:                 5501\n",
      "Model:                            GLM   Df Residuals:                     5494\n",
      "Model Family:                 Poisson   Df Model:                            6\n",
      "Link Function:                    Log   Scale:                          1.0000\n",
      "Method:                          IRLS   Log-Likelihood:                -10082.\n",
      "Date:                Thu, 15 Sep 2022   Deviance:                       1936.1\n",
      "Time:                        20:13:19   Pearson chi2:                 2.10e+03\n",
      "No. Iterations:                     5   Pseudo R-squ. (CS):            0.03600\n",
      "Covariance Type:            nonrobust                                         \n",
      "======================================================================================\n",
      "                         coef    std err          z      P>|z|      [0.025      0.975]\n",
      "--------------------------------------------------------------------------------------\n",
      "vive_padre             0.1101      0.014      7.679      0.000       0.082       0.138\n",
      "vive_madre             0.5800      0.039     14.869      0.000       0.504       0.657\n",
      "n_habitaciones         0.1466      0.005     29.113      0.000       0.137       0.156\n",
      "edad_primer_parto     -0.0041      0.001     -3.420      0.001      -0.006      -0.002\n",
      "area                   0.1804      0.025      7.233      0.000       0.131       0.229\n",
      "cercania_juegos        0.1442      0.018      8.183      0.000       0.110       0.179\n",
      "cercania_servicios     0.1869      0.023      8.006      0.000       0.141       0.233\n",
      "======================================================================================\n"
     ]
    }
   ],
   "source": [
    "X_train, X_test, y_train, y_test = train_test_split(\n",
    "                                        X,\n",
    "                                        y,\n",
    "                                        train_size   = 0.7,\n",
    "                                        random_state = 1,\n",
    "                                        shuffle      = True\n",
    "                                    )\n",
    "# A la matriz de predictores se le tiene que añadir una columna de 1s para el intercept del modelo\n",
    "X_train = sm.add_constant(X_train, prepend=True)\n",
    "poisson=sm.GLM(endog = y, exog = X,family=sm.families.Poisson()).fit()\n",
    "print(poisson.summary())\n"
   ]
  },
  {
   "cell_type": "code",
   "execution_count": 63,
   "id": "e550e591",
   "metadata": {},
   "outputs": [
    {
     "data": {
      "text/plain": [
       "<matplotlib.collections.PathCollection at 0x23b518b5100>"
      ]
     },
     "execution_count": 63,
     "metadata": {},
     "output_type": "execute_result"
    },
    {
     "data": {
      "image/png": "[encoded data removed]",
      "text/plain": [
       "<Figure size 432x288 with 1 Axes>"
      ]
     },
     "metadata": {},
     "output_type": "display_data"
    }
   ],
   "source": [
    "prediccion_train = poisson.predict(exog = X_test)\n",
    "residuos_train   = prediccion_train - y_test\n",
    "plt.scatter(y_test,prediccion_train)"
   ]
  },
  {
   "cell_type": "markdown",
   "id": "8127e6e2",
   "metadata": {},
   "source": [
    "### test sobre-dispersion"
   ]
  },
  {
   "cell_type": "code",
   "execution_count": 64,
   "id": "2315cb71",
   "metadata": {
    "run_control": {
     "marked": true
    }
   },
   "outputs": [
    {
     "name": "stdout",
     "output_type": "stream",
     "text": [
      "Media :  4.385929830939829 Desviacion estandar : 1.3419030086363548 Varianza :  1.800703684587301\n"
     ]
    },
    {
     "data": {
      "text/plain": [
       "4.340626008842084"
      ]
     },
     "execution_count": 64,
     "metadata": {},
     "output_type": "execute_result"
    }
   ],
   "source": [
    "media = junaeb[\"n_personas\"].mean()\n",
    "std = junaeb[\"n_personas\"].std(ddof=0)\n",
    "var = junaeb[\"n_personas\"].var(ddof=0)\n",
    "print(\"Media : \",media,\"Desviacion estandar :\",std, \"Varianza : \",var)\n",
    "poisson.mu.mean()"
   ]
  },
  {
   "cell_type": "code",
   "execution_count": 65,
   "id": "2e5a9f5f",
   "metadata": {
    "scrolled": true
   },
   "outputs": [
    {
     "name": "stdout",
     "output_type": "stream",
     "text": [
      "Ratio pearson_chi2/df_resid = 0.3815161686244171\n"
     ]
    }
   ],
   "source": [
    "print(\"Ratio pearson_chi2/df_resid =\", poisson.pearson_chi2/poisson.df_resid)\n"
   ]
  },
  {
   "cell_type": "code",
   "execution_count": 66,
   "id": "2a0831d6",
   "metadata": {},
   "outputs": [
    {
     "name": "stdout",
     "output_type": "stream",
     "text": [
      "x1   -0.113728\n",
      "dtype: float64\n"
     ]
    }
   ],
   "source": [
    "aux=((y-poisson.mu)**2-poisson.mu)/poisson.mu\n",
    "auxr=sm.OLS(aux,poisson.mu).fit()\n",
    "print(auxr.params)"
   ]
  },
  {
   "cell_type": "markdown",
   "id": "b7de4845",
   "metadata": {},
   "source": [
    "#### Binomial negativa"
   ]
  },
  {
   "cell_type": "code",
   "execution_count": 67,
   "id": "e9cc9046",
   "metadata": {
    "scrolled": false
   },
   "outputs": [
    {
     "name": "stdout",
     "output_type": "stream",
     "text": [
      "                 Generalized Linear Model Regression Results                  \n",
      "==============================================================================\n",
      "Dep. Variable:             n_personas   No. Observations:                 5501\n",
      "Model:                            GLM   Df Residuals:                     5494\n",
      "Model Family:        NegativeBinomial   Df Model:                            6\n",
      "Link Function:                    Log   Scale:                          1.0000\n",
      "Method:                          IRLS   Log-Likelihood:                -14189.\n",
      "Date:                Thu, 15 Sep 2022   Deviance:                       336.70\n",
      "Time:                        20:13:19   Pearson chi2:                     374.\n",
      "No. Iterations:                    13   Pseudo R-squ. (CS):            0.01031\n",
      "Covariance Type:            nonrobust                                         \n",
      "======================================================================================\n",
      "                         coef    std err          z      P>|z|      [0.025      0.975]\n",
      "--------------------------------------------------------------------------------------\n",
      "vive_padre             0.1164      0.033      3.564      0.000       0.052       0.180\n",
      "vive_madre             0.3956      0.082      4.853      0.000       0.236       0.555\n",
      "n_habitaciones         0.1897      0.015     12.249      0.000       0.159       0.220\n",
      "edad_primer_parto     -0.0050      0.003     -1.828      0.068      -0.010       0.000\n",
      "area                   0.1448      0.055      2.651      0.008       0.038       0.252\n",
      "cercania_juegos        0.1361      0.042      3.256      0.001       0.054       0.218\n",
      "cercania_servicios     0.3198      0.064      4.972      0.000       0.194       0.446\n",
      "======================================================================================\n"
     ]
    }
   ],
   "source": [
    "negbin=sm.GLM(y,X,family=sm.families.NegativeBinomial()).fit()\n",
    "print(negbin.summary())\n",
    "\n",
    "# este comando asume un alpha = 1 sin embargo  el alpha es negativo por lo que no se interpretaran sus coeficientes."
   ]
  },
  {
   "cell_type": "code",
   "execution_count": 68,
   "id": "02cf463b",
   "metadata": {
    "scrolled": false
   },
   "outputs": [
    {
     "name": "stdout",
     "output_type": "stream",
     "text": [
      "fitted lambda\n",
      "[5.1083008  4.26769778 4.89076875 ... 3.24362766 3.84901098 4.12153482]\n"
     ]
    }
   ],
   "source": [
    "print(\"fitted lambda\")\n",
    "print(negbin.mu)"
   ]
  },
  {
   "cell_type": "markdown",
   "id": "2e6eb288",
   "metadata": {},
   "source": [
    "#### OLS\n",
    "Podemos notar a través de los coeficientes del modelo OLS, que la proporción de que el padre viva en la casa disminuye si el lugar donde habita es en zona urbana. Además, la proporción de que el padre viva en la casa disminuye a medida que la educación de la madre se incrementa y también la proporción de que el padre viva en la casa disminuye si se incrementa el número de habitaciones. Estas tres variables hacen que la probabilidad de que el padre viva en la casa se vea disminuida.\n",
    " \n",
    "Por otro lado las variables vive_madre, n_personas , edad_primer parto , educp hacen que la probabilidad de que el padre viva en la casa aumente , por ejemplo si la madre vive en la casa la proporción de que el padre viva en la casa aumenta.\n",
    "\n",
    "Todas las variables son significativas a excepcion de carcania_juegos y cercania_servicios por lo que fueron eliminadas del modelo al tener un valor p > 0.05\n",
    "\n",
    "Como resultado tenemos un R cuadrado = 0.173 el cual no es un valor deseable ya que esperamos que sea cercano a 1.\n",
    "\n",
    "\n",
    "Test F es Significativo ya que su valor p <0.05 , asi ,podemos notar que las variables explicativas en su conjunto son capaces de explicar el modelo ya que el valor p del test F es inferior al 5%. \n"
   ]
  },
  {
   "cell_type": "markdown",
   "id": "7728a0f8",
   "metadata": {},
   "source": [
    "#### Probit\n",
    "\n",
    "Para la interpretación de los coeficientes del modelo probit se utilizo el método de efecto parcial promedio (EPP) a través de la función get_margeff(at='overall'). \n",
    "\n",
    "-Si la variable vive_madre recibe el valor 1 vs 0 la probabildiad de ocurrencia de la variable vive_padre aumenta en 0.1009\n",
    "Así se puede decir ante un aumento en una unidad de la variable n_personas la probabididad de ocurrecia de la variable vive_padre aumenta en 0.0506.\n",
    "\n",
    "-Ante un aumento en una unidad de la variable n_habitaciones la probabilidad de ocurrencia de la variable vive_padre disminuye en 0.0406\n",
    "\n",
    "-Ante un aumento en una unidad de la variable edad_primer_parto la probabilidad de ocurrencia de la variable vive_padre aumenta en 0.0101\n",
    "\n",
    "-Si la variable área recibe el 1 vs 0 es decir que pertenece a zona urbana la probabilidad de ocurrencia de la variable vive_padre disminuye en 0.0744\n",
    "\n",
    "-Si la variable educm aumenta en unidad la probabildiad de ocurrencia de la variable vive_padre aumenta en 0.0147\n",
    "\n",
    "-Si la variable educp aumenta en unidad la probabildiad de ocurrencia de la variable vive_padre disminuye en 0.0291\n",
    "Entiéndase como vive_padre = 1 es la ocurrencia es decir de que el padre viva en la casa.\n",
    "\n",
    "   El pseudo R-cuadrado utilizado es el de Mcfadden, la formula para calcularlo es 1 - (Log-Likehood/LL-Null) y para este caso es igual a 0.1278 al ser este valor mayor a 0 se puede decir que el modelo propuesto mejora al modelo nulo."
   ]
  },
  {
   "cell_type": "markdown",
   "id": "fc011131",
   "metadata": {},
   "source": [
    "#### Logit\n",
    "\n",
    "Para interpretar los coeficientes betas del modelo logit se utilizó el método de efecto parcial promedio (EPP) a través de la función get_margeff(at='overall'). \n",
    "\n",
    "-Así se puede decir ante un aumento en una unidad de la variable n_personas la probabididad de ocurrecia de la variable vive_padre aumenta en 0.0536.\n",
    "\n",
    "-Si la variable vive_madre recibe el valor 1 vs 0 la probabildiad de ocurrencia de la variable vive_padre aumenta en 0.1048\n",
    "\n",
    "-Ante un aumento en una unidad de la variable n_habitaciones la probabilidad de ocurrencia de la variable vive_padre disminuye en 0.0422\n",
    "\n",
    "-Un aumento de la edad_primer_parto la propabilidad de ocurrencia de vive_padre aumenta en 0.0104\n",
    "\n",
    "-Si la variable área recibe el 1 vs 0 es decir que pertenece a zona urbana la probabilidad de ocurrencia de la variable vive_padre disminuye en 0.0724\n",
    "\n",
    "-Si la variable educm aumenta en unidad la probabildiad de ocurrencia de la variable vive_padre disminuye en 0.0291\n",
    "\n",
    "-Si la variable educp aumenta en unidad la probabildiad de ocurrencia de la variable vive_padre aumenta en 0.0290\n",
    "\n",
    "   El pseudo R-cuadrado utilizado es el de Mcfadden, la formula para calcularlo es 1 - (Log-Likehood/LL-Null) y para este caso es igual a 0.1325 al ser este valor mayor a 0 se puede decir que el modelo propuesto mejora al modelo nulo.\n"
   ]
  },
  {
   "cell_type": "markdown",
   "id": "ab2efc9c",
   "metadata": {},
   "source": [
    "#### Comparacion modelo OLS PROBIT y LOGIT\n",
    "\n",
    "El modelo OLS no es el más adecuado para estudiar variables dependientes limitadas ya que presenta ciertas desventajas, como vimos en clases cuando la variable dependiente es binaria es decir no continua como lo es en este caso de estudio, solo puede tomar valores 0 o 1, esto implica que los errores no se distribuyan de manera normal lo que afecta a uno de los supuestos de la OLS, lo dicho anteriormente también se puede confirmar con las graficas Q-Q o el test de shapiro wilk el cual entrega un valor P < 0.05, causando que los estimadores no sean MELI. También las predicciones que entrega el modelo OLS son valores continuos y muchos se escapan del rango [0-1] por lo que no tienen sentido ciertos valores para explicar la variable dependiente limitada.\n",
    "Aunque el modelo OLS se puede utilizar para para identificar las variables que si son significativas para el modelo aun cuando no se cumpla el supuesto de normaldiad.\n",
    "\n",
    "Los modelos Probit y Logit son utilizados para este tipo de casos donde se tiene una variable dependiente limitada que puede tomar valores 0 o 1. Estos modelos presentan una ventaja sobre la OLS ya que limitan los resultados de las predicciones en un intervalo [0-1] , además son modelos que tienen como propósito estimar el efecto de la variable independiente sobre la probabilidad de éxito P(y=1 | x).  \n",
    "\n",
    "Se hizo un análisis de predicción utilizando un umbral de 0.5 y un umbral de 0.68 equivalente al porcentaje de padres que viven en la residencia eso hace referencia a que si el valor predicho es inferior al umbral la variable predicha vive_padre toma el valor de 0 y 1 en caso contrario. Como podemos ver en el código el modelo Probit con un umbral de 0.5 entrega una probabilidad de predecir correctamente de 77.83% y con un umbral de 0.68 entrega una probabilidad de predecir correctamente de 70.07%.\n",
    "Para el modelo Logit  se utilizo la misma metodología donde para un umbral de 0.5 el modelo entrega una probabilidad de predecir correctamente de 77.7% con las variables explicativas seleccionadas y con un  umbral de 0.68 el modelo entrega una probabildiad de predecir correctamente de 70.4%.\n",
    "\n",
    " Podemos notar que no hay una gran diferencia entre ambos modelos a la hora de predecir correctamente, esto utilizando un umbral igual a 0.5 lo que significa de que si la variable es predicha es inferior a 0.5 entrega el valor de 0 y 1 en caso contrario por lo que esta forma de predecir puede estar sujeta a errores según la literatura.\n",
    " \n",
    " No hay una razon para preferir el modelo probit por sobre el modelo logit ya que presentan resultados similares, sin embargo ambos modelos presentan ventajas para este tipo de analisis sobre el OLS ya que la variable dependiente es una variable dependiente limitada (Binaria)\n"
   ]
  },
  {
   "cell_type": "markdown",
   "id": "d8c422d4",
   "metadata": {},
   "source": [
    "#### Modelo poisson\n",
    "\n",
    "Utilizando alfa = 0.05 y con los resultados obtenidos tenemos que todas las variables son significativas a excepción de las variables educm y educp ya que sus valores  p son mayores a  0.05\n",
    "\n",
    "El n_personas esperadas que viven en el hogar para cuando el padre esta en la casa se estima que es 11.64% mayor que cuando el padre no se encuentra en la casa.\n",
    "\n",
    "El n_personas esprados que viven en el hogar para cuando la madre vive en la casa se estima que es 78,61% mayor que cuando la madre no vive en la casa.\n",
    "\n",
    "El n_personas esperadas que viven en el hogar cuando se vive en zona urbana se estima que es 19.76% mayor que cuando se vive en zona rural\n",
    "\n",
    "El n_personas esperadas que viven en el hogar cuando no hay servicios de salud cerca de este se estima que es 20.54% mayor que cuando si hay servicios de salud\n",
    "\n",
    "El n_personas esperadas que viven en el hogar cuando no hay juegos infantiles cerca se estima que es 15.50% mayor que cuando se vive cerca de juegos infantiles\n",
    "\n",
    "\n"
   ]
  },
  {
   "cell_type": "markdown",
   "id": "1fb7c594",
   "metadata": {},
   "source": [
    "#### Test sobre dispersion\n",
    "\n",
    "No existe sobre dispersión dado que el valor de Alpha= -0.108976 y ademas\n",
    "\n",
    "ratio pearson_chi2/df_resid = 0.38 es menor a 1.\n",
    "\n"
   ]
  },
  {
   "cell_type": "markdown",
   "id": "e94de123",
   "metadata": {},
   "source": [
    "#### Modelo binomial negativo\n",
    "\n",
    "Dado que alfa es un valor estimado desde la data como aproximación por ende no es un valor arbitrario que podemos asignar, al ser este valor de Alpha negativo para los datos utilizados, se concluye que, no se puede ejecutar un modelo binomial negativo para explicar el numero de personas que hay dentro de un hogar"
   ]
  },
  {
   "cell_type": "markdown",
   "id": "3fa5191b",
   "metadata": {},
   "source": [
    "#### Comparacion de modelos Poisson y Binomial Negativo\n",
    "\n",
    "Las diferencias en los resultados se presentan debido a que el modelo binomial negativo es un metodo para relajar el modelo possion y esto se utiliza cuando el modelo poisson presenta sobredispersion es decir la varianza condicional es mayor a la media condicional y como argumentaremos mas adelante esto no se cumple.\n",
    "\n",
    "\n",
    "Preeliminarme podemos observar que la variable n_personas no presenta problemas de sobredispersión mas bien están subdispersos o pocos dispersos esto se visualiza a traves del histograma, donde los datos se concentran en los valores 3 , 4 ,5 ,6. Los datos estárian sobredispersos si la varianza condicional supera la media condicional. \n",
    "\n",
    "Podemos calcular la media de la variable de conteo y la varianza de la variable de conteo en donde los resultados arrojan que la media es mucho mayor que la varianza si bien no son las medias y varianzas condicionales esta comparación es útil ya que, “La media de la media condicional no cambiará, porque la media de las medias ajustadas es igual a la media de la muestra y la regresión de Poisson posterior disminuye un poco la varianza condicional de la variable dependiente.” (Regression análysis of count second edition, A. Colin Cameron , Pravin K. Trivedi Pag 89.).Esto indicaria que la diferencia entre la media y la varianza condicionales es aun mayor.\n",
    "\n",
    "Luego de este análisis preliminar podemos utilizar el Test de sobredispersión para validar las observaciones preliminares, asi, a través del ratio Pearson chi2 / Df Residuals el cual nos brinda un valor de 0.38 menor a 1 ademas de un valor Alpha < 0 podriamos concluir que los datos estan pocos dispersos por lo que poisson es el modelo aconsejable para manejar la variable de conteo n_personas.\n"
   ]
  },
  {
   "cell_type": "code",
   "execution_count": null,
   "id": "f6d5d717",
   "metadata": {},
   "outputs": [],
   "source": []
  }
 ],
 "metadata": {
  "hide_input": false,
  "kernelspec": {
   "display_name": "Python 3 (ipykernel)",
   "language": "python",
   "name": "python3"
  },
  "language_info": {
   "codemirror_mode": {
    "name": "ipython",
    "version": 3
   },
   "file_extension": ".py",
   "mimetype": "text/x-python",
   "name": "python",
   "nbconvert_exporter": "python",
   "pygments_lexer": "ipython3",
   "version": "3.7.6"
  },
  "latex_envs": {
   "LaTeX_envs_menu_present": true,
   "autoclose": true,
   "autocomplete": true,
   "bibliofile": "biblio.bib",
   "cite_by": "apalike",
   "current_citInitial": 1,
   "eqLabelWithNumbers": true,
   "eqNumInitial": 1,
   "hotkeys": {
    "equation": "Ctrl-E",
    "itemize": "Ctrl-I"
   },
   "labels_anchors": false,
   "latex_user_defs": false,
   "report_style_numbering": false,
   "user_envs_cfg": false
  },
  "nbTranslate": {
   "displayLangs": [
    "*"
   ],
   "hotkey": "alt-t",
   "langInMainMenu": true,
   "sourceLang": "en",
   "targetLang": "fr",
   "useGoogleTranslate": true
  },
  "toc": {
   "base_numbering": 1,
   "nav_menu": {},
   "number_sections": true,
   "sideBar": true,
   "skip_h1_title": false,
   "title_cell": "Table of Contents",
   "title_sidebar": "Contents",
   "toc_cell": false,
   "toc_position": {
    "height": "calc(100% - 180px)",
    "left": "10px",
    "top": "150px",
    "width": "349.091px"
   },
   "toc_section_display": true,
   "toc_window_display": true
  },
  "varInspector": {
   "cols": {
    "lenName": 16,
    "lenType": 16,
    "lenVar": 40
   },
   "kernels_config": {
    "python": {
     "delete_cmd_postfix": "",
     "delete_cmd_prefix": "del ",
     "library": "var_list.py",
     "varRefreshCmd": "print(var_dic_list())"
    },
    "r": {
     "delete_cmd_postfix": ") ",
     "delete_cmd_prefix": "rm(",
     "library": "var_list.r",
     "varRefreshCmd": "cat(var_dic_list()) "
    }
   },
   "position": {
    "height": "377.841px",
    "left": "1008.36px",
    "right": "20px",
    "top": "157.989px",
    "width": "350px"
   },
   "types_to_exclude": [
    "module",
    "function",
    "builtin_function_or_method",
    "instance",
    "_Feature"
   ],
   "window_display": false
  }
 },
 "nbformat": 4,
 "nbformat_minor": 5
}
