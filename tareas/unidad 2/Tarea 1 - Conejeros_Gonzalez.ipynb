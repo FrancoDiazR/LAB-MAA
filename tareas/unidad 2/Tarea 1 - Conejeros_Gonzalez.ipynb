{
 "cells": [
  {
   "cell_type": "markdown",
   "metadata": {},
   "source": [
    "<font size=\"5\">Tarea 1: Felipe Conejeros y Mabel González</font>"
   ]
  },
  {
   "cell_type": "code",
   "execution_count": 3,
   "metadata": {},
   "outputs": [],
   "source": [
    "import numpy as np\n",
    "import pandas as pd #para importar datos\n",
    "import matplotlib.pyplot as plt\n",
    "import statsmodels.api as sm #libreria que entrega la info en formato tablas. \n",
    "import statsmodels.formula.api as smf\n",
    "import sklearn\n",
    "import scipy \n",
    "from scipy.stats import nbinom\n",
    "\n",
    "%matplotlib inline"
   ]
  },
  {
   "cell_type": "markdown",
   "metadata": {},
   "source": [
    "### Pregunta 1"
   ]
  },
  {
   "cell_type": "code",
   "execution_count": 4,
   "metadata": {},
   "outputs": [],
   "source": [
    "# Se carga la base de datos de junaeb\n",
    "junaeb = pd.read_csv('../data/junaeb.csv') #variable que contiene los datos\n",
    "junaeb.dropna(inplace=True) #borra los na (primera limpieza)"
   ]
  },
  {
   "cell_type": "code",
   "execution_count": 5,
   "metadata": {},
   "outputs": [
    {
     "data": {
      "text/html": [
       "<div>\n",
       "<style scoped>\n",
       "    .dataframe tbody tr th:only-of-type {\n",
       "        vertical-align: middle;\n",
       "    }\n",
       "\n",
       "    .dataframe tbody tr th {\n",
       "        vertical-align: top;\n",
       "    }\n",
       "\n",
       "    .dataframe thead th {\n",
       "        text-align: right;\n",
       "    }\n",
       "</style>\n",
       "<table border=\"1\" class=\"dataframe\">\n",
       "  <thead>\n",
       "    <tr style=\"text-align: right;\">\n",
       "      <th></th>\n",
       "      <th>vive_padre</th>\n",
       "      <th>vive_madre</th>\n",
       "      <th>n_personas</th>\n",
       "      <th>n_habitaciones</th>\n",
       "      <th>cercania_juegos</th>\n",
       "      <th>cercania_servicios</th>\n",
       "      <th>edad_primer_parto</th>\n",
       "      <th>area</th>\n",
       "      <th>educm</th>\n",
       "      <th>educp</th>\n",
       "    </tr>\n",
       "  </thead>\n",
       "  <tbody>\n",
       "    <tr>\n",
       "      <th>0</th>\n",
       "      <td>0</td>\n",
       "      <td>1</td>\n",
       "      <td>3.0</td>\n",
       "      <td>4.0</td>\n",
       "      <td>1.0</td>\n",
       "      <td>1.0</td>\n",
       "      <td>25.0</td>\n",
       "      <td>1</td>\n",
       "      <td>0</td>\n",
       "      <td>0</td>\n",
       "    </tr>\n",
       "    <tr>\n",
       "      <th>1</th>\n",
       "      <td>0</td>\n",
       "      <td>1</td>\n",
       "      <td>5.0</td>\n",
       "      <td>3.0</td>\n",
       "      <td>1.0</td>\n",
       "      <td>1.0</td>\n",
       "      <td>23.0</td>\n",
       "      <td>1</td>\n",
       "      <td>13</td>\n",
       "      <td>13</td>\n",
       "    </tr>\n",
       "    <tr>\n",
       "      <th>2</th>\n",
       "      <td>1</td>\n",
       "      <td>1</td>\n",
       "      <td>5.0</td>\n",
       "      <td>3.0</td>\n",
       "      <td>1.0</td>\n",
       "      <td>1.0</td>\n",
       "      <td>19.0</td>\n",
       "      <td>1</td>\n",
       "      <td>12</td>\n",
       "      <td>17</td>\n",
       "    </tr>\n",
       "    <tr>\n",
       "      <th>3</th>\n",
       "      <td>1</td>\n",
       "      <td>1</td>\n",
       "      <td>4.0</td>\n",
       "      <td>2.0</td>\n",
       "      <td>1.0</td>\n",
       "      <td>1.0</td>\n",
       "      <td>27.0</td>\n",
       "      <td>1</td>\n",
       "      <td>6</td>\n",
       "      <td>13</td>\n",
       "    </tr>\n",
       "    <tr>\n",
       "      <th>4</th>\n",
       "      <td>1</td>\n",
       "      <td>1</td>\n",
       "      <td>5.0</td>\n",
       "      <td>3.0</td>\n",
       "      <td>2.0</td>\n",
       "      <td>1.0</td>\n",
       "      <td>20.0</td>\n",
       "      <td>1</td>\n",
       "      <td>13</td>\n",
       "      <td>16</td>\n",
       "    </tr>\n",
       "  </tbody>\n",
       "</table>\n",
       "</div>"
      ],
      "text/plain": [
       "   vive_padre  vive_madre  n_personas  n_habitaciones  cercania_juegos  \\\n",
       "0           0           1         3.0             4.0              1.0   \n",
       "1           0           1         5.0             3.0              1.0   \n",
       "2           1           1         5.0             3.0              1.0   \n",
       "3           1           1         4.0             2.0              1.0   \n",
       "4           1           1         5.0             3.0              2.0   \n",
       "\n",
       "   cercania_servicios  edad_primer_parto  area  educm  educp  \n",
       "0                 1.0               25.0     1      0      0  \n",
       "1                 1.0               23.0     1     13     13  \n",
       "2                 1.0               19.0     1     12     17  \n",
       "3                 1.0               27.0     1      6     13  \n",
       "4                 1.0               20.0     1     13     16  "
      ]
     },
     "execution_count": 5,
     "metadata": {},
     "output_type": "execute_result"
    }
   ],
   "source": [
    "junaeb.reset_index(drop=True, inplace=True)\n",
    "junaeb.head()"
   ]
  },
  {
   "cell_type": "code",
   "execution_count": 6,
   "metadata": {
    "scrolled": true
   },
   "outputs": [
    {
     "data": {
      "text/html": [
       "<div>\n",
       "<style scoped>\n",
       "    .dataframe tbody tr th:only-of-type {\n",
       "        vertical-align: middle;\n",
       "    }\n",
       "\n",
       "    .dataframe tbody tr th {\n",
       "        vertical-align: top;\n",
       "    }\n",
       "\n",
       "    .dataframe thead th {\n",
       "        text-align: right;\n",
       "    }\n",
       "</style>\n",
       "<table border=\"1\" class=\"dataframe\">\n",
       "  <thead>\n",
       "    <tr style=\"text-align: right;\">\n",
       "      <th></th>\n",
       "      <th>vive_padre</th>\n",
       "      <th>vive_madre</th>\n",
       "      <th>n_personas</th>\n",
       "      <th>n_habitaciones</th>\n",
       "      <th>cercania_juegos</th>\n",
       "      <th>cercania_servicios</th>\n",
       "      <th>edad_primer_parto</th>\n",
       "      <th>area</th>\n",
       "      <th>educm</th>\n",
       "      <th>educp</th>\n",
       "    </tr>\n",
       "  </thead>\n",
       "  <tbody>\n",
       "    <tr>\n",
       "      <th>count</th>\n",
       "      <td>6379.000000</td>\n",
       "      <td>6379.000000</td>\n",
       "      <td>6379.000000</td>\n",
       "      <td>6379.000000</td>\n",
       "      <td>6379.000000</td>\n",
       "      <td>6379.000000</td>\n",
       "      <td>6379.000000</td>\n",
       "      <td>6379.000000</td>\n",
       "      <td>6379.000000</td>\n",
       "      <td>6379.000000</td>\n",
       "    </tr>\n",
       "    <tr>\n",
       "      <th>mean</th>\n",
       "      <td>0.685531</td>\n",
       "      <td>0.974761</td>\n",
       "      <td>4.393322</td>\n",
       "      <td>2.584261</td>\n",
       "      <td>1.200188</td>\n",
       "      <td>1.150494</td>\n",
       "      <td>22.218059</td>\n",
       "      <td>0.900455</td>\n",
       "      <td>12.632074</td>\n",
       "      <td>11.196269</td>\n",
       "    </tr>\n",
       "    <tr>\n",
       "      <th>std</th>\n",
       "      <td>0.464341</td>\n",
       "      <td>0.161783</td>\n",
       "      <td>1.342094</td>\n",
       "      <td>0.900460</td>\n",
       "      <td>0.445767</td>\n",
       "      <td>0.409116</td>\n",
       "      <td>5.192737</td>\n",
       "      <td>0.299416</td>\n",
       "      <td>3.915690</td>\n",
       "      <td>5.269743</td>\n",
       "    </tr>\n",
       "    <tr>\n",
       "      <th>min</th>\n",
       "      <td>0.000000</td>\n",
       "      <td>0.000000</td>\n",
       "      <td>1.000000</td>\n",
       "      <td>0.000000</td>\n",
       "      <td>1.000000</td>\n",
       "      <td>1.000000</td>\n",
       "      <td>10.000000</td>\n",
       "      <td>0.000000</td>\n",
       "      <td>0.000000</td>\n",
       "      <td>0.000000</td>\n",
       "    </tr>\n",
       "    <tr>\n",
       "      <th>25%</th>\n",
       "      <td>0.000000</td>\n",
       "      <td>1.000000</td>\n",
       "      <td>4.000000</td>\n",
       "      <td>2.000000</td>\n",
       "      <td>1.000000</td>\n",
       "      <td>1.000000</td>\n",
       "      <td>18.000000</td>\n",
       "      <td>1.000000</td>\n",
       "      <td>11.000000</td>\n",
       "      <td>9.000000</td>\n",
       "    </tr>\n",
       "    <tr>\n",
       "      <th>50%</th>\n",
       "      <td>1.000000</td>\n",
       "      <td>1.000000</td>\n",
       "      <td>4.000000</td>\n",
       "      <td>2.000000</td>\n",
       "      <td>1.000000</td>\n",
       "      <td>1.000000</td>\n",
       "      <td>21.000000</td>\n",
       "      <td>1.000000</td>\n",
       "      <td>13.000000</td>\n",
       "      <td>13.000000</td>\n",
       "    </tr>\n",
       "    <tr>\n",
       "      <th>75%</th>\n",
       "      <td>1.000000</td>\n",
       "      <td>1.000000</td>\n",
       "      <td>5.000000</td>\n",
       "      <td>3.000000</td>\n",
       "      <td>1.000000</td>\n",
       "      <td>1.000000</td>\n",
       "      <td>25.000000</td>\n",
       "      <td>1.000000</td>\n",
       "      <td>15.000000</td>\n",
       "      <td>13.000000</td>\n",
       "    </tr>\n",
       "    <tr>\n",
       "      <th>max</th>\n",
       "      <td>1.000000</td>\n",
       "      <td>2.000000</td>\n",
       "      <td>16.000000</td>\n",
       "      <td>20.000000</td>\n",
       "      <td>4.000000</td>\n",
       "      <td>4.000000</td>\n",
       "      <td>48.000000</td>\n",
       "      <td>1.000000</td>\n",
       "      <td>20.000000</td>\n",
       "      <td>20.000000</td>\n",
       "    </tr>\n",
       "  </tbody>\n",
       "</table>\n",
       "</div>"
      ],
      "text/plain": [
       "        vive_padre   vive_madre   n_personas  n_habitaciones  cercania_juegos  \\\n",
       "count  6379.000000  6379.000000  6379.000000     6379.000000      6379.000000   \n",
       "mean      0.685531     0.974761     4.393322        2.584261         1.200188   \n",
       "std       0.464341     0.161783     1.342094        0.900460         0.445767   \n",
       "min       0.000000     0.000000     1.000000        0.000000         1.000000   \n",
       "25%       0.000000     1.000000     4.000000        2.000000         1.000000   \n",
       "50%       1.000000     1.000000     4.000000        2.000000         1.000000   \n",
       "75%       1.000000     1.000000     5.000000        3.000000         1.000000   \n",
       "max       1.000000     2.000000    16.000000       20.000000         4.000000   \n",
       "\n",
       "       cercania_servicios  edad_primer_parto         area        educm  \\\n",
       "count         6379.000000        6379.000000  6379.000000  6379.000000   \n",
       "mean             1.150494          22.218059     0.900455    12.632074   \n",
       "std              0.409116           5.192737     0.299416     3.915690   \n",
       "min              1.000000          10.000000     0.000000     0.000000   \n",
       "25%              1.000000          18.000000     1.000000    11.000000   \n",
       "50%              1.000000          21.000000     1.000000    13.000000   \n",
       "75%              1.000000          25.000000     1.000000    15.000000   \n",
       "max              4.000000          48.000000     1.000000    20.000000   \n",
       "\n",
       "             educp  \n",
       "count  6379.000000  \n",
       "mean     11.196269  \n",
       "std       5.269743  \n",
       "min       0.000000  \n",
       "25%       9.000000  \n",
       "50%      13.000000  \n",
       "75%      13.000000  \n",
       "max      20.000000  "
      ]
     },
     "execution_count": 6,
     "metadata": {},
     "output_type": "execute_result"
    }
   ],
   "source": [
    "#Luego se obtienen las estadísticas descriptivas de los datos\n",
    "junaeb.describe()"
   ]
  },
  {
   "cell_type": "markdown",
   "metadata": {},
   "source": [
    "Se observa un claro error al obtener como máximo 2 para la variable vive_madre, siendo esta una variable dicotómica que solo puede tomar el valor de 0 o 1. Por otro lado, se evidencia la posible existencia de un outlier en la variable de n_habitaciones, dado que el valor máximo alcanzado por una observación es de 20, muy alejado del promedio correspondiente a 2.584.\n",
    "\n",
    "Para corroborar esto, se generan tablas con el resumen de cada una de estas variables."
   ]
  },
  {
   "cell_type": "code",
   "execution_count": 7,
   "metadata": {},
   "outputs": [
    {
     "data": {
      "text/html": [
       "<div>\n",
       "<style scoped>\n",
       "    .dataframe tbody tr th:only-of-type {\n",
       "        vertical-align: middle;\n",
       "    }\n",
       "\n",
       "    .dataframe tbody tr th {\n",
       "        vertical-align: top;\n",
       "    }\n",
       "\n",
       "    .dataframe thead th {\n",
       "        text-align: right;\n",
       "    }\n",
       "</style>\n",
       "<table border=\"1\" class=\"dataframe\">\n",
       "  <thead>\n",
       "    <tr style=\"text-align: right;\">\n",
       "      <th></th>\n",
       "      <th>vive_madre</th>\n",
       "      <th>Cantidad</th>\n",
       "    </tr>\n",
       "  </thead>\n",
       "  <tbody>\n",
       "    <tr>\n",
       "      <th>0</th>\n",
       "      <td>1</td>\n",
       "      <td>6208</td>\n",
       "    </tr>\n",
       "    <tr>\n",
       "      <th>1</th>\n",
       "      <td>0</td>\n",
       "      <td>166</td>\n",
       "    </tr>\n",
       "    <tr>\n",
       "      <th>2</th>\n",
       "      <td>2</td>\n",
       "      <td>5</td>\n",
       "    </tr>\n",
       "  </tbody>\n",
       "</table>\n",
       "</div>"
      ],
      "text/plain": [
       "   vive_madre  Cantidad\n",
       "0           1      6208\n",
       "1           0       166\n",
       "2           2         5"
      ]
     },
     "execution_count": 7,
     "metadata": {},
     "output_type": "execute_result"
    }
   ],
   "source": [
    "respuestas_vive_madre = []\n",
    "cantidad_vive_madre = []\n",
    "for i in range(len(junaeb)):\n",
    "    if junaeb[\"vive_madre\"][i] not in respuestas_vive_madre:\n",
    "        respuestas_vive_madre.append(junaeb[\"vive_madre\"][i])\n",
    "        \n",
    "for i in range(len(respuestas_vive_madre)):\n",
    "    k = 0\n",
    "    for j in range(len(junaeb)):\n",
    "        if junaeb[\"vive_madre\"][j] == respuestas_vive_madre[i]:\n",
    "            k += 1\n",
    "    cantidad_vive_madre.append(k)\n",
    "\n",
    "df_madre = pd.DataFrame(list(zip(respuestas_vive_madre,cantidad_vive_madre)), columns = ['vive_madre','Cantidad'])\n",
    "\n",
    "df_madre"
   ]
  },
  {
   "cell_type": "markdown",
   "metadata": {},
   "source": [
    "De la tabla anterior, se evidencian 5 observaciones que toman el valor 2 para la variable vive_madre, por lo que se eliminarán de la base de datos. "
   ]
  },
  {
   "cell_type": "code",
   "execution_count": 9,
   "metadata": {},
   "outputs": [
    {
     "data": {
      "text/html": [
       "<div>\n",
       "<style scoped>\n",
       "    .dataframe tbody tr th:only-of-type {\n",
       "        vertical-align: middle;\n",
       "    }\n",
       "\n",
       "    .dataframe tbody tr th {\n",
       "        vertical-align: top;\n",
       "    }\n",
       "\n",
       "    .dataframe thead th {\n",
       "        text-align: right;\n",
       "    }\n",
       "</style>\n",
       "<table border=\"1\" class=\"dataframe\">\n",
       "  <thead>\n",
       "    <tr style=\"text-align: right;\">\n",
       "      <th></th>\n",
       "      <th>Núm habitaciones</th>\n",
       "      <th>Cantidad</th>\n",
       "    </tr>\n",
       "  </thead>\n",
       "  <tbody>\n",
       "    <tr>\n",
       "      <th>0</th>\n",
       "      <td>4.0</td>\n",
       "      <td>631</td>\n",
       "    </tr>\n",
       "    <tr>\n",
       "      <th>1</th>\n",
       "      <td>3.0</td>\n",
       "      <td>2329</td>\n",
       "    </tr>\n",
       "    <tr>\n",
       "      <th>2</th>\n",
       "      <td>2.0</td>\n",
       "      <td>2862</td>\n",
       "    </tr>\n",
       "    <tr>\n",
       "      <th>3</th>\n",
       "      <td>5.0</td>\n",
       "      <td>128</td>\n",
       "    </tr>\n",
       "    <tr>\n",
       "      <th>4</th>\n",
       "      <td>1.0</td>\n",
       "      <td>397</td>\n",
       "    </tr>\n",
       "    <tr>\n",
       "      <th>5</th>\n",
       "      <td>6.0</td>\n",
       "      <td>24</td>\n",
       "    </tr>\n",
       "    <tr>\n",
       "      <th>6</th>\n",
       "      <td>8.0</td>\n",
       "      <td>2</td>\n",
       "    </tr>\n",
       "    <tr>\n",
       "      <th>7</th>\n",
       "      <td>20.0</td>\n",
       "      <td>1</td>\n",
       "    </tr>\n",
       "    <tr>\n",
       "      <th>8</th>\n",
       "      <td>9.0</td>\n",
       "      <td>1</td>\n",
       "    </tr>\n",
       "    <tr>\n",
       "      <th>9</th>\n",
       "      <td>0.0</td>\n",
       "      <td>1</td>\n",
       "    </tr>\n",
       "    <tr>\n",
       "      <th>10</th>\n",
       "      <td>7.0</td>\n",
       "      <td>2</td>\n",
       "    </tr>\n",
       "    <tr>\n",
       "      <th>11</th>\n",
       "      <td>10.0</td>\n",
       "      <td>1</td>\n",
       "    </tr>\n",
       "  </tbody>\n",
       "</table>\n",
       "</div>"
      ],
      "text/plain": [
       "    Núm habitaciones  Cantidad\n",
       "0                4.0       631\n",
       "1                3.0      2329\n",
       "2                2.0      2862\n",
       "3                5.0       128\n",
       "4                1.0       397\n",
       "5                6.0        24\n",
       "6                8.0         2\n",
       "7               20.0         1\n",
       "8                9.0         1\n",
       "9                0.0         1\n",
       "10               7.0         2\n",
       "11              10.0         1"
      ]
     },
     "execution_count": 9,
     "metadata": {},
     "output_type": "execute_result"
    }
   ],
   "source": [
    "hab_num = []\n",
    "hab_cant = []\n",
    "for i in range(len(junaeb)):\n",
    "    if junaeb[\"n_habitaciones\"][i] not in hab_num:\n",
    "        hab_num.append(junaeb[\"n_habitaciones\"][i])\n",
    "        \n",
    "for i in range(len(hab_num)):\n",
    "    k = 0\n",
    "    for j in range(len(junaeb)):\n",
    "        if junaeb[\"n_habitaciones\"][j] == hab_num[i]:\n",
    "            k += 1\n",
    "    hab_cant.append(k)\n",
    "\n",
    "df_hab = pd.DataFrame(list(zip(hab_num,hab_cant)), columns = ['Núm habitaciones','Cantidad'])\n",
    "df_hab"
   ]
  },
  {
   "cell_type": "markdown",
   "metadata": {},
   "source": [
    "De esta tabla, se tiene una observación que indica un total de 20 habitaciones para un hogar. Con lo visto anteriormente, se corrobora la existencia de este outlier, por lo que se eliminará la observación de esta base de datos.\n",
    "\n",
    "A continuación, se eliminarán las 5 observaciones correspondientes al valor 2 de vive_madre y la observación de valor 20 para el n_habitaciones."
   ]
  },
  {
   "cell_type": "code",
   "execution_count": 11,
   "metadata": {},
   "outputs": [],
   "source": [
    "junaeb_index_1 = junaeb[junaeb[\"vive_madre\"] == 2].index\n",
    "junaeb = junaeb.drop(junaeb_index_1)\n",
    "\n",
    "junaeb_index_2 = junaeb[junaeb[\"n_habitaciones\"] == 20].index\n",
    "junaeb = junaeb.drop(junaeb_index_2)"
   ]
  },
  {
   "cell_type": "markdown",
   "metadata": {},
   "source": [
    "### Pregunta 2: modelo OLS\n",
    "\n",
    "Se ejecuta un modelo de probabilidad lineal (MCO) para explicar la probabilidad de que los padres se encuentren viviendo en el hogar. Las variables de la base de datos que se consideran relevantes para el estudio son: vive_madre,n_personas,n_habitaciones,edad_primer_parto,area,educm,educp.\n",
    "Se dejaron fuera las variables de cercania_juegos y cercania_servicios por no resultar de interés. "
   ]
  },
  {
   "cell_type": "code",
   "execution_count": 13,
   "metadata": {},
   "outputs": [
    {
     "name": "stdout",
     "output_type": "stream",
     "text": [
      "                            OLS Regression Results                            \n",
      "==============================================================================\n",
      "Dep. Variable:             vive_padre   R-squared:                       0.169\n",
      "Model:                            OLS   Adj. R-squared:                  0.168\n",
      "Method:                 Least Squares   F-statistic:                     184.8\n",
      "Date:                Thu, 15 Sep 2022   Prob (F-statistic):          3.49e-250\n",
      "Time:                        12:23:59   Log-Likelihood:                -3565.4\n",
      "No. Observations:                6373   AIC:                             7147.\n",
      "Df Residuals:                    6365   BIC:                             7201.\n",
      "Df Model:                           7                                         \n",
      "Covariance Type:            nonrobust                                         \n",
      "=====================================================================================\n",
      "                        coef    std err          t      P>|t|      [0.025      0.975]\n",
      "-------------------------------------------------------------------------------------\n",
      "const                 0.1267      0.048      2.659      0.008       0.033       0.220\n",
      "vive_madre            0.1197      0.034      3.526      0.000       0.053       0.186\n",
      "n_personas            0.0561      0.005     12.273      0.000       0.047       0.065\n",
      "n_habitaciones       -0.0453      0.007     -6.558      0.000      -0.059      -0.032\n",
      "edad_primer_parto     0.0095      0.001      8.963      0.000       0.007       0.012\n",
      "area                 -0.0775      0.018     -4.333      0.000      -0.113      -0.042\n",
      "educm                -0.0160      0.001    -11.018      0.000      -0.019      -0.013\n",
      "educp                 0.0334      0.001     31.268      0.000       0.031       0.035\n",
      "==============================================================================\n",
      "Omnibus:                      762.367   Durbin-Watson:                   1.982\n",
      "Prob(Omnibus):                  0.000   Jarque-Bera (JB):              825.295\n",
      "Skew:                          -0.831   Prob(JB):                    6.16e-180\n",
      "Kurtosis:                       2.410   Cond. No.                         292.\n",
      "==============================================================================\n",
      "\n",
      "Notes:\n",
      "[1] Standard Errors assume that the covariance matrix of the errors is correctly specified.\n"
     ]
    },
    {
     "name": "stderr",
     "output_type": "stream",
     "text": [
      "C:\\Users\\felip\\anaconda3\\lib\\site-packages\\statsmodels\\tsa\\tsatools.py:142: FutureWarning: In a future version of pandas all arguments of concat except for the argument 'objs' will be keyword-only\n",
      "  x = pd.concat(x[::order], 1)\n"
     ]
    }
   ],
   "source": [
    "y=junaeb['vive_padre']  #variable dependiente\n",
    "X=junaeb[['vive_madre','n_personas','n_habitaciones','edad_primer_parto','area','educm','educp']]  #vector de variables independientes\n",
    "X=sm.add_constant(X)  #se definen como constantes\n",
    "model = sm.OLS(y, X)  #se define el modelo.  \n",
    "results = model.fit()  #objeto con los resultados\n",
    "print(results.summary())  #se printea sub-objeto con el resumen"
   ]
  },
  {
   "cell_type": "markdown",
   "metadata": {},
   "source": [
    "### Interpretación\n",
    "En este caso, aplicar un OLS presenta dificultades ya que la variable dependiente no es continua, tomando el valor de 1 si se cumple que el padre vive en el hogar y 0 en otro caso. Con lo anterior, se asume que el error se distribuye normal, obteniendo errores estándar (std err) incorrectos. Por otra parte, esta estimación no permite obtener predicciones confiables, dado que los resultados no necesariamente estarán entre 0 y 1, y en estos casos no se puede realizar una interpretación de estos. Sin embargo, los resultados suelen estar cerca de los correctos, y su interpretación se presenta a continuación:\n",
    "\n",
    "* El 16,8% de la variación en la variable dependiente es explicada por las variables control, según el R-cuadrado. \n",
    "* De la prueba F se obtiene un valor-p de 3.49e-250, por lo que se concluye que todas las variables en conjunto explican estadísticamente la variación en la variable vive_padre.\n",
    "* Todas las variables incluidas en el modelo resultaron ser significativas con un 99% de confianza, siendo estas: vive_madre, n_personas, n_habitaciones, edad_primer_parto, area, educm, educp. \n",
    "* Si la madre vive en el hogar, aumenta en un 11,97% la probabilidad de que el padre también viva con ellos.\n",
    "* Si el número de personas en el hogar aumenta en 1, la probabilidad de que el padre viva en la casa aumenta en un 5,61%.\n",
    "* Las casas con un mayor número de habitaciones disminuyen la probabilidad de que el padre viva en el hogar en un 4,53%.\n",
    "* Mientras mayor es la edad en que la madre tiene a su primer hijo, aumenta la probabilidad de que el padre viva con ellos en un 0,95%.\n",
    "* Si la familia reside en zonas urbanas es más probable en un 7,75% que el padre no viva en el hogar. \n",
    "* Cuando la escolaridad de la madre aumenta en un año, la probabilidad de que el padre viva en el hogar disminuye en un 1,6%.\n",
    "* Cuando la escolaridad del padre aumenta en un año, la probabilidad de que él viva en el hogar aumenta en un 3,34%.\n",
    "* El 0 no está dentro de los rangos de intervalos de confianza para el caso de las variables significativas, por lo que es muy poco probable que no haya relación entre cada variable explicativa con la de resultado."
   ]
  },
  {
   "cell_type": "markdown",
   "metadata": {},
   "source": [
    "### Pregunta 3: modelo Probit\n",
    "\n",
    "Se ejecuta un modelo Probit para explicar la probabilidad de que los padres se encuentren viviendo en el hogar. Se consideran las mismas variables anteriores para el estudio. \n"
   ]
  },
  {
   "cell_type": "code",
   "execution_count": 15,
   "metadata": {},
   "outputs": [
    {
     "name": "stdout",
     "output_type": "stream",
     "text": [
      "Optimization terminated successfully.\n",
      "         Current function value: 0.538348\n",
      "         Iterations 5\n",
      "                          Probit Regression Results                           \n",
      "==============================================================================\n",
      "Dep. Variable:             vive_padre   No. Observations:                 6373\n",
      "Model:                         Probit   Df Residuals:                     6365\n",
      "Method:                           MLE   Df Model:                            7\n",
      "Date:                Thu, 15 Sep 2022   Pseudo R-squ.:                  0.1357\n",
      "Time:                        12:31:20   Log-Likelihood:                -3430.9\n",
      "converged:                       True   LL-Null:                       -3969.5\n",
      "Covariance Type:            nonrobust   LLR p-value:                2.504e-228\n",
      "=====================================================================================\n",
      "                        coef    std err          z      P>|z|      [0.025      0.975]\n",
      "-------------------------------------------------------------------------------------\n",
      "const                -1.1956      0.156     -7.661      0.000      -1.502      -0.890\n",
      "vive_madre            0.3335      0.108      3.077      0.002       0.121       0.546\n",
      "n_personas            0.1771      0.015     11.643      0.000       0.147       0.207\n",
      "n_habitaciones       -0.1408      0.023     -6.227      0.000      -0.185      -0.096\n",
      "edad_primer_parto     0.0338      0.004      9.393      0.000       0.027       0.041\n",
      "area                 -0.2375      0.060     -3.990      0.000      -0.354      -0.121\n",
      "educm                -0.0510      0.005    -10.316      0.000      -0.061      -0.041\n",
      "educp                 0.0974      0.004     27.024      0.000       0.090       0.104\n",
      "=====================================================================================\n",
      "       Probit Marginal Effects       \n",
      "=====================================\n",
      "Dep. Variable:             vive_padre\n",
      "Method:                          dydx\n",
      "At:                           overall\n",
      "=====================================================================================\n",
      "                       dy/dx    std err          z      P>|z|      [0.025      0.975]\n",
      "-------------------------------------------------------------------------------------\n",
      "vive_madre            0.1022      0.033      3.082      0.002       0.037       0.167\n",
      "n_personas            0.0543      0.005     11.938      0.000       0.045       0.063\n",
      "n_habitaciones       -0.0431      0.007     -6.276      0.000      -0.057      -0.030\n",
      "edad_primer_parto     0.0104      0.001      9.549      0.000       0.008       0.012\n",
      "area                 -0.0728      0.018     -4.004      0.000      -0.108      -0.037\n",
      "educm                -0.0156      0.001    -10.504      0.000      -0.019      -0.013\n",
      "educp                 0.0298      0.001     32.393      0.000       0.028       0.032\n",
      "=====================================================================================\n"
     ]
    }
   ],
   "source": [
    "model = sm.Probit(y, X) #modelo\n",
    "probit_model = model.fit()\n",
    "print(probit_model.summary()) \n",
    "\n",
    "mfx = probit_model.get_margeff() #se obtienen los efectos marginales. Qué ocurre cuando la variable cambia en 1 unidad. \n",
    "print(mfx.summary()) "
   ]
  },
  {
   "cell_type": "markdown",
   "metadata": {},
   "source": [
    "### Interpretación\n",
    "\n",
    "La interpretación de este modelo es:\n",
    "* Se observan valores de efectos marginales muy similares a los coeficientes obtenidos por el modelo anterior, llegando a  las mismas conclusiones finales. \n",
    "* El 13,57% de la variación en la variable dependiente es explicada por las variables control, según el Pseudo R-cuadrado.\n",
    "* Todas las variables consideradas son significativas con un 99% de confianza: vive_madre, n_personas, n_habitaciones, edad_primer_parto, area, educm, educp, al igual que en el modelo anterior. \n",
    "* Si la madre vive en el hogar, aumenta en un 10,22% la probabilidad de que el padre también viva con ellos.\n",
    "* Si aumenta en 1 el número de personas en el hogar, la probabilidad de que el padre viva en la casa aumenta en un 5,43%.\n",
    "* Mientras más habitaciones tenga el hogar, disminuye la probabilidad de que el padre viva en el en un 4,31%.\n",
    "* Mientras mayor es la edad en que la madre tiene a su primer hijo, aumenta la probabilidad de que el padre viva con ellos en un 1,04%.\n",
    "* Si la familia reside en zonas urbanas es más probable en un 7,28% que el padre no viva en el hogar.\n",
    "* Cuando la escolaridad de la madre aumenta en un año, la probabilidad de que el padre viva en el hogar disminuye en un 1,56%.\n",
    "* Cuando la escolaridad del padre aumenta en un año, la probabilidad de que él viva en el hogar aumenta en un 2,98%.\n",
    "* El 0 no está dentro de los rangos de intervalos de confianza para el caso de las variables significativas, por lo que es muy poco probable que no haya relación entre cada variable explicativa con la de resultado."
   ]
  },
  {
   "cell_type": "markdown",
   "metadata": {},
   "source": [
    "### Pregunta 4: modelo Logit\n",
    "\n",
    "Se ejecuta un modelo Logit para explicar la probabilidad de que los padres se encuentren viviendo en el hogar. Se consideran las mismas variables anteriores para el estudio."
   ]
  },
  {
   "cell_type": "code",
   "execution_count": 16,
   "metadata": {},
   "outputs": [
    {
     "name": "stdout",
     "output_type": "stream",
     "text": [
      "Optimization terminated successfully.\n",
      "         Current function value: 0.535701\n",
      "         Iterations 6\n",
      "                           Logit Regression Results                           \n",
      "==============================================================================\n",
      "Dep. Variable:             vive_padre   No. Observations:                 6373\n",
      "Model:                          Logit   Df Residuals:                     6365\n",
      "Method:                           MLE   Df Model:                            7\n",
      "Date:                Thu, 15 Sep 2022   Pseudo R-squ.:                  0.1399\n",
      "Time:                        12:34:08   Log-Likelihood:                -3414.0\n",
      "converged:                       True   LL-Null:                       -3969.5\n",
      "Covariance Type:            nonrobust   LLR p-value:                1.271e-235\n",
      "=====================================================================================\n",
      "                        coef    std err          z      P>|z|      [0.025      0.975]\n",
      "-------------------------------------------------------------------------------------\n",
      "const                -2.1103      0.267     -7.898      0.000      -2.634      -1.587\n",
      "vive_madre            0.5980      0.181      3.308      0.001       0.244       0.952\n",
      "n_personas            0.3213      0.028     11.533      0.000       0.267       0.376\n",
      "n_habitaciones       -0.2462      0.039     -6.266      0.000      -0.323      -0.169\n",
      "edad_primer_parto     0.0598      0.006      9.482      0.000       0.047       0.072\n",
      "area                 -0.3990      0.102     -3.901      0.000      -0.599      -0.199\n",
      "educm                -0.0949      0.009    -10.565      0.000      -0.113      -0.077\n",
      "educp                 0.1673      0.006     26.187      0.000       0.155       0.180\n",
      "=====================================================================================\n",
      "        Logit Marginal Effects       \n",
      "=====================================\n",
      "Dep. Variable:             vive_padre\n",
      "Method:                          dydx\n",
      "At:                           overall\n",
      "=====================================================================================\n",
      "                       dy/dx    std err          z      P>|z|      [0.025      0.975]\n",
      "-------------------------------------------------------------------------------------\n",
      "vive_madre            0.1065      0.032      3.319      0.001       0.044       0.169\n",
      "n_personas            0.0572      0.005     11.913      0.000       0.048       0.067\n",
      "n_habitaciones       -0.0438      0.007     -6.327      0.000      -0.057      -0.030\n",
      "edad_primer_parto     0.0106      0.001      9.675      0.000       0.008       0.013\n",
      "area                 -0.0711      0.018     -3.916      0.000      -0.107      -0.035\n",
      "educm                -0.0169      0.002    -10.874      0.000      -0.020      -0.014\n",
      "educp                 0.0298      0.001     32.929      0.000       0.028       0.032\n",
      "=====================================================================================\n"
     ]
    }
   ],
   "source": [
    "model = sm.Logit(y, X) #modelo logit\n",
    "logit_model = model.fit()\n",
    "print(logit_model.summary()) \n",
    "\n",
    "mfx = logit_model.get_margeff() #se obtienen los efectos marginales\n",
    "print(mfx.summary())"
   ]
  },
  {
   "cell_type": "markdown",
   "metadata": {},
   "source": [
    "### Interpretación\n",
    "\n",
    "La interpretación de este modelo es:\n",
    "* Se observan valores de odds ratio practicamente iguales a los efectos marginales obtenidos por el modelo Probit.\n",
    "* El 13,99% de la variación en la variable dependiente es explicada por las variables control, según el Pseudo R-cuadrado.\n",
    "* Todas las variables consideradas son significativas con un 99% de confianza: vive_madre, n_personas, n_habitaciones, edad_primer_parto, area, educm, educp, al igual que los modelos anteriores. \n",
    "* Si la madre vive en el hogar, aumenta en un 10,65% la probabilidad de que el padre también viva con ellos.\n",
    "* Si aumenta en 1 el número de personas en el hogar, la probabilidad de que el padre viva en la casa aumenta en un 5,72%.\n",
    "* Mientras más habitaciones tenga el hogar, disminuye la probabilidad de que el padre viva en el en un 4,38%.\n",
    "* Mientras mayor es la edad en que la madre tiene a su primer hijo, aumenta la probabilidad de que el padre viva con ellos en un 1,06%.\n",
    "* Si la familia reside en zonas urbanas es más probable en un 7,11% que el padre no viva en el hogar. \n",
    "* Cuando la escolaridad de la madre aumenta en un año, la probabilidad de que el padre viva en el hogar disminuye en un 1,69%.\n",
    "* Cuando la escolaridad del padre aumenta en un año, la probabilidad de que él viva en el hogar aumenta en un 2,98%.\n",
    "* El 0 no está dentro de los rangos de intervalos de confianza para el caso de las variables significativas, por lo que es muy poco probable que no haya relación entre cada variable explicativa con la de resultado."
   ]
  },
  {
   "cell_type": "markdown",
   "metadata": {},
   "source": [
    "### Pregunta 5: Comparación de modelos OLS, Probit y Logit\n",
    "\n",
    "Los modelos aplicados buscan explicar la variable vive_padre, la cual es una variable dependiente limitada ya que sólo puede tomar 2 valores, el 0 y 1. En estos casos el modelo OLS presenta dificultades ya que puede entregar valores fuera de rango que no podrían interpretarse. Por el contrario, los modelos Probit y Logit utilizan una variable latente que tiene una distribución normal y logística respectivamente, y por ello permiten estimar valores de la variable vive_padre dentro del intervalo requerido.\n",
    "\n",
    "Comparando los pseudo-$R^2$, se tiene un valor de 0,1357 para el modelo de Probit y un valor de 1,399 para Logit. Lo que demuestra que son resultados muy similares e igualmente significativos, con sutiles diferencias en los coeficientes. "
   ]
  },
  {
   "cell_type": "markdown",
   "metadata": {},
   "source": [
    "### Pregunta 6: Modelo Poisson\n",
    "\n",
    "Se ejecuta un modelo Poisson para explicar el número de personas que hay dentro de un hogar (n_personas). En este caso se consideran todas las variables de la base de datos para realizar el modelo, ya que es de interés saber si la cercania a los servicios y a juegos son variables que puedan explicar el numero de personas. "
   ]
  },
  {
   "cell_type": "code",
   "execution_count": 17,
   "metadata": {
    "scrolled": false
   },
   "outputs": [
    {
     "data": {
      "text/plain": [
       "0    3.0\n",
       "1    5.0\n",
       "2    5.0\n",
       "3    4.0\n",
       "4    5.0\n",
       "Name: n_personas, dtype: float64"
      ]
     },
     "execution_count": 17,
     "metadata": {},
     "output_type": "execute_result"
    },
    {
     "data": {
      "image/png": "[encoded data removed]",
      "text/plain": [
       "<Figure size 432x288 with 1 Axes>"
      ]
     },
     "metadata": {
      "needs_background": "light"
     },
     "output_type": "display_data"
    }
   ],
   "source": [
    "subset=junaeb.loc[junaeb['n_personas']<9] #se escoge un subconjunto de los datos con hasta 9 personas en el hogar\n",
    "y=subset['n_personas']\n",
    "X=subset[['vive_padre','vive_madre','cercania_juegos','cercania_servicios','n_habitaciones','edad_primer_parto','area','educm','educp']]\n",
    "plt.hist(subset.n_personas)\n",
    "subset.n_personas.head()"
   ]
  },
  {
   "cell_type": "markdown",
   "metadata": {},
   "source": [
    "Del histograma se observa que la variable tiende a una distribución normal."
   ]
  },
  {
   "cell_type": "code",
   "execution_count": 19,
   "metadata": {},
   "outputs": [
    {
     "name": "stdout",
     "output_type": "stream",
     "text": [
      "                 Generalized Linear Model Regression Results                  \n",
      "==============================================================================\n",
      "Dep. Variable:             n_personas   No. Observations:                 6309\n",
      "Model:                            GLM   Df Residuals:                     6300\n",
      "Model Family:                 Poisson   Df Model:                            8\n",
      "Link Function:                    log   Scale:                          1.0000\n",
      "Method:                          IRLS   Log-Likelihood:                -11394.\n",
      "Date:                Thu, 15 Sep 2022   Deviance:                       1927.3\n",
      "Time:                        12:37:41   Pearson chi2:                 2.08e+03\n",
      "No. Iterations:                     5                                         \n",
      "Covariance Type:            nonrobust                                         \n",
      "======================================================================================\n",
      "                         coef    std err          z      P>|z|      [0.025      0.975]\n",
      "--------------------------------------------------------------------------------------\n",
      "vive_padre             0.1191      0.014      8.264      0.000       0.091       0.147\n",
      "vive_madre             0.6097      0.036     16.745      0.000       0.538       0.681\n",
      "cercania_juegos        0.0827      0.014      5.897      0.000       0.055       0.110\n",
      "cercania_servicios     0.0760      0.015      5.041      0.000       0.046       0.106\n",
      "n_habitaciones         0.1874      0.006     29.852      0.000       0.175       0.200\n",
      "edad_primer_parto     -0.0033      0.001     -2.877      0.004      -0.006      -0.001\n",
      "area                   0.1467      0.021      7.048      0.000       0.106       0.187\n",
      "educm                  0.0022      0.002      1.302      0.193      -0.001       0.005\n",
      "educp                  0.0005      0.001      0.411      0.681      -0.002       0.003\n",
      "======================================================================================\n"
     ]
    }
   ],
   "source": [
    "poisson=sm.GLM(y,X,family=sm.families.Poisson()).fit()\n",
    "print(poisson.summary())"
   ]
  },
  {
   "cell_type": "code",
   "execution_count": 20,
   "metadata": {},
   "outputs": [
    {
     "name": "stdout",
     "output_type": "stream",
     "text": [
      "fitted lambda\n",
      "[4.86806712 4.20885957 4.80387463 ... 3.29087039 3.85403004 4.14686457]\n"
     ]
    }
   ],
   "source": [
    "print(\"fitted lambda\")\n",
    "print(poisson.mu) "
   ]
  },
  {
   "cell_type": "markdown",
   "metadata": {},
   "source": [
    "### Interpretación \n",
    "\n",
    "Luego de aplicar el modelo de Poisson para datos de conteo, se obtuvieron las siguientes variables significativas al 99% de confianza: vive_padre, vive_madre, cercania_juegos, cercania_servicios y n_habitaciones. Por lo que estas variables explican el número de personas que viven en el hogar. Además, la variable edad_primer_parto es significativa al 95% de confianza ya que su valor-p se encuentra entre 0,01 y 0,05. Por otro lado, tanto la educación del padre como la de la madre no son significativas, dado que su valor-p es mayor a 0.05, y por esto no aportan a explicar el numero de personas que viven en el hogar. \n",
    "\n",
    "Especificamente, la interpretación de las variables significativas es:\n",
    "* El coeficiente de vive_padre implica que cuando los demás factores se mantienen iguales, aumenta el numero esperado de personas en el hogar en un 11,91% si el padre vive en el hogar. \n",
    "* El coeficiente de vive_madre implica que cuando los demás factores se mantienen iguales, aumenta el numero esperado de personas en el hogar en un 60,97% si la madre vive en el hogar.\n",
    "* Si hay juegos cerca del hogar, el numero esperado de personas que viven en el hogar aumenta en un 8,27%.\n",
    "* Si hay servicios de salud cerca de la vivienda, el numero esperado de personas que viven en el hogar aumenta 7,6%.\n",
    "* Frente a un aumento de 1 habitación en el hogar, el logaritmo natural del numero de personas en el hogar aumenta en 0,1874 unidades.\n",
    "* Mientras mayor es la edad en que la madre tiene a su primer hijo (aumento de 1 año), el logaritmo natural del numero de personas en el hogar disminuye en 0,0033 unidades. \n",
    "* Si la familia vive en una zona urbana, el numero esperado de personas que viven en el hogar aumenta en un 14,67%."
   ]
  },
  {
   "cell_type": "markdown",
   "metadata": {},
   "source": [
    "### Pregunta 7 y 8: Modelo Binomial Negativa\n",
    "\n",
    "Se ejecuta un modelo Binomial Negativa para explicar el número de personas que hay dentro de un hogar (n_personas). Al igual que en el modelo Poisson se consideran todas las variables de la base de datos para realizar el modelo."
   ]
  },
  {
   "cell_type": "code",
   "execution_count": 21,
   "metadata": {},
   "outputs": [
    {
     "name": "stdout",
     "output_type": "stream",
     "text": [
      "                 Generalized Linear Model Regression Results                  \n",
      "==============================================================================\n",
      "Dep. Variable:             n_personas   No. Observations:                 6309\n",
      "Model:                            GLM   Df Residuals:                     6300\n",
      "Model Family:        NegativeBinomial   Df Model:                            8\n",
      "Link Function:                    log   Scale:                          1.0000\n",
      "Method:                          IRLS   Log-Likelihood:                -16225.\n",
      "Date:                Thu, 15 Sep 2022   Deviance:                       371.09\n",
      "Time:                        12:41:31   Pearson chi2:                     411.\n",
      "No. Iterations:                     8                                         \n",
      "Covariance Type:            nonrobust                                         \n",
      "======================================================================================\n",
      "                         coef    std err          z      P>|z|      [0.025      0.975]\n",
      "--------------------------------------------------------------------------------------\n",
      "vive_padre             0.1270      0.033      3.878      0.000       0.063       0.191\n",
      "vive_madre             0.4817      0.075      6.384      0.000       0.334       0.630\n",
      "cercania_juegos        0.1000      0.033      3.026      0.002       0.035       0.165\n",
      "cercania_servicios     0.0996      0.036      2.785      0.005       0.030       0.170\n",
      "n_habitaciones         0.2037      0.015     13.365      0.000       0.174       0.234\n",
      "edad_primer_parto     -0.0022      0.003     -0.868      0.385      -0.007       0.003\n",
      "area                   0.1609      0.046      3.498      0.000       0.071       0.251\n",
      "educm                  0.0026      0.004      0.670      0.503      -0.005       0.010\n",
      "educp                  0.0005      0.003      0.172      0.863      -0.005       0.006\n",
      "======================================================================================\n"
     ]
    }
   ],
   "source": [
    "negbin=sm.GLM(y,X,family=sm.families.NegativeBinomial()).fit()\n",
    "print(negbin.summary())"
   ]
  },
  {
   "cell_type": "code",
   "execution_count": 22,
   "metadata": {},
   "outputs": [
    {
     "name": "stdout",
     "output_type": "stream",
     "text": [
      "fitted lambda\n",
      "[4.95782241 4.22870311 4.84216442 ... 3.31470185 3.86390517 4.19959637]\n"
     ]
    }
   ],
   "source": [
    "print(\"fitted lambda\")\n",
    "print(negbin.mu)"
   ]
  },
  {
   "cell_type": "markdown",
   "metadata": {},
   "source": [
    "### Test overdispersion\n",
    "\n",
    "A simple test for overdispersion can be determined with the results of the Poisson model, using the ratio of Pearson chi2 / Df Residuals. A value larger than 1 indicates overdispersion. In the case above (6), data suggets overdispersion.\n",
    "\n",
    "The Negative Binomial model estimated above is using a value of $\\theta$ (or $\\alpha=1/\\theta$) equal to 1. In order to determine the appropiate value of $\\alpha$, you can estimate a simple regression using the output of the Poisson model:\n",
    "\n",
    "1. Construct the following variable aux=$[(y-\\lambda)^2-\\lambda]/\\lambda$\n",
    "2. Regress the variable aux with $\\lambda$ as the only explanatory variable (no constant)\n",
    "3. The estimated value is an appropiate guess for $\\alpha=1/\\theta$\n",
    "\n",
    "In the model of the previous section, just use the options on sm.families.NegativeBinomial, in order to manually enter the value of alpha. See example below."
   ]
  },
  {
   "cell_type": "code",
   "execution_count": 23,
   "metadata": {},
   "outputs": [
    {
     "name": "stdout",
     "output_type": "stream",
     "text": [
      "x1   -0.153739\n",
      "dtype: float64\n"
     ]
    }
   ],
   "source": [
    "aux=((y-poisson.mu)**2-poisson.mu)/poisson.mu\n",
    "auxr=sm.OLS(aux,poisson.mu).fit()\n",
    "print(auxr.params)"
   ]
  },
  {
   "cell_type": "markdown",
   "metadata": {},
   "source": [
    "### Pregunta 9: Poisson y Binomial Negativa\n",
    "\n",
    "La obtención de un $\\alpha$ negativo implica que la varianza es menor que la media, lo que significa que no hay sobredispersión de los datos, por lo que el modelo de Poisson genera una correcta estimación sobre estos. Si se aplicara un modelo Binomial Negativo no se obtendrían resultados correctos, ya que idealmente se necesitaría de un $\\alpha$ mayor que 0, con una varianza mayor que la media."
   ]
  },
  {
   "cell_type": "markdown",
   "metadata": {},
   "source": [
    "<font size=\"3\">**Tarea 1**</font>\n",
    "\n",
    "<u> *Instrucciones* </u>\n",
    "\n",
    "Los resultados de los ejericicios propuestos se deben entregar como un notebook por correo el dia 14/9 hasta las 21:00. \n",
    "Además, es importante considerar que para que la revisión se pueda llevar a cabo, el código debe poder ejecutarse en cualquier computadora.\n",
    "\n",
    "Las variables tienen la siguiente descripcion:\n",
    "\n",
    "- vive_padre: si el padre vive en el hogar\n",
    "- vive_madre: si la madre vive en el hogar\n",
    "- n_personas: numero de integrantes del hogar\n",
    "- n_habitaciones: numero de cuartos en el hogar\n",
    "- cercania_juegos: hay juegos infantiles cerca de la vivienda (1=no, 2=si, 4=no sabe)\n",
    "- cercania_servicios: hay serivicios de salud cerca de la vivienda (1=no, 2=si, 4=no sabe)\n",
    "- edad_primer_parto: edad de la madre en su primer parto\n",
    "- area: urbana=1, rural=0\n",
    "- educm: años de escolaridad de la madre\n",
    "- educp: años de escolaridad del padre\n",
    "\n",
    "Preguntas:\n",
    "\n",
    "1. Cargar la base de datos *junaeb.csv* en el ambiente. Identifique los tipos de datos que se encuentran en la base, realice estadisticas descriptivas sobre las variables importantes (Hint: Revisar la distribuciones, datos faltantes, outliers, etc.) y limpie las variables cuando sea necesario. \n",
    "\n",
    "2. Ejecute un modelo de probabilidad lineal (*MCO*) que permita explicar la probabilidad de que los padres se encuentren viviendo en el hogar (*vive_padre*). Seleccione las variables dependientes a incluir en el modelo final e interprete su significado. \n",
    "  \n",
    "3. Ejecute un modelo *probit* que permita explicar la probabilidad de que los padres se encuentren viviendo en el hogar (*vive_padre*). Seleccione las variables dependientes a incluir en el modelo final e interprete su significado. \n",
    "\n",
    "4. Ejecute un modelo *logit*  que permita explicar la probabilidad de que los padres se encuentren viviendo en el hogar(*vive_padre*). Seleccione las variables dependientes a incluir en el modelo final e interprete su significado. \n",
    "\n",
    "5. Comente los resultados obtenidos en 2, 3 y 4. ¿Cuáles y por qué existen las diferencias entre los resultados?. En su opinión, ¿Cuál sería el más adecuado para responder la pregunta de investgación y por qué? ¿Qué variables resultaron ser robustas a la especificación?\n",
    "  \n",
    "6. Ejecute un modelo Poisson para explicar el número de personas que hay dentro de un hogar. (*n_personas*). Seleccione las variables dependientes a incluir en el modelo final e interprete su significado. \n",
    "\n",
    "7. Determine sobre dispersion y posible valor optimo de alpha para un modelo Binomial Negativa.\n",
    "\n",
    "8. Usando la informacion anterior, ejecute un modelo Binomial Negativa para explicar el número de personas que hay dentro de un hogar. (*n_personas*). Seleccione las variables dependientes a incluir en el modelo final e interprete su significado. \n",
    "  \n",
    "9. Comente los resultados obtenidos en 6, 7 y 8. ¿Cuáles y por qué existen las diferencias entre los resultados?. En su opinión, ¿Cuál sería el más adecuado para responder la pregunta de investgación y por qué? ¿Qué variables resultaron ser robustas a la especificación?"
   ]
  }
 ],
 "metadata": {
  "hide_input": false,
  "kernelspec": {
   "display_name": "Python 3 (ipykernel)",
   "language": "python",
   "name": "python3"
  },
  "language_info": {
   "codemirror_mode": {
    "name": "ipython",
    "version": 3
   },
   "file_extension": ".py",
   "mimetype": "text/x-python",
   "name": "python",
   "nbconvert_exporter": "python",
   "pygments_lexer": "ipython3",
   "version": "3.7.6"
  },
  "latex_envs": {
   "LaTeX_envs_menu_present": true,
   "autoclose": true,
   "autocomplete": true,
   "bibliofile": "biblio.bib",
   "cite_by": "apalike",
   "current_citInitial": 1,
   "eqLabelWithNumbers": true,
   "eqNumInitial": 1,
   "hotkeys": {
    "equation": "Ctrl-E",
    "itemize": "Ctrl-I"
   },
   "labels_anchors": false,
   "latex_user_defs": false,
   "report_style_numbering": false,
   "user_envs_cfg": false
  },
  "toc": {
   "base_numbering": 1,
   "nav_menu": {},
   "number_sections": true,
   "sideBar": true,
   "skip_h1_title": true,
   "title_cell": "Table of Contents",
   "title_sidebar": "Contents",
   "toc_cell": false,
   "toc_position": {
    "height": "calc(100% - 180px)",
    "left": "10px",
    "top": "150px",
    "width": "165px"
   },
   "toc_section_display": true,
   "toc_window_display": true
  }
 },
 "nbformat": 4,
 "nbformat_minor": 2
}
