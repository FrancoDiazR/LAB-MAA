{
 "cells": [
  {
   "cell_type": "code",
   "execution_count": 1,
   "id": "3916764d",
   "metadata": {},
   "outputs": [],
   "source": [
    "import numpy as np\n",
    "import pandas as pd\n",
    "import matplotlib.pyplot as plt\n",
    "import statsmodels.api as sm\n",
    "import sklearn\n",
    "import scipy \n",
    "\n",
    "%matplotlib inline"
   ]
  },
  {
   "cell_type": "markdown",
   "id": "1a16c966",
   "metadata": {},
   "source": [
    "## 1 Lectura de datos"
   ]
  },
  {
   "cell_type": "code",
   "execution_count": 2,
   "id": "38fe7167",
   "metadata": {},
   "outputs": [],
   "source": [
    "datos_junaeb = pd.read_csv('../datos tarea 1/junaeb.csv')\n",
    "datos_junaeb.dropna(inplace=True)"
   ]
  },
  {
   "cell_type": "code",
   "execution_count": 3,
   "id": "c525236e",
   "metadata": {
    "scrolled": true
   },
   "outputs": [
    {
     "data": {
      "text/html": [
       "<div>\n",
       "<style scoped>\n",
       "    .dataframe tbody tr th:only-of-type {\n",
       "        vertical-align: middle;\n",
       "    }\n",
       "\n",
       "    .dataframe tbody tr th {\n",
       "        vertical-align: top;\n",
       "    }\n",
       "\n",
       "    .dataframe thead th {\n",
       "        text-align: right;\n",
       "    }\n",
       "</style>\n",
       "<table border=\"1\" class=\"dataframe\">\n",
       "  <thead>\n",
       "    <tr style=\"text-align: right;\">\n",
       "      <th></th>\n",
       "      <th>vive_padre</th>\n",
       "      <th>vive_madre</th>\n",
       "      <th>n_personas</th>\n",
       "      <th>n_habitaciones</th>\n",
       "      <th>cercania_juegos</th>\n",
       "      <th>cercania_servicios</th>\n",
       "      <th>edad_primer_parto</th>\n",
       "      <th>area</th>\n",
       "      <th>educm</th>\n",
       "      <th>educp</th>\n",
       "    </tr>\n",
       "  </thead>\n",
       "  <tbody>\n",
       "    <tr>\n",
       "      <th>0</th>\n",
       "      <td>0</td>\n",
       "      <td>1</td>\n",
       "      <td>3.0</td>\n",
       "      <td>4.0</td>\n",
       "      <td>1.0</td>\n",
       "      <td>1.0</td>\n",
       "      <td>25.0</td>\n",
       "      <td>1</td>\n",
       "      <td>0</td>\n",
       "      <td>0</td>\n",
       "    </tr>\n",
       "    <tr>\n",
       "      <th>1</th>\n",
       "      <td>0</td>\n",
       "      <td>1</td>\n",
       "      <td>5.0</td>\n",
       "      <td>3.0</td>\n",
       "      <td>1.0</td>\n",
       "      <td>1.0</td>\n",
       "      <td>23.0</td>\n",
       "      <td>1</td>\n",
       "      <td>13</td>\n",
       "      <td>13</td>\n",
       "    </tr>\n",
       "    <tr>\n",
       "      <th>2</th>\n",
       "      <td>1</td>\n",
       "      <td>1</td>\n",
       "      <td>5.0</td>\n",
       "      <td>3.0</td>\n",
       "      <td>1.0</td>\n",
       "      <td>1.0</td>\n",
       "      <td>19.0</td>\n",
       "      <td>1</td>\n",
       "      <td>12</td>\n",
       "      <td>17</td>\n",
       "    </tr>\n",
       "    <tr>\n",
       "      <th>3</th>\n",
       "      <td>1</td>\n",
       "      <td>1</td>\n",
       "      <td>4.0</td>\n",
       "      <td>2.0</td>\n",
       "      <td>1.0</td>\n",
       "      <td>1.0</td>\n",
       "      <td>27.0</td>\n",
       "      <td>1</td>\n",
       "      <td>6</td>\n",
       "      <td>13</td>\n",
       "    </tr>\n",
       "    <tr>\n",
       "      <th>4</th>\n",
       "      <td>1</td>\n",
       "      <td>1</td>\n",
       "      <td>5.0</td>\n",
       "      <td>3.0</td>\n",
       "      <td>2.0</td>\n",
       "      <td>1.0</td>\n",
       "      <td>20.0</td>\n",
       "      <td>1</td>\n",
       "      <td>13</td>\n",
       "      <td>16</td>\n",
       "    </tr>\n",
       "    <tr>\n",
       "      <th>...</th>\n",
       "      <td>...</td>\n",
       "      <td>...</td>\n",
       "      <td>...</td>\n",
       "      <td>...</td>\n",
       "      <td>...</td>\n",
       "      <td>...</td>\n",
       "      <td>...</td>\n",
       "      <td>...</td>\n",
       "      <td>...</td>\n",
       "      <td>...</td>\n",
       "    </tr>\n",
       "    <tr>\n",
       "      <th>6374</th>\n",
       "      <td>1</td>\n",
       "      <td>1</td>\n",
       "      <td>4.0</td>\n",
       "      <td>2.0</td>\n",
       "      <td>1.0</td>\n",
       "      <td>1.0</td>\n",
       "      <td>24.0</td>\n",
       "      <td>1</td>\n",
       "      <td>15</td>\n",
       "      <td>13</td>\n",
       "    </tr>\n",
       "    <tr>\n",
       "      <th>6375</th>\n",
       "      <td>1</td>\n",
       "      <td>1</td>\n",
       "      <td>4.0</td>\n",
       "      <td>2.0</td>\n",
       "      <td>1.0</td>\n",
       "      <td>1.0</td>\n",
       "      <td>22.0</td>\n",
       "      <td>1</td>\n",
       "      <td>15</td>\n",
       "      <td>15</td>\n",
       "    </tr>\n",
       "    <tr>\n",
       "      <th>6376</th>\n",
       "      <td>0</td>\n",
       "      <td>1</td>\n",
       "      <td>3.0</td>\n",
       "      <td>2.0</td>\n",
       "      <td>1.0</td>\n",
       "      <td>1.0</td>\n",
       "      <td>40.0</td>\n",
       "      <td>1</td>\n",
       "      <td>15</td>\n",
       "      <td>0</td>\n",
       "    </tr>\n",
       "    <tr>\n",
       "      <th>6377</th>\n",
       "      <td>1</td>\n",
       "      <td>1</td>\n",
       "      <td>4.0</td>\n",
       "      <td>2.0</td>\n",
       "      <td>1.0</td>\n",
       "      <td>1.0</td>\n",
       "      <td>29.0</td>\n",
       "      <td>1</td>\n",
       "      <td>13</td>\n",
       "      <td>13</td>\n",
       "    </tr>\n",
       "    <tr>\n",
       "      <th>6378</th>\n",
       "      <td>0</td>\n",
       "      <td>1</td>\n",
       "      <td>5.0</td>\n",
       "      <td>3.0</td>\n",
       "      <td>1.0</td>\n",
       "      <td>1.0</td>\n",
       "      <td>30.0</td>\n",
       "      <td>1</td>\n",
       "      <td>15</td>\n",
       "      <td>20</td>\n",
       "    </tr>\n",
       "  </tbody>\n",
       "</table>\n",
       "<p>6379 rows × 10 columns</p>\n",
       "</div>"
      ],
      "text/plain": [
       "      vive_padre  vive_madre  n_personas  n_habitaciones  cercania_juegos  \\\n",
       "0              0           1         3.0             4.0              1.0   \n",
       "1              0           1         5.0             3.0              1.0   \n",
       "2              1           1         5.0             3.0              1.0   \n",
       "3              1           1         4.0             2.0              1.0   \n",
       "4              1           1         5.0             3.0              2.0   \n",
       "...          ...         ...         ...             ...              ...   \n",
       "6374           1           1         4.0             2.0              1.0   \n",
       "6375           1           1         4.0             2.0              1.0   \n",
       "6376           0           1         3.0             2.0              1.0   \n",
       "6377           1           1         4.0             2.0              1.0   \n",
       "6378           0           1         5.0             3.0              1.0   \n",
       "\n",
       "      cercania_servicios  edad_primer_parto  area  educm  educp  \n",
       "0                    1.0               25.0     1      0      0  \n",
       "1                    1.0               23.0     1     13     13  \n",
       "2                    1.0               19.0     1     12     17  \n",
       "3                    1.0               27.0     1      6     13  \n",
       "4                    1.0               20.0     1     13     16  \n",
       "...                  ...                ...   ...    ...    ...  \n",
       "6374                 1.0               24.0     1     15     13  \n",
       "6375                 1.0               22.0     1     15     15  \n",
       "6376                 1.0               40.0     1     15      0  \n",
       "6377                 1.0               29.0     1     13     13  \n",
       "6378                 1.0               30.0     1     15     20  \n",
       "\n",
       "[6379 rows x 10 columns]"
      ]
     },
     "execution_count": 3,
     "metadata": {},
     "output_type": "execute_result"
    }
   ],
   "source": [
    "datos_junaeb.reset_index(drop=True, inplace=True)\n",
    "datos_junaeb"
   ]
  },
  {
   "cell_type": "markdown",
   "id": "5fc5bdf8",
   "metadata": {},
   "source": [
    "## 2 Limpieza de datos\n",
    "Verificamos si existen outliers en cada variable que esté restringida a ciertos valores determinados"
   ]
  },
  {
   "cell_type": "code",
   "execution_count": 4,
   "id": "af35ca72",
   "metadata": {
    "scrolled": true
   },
   "outputs": [
    {
     "data": {
      "text/plain": [
       "1.0    5503\n",
       "2.0     834\n",
       "4.0      42\n",
       "Name: cercania_servicios, dtype: int64"
      ]
     },
     "execution_count": 4,
     "metadata": {},
     "output_type": "execute_result"
    },
    {
     "data": {
      "image/png": "[encoded data removed]",
      "text/plain": [
       "<Figure size 432x288 with 1 Axes>"
      ]
     },
     "metadata": {
      "needs_background": "light"
     },
     "output_type": "display_data"
    }
   ],
   "source": [
    "plt.hist(datos_junaeb['cercania_servicios'])\n",
    "datos_junaeb.cercania_servicios.value_counts()"
   ]
  },
  {
   "cell_type": "code",
   "execution_count": 5,
   "id": "a0271795",
   "metadata": {},
   "outputs": [
    {
     "data": {
      "text/plain": [
       "1.0    5184\n",
       "2.0    1154\n",
       "4.0      41\n",
       "Name: cercania_juegos, dtype: int64"
      ]
     },
     "execution_count": 5,
     "metadata": {},
     "output_type": "execute_result"
    },
    {
     "data": {
      "image/png": "[encoded data removed]",
      "text/plain": [
       "<Figure size 432x288 with 1 Axes>"
      ]
     },
     "metadata": {
      "needs_background": "light"
     },
     "output_type": "display_data"
    }
   ],
   "source": [
    "plt.hist(datos_junaeb['cercania_juegos'])\n",
    "datos_junaeb.cercania_juegos.value_counts()"
   ]
  },
  {
   "cell_type": "code",
   "execution_count": 6,
   "id": "d84d6dd1",
   "metadata": {
    "scrolled": false
   },
   "outputs": [
    {
     "data": {
      "text/plain": [
       "1    4373\n",
       "0    2006\n",
       "Name: vive_padre, dtype: int64"
      ]
     },
     "execution_count": 6,
     "metadata": {},
     "output_type": "execute_result"
    },
    {
     "data": {
      "image/png": "[encoded data removed]",
      "text/plain": [
       "<Figure size 432x288 with 1 Axes>"
      ]
     },
     "metadata": {
      "needs_background": "light"
     },
     "output_type": "display_data"
    }
   ],
   "source": [
    "plt.hist(datos_junaeb['vive_padre'])\n",
    "datos_junaeb.vive_padre.value_counts()"
   ]
  },
  {
   "cell_type": "code",
   "execution_count": 7,
   "id": "ba9626b5",
   "metadata": {
    "scrolled": true
   },
   "outputs": [
    {
     "data": {
      "text/plain": [
       "1    6208\n",
       "0     166\n",
       "2       5\n",
       "Name: vive_madre, dtype: int64"
      ]
     },
     "execution_count": 7,
     "metadata": {},
     "output_type": "execute_result"
    },
    {
     "data": {
      "image/png": "[encoded data removed]",
      "text/plain": [
       "<Figure size 432x288 with 1 Axes>"
      ]
     },
     "metadata": {
      "needs_background": "light"
     },
     "output_type": "display_data"
    }
   ],
   "source": [
    "plt.hist(datos_junaeb['vive_madre'])\n",
    "datos_junaeb.vive_madre.value_counts()"
   ]
  },
  {
   "cell_type": "markdown",
   "id": "4c79f0a6",
   "metadata": {},
   "source": [
    "En este ultimo histograma, nos damos cuenta que existen valores fuera de rango(vive_madre=2) para la variable vive_madre, ya que solo puede tomar valores 0 o 1 y se procede a eliminar dichos datos erroneos"
   ]
  },
  {
   "cell_type": "code",
   "execution_count": 8,
   "id": "46ed1222",
   "metadata": {
    "scrolled": true
   },
   "outputs": [
    {
     "data": {
      "text/plain": [
       "1    6208\n",
       "0     166\n",
       "Name: vive_madre, dtype: int64"
      ]
     },
     "execution_count": 8,
     "metadata": {},
     "output_type": "execute_result"
    },
    {
     "data": {
      "image/png": "[encoded data removed]",
      "text/plain": [
       "<Figure size 432x288 with 1 Axes>"
      ]
     },
     "metadata": {
      "needs_background": "light"
     },
     "output_type": "display_data"
    }
   ],
   "source": [
    "#Eliminar datos fuera de rango para la variable vive_madre\n",
    "\n",
    "datos_junaeb.drop(datos_junaeb[datos_junaeb['vive_madre']==2].index,inplace =True)\n",
    "\n",
    "plt.hist(datos_junaeb['vive_madre'])\n",
    "datos_junaeb.vive_madre.value_counts()"
   ]
  },
  {
   "cell_type": "code",
   "execution_count": 9,
   "id": "93163270",
   "metadata": {},
   "outputs": [
    {
     "data": {
      "text/html": [
       "<div>\n",
       "<style scoped>\n",
       "    .dataframe tbody tr th:only-of-type {\n",
       "        vertical-align: middle;\n",
       "    }\n",
       "\n",
       "    .dataframe tbody tr th {\n",
       "        vertical-align: top;\n",
       "    }\n",
       "\n",
       "    .dataframe thead th {\n",
       "        text-align: right;\n",
       "    }\n",
       "</style>\n",
       "<table border=\"1\" class=\"dataframe\">\n",
       "  <thead>\n",
       "    <tr style=\"text-align: right;\">\n",
       "      <th></th>\n",
       "      <th>vive_padre</th>\n",
       "      <th>vive_madre</th>\n",
       "      <th>n_personas</th>\n",
       "      <th>n_habitaciones</th>\n",
       "      <th>cercania_juegos</th>\n",
       "      <th>cercania_servicios</th>\n",
       "      <th>edad_primer_parto</th>\n",
       "      <th>area</th>\n",
       "      <th>educm</th>\n",
       "      <th>educp</th>\n",
       "    </tr>\n",
       "  </thead>\n",
       "  <tbody>\n",
       "    <tr>\n",
       "      <th>0</th>\n",
       "      <td>0</td>\n",
       "      <td>1</td>\n",
       "      <td>3.0</td>\n",
       "      <td>4.0</td>\n",
       "      <td>1.0</td>\n",
       "      <td>1.0</td>\n",
       "      <td>25.0</td>\n",
       "      <td>1</td>\n",
       "      <td>0</td>\n",
       "      <td>0</td>\n",
       "    </tr>\n",
       "    <tr>\n",
       "      <th>1</th>\n",
       "      <td>0</td>\n",
       "      <td>1</td>\n",
       "      <td>5.0</td>\n",
       "      <td>3.0</td>\n",
       "      <td>1.0</td>\n",
       "      <td>1.0</td>\n",
       "      <td>23.0</td>\n",
       "      <td>1</td>\n",
       "      <td>13</td>\n",
       "      <td>13</td>\n",
       "    </tr>\n",
       "    <tr>\n",
       "      <th>2</th>\n",
       "      <td>1</td>\n",
       "      <td>1</td>\n",
       "      <td>5.0</td>\n",
       "      <td>3.0</td>\n",
       "      <td>1.0</td>\n",
       "      <td>1.0</td>\n",
       "      <td>19.0</td>\n",
       "      <td>1</td>\n",
       "      <td>12</td>\n",
       "      <td>17</td>\n",
       "    </tr>\n",
       "    <tr>\n",
       "      <th>3</th>\n",
       "      <td>1</td>\n",
       "      <td>1</td>\n",
       "      <td>4.0</td>\n",
       "      <td>2.0</td>\n",
       "      <td>1.0</td>\n",
       "      <td>1.0</td>\n",
       "      <td>27.0</td>\n",
       "      <td>1</td>\n",
       "      <td>6</td>\n",
       "      <td>13</td>\n",
       "    </tr>\n",
       "    <tr>\n",
       "      <th>4</th>\n",
       "      <td>1</td>\n",
       "      <td>1</td>\n",
       "      <td>5.0</td>\n",
       "      <td>3.0</td>\n",
       "      <td>2.0</td>\n",
       "      <td>1.0</td>\n",
       "      <td>20.0</td>\n",
       "      <td>1</td>\n",
       "      <td>13</td>\n",
       "      <td>16</td>\n",
       "    </tr>\n",
       "    <tr>\n",
       "      <th>...</th>\n",
       "      <td>...</td>\n",
       "      <td>...</td>\n",
       "      <td>...</td>\n",
       "      <td>...</td>\n",
       "      <td>...</td>\n",
       "      <td>...</td>\n",
       "      <td>...</td>\n",
       "      <td>...</td>\n",
       "      <td>...</td>\n",
       "      <td>...</td>\n",
       "    </tr>\n",
       "    <tr>\n",
       "      <th>6374</th>\n",
       "      <td>1</td>\n",
       "      <td>1</td>\n",
       "      <td>4.0</td>\n",
       "      <td>2.0</td>\n",
       "      <td>1.0</td>\n",
       "      <td>1.0</td>\n",
       "      <td>24.0</td>\n",
       "      <td>1</td>\n",
       "      <td>15</td>\n",
       "      <td>13</td>\n",
       "    </tr>\n",
       "    <tr>\n",
       "      <th>6375</th>\n",
       "      <td>1</td>\n",
       "      <td>1</td>\n",
       "      <td>4.0</td>\n",
       "      <td>2.0</td>\n",
       "      <td>1.0</td>\n",
       "      <td>1.0</td>\n",
       "      <td>22.0</td>\n",
       "      <td>1</td>\n",
       "      <td>15</td>\n",
       "      <td>15</td>\n",
       "    </tr>\n",
       "    <tr>\n",
       "      <th>6376</th>\n",
       "      <td>0</td>\n",
       "      <td>1</td>\n",
       "      <td>3.0</td>\n",
       "      <td>2.0</td>\n",
       "      <td>1.0</td>\n",
       "      <td>1.0</td>\n",
       "      <td>40.0</td>\n",
       "      <td>1</td>\n",
       "      <td>15</td>\n",
       "      <td>0</td>\n",
       "    </tr>\n",
       "    <tr>\n",
       "      <th>6377</th>\n",
       "      <td>1</td>\n",
       "      <td>1</td>\n",
       "      <td>4.0</td>\n",
       "      <td>2.0</td>\n",
       "      <td>1.0</td>\n",
       "      <td>1.0</td>\n",
       "      <td>29.0</td>\n",
       "      <td>1</td>\n",
       "      <td>13</td>\n",
       "      <td>13</td>\n",
       "    </tr>\n",
       "    <tr>\n",
       "      <th>6378</th>\n",
       "      <td>0</td>\n",
       "      <td>1</td>\n",
       "      <td>5.0</td>\n",
       "      <td>3.0</td>\n",
       "      <td>1.0</td>\n",
       "      <td>1.0</td>\n",
       "      <td>30.0</td>\n",
       "      <td>1</td>\n",
       "      <td>15</td>\n",
       "      <td>20</td>\n",
       "    </tr>\n",
       "  </tbody>\n",
       "</table>\n",
       "<p>6374 rows × 10 columns</p>\n",
       "</div>"
      ],
      "text/plain": [
       "      vive_padre  vive_madre  n_personas  n_habitaciones  cercania_juegos  \\\n",
       "0              0           1         3.0             4.0              1.0   \n",
       "1              0           1         5.0             3.0              1.0   \n",
       "2              1           1         5.0             3.0              1.0   \n",
       "3              1           1         4.0             2.0              1.0   \n",
       "4              1           1         5.0             3.0              2.0   \n",
       "...          ...         ...         ...             ...              ...   \n",
       "6374           1           1         4.0             2.0              1.0   \n",
       "6375           1           1         4.0             2.0              1.0   \n",
       "6376           0           1         3.0             2.0              1.0   \n",
       "6377           1           1         4.0             2.0              1.0   \n",
       "6378           0           1         5.0             3.0              1.0   \n",
       "\n",
       "      cercania_servicios  edad_primer_parto  area  educm  educp  \n",
       "0                    1.0               25.0     1      0      0  \n",
       "1                    1.0               23.0     1     13     13  \n",
       "2                    1.0               19.0     1     12     17  \n",
       "3                    1.0               27.0     1      6     13  \n",
       "4                    1.0               20.0     1     13     16  \n",
       "...                  ...                ...   ...    ...    ...  \n",
       "6374                 1.0               24.0     1     15     13  \n",
       "6375                 1.0               22.0     1     15     15  \n",
       "6376                 1.0               40.0     1     15      0  \n",
       "6377                 1.0               29.0     1     13     13  \n",
       "6378                 1.0               30.0     1     15     20  \n",
       "\n",
       "[6374 rows x 10 columns]"
      ]
     },
     "execution_count": 9,
     "metadata": {},
     "output_type": "execute_result"
    }
   ],
   "source": [
    "datos_junaeb"
   ]
  },
  {
   "cell_type": "markdown",
   "id": "4082d424",
   "metadata": {},
   "source": [
    "## OLS\n",
    "La variable dependiente en estudio es vive_padre y todas las demas son las posibles variables explicativas sobre que el padre se encuentre o no viviendo en el hogar"
   ]
  },
  {
   "cell_type": "code",
   "execution_count": 10,
   "id": "088f26b3",
   "metadata": {},
   "outputs": [
    {
     "name": "stdout",
     "output_type": "stream",
     "text": [
      "                            OLS Regression Results                            \n",
      "==============================================================================\n",
      "Dep. Variable:             vive_padre   R-squared:                       0.169\n",
      "Model:                            OLS   Adj. R-squared:                  0.167\n",
      "Method:                 Least Squares   F-statistic:                     143.3\n",
      "Date:                Thu, 15 Sep 2022   Prob (F-statistic):          2.85e-247\n",
      "Time:                        12:10:43   Log-Likelihood:                -3567.3\n",
      "No. Observations:                6374   AIC:                             7155.\n",
      "Df Residuals:                    6364   BIC:                             7222.\n",
      "Df Model:                           9                                         \n",
      "Covariance Type:            nonrobust                                         \n",
      "======================================================================================\n",
      "                         coef    std err          t      P>|t|      [0.025      0.975]\n",
      "--------------------------------------------------------------------------------------\n",
      "const                  0.1166      0.053      2.186      0.029       0.012       0.221\n",
      "vive_madre             0.1214      0.034      3.575      0.000       0.055       0.188\n",
      "n_personas             0.0546      0.005     12.073      0.000       0.046       0.063\n",
      "n_habitaciones        -0.0409      0.007     -6.151      0.000      -0.054      -0.028\n",
      "cercania_juegos       -0.0104      0.013     -0.799      0.424      -0.036       0.015\n",
      "cercania_servicios     0.0149      0.014      1.050      0.294      -0.013       0.043\n",
      "edad_primer_parto      0.0095      0.001      8.903      0.000       0.007       0.012\n",
      "area                  -0.0777      0.018     -4.238      0.000      -0.114      -0.042\n",
      "educm                 -0.0160      0.001    -10.983      0.000      -0.019      -0.013\n",
      "educp                  0.0334      0.001     31.197      0.000       0.031       0.036\n",
      "==============================================================================\n",
      "Omnibus:                      762.716   Durbin-Watson:                   1.981\n",
      "Prob(Omnibus):                  0.000   Jarque-Bera (JB):              825.499\n",
      "Skew:                          -0.831   Prob(JB):                    5.56e-180\n",
      "Kurtosis:                       2.410   Cond. No.                         315.\n",
      "==============================================================================\n",
      "\n",
      "Warnings:\n",
      "[1] Standard Errors assume that the covariance matrix of the errors is correctly specified.\n"
     ]
    }
   ],
   "source": [
    "y=datos_junaeb['vive_padre']\n",
    "X=datos_junaeb[['vive_madre','n_personas','n_habitaciones','cercania_juegos','cercania_servicios','edad_primer_parto','area','educm','educp']]\n",
    "\n",
    "X=sm.add_constant(X)\n",
    "model = sm.OLS(y, X)\n",
    "results = model.fit()\n",
    "print(results.summary())"
   ]
  },
  {
   "cell_type": "markdown",
   "id": "e5a8c32a",
   "metadata": {},
   "source": [
    "Para realizar las pruebas de hipotesis de significancia individual utilizamos el valor p, puesto que el tamaño de la muestra no afecta a los resultados. La tabla de resultados nos muestra que existen 2 de 9 variables no significativas, las cuales corresponden a cercania de juegos y cercania de servicios, el resto de las variables son significativas en su mayoria con 99% de confianza."
   ]
  },
  {
   "cell_type": "markdown",
   "id": "303a035b",
   "metadata": {},
   "source": [
    "En cuanto a la interpretación de las varaibles explicativas, se tiene que por ejemplo la probabilidad de que el padre viva en el hogar aumenta en un 3,34% cuando aumenta en una unidad el año educacional del padre. Lo mismo pasa con la variable vive_madre, donde podemos notar que la probabilidad de que el padre en el hogar aumenta en 12.14% cuando la madre vive en el hogar."
   ]
  },
  {
   "cell_type": "code",
   "execution_count": 11,
   "id": "c53c5fb5",
   "metadata": {},
   "outputs": [
    {
     "name": "stdout",
     "output_type": "stream",
     "text": [
      "Optimization terminated successfully.\n",
      "         Current function value: 0.538584\n",
      "         Iterations 5\n",
      "                          Probit Regression Results                           \n",
      "==============================================================================\n",
      "Dep. Variable:             vive_padre   No. Observations:                 6374\n",
      "Model:                         Probit   Df Residuals:                     6364\n",
      "Method:                           MLE   Df Model:                            9\n",
      "Date:                Thu, 15 Sep 2022   Pseudo R-squ.:                  0.1353\n",
      "Time:                        12:10:43   Log-Likelihood:                -3432.9\n",
      "converged:                       True   LL-Null:                       -3969.9\n",
      "Covariance Type:            nonrobust   LLR p-value:                2.017e-225\n",
      "======================================================================================\n",
      "                         coef    std err          z      P>|z|      [0.025      0.975]\n",
      "--------------------------------------------------------------------------------------\n",
      "const                 -1.2186      0.174     -6.999      0.000      -1.560      -0.877\n",
      "vive_madre             0.3393      0.108      3.131      0.002       0.127       0.552\n",
      "n_personas             0.1716      0.015     11.479      0.000       0.142       0.201\n",
      "n_habitaciones        -0.1245      0.021     -5.862      0.000      -0.166      -0.083\n",
      "cercania_juegos       -0.0342      0.042     -0.807      0.420      -0.117       0.049\n",
      "cercania_servicios     0.0412      0.046      0.889      0.374      -0.050       0.132\n",
      "edad_primer_parto      0.0336      0.004      9.332      0.000       0.027       0.041\n",
      "area                  -0.2388      0.061     -3.923      0.000      -0.358      -0.119\n",
      "educm                 -0.0511      0.005    -10.302      0.000      -0.061      -0.041\n",
      "educp                  0.0974      0.004     26.975      0.000       0.090       0.104\n",
      "======================================================================================\n",
      "       Probit Marginal Effects       \n",
      "=====================================\n",
      "Dep. Variable:             vive_padre\n",
      "Method:                          dydx\n",
      "At:                           overall\n",
      "======================================================================================\n",
      "                        dy/dx    std err          z      P>|z|      [0.025      0.975]\n",
      "--------------------------------------------------------------------------------------\n",
      "vive_madre             0.1041      0.033      3.137      0.002       0.039       0.169\n",
      "n_personas             0.0526      0.004     11.759      0.000       0.044       0.061\n",
      "n_habitaciones        -0.0382      0.006     -5.901      0.000      -0.051      -0.026\n",
      "cercania_juegos       -0.0105      0.013     -0.807      0.420      -0.036       0.015\n",
      "cercania_servicios     0.0126      0.014      0.889      0.374      -0.015       0.040\n",
      "edad_primer_parto      0.0103      0.001      9.483      0.000       0.008       0.012\n",
      "area                  -0.0732      0.019     -3.936      0.000      -0.110      -0.037\n",
      "educm                 -0.0157      0.001    -10.489      0.000      -0.019      -0.013\n",
      "educp                  0.0299      0.001     32.313      0.000       0.028       0.032\n",
      "======================================================================================\n"
     ]
    }
   ],
   "source": [
    "## 3. Probit\n",
    "\n",
    "model = sm.Probit(y, X)\n",
    "probit_model = model.fit()\n",
    "print(probit_model.summary())\n",
    "\n",
    "mfx = probit_model.get_margeff()\n",
    "print(mfx.summary())"
   ]
  },
  {
   "cell_type": "markdown",
   "id": "98bbb11c",
   "metadata": {},
   "source": [
    "Al igual que en el caso de OLS, utilizamos el valor p como prueba de hipotesis de significacncia individual, ya que se el tamaño de la muestra no afecta en los resultados. Los resultados muestran que existen 2 de 9 variables no significativas, las cuales corresponden a cercania de juegos y cercania de servicio, las demás variables son significativas con un 99% de confianza. En esta oación la estimacion de los betas no representan cambio marginal, dada la forma no lineal. \n",
    "Es por esto que estudiamos los efctos marginales (dy/dx) donde existirán distintas interpretaciones dependiendo de si la variable es discreta o continua. En el caso de las variables continuas por ejemplo: para la variable educm, a medida que aumenta en una unidad los años de escolaridad de la madre, la probabilidad de que el padre viva en la casa disminuye en un 1,57%. Para la variables discreta; se tiene que para el area, si el lugar se encuentra en un sector urbano, disminuye en un 7,32% la probabilidad de que el padre viva en la casa.\n"
   ]
  },
  {
   "cell_type": "code",
   "execution_count": 12,
   "id": "a8c26dc1",
   "metadata": {},
   "outputs": [
    {
     "name": "stdout",
     "output_type": "stream",
     "text": [
      "Optimization terminated successfully.\n",
      "         Current function value: 0.535948\n",
      "         Iterations 6\n",
      "                           Logit Regression Results                           \n",
      "==============================================================================\n",
      "Dep. Variable:             vive_padre   No. Observations:                 6374\n",
      "Model:                          Logit   Df Residuals:                     6364\n",
      "Method:                           MLE   Df Model:                            9\n",
      "Date:                Thu, 15 Sep 2022   Pseudo R-squ.:                  0.1395\n",
      "Time:                        12:10:43   Log-Likelihood:                -3416.1\n",
      "converged:                       True   LL-Null:                       -3969.9\n",
      "Covariance Type:            nonrobust   LLR p-value:                1.133e-232\n",
      "======================================================================================\n",
      "                         coef    std err          z      P>|z|      [0.025      0.975]\n",
      "--------------------------------------------------------------------------------------\n",
      "const                 -2.1427      0.298     -7.186      0.000      -2.727      -1.558\n",
      "vive_madre             0.6072      0.181      3.358      0.001       0.253       0.962\n",
      "n_personas             0.3123      0.028     11.296      0.000       0.258       0.366\n",
      "n_habitaciones        -0.2208      0.039     -5.724      0.000      -0.296      -0.145\n",
      "cercania_juegos       -0.0602      0.072     -0.835      0.404      -0.201       0.081\n",
      "cercania_servicios     0.0703      0.078      0.897      0.370      -0.083       0.224\n",
      "edad_primer_parto      0.0594      0.006      9.427      0.000       0.047       0.072\n",
      "area                  -0.4016      0.104     -3.845      0.000      -0.606      -0.197\n",
      "educm                 -0.0950      0.009    -10.546      0.000      -0.113      -0.077\n",
      "educp                  0.1673      0.006     26.140      0.000       0.155       0.180\n",
      "======================================================================================\n",
      "        Logit Marginal Effects       \n",
      "=====================================\n",
      "Dep. Variable:             vive_padre\n",
      "Method:                          dydx\n",
      "At:                           overall\n",
      "======================================================================================\n",
      "                        dy/dx    std err          z      P>|z|      [0.025      0.975]\n",
      "--------------------------------------------------------------------------------------\n",
      "vive_madre             0.1082      0.032      3.369      0.001       0.045       0.171\n",
      "n_personas             0.0556      0.005     11.652      0.000       0.046       0.065\n",
      "n_habitaciones        -0.0393      0.007     -5.770      0.000      -0.053      -0.026\n",
      "cercania_juegos       -0.0107      0.013     -0.835      0.404      -0.036       0.014\n",
      "cercania_servicios     0.0125      0.014      0.897      0.370      -0.015       0.040\n",
      "edad_primer_parto      0.0106      0.001      9.616      0.000       0.008       0.013\n",
      "area                  -0.0716      0.019     -3.859      0.000      -0.108      -0.035\n",
      "educm                 -0.0169      0.002    -10.854      0.000      -0.020      -0.014\n",
      "educp                  0.0298      0.001     32.833      0.000       0.028       0.032\n",
      "======================================================================================\n"
     ]
    }
   ],
   "source": [
    "# 4. Logit\n",
    "\n",
    "model = sm.Logit(y, X)\n",
    "logit_model = model.fit()\n",
    "print(logit_model.summary())\n",
    "\n",
    "mfx = logit_model.get_margeff()\n",
    "print(mfx.summary())"
   ]
  },
  {
   "cell_type": "markdown",
   "id": "6955e5c2",
   "metadata": {},
   "source": [
    "En el caso del Logit, podemos notar que; las variables que son significativas siguen siendo las mismas en comparación al modelo Probit. Esto se debe a que los efectos marginales entre ambos métodos son practicamente los mismos y solo difieren en la distribución del error que asume cadad uno.\n",
    "La interpretación de los efectos marginales es identica a la realizada anteriormente para el modelo Probit.\n"
   ]
  },
  {
   "cell_type": "markdown",
   "id": "cb702da7",
   "metadata": {},
   "source": [
    "## Comentar resultados \n",
    "\n",
    "Tal como pudimos observar en cada uno de los modelos, las varibables significativas no cambiaron entre estos, sin embargo pudimos notar que el valor predicho de la variable dependiente en el modelo OLS se encuentra fuera del rango de valores especificados para esta variable, es por ello que se utlilizan los modelos Logit y Probit para las variables dependiente limitadas (dummy) dada la no linealidad del modelo.\n"
   ]
  },
  {
   "cell_type": "markdown",
   "id": "a30c52a6",
   "metadata": {},
   "source": [
    "## Poisson"
   ]
  },
  {
   "cell_type": "code",
   "execution_count": 13,
   "id": "d93870dd",
   "metadata": {
    "scrolled": true
   },
   "outputs": [
    {
     "data": {
      "text/plain": [
       "0    3.0\n",
       "1    5.0\n",
       "2    5.0\n",
       "3    4.0\n",
       "4    5.0\n",
       "Name: n_personas, dtype: float64"
      ]
     },
     "execution_count": 13,
     "metadata": {},
     "output_type": "execute_result"
    },
    {
     "data": {
      "image/png": "[encoded data removed]",
      "text/plain": [
       "<Figure size 432x288 with 1 Axes>"
      ]
     },
     "metadata": {
      "needs_background": "light"
     },
     "output_type": "display_data"
    }
   ],
   "source": [
    "subset=datos_junaeb.loc[datos_junaeb['n_personas']<17]\n",
    "y=subset['n_personas']\n",
    "X=subset[['vive_padre','vive_madre','n_habitaciones','cercania_juegos','cercania_servicios','edad_primer_parto','area','educm','educp']]\n",
    "plt.hist(subset.n_personas)\n",
    "subset.n_personas.head()"
   ]
  },
  {
   "cell_type": "markdown",
   "id": "76dda333",
   "metadata": {},
   "source": [
    "A simple vista en este grafico podemos notar que no existirá sobredispersión, dado que la mayor concentracion de los datos no se encuentran tan alejados de la media"
   ]
  },
  {
   "cell_type": "code",
   "execution_count": 14,
   "id": "ef842f2e",
   "metadata": {
    "scrolled": true
   },
   "outputs": [
    {
     "name": "stdout",
     "output_type": "stream",
     "text": [
      "                 Generalized Linear Model Regression Results                  \n",
      "==============================================================================\n",
      "Dep. Variable:             n_personas   No. Observations:                 6374\n",
      "Model:                            GLM   Df Residuals:                     6365\n",
      "Model Family:                 Poisson   Df Model:                            8\n",
      "Link Function:                    log   Scale:                          1.0000\n",
      "Method:                          IRLS   Log-Likelihood:                -11720.\n",
      "Date:                Thu, 15 Sep 2022   Deviance:                       2312.2\n",
      "Time:                        12:10:44   Pearson chi2:                 2.55e+03\n",
      "No. Iterations:                     5                                         \n",
      "Covariance Type:            nonrobust                                         \n",
      "======================================================================================\n",
      "                         coef    std err          z      P>|z|      [0.025      0.975]\n",
      "--------------------------------------------------------------------------------------\n",
      "vive_padre             0.1168      0.014      8.181      0.000       0.089       0.145\n",
      "vive_madre             0.6845      0.036     18.850      0.000       0.613       0.756\n",
      "n_habitaciones         0.1529      0.005     32.270      0.000       0.144       0.162\n",
      "cercania_juegos        0.0879      0.014      6.363      0.000       0.061       0.115\n",
      "cercania_servicios     0.0817      0.015      5.522      0.000       0.053       0.111\n",
      "edad_primer_parto     -0.0035      0.001     -3.103      0.002      -0.006      -0.001\n",
      "area                   0.1611      0.021      7.749      0.000       0.120       0.202\n",
      "educm                  0.0026      0.002      1.572      0.116      -0.001       0.006\n",
      "educp                  0.0007      0.001      0.502      0.615      -0.002       0.003\n",
      "======================================================================================\n"
     ]
    }
   ],
   "source": [
    "poisson=sm.GLM(y,X,family=sm.families.Poisson()).fit()\n",
    "print(poisson.summary())"
   ]
  },
  {
   "cell_type": "code",
   "execution_count": 15,
   "id": "f6170c9c",
   "metadata": {},
   "outputs": [
    {
     "name": "stdout",
     "output_type": "stream",
     "text": [
      "fitted lambda\n",
      "[4.65988871 4.20261155 4.79037311 ... 3.38602891 3.96899529 4.14113266]\n"
     ]
    }
   ],
   "source": [
    "print(\"fitted lambda\")\n",
    "print(poisson.mu)"
   ]
  },
  {
   "cell_type": "markdown",
   "id": "f5e2e9c4",
   "metadata": {},
   "source": [
    "### Interpretación de coeficientes Poisson\n",
    "Dado la naturaleza logaritmica de la funcion de distribucion Poisson, podemos notar que la interpretacion de los coeficientes beta que entrega el modelo será del estilo Log-Nivel. Por ejemplo, si interpretamos el efecto de la variable n_habitaciones sobre n_personas, podemos decir que esta variable aumentará en un 15,2% cuando aumente en una unidad la variable n_habitaciones, es decir, cuando aumente en una la cantidad de habitaciones en el hogar. Es logico pensar esto ya que, si una casa tiene mas habitaciones, eventualmente podrian vivir más personas en ella."
   ]
  },
  {
   "cell_type": "markdown",
   "id": "0c502fd3",
   "metadata": {},
   "source": [
    "A diferencia de la interpretacion para la variable discreta anterior, para interpretar las variables dummy cambia un poco. Si analizamos la variable vive_madre podemos ver que, la cantidad de personas que viven en la casa aumenta en un 68,4% cuando la madre efectivamente vive en el hogar. En cambio, al analizar la variable vive_padre notamos que la cantidad de personas que viven en la casa aumenta en un 11,68% cuando el padre vive en el hogar. Esto tiene lógica ya por lo general se da que los hijos pequeños dependen mucho de la madre, por lo que no es errado el pensamiento que si la madre efectivamente vive en la casa, es probable que vivan mas personas en ella, a diferencia de lo que ocurre con el padre."
   ]
  },
  {
   "cell_type": "markdown",
   "id": "d5998250",
   "metadata": {},
   "source": [
    "### Test de sobredispersion y posible valor alpha"
   ]
  },
  {
   "cell_type": "code",
   "execution_count": 16,
   "id": "ec8e62d3",
   "metadata": {},
   "outputs": [
    {
     "name": "stdout",
     "output_type": "stream",
     "text": [
      "0.40062843676355064\n"
     ]
    }
   ],
   "source": [
    "ov = (2.55*10**3)/6365\n",
    "print(ov)"
   ]
  },
  {
   "cell_type": "markdown",
   "id": "8aebf118",
   "metadata": {},
   "source": [
    "Al realizar el test de sobredispersión, notamos que el cuociente del Pearson chi-cuadrado y Df Residuals nos da como resultado 0.4, el cual es un valor menor a 1, lo que nos indica que no existe sobredispersión. Por este motivo, no seria necesario realizar la aproximacion mediante la distribucion binomial negativa, pues esta se utiliza para relajar la distribucion de Poisson(cuando existe sobredispersión)"
   ]
  },
  {
   "cell_type": "code",
   "execution_count": 17,
   "id": "898add12",
   "metadata": {},
   "outputs": [
    {
     "name": "stdout",
     "output_type": "stream",
     "text": [
      "x1   -0.110029\n",
      "dtype: float64\n"
     ]
    }
   ],
   "source": [
    "aux=((y-poisson.mu)**2-poisson.mu)/poisson.mu\n",
    "auxr=sm.OLS(aux,poisson.mu).fit()\n",
    "print(auxr.params)"
   ]
  },
  {
   "cell_type": "markdown",
   "id": "3f956362",
   "metadata": {},
   "source": [
    "Al calcular el valor alpha óptimo de la distribución binomial negativa mediante la regresión lineal que utiliza como único regresor la variable aux=[(𝑦−𝜆)2−𝜆]/𝜆[(y−λ)2−λ]/λ , nos entrega un valor de -0,11, el cual al momento de utilizarlo en la construcción del modelo binomial negativo nos despliega un error, puesto que alpha tiene que ser mayor a cero (dada la naturaleza de los logaritmos) es por esta razón que se decidió no utilizar la distribucion binomial negativa en este caso."
   ]
  },
  {
   "cell_type": "markdown",
   "id": "4d75e199",
   "metadata": {},
   "source": [
    "## Conclusiones finales.\n",
    "Dado que la distribucion binomial negativa no se realizó, no fue posible contrastar la informacion entregada por ese modelo versus la de Poisson, pero a grandes rasgos podemos decir que, para este caso particular, el mejor modelo estimado fue el de Poisson dado que al no existir sobredispersión, el modelo no tiene ningun problema en cuanto a su funcionamiento.\n",
    "Cabe mencionar que la distribucion binomial negativa es un tipo de distribucion que se utiliza para la relajacion de la distribución Poisson, la cual en este caso no fue necesaria."
   ]
  },
  {
   "cell_type": "code",
   "execution_count": null,
   "id": "5d4f3811",
   "metadata": {},
   "outputs": [],
   "source": []
  }
 ],
 "metadata": {
  "hide_input": false,
  "kernelspec": {
   "display_name": "Python 3 (ipykernel)",
   "language": "python",
   "name": "python3"
  },
  "language_info": {
   "codemirror_mode": {
    "name": "ipython",
    "version": 3
   },
   "file_extension": ".py",
   "mimetype": "text/x-python",
   "name": "python",
   "nbconvert_exporter": "python",
   "pygments_lexer": "ipython3",
   "version": "3.7.6"
  },
  "latex_envs": {
   "LaTeX_envs_menu_present": true,
   "autoclose": true,
   "autocomplete": true,
   "bibliofile": "biblio.bib",
   "cite_by": "apalike",
   "current_citInitial": 1,
   "eqLabelWithNumbers": true,
   "eqNumInitial": 1,
   "hotkeys": {
    "equation": "Ctrl-E",
    "itemize": "Ctrl-I"
   },
   "labels_anchors": false,
   "latex_user_defs": false,
   "report_style_numbering": false,
   "user_envs_cfg": false
  },
  "toc": {
   "base_numbering": 1,
   "nav_menu": {},
   "number_sections": true,
   "sideBar": true,
   "skip_h1_title": false,
   "title_cell": "Table of Contents",
   "title_sidebar": "Contents",
   "toc_cell": false,
   "toc_position": {},
   "toc_section_display": true,
   "toc_window_display": true
  }
 },
 "nbformat": 4,
 "nbformat_minor": 5
}
