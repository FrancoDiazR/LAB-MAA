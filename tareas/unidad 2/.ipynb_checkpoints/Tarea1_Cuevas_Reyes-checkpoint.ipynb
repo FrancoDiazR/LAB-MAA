{
 "cells": [
  {
   "cell_type": "markdown",
   "metadata": {
    "id": "ygJLgXCuI18F"
   },
   "source": [
    "# Integrantes: \n",
    "- Matías Cuevas Torres\n",
    "- Pablo Reyes Polanco"
   ]
  },
  {
   "cell_type": "code",
   "execution_count": 1,
   "metadata": {
    "id": "KG42k_4yf-Jd"
   },
   "outputs": [],
   "source": [
    "import numpy as np\n",
    "import pandas as pd\n",
    "import matplotlib.pyplot as plt\n",
    "import statsmodels.api as sm\n",
    "import statsmodels.formula.api as smf\n",
    "import sklearn\n",
    "import scipy \n",
    "from scipy.stats import nbinom\n",
    "import seaborn as sns\n",
    "\n",
    "%matplotlib inline"
   ]
  },
  {
   "cell_type": "markdown",
   "metadata": {
    "id": "jYSZiGW-M8fH"
   },
   "source": [
    "# 1. Carga de datos, inspección y filtro"
   ]
  },
  {
   "cell_type": "code",
   "execution_count": null,
   "metadata": {
    "id": "s2DaS3LqgEq7"
   },
   "outputs": [],
   "source": [
    "try:\n",
    "    junaeb = pd.read_csv(\"../data/junaeb.csv\")\n",
    "except:\n",
    "    junaeb = pd.read_csv(\"https://raw.githubusercontent.com/juancaros/LAB-MAA/main/data/junaeb.csv\")"
   ]
  },
  {
   "cell_type": "markdown",
   "metadata": {
    "id": "YP2TByYfvWIT"
   },
   "source": [
    "Los datos se cargan directamente desde github por lo que para correr el codigo es necesario contar con conexion a internet"
   ]
  },
  {
   "cell_type": "code",
   "execution_count": null,
   "metadata": {
    "colab": {
     "base_uri": "https://localhost:8080/"
    },
    "id": "4TgTeveggIGL",
    "outputId": "82c96c45-0005-476f-ebd6-b2d0dd9f2d19"
   },
   "outputs": [
    {
     "name": "stdout",
     "output_type": "stream",
     "text": [
      "<class 'pandas.core.frame.DataFrame'>\n",
      "RangeIndex: 6607 entries, 0 to 6606\n",
      "Data columns (total 10 columns):\n",
      " #   Column              Non-Null Count  Dtype  \n",
      "---  ------              --------------  -----  \n",
      " 0   vive_padre          6607 non-null   int64  \n",
      " 1   vive_madre          6607 non-null   int64  \n",
      " 2   n_personas          6472 non-null   float64\n",
      " 3   n_habitaciones      6457 non-null   float64\n",
      " 4   cercania_juegos     6475 non-null   float64\n",
      " 5   cercania_servicios  6475 non-null   float64\n",
      " 6   edad_primer_parto   6386 non-null   float64\n",
      " 7   area                6607 non-null   int64  \n",
      " 8   educm               6607 non-null   int64  \n",
      " 9   educp               6607 non-null   int64  \n",
      "dtypes: float64(5), int64(5)\n",
      "memory usage: 516.3 KB\n"
     ]
    }
   ],
   "source": [
    "junaeb.info()"
   ]
  },
  {
   "cell_type": "markdown",
   "metadata": {
    "id": "SHesSVu4vnUw"
   },
   "source": [
    "Para determinar los datos nulos de la base de datos se utiliza el comando .info describiendo la cantidad de no nullos y el tipo de dato que es para cada variable (entero y float)."
   ]
  },
  {
   "cell_type": "code",
   "execution_count": null,
   "metadata": {
    "colab": {
     "base_uri": "https://localhost:8080/",
     "height": 300
    },
    "id": "EcDAREdlh-_y",
    "outputId": "df6c5457-5a5d-45aa-c717-155a223a9734"
   },
   "outputs": [
    {
     "data": {
      "text/html": [
       "\n",
       "  <div id=\"df-9c692491-4ae2-4314-8990-a9d72e4abb71\">\n",
       "    <div class=\"colab-df-container\">\n",
       "      <div>\n",
       "<style scoped>\n",
       "    .dataframe tbody tr th:only-of-type {\n",
       "        vertical-align: middle;\n",
       "    }\n",
       "\n",
       "    .dataframe tbody tr th {\n",
       "        vertical-align: top;\n",
       "    }\n",
       "\n",
       "    .dataframe thead th {\n",
       "        text-align: right;\n",
       "    }\n",
       "</style>\n",
       "<table border=\"1\" class=\"dataframe\">\n",
       "  <thead>\n",
       "    <tr style=\"text-align: right;\">\n",
       "      <th></th>\n",
       "      <th>vive_padre</th>\n",
       "      <th>vive_madre</th>\n",
       "      <th>n_personas</th>\n",
       "      <th>n_habitaciones</th>\n",
       "      <th>cercania_juegos</th>\n",
       "      <th>cercania_servicios</th>\n",
       "      <th>edad_primer_parto</th>\n",
       "      <th>area</th>\n",
       "      <th>educm</th>\n",
       "      <th>educp</th>\n",
       "    </tr>\n",
       "  </thead>\n",
       "  <tbody>\n",
       "    <tr>\n",
       "      <th>count</th>\n",
       "      <td>6607.000000</td>\n",
       "      <td>6607.000000</td>\n",
       "      <td>6472.000000</td>\n",
       "      <td>6457.000000</td>\n",
       "      <td>6475.000000</td>\n",
       "      <td>6475.000000</td>\n",
       "      <td>6386.000000</td>\n",
       "      <td>6607.000000</td>\n",
       "      <td>6607.000000</td>\n",
       "      <td>6607.000000</td>\n",
       "    </tr>\n",
       "    <tr>\n",
       "      <th>mean</th>\n",
       "      <td>0.669593</td>\n",
       "      <td>0.949902</td>\n",
       "      <td>4.387361</td>\n",
       "      <td>2.583862</td>\n",
       "      <td>1.205405</td>\n",
       "      <td>1.154286</td>\n",
       "      <td>22.220169</td>\n",
       "      <td>0.900863</td>\n",
       "      <td>12.314364</td>\n",
       "      <td>10.917209</td>\n",
       "    </tr>\n",
       "    <tr>\n",
       "      <th>std</th>\n",
       "      <td>0.470395</td>\n",
       "      <td>0.221607</td>\n",
       "      <td>1.344752</td>\n",
       "      <td>0.900471</td>\n",
       "      <td>0.459817</td>\n",
       "      <td>0.421625</td>\n",
       "      <td>5.193370</td>\n",
       "      <td>0.298869</td>\n",
       "      <td>4.329315</td>\n",
       "      <td>5.481642</td>\n",
       "    </tr>\n",
       "    <tr>\n",
       "      <th>min</th>\n",
       "      <td>0.000000</td>\n",
       "      <td>0.000000</td>\n",
       "      <td>1.000000</td>\n",
       "      <td>0.000000</td>\n",
       "      <td>1.000000</td>\n",
       "      <td>1.000000</td>\n",
       "      <td>10.000000</td>\n",
       "      <td>0.000000</td>\n",
       "      <td>0.000000</td>\n",
       "      <td>0.000000</td>\n",
       "    </tr>\n",
       "    <tr>\n",
       "      <th>25%</th>\n",
       "      <td>0.000000</td>\n",
       "      <td>1.000000</td>\n",
       "      <td>4.000000</td>\n",
       "      <td>2.000000</td>\n",
       "      <td>1.000000</td>\n",
       "      <td>1.000000</td>\n",
       "      <td>18.000000</td>\n",
       "      <td>1.000000</td>\n",
       "      <td>11.000000</td>\n",
       "      <td>9.000000</td>\n",
       "    </tr>\n",
       "    <tr>\n",
       "      <th>50%</th>\n",
       "      <td>1.000000</td>\n",
       "      <td>1.000000</td>\n",
       "      <td>4.000000</td>\n",
       "      <td>2.000000</td>\n",
       "      <td>1.000000</td>\n",
       "      <td>1.000000</td>\n",
       "      <td>21.000000</td>\n",
       "      <td>1.000000</td>\n",
       "      <td>13.000000</td>\n",
       "      <td>13.000000</td>\n",
       "    </tr>\n",
       "    <tr>\n",
       "      <th>75%</th>\n",
       "      <td>1.000000</td>\n",
       "      <td>1.000000</td>\n",
       "      <td>5.000000</td>\n",
       "      <td>3.000000</td>\n",
       "      <td>1.000000</td>\n",
       "      <td>1.000000</td>\n",
       "      <td>25.000000</td>\n",
       "      <td>1.000000</td>\n",
       "      <td>15.000000</td>\n",
       "      <td>13.000000</td>\n",
       "    </tr>\n",
       "    <tr>\n",
       "      <th>max</th>\n",
       "      <td>1.000000</td>\n",
       "      <td>2.000000</td>\n",
       "      <td>16.000000</td>\n",
       "      <td>20.000000</td>\n",
       "      <td>4.000000</td>\n",
       "      <td>4.000000</td>\n",
       "      <td>48.000000</td>\n",
       "      <td>1.000000</td>\n",
       "      <td>20.000000</td>\n",
       "      <td>20.000000</td>\n",
       "    </tr>\n",
       "  </tbody>\n",
       "</table>\n",
       "</div>\n",
       "      <button class=\"colab-df-convert\" onclick=\"convertToInteractive('df-9c692491-4ae2-4314-8990-a9d72e4abb71')\"\n",
       "              title=\"Convert this dataframe to an interactive table.\"\n",
       "              style=\"display:none;\">\n",
       "        \n",
       "  <svg xmlns=\"http://www.w3.org/2000/svg\" height=\"24px\"viewBox=\"0 0 24 24\"\n",
       "       width=\"24px\">\n",
       "    <path d=\"M0 0h24v24H0V0z\" fill=\"none\"/>\n",
       "    <path d=\"M18.56 5.44l.94 2.06.94-2.06 2.06-.94-2.06-.94-.94-2.06-.94 2.06-2.06.94zm-11 1L8.5 8.5l.94-2.06 2.06-.94-2.06-.94L8.5 2.5l-.94 2.06-2.06.94zm10 10l.94 2.06.94-2.06 2.06-.94-2.06-.94-.94-2.06-.94 2.06-2.06.94z\"/><path d=\"M17.41 7.96l-1.37-1.37c-.4-.4-.92-.59-1.43-.59-.52 0-1.04.2-1.43.59L10.3 9.45l-7.72 7.72c-.78.78-.78 2.05 0 2.83L4 21.41c.39.39.9.59 1.41.59.51 0 1.02-.2 1.41-.59l7.78-7.78 2.81-2.81c.8-.78.8-2.07 0-2.86zM5.41 20L4 18.59l7.72-7.72 1.47 1.35L5.41 20z\"/>\n",
       "  </svg>\n",
       "      </button>\n",
       "      \n",
       "  <style>\n",
       "    .colab-df-container {\n",
       "      display:flex;\n",
       "      flex-wrap:wrap;\n",
       "      gap: 12px;\n",
       "    }\n",
       "\n",
       "    .colab-df-convert {\n",
       "      background-color: #E8F0FE;\n",
       "      border: none;\n",
       "      border-radius: 50%;\n",
       "      cursor: pointer;\n",
       "      display: none;\n",
       "      fill: #1967D2;\n",
       "      height: 32px;\n",
       "      padding: 0 0 0 0;\n",
       "      width: 32px;\n",
       "    }\n",
       "\n",
       "    .colab-df-convert:hover {\n",
       "      background-color: #E2EBFA;\n",
       "      box-shadow: 0px 1px 2px rgba(60, 64, 67, 0.3), 0px 1px 3px 1px rgba(60, 64, 67, 0.15);\n",
       "      fill: #174EA6;\n",
       "    }\n",
       "\n",
       "    [theme=dark] .colab-df-convert {\n",
       "      background-color: #3B4455;\n",
       "      fill: #D2E3FC;\n",
       "    }\n",
       "\n",
       "    [theme=dark] .colab-df-convert:hover {\n",
       "      background-color: #434B5C;\n",
       "      box-shadow: 0px 1px 3px 1px rgba(0, 0, 0, 0.15);\n",
       "      filter: drop-shadow(0px 1px 2px rgba(0, 0, 0, 0.3));\n",
       "      fill: #FFFFFF;\n",
       "    }\n",
       "  </style>\n",
       "\n",
       "      <script>\n",
       "        const buttonEl =\n",
       "          document.querySelector('#df-9c692491-4ae2-4314-8990-a9d72e4abb71 button.colab-df-convert');\n",
       "        buttonEl.style.display =\n",
       "          google.colab.kernel.accessAllowed ? 'block' : 'none';\n",
       "\n",
       "        async function convertToInteractive(key) {\n",
       "          const element = document.querySelector('#df-9c692491-4ae2-4314-8990-a9d72e4abb71');\n",
       "          const dataTable =\n",
       "            await google.colab.kernel.invokeFunction('convertToInteractive',\n",
       "                                                     [key], {});\n",
       "          if (!dataTable) return;\n",
       "\n",
       "          const docLinkHtml = 'Like what you see? Visit the ' +\n",
       "            '<a target=\"_blank\" href=https://colab.research.google.com/notebooks/data_table.ipynb>data table notebook</a>'\n",
       "            + ' to learn more about interactive tables.';\n",
       "          element.innerHTML = '';\n",
       "          dataTable['output_type'] = 'display_data';\n",
       "          await google.colab.output.renderOutput(dataTable, element);\n",
       "          const docLink = document.createElement('div');\n",
       "          docLink.innerHTML = docLinkHtml;\n",
       "          element.appendChild(docLink);\n",
       "        }\n",
       "      </script>\n",
       "    </div>\n",
       "  </div>\n",
       "  "
      ],
      "text/plain": [
       "        vive_padre   vive_madre   n_personas  n_habitaciones  cercania_juegos  \\\n",
       "count  6607.000000  6607.000000  6472.000000     6457.000000      6475.000000   \n",
       "mean      0.669593     0.949902     4.387361        2.583862         1.205405   \n",
       "std       0.470395     0.221607     1.344752        0.900471         0.459817   \n",
       "min       0.000000     0.000000     1.000000        0.000000         1.000000   \n",
       "25%       0.000000     1.000000     4.000000        2.000000         1.000000   \n",
       "50%       1.000000     1.000000     4.000000        2.000000         1.000000   \n",
       "75%       1.000000     1.000000     5.000000        3.000000         1.000000   \n",
       "max       1.000000     2.000000    16.000000       20.000000         4.000000   \n",
       "\n",
       "       cercania_servicios  edad_primer_parto         area        educm  \\\n",
       "count         6475.000000        6386.000000  6607.000000  6607.000000   \n",
       "mean             1.154286          22.220169     0.900863    12.314364   \n",
       "std              0.421625           5.193370     0.298869     4.329315   \n",
       "min              1.000000          10.000000     0.000000     0.000000   \n",
       "25%              1.000000          18.000000     1.000000    11.000000   \n",
       "50%              1.000000          21.000000     1.000000    13.000000   \n",
       "75%              1.000000          25.000000     1.000000    15.000000   \n",
       "max              4.000000          48.000000     1.000000    20.000000   \n",
       "\n",
       "             educp  \n",
       "count  6607.000000  \n",
       "mean     10.917209  \n",
       "std       5.481642  \n",
       "min       0.000000  \n",
       "25%       9.000000  \n",
       "50%      13.000000  \n",
       "75%      13.000000  \n",
       "max      20.000000  "
      ]
     },
     "execution_count": 108,
     "metadata": {},
     "output_type": "execute_result"
    }
   ],
   "source": [
    "junaeb.describe()"
   ]
  },
  {
   "cell_type": "markdown",
   "metadata": {
    "id": "PIGkuylQv5ll"
   },
   "source": [
    "Luego se realizó el calculo de estadisticas descriptibas para cada una de las variables considerando el tamaño de la muestra (count), promedio (mean),  desviacion estandar (STD), el valor minimo (min), maximo (max), y los intervalos de confianza en 25%, 50% y 75%."
   ]
  },
  {
   "cell_type": "code",
   "execution_count": null,
   "metadata": {
    "colab": {
     "base_uri": "https://localhost:8080/",
     "height": 349
    },
    "id": "f0tIhbgjhRYw",
    "outputId": "199dee7a-dec1-4fb8-bab2-5d1c6ddfc211"
   },
   "outputs": [
    {
     "data": {
      "text/plain": [
       "vive_padre\n",
       "1    4424\n",
       "0    2183\n",
       "dtype: int64"
      ]
     },
     "execution_count": 109,
     "metadata": {},
     "output_type": "execute_result"
    },
    {
     "data": {
      "image/png": "[encoded data removed]",
      "text/plain": [
       "<Figure size 432x288 with 1 Axes>"
      ]
     },
     "metadata": {
      "needs_background": "light"
     },
     "output_type": "display_data"
    }
   ],
   "source": [
    "sns.histplot(junaeb, x = \"vive_padre\", discrete=True)\n",
    "junaeb.value_counts(\"vive_padre\")"
   ]
  },
  {
   "cell_type": "markdown",
   "metadata": {
    "id": "pun8vYsHxWz7"
   },
   "source": [
    "Vive_padre es una variable dummy que no tiene outliers, solo valores de 0 y 1 "
   ]
  },
  {
   "cell_type": "code",
   "execution_count": null,
   "metadata": {
    "colab": {
     "base_uri": "https://localhost:8080/",
     "height": 367
    },
    "id": "QO1_67lJhVzL",
    "outputId": "9980bc02-4808-4572-f586-f3c6d62b7cc5"
   },
   "outputs": [
    {
     "data": {
      "text/plain": [
       "vive_madre\n",
       "1    6266\n",
       "0     336\n",
       "2       5\n",
       "dtype: int64"
      ]
     },
     "execution_count": 110,
     "metadata": {},
     "output_type": "execute_result"
    },
    {
     "data": {
      "image/png": "[encoded data removed]",
      "text/plain": [
       "<Figure size 432x288 with 1 Axes>"
      ]
     },
     "metadata": {
      "needs_background": "light"
     },
     "output_type": "display_data"
    }
   ],
   "source": [
    "var = \"vive_madre\"\n",
    "sns.histplot(junaeb, x = var, discrete=True)\n",
    "junaeb.value_counts(var)"
   ]
  },
  {
   "cell_type": "markdown",
   "metadata": {
    "id": "wjBd4Gf4xt41"
   },
   "source": [
    "en la variable vive_madre existen 5 datos  con valor 2, lo que no tiene sentido ya que esa variable solo puede valer 0 o 1 por lo que se eliminan esos datos"
   ]
  },
  {
   "cell_type": "code",
   "execution_count": null,
   "metadata": {
    "colab": {
     "base_uri": "https://localhost:8080/",
     "height": 349
    },
    "id": "kLUKp0xmMVuY",
    "outputId": "ce7a54d6-1d13-4f56-d1f1-1fd8e32bfd46"
   },
   "outputs": [
    {
     "data": {
      "text/plain": [
       "vive_madre\n",
       "1    6266\n",
       "0     336\n",
       "dtype: int64"
      ]
     },
     "execution_count": 111,
     "metadata": {},
     "output_type": "execute_result"
    },
    {
     "data": {
      "image/png": "[encoded data removed]",
      "text/plain": [
       "<Figure size 432x288 with 1 Axes>"
      ]
     },
     "metadata": {
      "needs_background": "light"
     },
     "output_type": "display_data"
    }
   ],
   "source": [
    "junaeb = junaeb[junaeb.vive_madre < 2]\n",
    "var = \"vive_madre\"\n",
    "sns.histplot(junaeb, x = var, discrete=True)\n",
    "junaeb.value_counts(var)"
   ]
  },
  {
   "cell_type": "markdown",
   "metadata": {
    "id": "IjI_JITpyLhq"
   },
   "source": [
    "Asi queda la varaible vive_madre luego de la eliminación de dichos datos"
   ]
  },
  {
   "cell_type": "code",
   "execution_count": null,
   "metadata": {
    "colab": {
     "base_uri": "https://localhost:8080/",
     "height": 575
    },
    "id": "_dlOlPYCh2yj",
    "outputId": "8d0949f7-9d83-41aa-fd19-ebe64c13ba71"
   },
   "outputs": [
    {
     "data": {
      "text/plain": [
       "n_personas\n",
       "4.0     2418\n",
       "5.0     1466\n",
       "3.0     1249\n",
       "6.0      641\n",
       "2.0      265\n",
       "7.0      244\n",
       "8.0      112\n",
       "9.0       45\n",
       "10.0       8\n",
       "1.0        7\n",
       "11.0       6\n",
       "12.0       3\n",
       "14.0       1\n",
       "15.0       1\n",
       "16.0       1\n",
       "dtype: int64"
      ]
     },
     "execution_count": 112,
     "metadata": {},
     "output_type": "execute_result"
    },
    {
     "data": {
      "image/png": "[encoded data removed]",
      "text/plain": [
       "<Figure size 432x288 with 1 Axes>"
      ]
     },
     "metadata": {
      "needs_background": "light"
     },
     "output_type": "display_data"
    }
   ],
   "source": [
    "var = \"n_personas\"\n",
    "sns.histplot(junaeb, x = var, discrete=True)\n",
    "junaeb.value_counts(var)"
   ]
  },
  {
   "cell_type": "markdown",
   "metadata": {
    "id": "rdSlpQDNyPyc"
   },
   "source": [
    "para la variable n_personas que indica la cantidad de personas que componen los integrantes del hogar, existe datos con muy poca frecuencia por lo que se decidió quedarse con los datos que estuvieran dentro de un intervalo de confianza de 3 sigmas "
   ]
  },
  {
   "cell_type": "code",
   "execution_count": null,
   "metadata": {
    "colab": {
     "base_uri": "https://localhost:8080/",
     "height": 297
    },
    "id": "yoVoflPyiCCT",
    "outputId": "d837d1c9-1984-49cd-db48-ea953da60722"
   },
   "outputs": [
    {
     "name": "stdout",
     "output_type": "stream",
     "text": [
      "0.3532342555546739 4.386578011442709 8.419921767330745\n"
     ]
    },
    {
     "data": {
      "image/png": "[encoded data removed]",
      "text/plain": [
       "<Figure size 432x288 with 1 Axes>"
      ]
     },
     "metadata": {
      "needs_background": "light"
     },
     "output_type": "display_data"
    }
   ],
   "source": [
    "var = \"n_personas\"\n",
    "\n",
    "media = junaeb[var].mean()\n",
    "std = junaeb[var].std()\n",
    "mask = (junaeb[var] > media - 3*std) & (junaeb[var] < media + 3*std)\n",
    "junaeb = junaeb[mask]\n",
    "\n",
    "sns.histplot(junaeb, x = var, discrete=True)\n",
    "junaeb.value_counts(var)\n",
    "\n",
    "print(media-3*std, media, media+3*std)"
   ]
  },
  {
   "cell_type": "markdown",
   "metadata": {
    "id": "16ctwFPTyteC"
   },
   "source": [
    "las posibles valores que estan dentro del intervalo de confianza son: 1,2,3,4,5,6,7,8 "
   ]
  },
  {
   "cell_type": "code",
   "execution_count": null,
   "metadata": {
    "colab": {
     "base_uri": "https://localhost:8080/",
     "height": 525
    },
    "id": "GbvP3rKBzln3",
    "outputId": "3f329a55-c046-46eb-c5b1-7a18840e224c"
   },
   "outputs": [
    {
     "data": {
      "text/plain": [
       "n_habitaciones\n",
       "2.0     2885\n",
       "3.0     2341\n",
       "4.0      618\n",
       "1.0      398\n",
       "5.0      119\n",
       "6.0       19\n",
       "7.0        2\n",
       "0.0        1\n",
       "8.0        1\n",
       "9.0        1\n",
       "10.0       1\n",
       "20.0       1\n",
       "dtype: int64"
      ]
     },
     "execution_count": 114,
     "metadata": {},
     "output_type": "execute_result"
    },
    {
     "data": {
      "image/png": "[encoded data removed]",
      "text/plain": [
       "<Figure size 432x288 with 1 Axes>"
      ]
     },
     "metadata": {
      "needs_background": "light"
     },
     "output_type": "display_data"
    }
   ],
   "source": [
    "var = \"n_habitaciones\"\n",
    "sns.histplot(junaeb, x = var, discrete=True)\n",
    "junaeb.value_counts(var)"
   ]
  },
  {
   "cell_type": "markdown",
   "metadata": {
    "id": "xXbHe-LK1SDs"
   },
   "source": [
    "Para la variable n_habitaciones, se encuentra que puede tener outliers por lo que se eliminan aquellas filas que estén a más de 3 desviaciones estandar"
   ]
  },
  {
   "cell_type": "code",
   "execution_count": null,
   "metadata": {
    "colab": {
     "base_uri": "https://localhost:8080/",
     "height": 421
    },
    "id": "e75FdLgyBzMS",
    "outputId": "db7fcd6d-62e3-464d-cdc0-eaf45aa3c00f"
   },
   "outputs": [
    {
     "data": {
      "text/plain": [
       "n_habitaciones\n",
       "2.0    2885\n",
       "3.0    2341\n",
       "4.0     618\n",
       "1.0     398\n",
       "5.0     119\n",
       "0.0       1\n",
       "dtype: int64"
      ]
     },
     "execution_count": 115,
     "metadata": {},
     "output_type": "execute_result"
    },
    {
     "data": {
      "image/png": "[encoded data removed]",
      "text/plain": [
       "<Figure size 432x288 with 1 Axes>"
      ]
     },
     "metadata": {
      "needs_background": "light"
     },
     "output_type": "display_data"
    }
   ],
   "source": [
    "\n",
    "\n",
    "var = \"n_habitaciones\"\n",
    "\n",
    "media = junaeb[var].mean()\n",
    "std = junaeb[var].std()\n",
    "mask = (junaeb[var] > media - 3*std) & (junaeb[var] < media + 3*std)\n",
    "junaeb = junaeb[mask]\n",
    "\n",
    "sns.histplot(junaeb, x = var, discrete=True)\n",
    "junaeb.value_counts(var)"
   ]
  },
  {
   "cell_type": "markdown",
   "metadata": {
    "id": "f7WRfmCk1d3m"
   },
   "source": [
    "finalmente los posibles valores que puede tomar n_habitaciones son: 0,1,2,3,4,5"
   ]
  },
  {
   "cell_type": "markdown",
   "metadata": {
    "id": "RWwAElXqIRZr"
   },
   "source": [
    "Cercanía_juegos tiene un código numérico para quienes respondieron no sabe/\n",
    "no responde (toma valor 4 la variable), una primera aproximación será eliminar dichos valores"
   ]
  },
  {
   "cell_type": "code",
   "execution_count": null,
   "metadata": {
    "colab": {
     "base_uri": "https://localhost:8080/",
     "height": 367
    },
    "id": "RKO0VO5jBira",
    "outputId": "4d0648f3-3876-4f67-eb38-d284eba1061c"
   },
   "outputs": [
    {
     "data": {
      "text/plain": [
       "cercania_juegos\n",
       "1.0    5163\n",
       "2.0    1156\n",
       "4.0      43\n",
       "dtype: int64"
      ]
     },
     "execution_count": 116,
     "metadata": {},
     "output_type": "execute_result"
    },
    {
     "data": {
      "image/png": "[encoded data removed]",
      "text/plain": [
       "<Figure size 432x288 with 1 Axes>"
      ]
     },
     "metadata": {
      "needs_background": "light"
     },
     "output_type": "display_data"
    }
   ],
   "source": [
    "var = \"cercania_juegos\"\n",
    "sns.histplot(junaeb, x = var, discrete=True)\n",
    "junaeb.value_counts(var)"
   ]
  },
  {
   "cell_type": "markdown",
   "metadata": {
    "id": "QxzFJy3e16TJ"
   },
   "source": [
    "Se decide eliminar las respuestas no sabe/no responde de la muestra"
   ]
  },
  {
   "cell_type": "code",
   "execution_count": null,
   "metadata": {
    "colab": {
     "base_uri": "https://localhost:8080/",
     "height": 349
    },
    "id": "5VgY6SWoIfCd",
    "outputId": "15180c0d-a025-4ab5-cbab-14ae35557e87"
   },
   "outputs": [
    {
     "data": {
      "text/plain": [
       "cercania_juegos\n",
       "1.0    5163\n",
       "2.0    1156\n",
       "dtype: int64"
      ]
     },
     "execution_count": 117,
     "metadata": {},
     "output_type": "execute_result"
    },
    {
     "data": {
      "image/png": "[encoded data removed]",
      "text/plain": [
       "<Figure size 432x288 with 1 Axes>"
      ]
     },
     "metadata": {
      "needs_background": "light"
     },
     "output_type": "display_data"
    }
   ],
   "source": [
    "\n",
    "var = \"cercania_juegos\"\n",
    "\n",
    "mask = (junaeb[var] < 3)\n",
    "junaeb = junaeb[mask]\n",
    "\n",
    "sns.histplot(junaeb, x = var, discrete=True)\n",
    "junaeb.value_counts(var)"
   ]
  },
  {
   "cell_type": "markdown",
   "metadata": {
    "id": "O3PsHZyk1_3z"
   },
   "source": [
    "cercania_juegos queda como una variable binaria con 1 y 2 como posibles valores, como no tiene outliers, no se realiza ninguna modificacion en la variable"
   ]
  },
  {
   "cell_type": "code",
   "execution_count": null,
   "metadata": {
    "colab": {
     "base_uri": "https://localhost:8080/",
     "height": 367
    },
    "id": "HjK_lw7695IN",
    "outputId": "9336627d-bda1-4392-a19c-b12d0754efd7"
   },
   "outputs": [
    {
     "data": {
      "text/plain": [
       "cercania_servicios\n",
       "1.0    5463\n",
       "2.0     833\n",
       "4.0      23\n",
       "dtype: int64"
      ]
     },
     "execution_count": 118,
     "metadata": {},
     "output_type": "execute_result"
    },
    {
     "data": {
      "image/png": "[encoded data removed]",
      "text/plain": [
       "<Figure size 432x288 with 1 Axes>"
      ]
     },
     "metadata": {
      "needs_background": "light"
     },
     "output_type": "display_data"
    }
   ],
   "source": [
    "var = \"cercania_servicios\"\n",
    "sns.histplot(junaeb, x = var, discrete=True)\n",
    "junaeb.value_counts(var)"
   ]
  },
  {
   "cell_type": "markdown",
   "metadata": {
    "id": "PCSNylN02S3i"
   },
   "source": [
    "Cercanía_servicios tiene un código numérico para quienes respondieron no sabe/ no responde (toma valor 4 la variable), una primera aproximación será eliminar dichos valores"
   ]
  },
  {
   "cell_type": "code",
   "execution_count": null,
   "metadata": {
    "colab": {
     "base_uri": "https://localhost:8080/",
     "height": 349
    },
    "id": "nT_LReDsI_D9",
    "outputId": "13366208-c754-480c-c361-118bda0ac133"
   },
   "outputs": [
    {
     "data": {
      "text/plain": [
       "cercania_servicios\n",
       "1.0    5463\n",
       "2.0     833\n",
       "dtype: int64"
      ]
     },
     "execution_count": 119,
     "metadata": {},
     "output_type": "execute_result"
    },
    {
     "data": {
      "image/png": "[encoded data removed]",
      "text/plain": [
       "<Figure size 432x288 with 1 Axes>"
      ]
     },
     "metadata": {
      "needs_background": "light"
     },
     "output_type": "display_data"
    }
   ],
   "source": [
    "\n",
    "var = \"cercania_servicios\"\n",
    "\n",
    "mask = (junaeb[var] < 3)\n",
    "junaeb = junaeb[mask]\n",
    "\n",
    "sns.histplot(junaeb, x = var, discrete=True)\n",
    "junaeb.value_counts(var)"
   ]
  },
  {
   "cell_type": "markdown",
   "metadata": {
    "id": "1G3H2r4-2i1r"
   },
   "source": [
    "\n",
    "Se decide eliminar las respuestas no sabe/no responde de la muestra"
   ]
  },
  {
   "cell_type": "markdown",
   "metadata": {
    "id": "c-eeWbnK2l6R"
   },
   "source": [
    "Se decide eliminar la variable edad_primer_parto, ya que aquellos valores que \n",
    "son nulos podrían ser originados por casos en que no se sepa sobre el paradero \n",
    "de la madre, o adopciones, por lo que se cree podría sesgar los datos.\n"
   ]
  },
  {
   "cell_type": "code",
   "execution_count": null,
   "metadata": {
    "id": "m6rJf5M8hDNl"
   },
   "outputs": [],
   "source": [
    "\n",
    "junaeb = junaeb.drop(\"edad_primer_parto\", axis = 1).dropna() # si se elimina la columna respecto al primer parto y luego los na"
   ]
  },
  {
   "cell_type": "code",
   "execution_count": null,
   "metadata": {
    "colab": {
     "base_uri": "https://localhost:8080/",
     "height": 348
    },
    "id": "mOYBNqQUKBL7",
    "outputId": "7a1c65ab-2cc1-4bb2-b1bc-4555c87d4697"
   },
   "outputs": [
    {
     "data": {
      "text/plain": [
       "area\n",
       "1    5669\n",
       "0     627\n",
       "dtype: int64"
      ]
     },
     "execution_count": 121,
     "metadata": {},
     "output_type": "execute_result"
    },
    {
     "data": {
      "image/png": "[encoded data removed]",
      "text/plain": [
       "<Figure size 432x288 with 1 Axes>"
      ]
     },
     "metadata": {
      "needs_background": "light"
     },
     "output_type": "display_data"
    }
   ],
   "source": [
    "var = \"area\"\n",
    "sns.histplot(junaeb, x = var, discrete=True)\n",
    "junaeb.value_counts(var)"
   ]
  },
  {
   "cell_type": "markdown",
   "metadata": {
    "id": "-ncgPfaW2_hk"
   },
   "source": [
    "la variable area es una variable binaria sin outlier por lo que no se modifica"
   ]
  },
  {
   "cell_type": "code",
   "execution_count": null,
   "metadata": {
    "colab": {
     "base_uri": "https://localhost:8080/",
     "height": 661
    },
    "id": "m9Ca95dgKHjF",
    "outputId": "694954ea-20ea-41a6-8314-ba0db3bdb77d"
   },
   "outputs": [
    {
     "data": {
      "text/plain": [
       "educm\n",
       "13    2578\n",
       "9      498\n",
       "16     436\n",
       "18     419\n",
       "15     405\n",
       "11     363\n",
       "17     342\n",
       "0      249\n",
       "12     165\n",
       "10     160\n",
       "14     158\n",
       "20      98\n",
       "7       97\n",
       "8       92\n",
       "6       79\n",
       "5       63\n",
       "19      47\n",
       "3       20\n",
       "4       19\n",
       "2        8\n",
       "dtype: int64"
      ]
     },
     "execution_count": 122,
     "metadata": {},
     "output_type": "execute_result"
    },
    {
     "data": {
      "image/png": "[encoded data removed]",
      "text/plain": [
       "<Figure size 432x288 with 1 Axes>"
      ]
     },
     "metadata": {
      "needs_background": "light"
     },
     "output_type": "display_data"
    }
   ],
   "source": [
    "var = \"educm\"\n",
    "sns.histplot(junaeb, x = var, discrete=True)\n",
    "junaeb.value_counts(var)"
   ]
  },
  {
   "cell_type": "code",
   "execution_count": null,
   "metadata": {
    "colab": {
     "base_uri": "https://localhost:8080/",
     "height": 661
    },
    "id": "7Xj9ihmgKJwj",
    "outputId": "3e45a19c-a545-43e9-8d01-286ac2b68ae2"
   },
   "outputs": [
    {
     "data": {
      "text/plain": [
       "educp\n",
       "13    2436\n",
       "0      865\n",
       "9      519\n",
       "11     359\n",
       "15     303\n",
       "17     303\n",
       "18     290\n",
       "16     262\n",
       "10     188\n",
       "12     180\n",
       "20     123\n",
       "14      92\n",
       "8       79\n",
       "7       73\n",
       "19      67\n",
       "5       56\n",
       "6       49\n",
       "3       25\n",
       "4       21\n",
       "2        6\n",
       "dtype: int64"
      ]
     },
     "execution_count": 123,
     "metadata": {},
     "output_type": "execute_result"
    },
    {
     "data": {
      "image/png": "[encoded data removed]",
      "text/plain": [
       "<Figure size 432x288 with 1 Axes>"
      ]
     },
     "metadata": {
      "needs_background": "light"
     },
     "output_type": "display_data"
    }
   ],
   "source": [
    "var = \"educp\"\n",
    "sns.histplot(junaeb, x = var, discrete=True)\n",
    "junaeb.value_counts(var)"
   ]
  },
  {
   "cell_type": "code",
   "execution_count": null,
   "metadata": {
    "colab": {
     "base_uri": "https://localhost:8080/"
    },
    "id": "IF1NzzWEgLse",
    "outputId": "c4922082-25ab-415d-9ad1-d4fb7dcc3c1e"
   },
   "outputs": [
    {
     "name": "stdout",
     "output_type": "stream",
     "text": [
      "<class 'pandas.core.frame.DataFrame'>\n",
      "Int64Index: 6296 entries, 0 to 6474\n",
      "Data columns (total 9 columns):\n",
      " #   Column              Non-Null Count  Dtype  \n",
      "---  ------              --------------  -----  \n",
      " 0   vive_padre          6296 non-null   int64  \n",
      " 1   vive_madre          6296 non-null   int64  \n",
      " 2   n_personas          6296 non-null   float64\n",
      " 3   n_habitaciones      6296 non-null   float64\n",
      " 4   cercania_juegos     6296 non-null   float64\n",
      " 5   cercania_servicios  6296 non-null   float64\n",
      " 6   area                6296 non-null   int64  \n",
      " 7   educm               6296 non-null   int64  \n",
      " 8   educp               6296 non-null   int64  \n",
      "dtypes: float64(4), int64(5)\n",
      "memory usage: 620.9 KB\n"
     ]
    }
   ],
   "source": [
    "junaeb.info()"
   ]
  },
  {
   "cell_type": "markdown",
   "metadata": {
    "id": "FYARRz014mGL"
   },
   "source": [
    "finalmente las variables a utilizar en el modelo seran vive_ padre como variabla dependiente y las variables independientes seran vive_madre, n_personas, _n_habitaciones, cercania_juegos, cercania_servicios, area, educm y educp"
   ]
  },
  {
   "cell_type": "markdown",
   "metadata": {
    "id": "ejbpta5V4o-D"
   },
   "source": [
    "Ademas luego de la limpieza la cantidad de datos no nulos se corresponde con la cantidad de entradas en la base de datos"
   ]
  },
  {
   "cell_type": "markdown",
   "metadata": {
    "id": "e6pi8bEj0UPI"
   },
   "source": [
    "# 2. Modelo Lineal: Mínimos Cuadrados Ordinarios (MCO)"
   ]
  },
  {
   "cell_type": "code",
   "execution_count": null,
   "metadata": {
    "colab": {
     "base_uri": "https://localhost:8080/"
    },
    "id": "JMf6t11cg5Ns",
    "outputId": "7500de8f-4962-41a5-df2c-56a0b23c438b"
   },
   "outputs": [
    {
     "name": "stdout",
     "output_type": "stream",
     "text": [
      "                            OLS Regression Results                            \n",
      "==============================================================================\n",
      "Dep. Variable:             vive_padre   R-squared:                       0.167\n",
      "Model:                            OLS   Adj. R-squared:                  0.166\n",
      "Method:                 Least Squares   F-statistic:                     158.0\n",
      "Date:                Wed, 14 Sep 2022   Prob (F-statistic):          1.94e-243\n",
      "Time:                        03:56:59   Log-Likelihood:                -3530.9\n",
      "No. Observations:                6296   AIC:                             7080.\n",
      "Df Residuals:                    6287   BIC:                             7141.\n",
      "Df Model:                           8                                         \n",
      "Covariance Type:            nonrobust                                         \n",
      "======================================================================================\n",
      "                         coef    std err          t      P>|t|      [0.025      0.975]\n",
      "--------------------------------------------------------------------------------------\n",
      "const                  0.2656      0.050      5.304      0.000       0.167       0.364\n",
      "vive_madre             0.1358      0.032      4.245      0.000       0.073       0.198\n",
      "n_personas             0.0582      0.005     11.718      0.000       0.048       0.068\n",
      "n_habitaciones        -0.0411      0.007     -5.581      0.000      -0.056      -0.027\n",
      "cercania_juegos       -0.0020      0.015     -0.134      0.894      -0.032       0.028\n",
      "cercania_servicios     0.0042      0.017      0.245      0.807      -0.029       0.038\n",
      "area                  -0.0723      0.019     -3.875      0.000      -0.109      -0.036\n",
      "educm                 -0.0148      0.001    -10.115      0.000      -0.018      -0.012\n",
      "educp                  0.0348      0.001     32.529      0.000       0.033       0.037\n",
      "==============================================================================\n",
      "Omnibus:                      739.509   Durbin-Watson:                   1.992\n",
      "Prob(Omnibus):                  0.000   Jarque-Bera (JB):              824.270\n",
      "Skew:                          -0.840   Prob(JB):                    1.03e-179\n",
      "Kurtosis:                       2.436   Cond. No.                         189.\n",
      "==============================================================================\n",
      "\n",
      "Notes:\n",
      "[1] Standard Errors assume that the covariance matrix of the errors is correctly specified.\n"
     ]
    },
    {
     "name": "stderr",
     "output_type": "stream",
     "text": [
      "/usr/local/lib/python3.7/dist-packages/statsmodels/tsa/tsatools.py:142: FutureWarning: In a future version of pandas all arguments of concat except for the argument 'objs' will be keyword-only\n",
      "  x = pd.concat(x[::order], 1)\n"
     ]
    }
   ],
   "source": [
    "y=junaeb['vive_padre']\n",
    "X=junaeb.drop('vive_padre', axis = 1)\n",
    "X=sm.add_constant(X)\n",
    "model = sm.OLS(y, X)\n",
    "results = model.fit()\n",
    "print(results.summary())"
   ]
  },
  {
   "cell_type": "markdown",
   "metadata": {
    "id": "G-slSX7wuiaR"
   },
   "source": [
    "Corriendo el OLS por primera vez, se puede apreciar que segun la prueba t de significancia individual las variables cerncani?juegos y cercania_servicios, segun su valor p, no se puede asegurar que sean distintas de 0\n",
    "\n",
    "\n",
    "Por otro lado las variables que influyen positivamente la variable dependiente Y son: vive_madre, n_personas, Cercania_servicios, Educp\n",
    "\n",
    "mientras que las que la afectan negativamente son n_habitaciones, cercania_uegos, area y educm\n",
    "\n"
   ]
  },
  {
   "cell_type": "code",
   "execution_count": null,
   "metadata": {
    "colab": {
     "base_uri": "https://localhost:8080/"
    },
    "id": "_AVQ5pDZLP7e",
    "outputId": "181d9df3-215f-4c70-a5db-cb351dc715e0"
   },
   "outputs": [
    {
     "name": "stdout",
     "output_type": "stream",
     "text": [
      "                            OLS Regression Results                            \n",
      "==============================================================================\n",
      "Dep. Variable:             vive_padre   R-squared:                       0.167\n",
      "Model:                            OLS   Adj. R-squared:                  0.167\n",
      "Method:                 Least Squares   F-statistic:                     210.7\n",
      "Date:                Wed, 14 Sep 2022   Prob (F-statistic):          9.47e-246\n",
      "Time:                        03:56:59   Log-Likelihood:                -3531.0\n",
      "No. Observations:                6296   AIC:                             7076.\n",
      "Df Residuals:                    6289   BIC:                             7123.\n",
      "Df Model:                           6                                         \n",
      "Covariance Type:            nonrobust                                         \n",
      "==================================================================================\n",
      "                     coef    std err          t      P>|t|      [0.025      0.975]\n",
      "----------------------------------------------------------------------------------\n",
      "const              0.2684      0.042      6.439      0.000       0.187       0.350\n",
      "vive_madre         0.1359      0.032      4.250      0.000       0.073       0.199\n",
      "n_personas         0.0583      0.005     11.742      0.000       0.049       0.068\n",
      "n_habitaciones    -0.0412      0.007     -5.603      0.000      -0.056      -0.027\n",
      "area              -0.0726      0.018     -4.036      0.000      -0.108      -0.037\n",
      "educm             -0.0148      0.001    -10.139      0.000      -0.018      -0.012\n",
      "educp              0.0348      0.001     32.647      0.000       0.033       0.037\n",
      "==============================================================================\n",
      "Omnibus:                      739.793   Durbin-Watson:                   1.992\n",
      "Prob(Omnibus):                  0.000   Jarque-Bera (JB):              824.422\n",
      "Skew:                          -0.840   Prob(JB):                    9.53e-180\n",
      "Kurtosis:                       2.435   Cond. No.                         167.\n",
      "==============================================================================\n",
      "\n",
      "Notes:\n",
      "[1] Standard Errors assume that the covariance matrix of the errors is correctly specified.\n"
     ]
    },
    {
     "name": "stderr",
     "output_type": "stream",
     "text": [
      "/usr/local/lib/python3.7/dist-packages/statsmodels/tsa/tsatools.py:142: FutureWarning: In a future version of pandas all arguments of concat except for the argument 'objs' will be keyword-only\n",
      "  x = pd.concat(x[::order], 1)\n"
     ]
    }
   ],
   "source": [
    "y = junaeb['vive_padre']\n",
    "X = junaeb.drop(['vive_padre', \"cercania_juegos\",\"cercania_servicios\"], axis = 1)\n",
    "X = sm.add_constant(X)\n",
    "model = sm.OLS(y, X)\n",
    "OLS_model = model.fit()\n",
    "print(OLS_model.summary())"
   ]
  },
  {
   "cell_type": "code",
   "execution_count": null,
   "metadata": {
    "colab": {
     "base_uri": "https://localhost:8080/"
    },
    "id": "z40zVp_m-H2f",
    "outputId": "48af2b2c-e0e2-44eb-fadb-2dcc69996eae"
   },
   "outputs": [
    {
     "name": "stdout",
     "output_type": "stream",
     "text": [
      "porentaje de clasificaciones correcttas 77.00%\n"
     ]
    }
   ],
   "source": [
    "comp = junaeb['vive_padre'].to_frame()\n",
    "comp[\"estimado\"] = OLS_model.predict(X).to_frame()\n",
    "comp[\"binario_estimado\"] = pd.cut(comp[\"estimado\"], bins = [-1000, 0.5, 1000], labels = [0,1])\n",
    "\n",
    "prop_correctas = len(comp[comp[\"binario_estimado\"] == comp[\"vive_padre\"]]) / len(comp)\n",
    "print(f\"porentaje de clasificaciones correcttas {prop_correctas * 100 :.2f}%\")"
   ]
  },
  {
   "cell_type": "markdown",
   "metadata": {
    "id": "FQdJMT7K0YK7"
   },
   "source": [
    "# 3. Modelo Probit"
   ]
  },
  {
   "cell_type": "code",
   "execution_count": null,
   "metadata": {
    "colab": {
     "base_uri": "https://localhost:8080/"
    },
    "id": "PjQgapWu1GiI",
    "outputId": "8c198bbe-e6f7-45a2-ae56-99181c0b4af9"
   },
   "outputs": [
    {
     "name": "stdout",
     "output_type": "stream",
     "text": [
      "Optimization terminated successfully.\n",
      "         Current function value: 0.541123\n",
      "         Iterations 5\n"
     ]
    },
    {
     "name": "stderr",
     "output_type": "stream",
     "text": [
      "/usr/local/lib/python3.7/dist-packages/statsmodels/tsa/tsatools.py:142: FutureWarning: In a future version of pandas all arguments of concat except for the argument 'objs' will be keyword-only\n",
      "  x = pd.concat(x[::order], 1)\n"
     ]
    },
    {
     "name": "stdout",
     "output_type": "stream",
     "text": [
      "                          Probit Regression Results                           \n",
      "==============================================================================\n",
      "Dep. Variable:             vive_padre   No. Observations:                 6296\n",
      "Model:                         Probit   Df Residuals:                     6287\n",
      "Method:                           MLE   Df Model:                            8\n",
      "Date:                Wed, 14 Sep 2022   Pseudo R-squ.:                  0.1318\n",
      "Time:                        03:56:59   Log-Likelihood:                -3406.9\n",
      "converged:                       True   LL-Null:                       -3924.0\n",
      "Covariance Type:            nonrobust   LLR p-value:                5.968e-218\n",
      "======================================================================================\n",
      "                         coef    std err          z      P>|z|      [0.025      0.975]\n",
      "--------------------------------------------------------------------------------------\n",
      "const                 -0.6627      0.162     -4.101      0.000      -0.979      -0.346\n",
      "vive_madre             0.3871      0.102      3.809      0.000       0.188       0.586\n",
      "n_personas             0.1790      0.016     11.010      0.000       0.147       0.211\n",
      "n_habitaciones        -0.1243      0.024     -5.184      0.000      -0.171      -0.077\n",
      "cercania_juegos       -0.0053      0.049     -0.108      0.914      -0.102       0.092\n",
      "cercania_servicios     0.0049      0.056      0.087      0.930      -0.105       0.115\n",
      "area                  -0.2153      0.062     -3.481      0.001      -0.337      -0.094\n",
      "educm                 -0.0461      0.005     -9.454      0.000      -0.056      -0.037\n",
      "educp                  0.1006      0.004     27.832      0.000       0.094       0.108\n",
      "======================================================================================\n",
      "       Probit Marginal Effects       \n",
      "=====================================\n",
      "Dep. Variable:             vive_padre\n",
      "Method:                          dydx\n",
      "At:                           overall\n",
      "======================================================================================\n",
      "                        dy/dx    std err          z      P>|z|      [0.025      0.975]\n",
      "--------------------------------------------------------------------------------------\n",
      "vive_madre             0.1191      0.031      3.819      0.000       0.058       0.180\n",
      "n_personas             0.0551      0.005     11.267      0.000       0.045       0.065\n",
      "n_habitaciones        -0.0382      0.007     -5.213      0.000      -0.053      -0.024\n",
      "cercania_juegos       -0.0016      0.015     -0.108      0.914      -0.031       0.028\n",
      "cercania_servicios     0.0015      0.017      0.087      0.930      -0.032       0.035\n",
      "area                  -0.0662      0.019     -3.489      0.000      -0.103      -0.029\n",
      "educm                 -0.0142      0.001     -9.602      0.000      -0.017      -0.011\n",
      "educp                  0.0309      0.001     33.922      0.000       0.029       0.033\n",
      "======================================================================================\n"
     ]
    }
   ],
   "source": [
    "y = junaeb['vive_padre']\n",
    "X = junaeb.drop(['vive_padre'], axis = 1)\n",
    "X = sm.add_constant(X)\n",
    "model = sm.Probit(y, X)\n",
    "probit_model = model.fit()\n",
    "print(probit_model.summary())\n",
    "\n",
    "mfx = probit_model.get_margeff()\n",
    "print(mfx.summary())"
   ]
  },
  {
   "cell_type": "code",
   "execution_count": null,
   "metadata": {
    "colab": {
     "base_uri": "https://localhost:8080/"
    },
    "id": "4lq5bjw1MAPe",
    "outputId": "198e1bf6-a505-4732-d77c-4fb6ec3c2a50"
   },
   "outputs": [
    {
     "name": "stdout",
     "output_type": "stream",
     "text": [
      "Optimization terminated successfully.\n",
      "         Current function value: 0.541124\n",
      "         Iterations 5\n"
     ]
    },
    {
     "name": "stderr",
     "output_type": "stream",
     "text": [
      "/usr/local/lib/python3.7/dist-packages/statsmodels/tsa/tsatools.py:142: FutureWarning: In a future version of pandas all arguments of concat except for the argument 'objs' will be keyword-only\n",
      "  x = pd.concat(x[::order], 1)\n"
     ]
    },
    {
     "name": "stdout",
     "output_type": "stream",
     "text": [
      "                          Probit Regression Results                           \n",
      "==============================================================================\n",
      "Dep. Variable:             vive_padre   No. Observations:                 6296\n",
      "Model:                         Probit   Df Residuals:                     6289\n",
      "Method:                           MLE   Df Model:                            6\n",
      "Date:                Wed, 14 Sep 2022   Pseudo R-squ.:                  0.1318\n",
      "Time:                        03:57:00   Log-Likelihood:                -3406.9\n",
      "converged:                       True   LL-Null:                       -3924.0\n",
      "Covariance Type:            nonrobust   LLR p-value:                3.481e-220\n",
      "==================================================================================\n",
      "                     coef    std err          z      P>|z|      [0.025      0.975]\n",
      "----------------------------------------------------------------------------------\n",
      "const             -0.6640      0.134     -4.944      0.000      -0.927      -0.401\n",
      "vive_madre         0.3873      0.102      3.811      0.000       0.188       0.586\n",
      "n_personas         0.1790      0.016     11.021      0.000       0.147       0.211\n",
      "n_habitaciones    -0.1243      0.024     -5.196      0.000      -0.171      -0.077\n",
      "area              -0.2147      0.060     -3.597      0.000      -0.332      -0.098\n",
      "educm             -0.0461      0.005     -9.468      0.000      -0.056      -0.037\n",
      "educp              0.1006      0.004     27.915      0.000       0.094       0.108\n",
      "==================================================================================\n",
      "       Probit Marginal Effects       \n",
      "=====================================\n",
      "Dep. Variable:             vive_padre\n",
      "Method:                          dydx\n",
      "At:                           overall\n",
      "==================================================================================\n",
      "                    dy/dx    std err          z      P>|z|      [0.025      0.975]\n",
      "----------------------------------------------------------------------------------\n",
      "vive_madre         0.1191      0.031      3.821      0.000       0.058       0.180\n",
      "n_personas         0.0550      0.005     11.280      0.000       0.045       0.065\n",
      "n_habitaciones    -0.0382      0.007     -5.225      0.000      -0.053      -0.024\n",
      "area              -0.0660      0.018     -3.606      0.000      -0.102      -0.030\n",
      "educm             -0.0142      0.001     -9.616      0.000      -0.017      -0.011\n",
      "educp              0.0309      0.001     34.067      0.000       0.029       0.033\n",
      "==================================================================================\n"
     ]
    }
   ],
   "source": [
    "y = junaeb['vive_padre']\n",
    "X = junaeb.drop(['vive_padre', \"cercania_juegos\",\"cercania_servicios\"], axis = 1)\n",
    "X = sm.add_constant(X)\n",
    "model = sm.Probit(y, X)\n",
    "probit_model = model.fit()\n",
    "print(probit_model.summary())\n",
    "\n",
    "mfx = probit_model.get_margeff()\n",
    "print(mfx.summary())"
   ]
  },
  {
   "cell_type": "code",
   "execution_count": null,
   "metadata": {
    "colab": {
     "base_uri": "https://localhost:8080/"
    },
    "id": "JQETgi7mASuL",
    "outputId": "e39c0e60-d842-4be9-b8ae-f67572b31ede"
   },
   "outputs": [
    {
     "name": "stdout",
     "output_type": "stream",
     "text": [
      "porentaje de clasificaciones correcttas 77.02%\n"
     ]
    }
   ],
   "source": [
    "comp = junaeb['vive_padre'].to_frame()\n",
    "comp[\"estimado\"] = probit_model.predict(X).to_frame()\n",
    "comp[\"binario_estimado\"] = pd.cut(comp[\"estimado\"], bins = [-1000, 0.5, 1000], labels = [0,1])\n",
    "\n",
    "prop_correctas = len(comp[comp[\"binario_estimado\"] == comp[\"vive_padre\"]]) / len(comp)\n",
    "print(f\"porentaje de clasificaciones correcttas {prop_correctas * 100 :.2f}%\")"
   ]
  },
  {
   "cell_type": "markdown",
   "metadata": {
    "id": "jvb1ok-p0ZR0"
   },
   "source": [
    "# 4. Modelo Logit"
   ]
  },
  {
   "cell_type": "code",
   "execution_count": null,
   "metadata": {
    "colab": {
     "base_uri": "https://localhost:8080/"
    },
    "id": "0yIswHIszW0-",
    "outputId": "5577ac57-c4b2-4133-f596-9390c044cee1"
   },
   "outputs": [
    {
     "name": "stderr",
     "output_type": "stream",
     "text": [
      "/usr/local/lib/python3.7/dist-packages/statsmodels/tsa/tsatools.py:142: FutureWarning: In a future version of pandas all arguments of concat except for the argument 'objs' will be keyword-only\n",
      "  x = pd.concat(x[::order], 1)\n"
     ]
    },
    {
     "name": "stdout",
     "output_type": "stream",
     "text": [
      "Optimization terminated successfully.\n",
      "         Current function value: 0.539055\n",
      "         Iterations 6\n",
      "                           Logit Regression Results                           \n",
      "==============================================================================\n",
      "Dep. Variable:             vive_padre   No. Observations:                 6296\n",
      "Model:                          Logit   Df Residuals:                     6287\n",
      "Method:                           MLE   Df Model:                            8\n",
      "Date:                Wed, 14 Sep 2022   Pseudo R-squ.:                  0.1351\n",
      "Time:                        03:57:00   Log-Likelihood:                -3393.9\n",
      "converged:                       True   LL-Null:                       -3924.0\n",
      "Covariance Type:            nonrobust   LLR p-value:                1.425e-223\n",
      "======================================================================================\n",
      "                         coef    std err          z      P>|z|      [0.025      0.975]\n",
      "--------------------------------------------------------------------------------------\n",
      "const                 -1.1446      0.275     -4.168      0.000      -1.683      -0.606\n",
      "vive_madre             0.6922      0.169      4.098      0.000       0.361       1.023\n",
      "n_personas             0.3168      0.029     10.884      0.000       0.260       0.374\n",
      "n_habitaciones        -0.2117      0.041     -5.108      0.000      -0.293      -0.130\n",
      "cercania_juegos       -0.0155      0.084     -0.185      0.853      -0.180       0.149\n",
      "cercania_servicios     0.0086      0.095      0.091      0.928      -0.177       0.194\n",
      "area                  -0.3693      0.106     -3.473      0.001      -0.578      -0.161\n",
      "educm                 -0.0842      0.009     -9.580      0.000      -0.101      -0.067\n",
      "educp                  0.1715      0.006     26.735      0.000       0.159       0.184\n",
      "======================================================================================\n",
      "        Logit Marginal Effects       \n",
      "=====================================\n",
      "Dep. Variable:             vive_padre\n",
      "Method:                          dydx\n",
      "At:                           overall\n",
      "======================================================================================\n",
      "                        dy/dx    std err          z      P>|z|      [0.025      0.975]\n",
      "--------------------------------------------------------------------------------------\n",
      "vive_madre             0.1239      0.030      4.116      0.000       0.065       0.183\n",
      "n_personas             0.0567      0.005     11.201      0.000       0.047       0.067\n",
      "n_habitaciones        -0.0379      0.007     -5.141      0.000      -0.052      -0.023\n",
      "cercania_juegos       -0.0028      0.015     -0.185      0.853      -0.032       0.027\n",
      "cercania_servicios     0.0015      0.017      0.091      0.928      -0.032       0.035\n",
      "area                  -0.0661      0.019     -3.483      0.000      -0.103      -0.029\n",
      "educm                 -0.0151      0.002     -9.802      0.000      -0.018      -0.012\n",
      "educp                  0.0307      0.001     34.057      0.000       0.029       0.032\n",
      "======================================================================================\n"
     ]
    }
   ],
   "source": [
    "y = junaeb['vive_padre']\n",
    "X = junaeb.drop(['vive_padre'], axis = 1)\n",
    "X = sm.add_constant(X)\n",
    "\n",
    "model = sm.Logit(y, X)\n",
    "logit_model = model.fit()\n",
    "print(logit_model.summary())\n",
    "\n",
    "mfx = logit_model.get_margeff()\n",
    "print(mfx.summary())"
   ]
  },
  {
   "cell_type": "code",
   "execution_count": null,
   "metadata": {
    "colab": {
     "base_uri": "https://localhost:8080/"
    },
    "id": "yYEPv2fL1YLy",
    "outputId": "3b58dce3-ff94-4676-f58b-40484b76322c"
   },
   "outputs": [
    {
     "name": "stdout",
     "output_type": "stream",
     "text": [
      "Optimization terminated successfully.\n",
      "         Current function value: 0.539058\n",
      "         Iterations 6"
     ]
    },
    {
     "name": "stderr",
     "output_type": "stream",
     "text": [
      "/usr/local/lib/python3.7/dist-packages/statsmodels/tsa/tsatools.py:142: FutureWarning: In a future version of pandas all arguments of concat except for the argument 'objs' will be keyword-only\n",
      "  x = pd.concat(x[::order], 1)\n"
     ]
    },
    {
     "name": "stdout",
     "output_type": "stream",
     "text": [
      "\n",
      "                           Logit Regression Results                           \n",
      "==============================================================================\n",
      "Dep. Variable:             vive_padre   No. Observations:                 6296\n",
      "Model:                          Logit   Df Residuals:                     6289\n",
      "Method:                           MLE   Df Model:                            6\n",
      "Date:                Wed, 14 Sep 2022   Pseudo R-squ.:                  0.1351\n",
      "Time:                        03:57:00   Log-Likelihood:                -3393.9\n",
      "converged:                       True   LL-Null:                       -3924.0\n",
      "Covariance Type:            nonrobust   LLR p-value:                8.194e-226\n",
      "==================================================================================\n",
      "                     coef    std err          z      P>|z|      [0.025      0.975]\n",
      "----------------------------------------------------------------------------------\n",
      "const             -1.1564      0.228     -5.065      0.000      -1.604      -0.709\n",
      "vive_madre         0.6925      0.169      4.101      0.000       0.361       1.023\n",
      "n_personas         0.3167      0.029     10.894      0.000       0.260       0.374\n",
      "n_habitaciones    -0.2115      0.041     -5.114      0.000      -0.293      -0.130\n",
      "area              -0.3663      0.103     -3.567      0.000      -0.568      -0.165\n",
      "educm             -0.0842      0.009     -9.592      0.000      -0.101      -0.067\n",
      "educp              0.1715      0.006     26.817      0.000       0.159       0.184\n",
      "==================================================================================\n",
      "        Logit Marginal Effects       \n",
      "=====================================\n",
      "Dep. Variable:             vive_padre\n",
      "Method:                          dydx\n",
      "At:                           overall\n",
      "==================================================================================\n",
      "                    dy/dx    std err          z      P>|z|      [0.025      0.975]\n",
      "----------------------------------------------------------------------------------\n",
      "vive_madre         0.1240      0.030      4.119      0.000       0.065       0.183\n",
      "n_personas         0.0567      0.005     11.213      0.000       0.047       0.067\n",
      "n_habitaciones    -0.0379      0.007     -5.148      0.000      -0.052      -0.023\n",
      "area              -0.0656      0.018     -3.579      0.000      -0.101      -0.030\n",
      "educm             -0.0151      0.002     -9.815      0.000      -0.018      -0.012\n",
      "educp              0.0307      0.001     34.224      0.000       0.029       0.032\n",
      "==================================================================================\n"
     ]
    }
   ],
   "source": [
    "y = junaeb['vive_padre']\n",
    "X = junaeb.drop(['vive_padre', \"cercania_juegos\",\"cercania_servicios\"], axis = 1)\n",
    "X = sm.add_constant(X)\n",
    "\n",
    "model = sm.Logit(y, X)\n",
    "logit_model = model.fit()\n",
    "print(logit_model.summary())\n",
    "\n",
    "mfx = logit_model.get_margeff()\n",
    "print(mfx.summary())"
   ]
  },
  {
   "cell_type": "code",
   "execution_count": null,
   "metadata": {
    "colab": {
     "base_uri": "https://localhost:8080/"
    },
    "id": "ANgCxjB_Ah9z",
    "outputId": "b651425d-c37d-46a6-c94f-42e4c6a0d33d"
   },
   "outputs": [
    {
     "name": "stdout",
     "output_type": "stream",
     "text": [
      "porentaje de clasificaciones correcttas 77.13%\n"
     ]
    }
   ],
   "source": [
    "comp = junaeb['vive_padre'].to_frame()\n",
    "comp[\"estimado\"] = logit_model.predict(X).to_frame()\n",
    "comp[\"binario_estimado\"] = pd.cut(comp[\"estimado\"], bins = [-1000, 0.5, 1000], labels = [0,1])\n",
    "\n",
    "prop_correctas = len(comp[comp[\"binario_estimado\"] == comp[\"vive_padre\"]]) / len(comp)\n",
    "print(f\"porentaje de clasificaciones correcttas {prop_correctas * 100 :.2f}%\")"
   ]
  },
  {
   "cell_type": "markdown",
   "metadata": {
    "id": "epHKsfh9OpaA"
   },
   "source": [
    "# 5. Comentarios\n",
    "\n",
    "2. Corriendo el OLS por primera vez, se puede apreciar que segun la prueba t de significancia individual las variables cerncania_juegos y cercania_servicios, segun su valor p, no se puede asegurar que sean distintas de 0, por lo que se decidieron sacar del modelo.\n",
    "al correrlo por segunda vez sin las variables antes mencionadas resultó con que todas son significativas y  que aquellas variables que influyen positivamente la variable dependiente  son: \n",
    "\n",
    "vive_madre: indica que en vive_padre cambia en 0.1359 cuando aumenta en una unidad vive madre\n",
    "\n",
    "n_personas:  indica que en vive_padre cambia en 0.0583 cuando aumenta en una unidad n_personas\n",
    "\n",
    "Educp: indica que en vive_padre cambia en 0.0348 cuando aumenta en una unidad educp\n",
    "\n",
    "mientras que las que la afectan negativamente son:\n",
    "n_habitaciones:  indica que en vive_padre cambia en 0.1359 cuando aumenta en una unidad vive madre\n",
    "\n",
    "cercania_juegos:  indica que en vive_padre cambia en 0.1359 cuando aumenta en una unidad vive madre\n",
    "\n",
    "area:  indica que en vive_padre cambia en 0.1359 cuando aumenta en una unidad vive madre\n",
    "\n",
    "educm:  indica que en vive_padre cambia en 0.1359 cuando aumenta en una unidad vive madre\n",
    "\n",
    "\n",
    "Sin embargo al tener la regresión lineal cuyo resultado no esta restringido entre 0 y 1, podría no ser el modelo mas adecuado para este tipo de estimación y los metodo no lineales podrían resultar mejor.\n",
    "\n",
    "Respecto a como interpretar los parámetros de la regresión, dado que ninguno está en un logaritmo, simplemente indica que ante un cambio de una unidad en la variable explicativa la variable explicada cambia en la medida que indica el parametro, con todo el resto constante.\n",
    "\n",
    "Al correr los modelos de probit y logit  los valores obtenidos de log-likelihood, para el probit (-3406.9) son menores a los de logit (-3393.9), y  debido que a mayor log-likelihood implica un mejor ajuste al modelo, el logit funciona mejor para este caso. Cabe destacar que tanto el modelo Probit como el modelo Logit tienen una mejor especificación que el modelo estimado con OLS, dado que tienen un likelihood mayor a este (-3531.0).\n",
    "Ademas mencionar que para realizar este test los modelos deben tener la misma cantidad de variables independientes (se cumple)\n",
    "\n",
    "\n",
    "En sintesis para este caso el modelo logit es el que funciona mejor ya que esta mejor especificado según lo descrito en la prueba de log-likelihood. (no existe mucha diferencia con el probit).\n",
    "\n",
    "En el caso de la estimación probit y logit, los parámetros no pueden ser interpretados en forma tan simple en comparación al OLS, por lo que se calculan los efectos marginales, estos indican en que medida aumenta la probabilidad de que la variable explicada sea 1, ante un cambio en la variable explicativa correspondiente, con el resto constante.\n",
    "\n",
    "\n",
    "\n"
   ]
  },
  {
   "cell_type": "code",
   "execution_count": null,
   "metadata": {
    "id": "YWAd0TLi334u"
   },
   "outputs": [],
   "source": []
  },
  {
   "cell_type": "markdown",
   "metadata": {
    "id": "VKJqxHMi0tGa"
   },
   "source": []
  },
  {
   "cell_type": "markdown",
   "metadata": {
    "id": "8XptHa3vPG6w"
   },
   "source": [
    "# 6. Poisson"
   ]
  },
  {
   "cell_type": "code",
   "execution_count": null,
   "metadata": {
    "colab": {
     "base_uri": "https://localhost:8080/"
    },
    "id": "9ft9aWKgOrF8",
    "outputId": "2855437c-e8ac-423f-a7a6-a3ce315f33f7"
   },
   "outputs": [
    {
     "name": "stdout",
     "output_type": "stream",
     "text": [
      "                 Generalized Linear Model Regression Results                  \n",
      "==============================================================================\n",
      "Dep. Variable:             n_personas   No. Observations:                 6296\n",
      "Model:                            GLM   Df Residuals:                     6288\n",
      "Model Family:                 Poisson   Df Model:                            7\n",
      "Link Function:                    log   Scale:                          1.0000\n",
      "Method:                          IRLS   Log-Likelihood:                -11345.\n",
      "Date:                Wed, 14 Sep 2022   Deviance:                       1881.7\n",
      "Time:                        03:57:00   Pearson chi2:                 2.01e+03\n",
      "No. Iterations:                     4                                         \n",
      "Covariance Type:            nonrobust                                         \n",
      "======================================================================================\n",
      "                         coef    std err          z      P>|z|      [0.025      0.975]\n",
      "--------------------------------------------------------------------------------------\n",
      "vive_padre             0.1114      0.014      7.740      0.000       0.083       0.140\n",
      "vive_madre             0.4628      0.034     13.751      0.000       0.397       0.529\n",
      "n_habitaciones         0.1954      0.007     29.145      0.000       0.182       0.209\n",
      "cercania_juegos        0.1011      0.016      6.267      0.000       0.069       0.133\n",
      "cercania_servicios     0.1231      0.018      6.862      0.000       0.088       0.158\n",
      "area                   0.1551      0.020      7.614      0.000       0.115       0.195\n",
      "educm                  0.0009      0.002      0.545      0.586      -0.002       0.004\n",
      "educp                  0.0002      0.001      0.119      0.905      -0.002       0.003\n",
      "======================================================================================\n",
      "fitted lambda\n",
      "[5.07173229 4.22906281 4.7259875  ... 3.47756338 3.88822163 4.2413198 ]\n"
     ]
    }
   ],
   "source": [
    "y=junaeb['n_personas']\n",
    "X = junaeb.drop(['n_personas'], axis = 1)\n",
    "\n",
    "poisson=sm.GLM(y,X,family=sm.families.Poisson()).fit()\n",
    "print(poisson.summary())\n",
    "\n",
    "print(\"fitted lambda\")\n",
    "print(poisson.mu)"
   ]
  },
  {
   "cell_type": "code",
   "execution_count": null,
   "metadata": {
    "colab": {
     "base_uri": "https://localhost:8080/"
    },
    "id": "hec6oh1JPZJx",
    "outputId": "0ee3b97e-8511-43e6-bbf3-2dd858891e9b"
   },
   "outputs": [
    {
     "name": "stdout",
     "output_type": "stream",
     "text": [
      "                 Generalized Linear Model Regression Results                  \n",
      "==============================================================================\n",
      "Dep. Variable:             n_personas   No. Observations:                 6296\n",
      "Model:                            GLM   Df Residuals:                     6290\n",
      "Model Family:                 Poisson   Df Model:                            5\n",
      "Link Function:                    log   Scale:                          1.0000\n",
      "Method:                          IRLS   Log-Likelihood:                -11345.\n",
      "Date:                Wed, 14 Sep 2022   Deviance:                       1882.1\n",
      "Time:                        03:57:00   Pearson chi2:                 2.01e+03\n",
      "No. Iterations:                     4                                         \n",
      "Covariance Type:            nonrobust                                         \n",
      "======================================================================================\n",
      "                         coef    std err          z      P>|z|      [0.025      0.975]\n",
      "--------------------------------------------------------------------------------------\n",
      "vive_padre             0.1121      0.013      8.423      0.000       0.086       0.138\n",
      "vive_madre             0.4713      0.031     15.252      0.000       0.411       0.532\n",
      "n_habitaciones         0.1959      0.007     29.505      0.000       0.183       0.209\n",
      "cercania_juegos        0.1015      0.016      6.303      0.000       0.070       0.133\n",
      "cercania_servicios     0.1230      0.018      6.859      0.000       0.088       0.158\n",
      "area                   0.1577      0.020      7.912      0.000       0.119       0.197\n",
      "======================================================================================\n",
      "fitted lambda\n",
      "[5.14120256 4.22643736 4.72759468 ... 3.47443473 3.88642201 4.22643736]\n"
     ]
    }
   ],
   "source": [
    "y=junaeb['n_personas']\n",
    "X = junaeb.drop(['n_personas',\"educm\", \"educp\"], axis = 1)\n",
    "\n",
    "poisson=sm.GLM(y,X,family=sm.families.Poisson()).fit()\n",
    "print(poisson.summary())\n",
    "\n",
    "print(\"fitted lambda\")\n",
    "print(poisson.mu)"
   ]
  },
  {
   "cell_type": "markdown",
   "metadata": {
    "id": "8wsi9O26QILP"
   },
   "source": [
    "# 7. Dispersión"
   ]
  },
  {
   "cell_type": "markdown",
   "metadata": {
    "id": "p8mZUm8UVQme"
   },
   "source": [
    "### no tiene sentido decir que hay sobredispersion ni utilizar un alpha < 0 como valor para la binomial negativa"
   ]
  },
  {
   "cell_type": "code",
   "execution_count": null,
   "metadata": {
    "colab": {
     "base_uri": "https://localhost:8080/"
    },
    "id": "Uvda9H_VQNTh",
    "outputId": "95d77da0-2898-4954-8fc9-63598ac34a44"
   },
   "outputs": [
    {
     "name": "stdout",
     "output_type": "stream",
     "text": [
      "x1   -0.156321\n",
      "dtype: float64\n"
     ]
    }
   ],
   "source": [
    "aux=((y-poisson.mu)**2-poisson.mu)/poisson.mu\n",
    "auxr = sm.OLS(aux,poisson.mu).fit()\n",
    "print(auxr.params)"
   ]
  },
  {
   "cell_type": "markdown",
   "metadata": {
    "id": "AG8AQ1zyJNUJ"
   },
   "source": [
    "#### Como el alpha estimado  es menor a 1 no se utiliza para el modelo binomial negativo, además este es indicio de que no hay sobredispersión en ls datos"
   ]
  },
  {
   "cell_type": "markdown",
   "metadata": {
    "id": "F3ytYuusHnp0"
   },
   "source": [
    "# 8. Biomial Negativa"
   ]
  },
  {
   "cell_type": "code",
   "execution_count": null,
   "metadata": {
    "colab": {
     "base_uri": "https://localhost:8080/"
    },
    "id": "zaYYj6T7RHNU",
    "outputId": "862e9074-44f1-410b-9407-9606ffd4603a"
   },
   "outputs": [
    {
     "name": "stdout",
     "output_type": "stream",
     "text": [
      "                 Generalized Linear Model Regression Results                  \n",
      "==============================================================================\n",
      "Dep. Variable:             n_personas   No. Observations:                 6296\n",
      "Model:                            GLM   Df Residuals:                     6290\n",
      "Model Family:        NegativeBinomial   Df Model:                            5\n",
      "Link Function:                    log   Scale:                          1.0000\n",
      "Method:                          IRLS   Log-Likelihood:                -16178.\n",
      "Date:                Wed, 14 Sep 2022   Deviance:                       362.53\n",
      "Time:                        03:57:00   Pearson chi2:                     398.\n",
      "No. Iterations:                     7                                         \n",
      "Covariance Type:            nonrobust                                         \n",
      "======================================================================================\n",
      "                         coef    std err          z      P>|z|      [0.025      0.975]\n",
      "--------------------------------------------------------------------------------------\n",
      "vive_padre             0.1216      0.030      4.040      0.000       0.063       0.181\n",
      "vive_madre             0.3998      0.065      6.147      0.000       0.272       0.527\n",
      "n_habitaciones         0.2054      0.016     13.166      0.000       0.175       0.236\n",
      "cercania_juegos        0.1151      0.037      3.075      0.002       0.042       0.189\n",
      "cercania_servicios     0.1436      0.042      3.426      0.001       0.061       0.226\n",
      "area                   0.1685      0.044      3.845      0.000       0.083       0.254\n",
      "======================================================================================\n"
     ]
    }
   ],
   "source": [
    "negbin=sm.GLM(y,X,family=sm.families.NegativeBinomial()).fit()\n",
    "print(negbin.summary())"
   ]
  },
  {
   "cell_type": "code",
   "execution_count": null,
   "metadata": {
    "colab": {
     "base_uri": "https://localhost:8080/"
    },
    "id": "WubFK3LwPkyU",
    "outputId": "aba79d3d-db6c-4aac-c653-9ec0547e4641"
   },
   "outputs": [
    {
     "name": "stdout",
     "output_type": "stream",
     "text": [
      "                 Generalized Linear Model Regression Results                  \n",
      "==============================================================================\n",
      "Dep. Variable:             n_personas   No. Observations:                 6296\n",
      "Model:                            GLM   Df Residuals:                     6290\n",
      "Model Family:        NegativeBinomial   Df Model:                            5\n",
      "Link Function:                    log   Scale:                          1.0000\n",
      "Method:                          IRLS   Log-Likelihood:                -16178.\n",
      "Date:                Wed, 14 Sep 2022   Deviance:                       362.53\n",
      "Time:                        03:57:00   Pearson chi2:                     398.\n",
      "No. Iterations:                     7                                         \n",
      "Covariance Type:            nonrobust                                         \n",
      "======================================================================================\n",
      "                         coef    std err          z      P>|z|      [0.025      0.975]\n",
      "--------------------------------------------------------------------------------------\n",
      "vive_padre             0.1216      0.030      4.040      0.000       0.063       0.181\n",
      "vive_madre             0.3998      0.065      6.147      0.000       0.272       0.527\n",
      "n_habitaciones         0.2054      0.016     13.166      0.000       0.175       0.236\n",
      "cercania_juegos        0.1151      0.037      3.075      0.002       0.042       0.189\n",
      "cercania_servicios     0.1436      0.042      3.426      0.001       0.061       0.226\n",
      "area                   0.1685      0.044      3.845      0.000       0.083       0.254\n",
      "======================================================================================\n"
     ]
    }
   ],
   "source": [
    "y=junaeb['n_personas']\n",
    "X = junaeb.drop(['n_personas',\"educm\", \"educp\"], axis= 1)\n",
    "\n",
    "negbin=sm.GLM(y,X,family=sm.families.NegativeBinomial()).fit()\n",
    "print(negbin.summary())"
   ]
  },
  {
   "cell_type": "markdown",
   "metadata": {
    "id": "c_qOzOloWIlb"
   },
   "source": [
    "# 9. Comentarios"
   ]
  },
  {
   "cell_type": "markdown",
   "metadata": {
    "id": "-xaeIdGfA1Zo"
   },
   "source": [
    "Para explicar el numero de personas que viven en un hogar utilizando poisson, resulto que las variables correspondiente a la educación de los padres (educm, edup) resultaron ser no significativas por lo que fueron quitadas del modelo.\n",
    "\n",
    "Luego al realizar nuevamente el modelo, resultó que las variables que si fueron significativa dentro del modelo (se puede aseguras que son distintas de 0) son: vive_padre, vive_madre, n_habitaciones, cercania_juego, cercania_servicios y el area, las cuales afectan positivamanete a la variable dependiente, lo que indica que un aumento en una de estas variables creará un aumento en la vaariable dependiente n_personas.\n",
    "\n",
    "Una caracteristica de la distribución de poisson es que varianza = media = lambda, por lo que si la dispersión de los datos es distinta a la media, se recomienda utilizar otro tipo de modelo como la regresión binomial negativa, la cual es útil cuando se encuentra una sobredispersión en los datos. Para esto se estimó alpha como la medida de la dispersión de los datos. \n",
    "\n",
    "Dado que este es menor a 1, no se encuentra sobredispersión en los datos, es más, como este es un valor negativo tampoco se puede utilizar como valor inicial para el modelo de regresión bonimoail negativo ya que este requiere que tenga valor positivo, por lo que se concluye que es mejor quedarse con el modelo Poisson.\n",
    "\n",
    "Por las razones ateriormente expuestas se espera que el modelo Poisson responda de mejor forma la pregunta de investigación, al habe poca dispersión se debería ajustar relativamente bien, mientras que el modelo binomial negativo al estar diseñado para cuando hay sobredisersión no logra ajustarse tan bien a los datos, además se encuentra que el parametro de log-likelihood del modelo Poisson es mucho más cercano a cero.\n",
    "\n",
    "Finalmente las variables robustas para el modelo son:\n",
    "\n",
    "- vive_padre\n",
    "- vive_madre       \n",
    "- n_habitaciones   \n",
    "- cercania_juegos  \n",
    "- cercania_servicios\n",
    "- area    \n"
   ]
  },
  {
   "cell_type": "code",
   "execution_count": null,
   "metadata": {
    "id": "fwnyNLPiWOix"
   },
   "outputs": [],
   "source": []
  }
 ],
 "metadata": {
  "colab": {
   "collapsed_sections": [],
   "provenance": []
  },
  "hide_input": false,
  "kernelspec": {
   "display_name": "Python 3 (ipykernel)",
   "language": "python",
   "name": "python3"
  },
  "language_info": {
   "codemirror_mode": {
    "name": "ipython",
    "version": 3
   },
   "file_extension": ".py",
   "mimetype": "text/x-python",
   "name": "python",
   "nbconvert_exporter": "python",
   "pygments_lexer": "ipython3",
   "version": "3.7.6"
  },
  "latex_envs": {
   "LaTeX_envs_menu_present": true,
   "autoclose": true,
   "autocomplete": true,
   "bibliofile": "biblio.bib",
   "cite_by": "apalike",
   "current_citInitial": 1,
   "eqLabelWithNumbers": true,
   "eqNumInitial": 1,
   "hotkeys": {
    "equation": "Ctrl-E",
    "itemize": "Ctrl-I"
   },
   "labels_anchors": false,
   "latex_user_defs": false,
   "report_style_numbering": false,
   "user_envs_cfg": false
  },
  "toc": {
   "base_numbering": 1,
   "nav_menu": {},
   "number_sections": true,
   "sideBar": true,
   "skip_h1_title": true,
   "title_cell": "Table of Contents",
   "title_sidebar": "Contents",
   "toc_cell": false,
   "toc_position": {},
   "toc_section_display": true,
   "toc_window_display": true
  }
 },
 "nbformat": 4,
 "nbformat_minor": 1
}
