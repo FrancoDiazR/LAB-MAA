{
 "cells": [
  {
   "cell_type": "markdown",
   "metadata": {},
   "source": [
    "<font size=\"5\">Section 2: non linear models</font>"
   ]
  },
  {
   "cell_type": "code",
   "execution_count": 2,
   "metadata": {},
   "outputs": [],
   "source": [
    "import numpy as np\n",
    "import pandas as pd\n",
    "import matplotlib.pyplot as plt\n",
    "import statsmodels.api as sm\n",
    "import statsmodels.formula.api as smf\n",
    "import sklearn\n",
    "import scipy \n",
    "from scipy.stats import nbinom\n",
    "\n",
    "%matplotlib inline"
   ]
  },
  {
   "cell_type": "code",
   "execution_count": 4,
   "metadata": {},
   "outputs": [],
   "source": [
    "junaeb = pd.read_csv(open('C:/Users/PC/Downloads/junaeb.csv'));\n",
    "junaeb.dropna(inplace=True);"
   ]
  },
  {
   "cell_type": "code",
   "execution_count": 5,
   "metadata": {},
   "outputs": [
    {
     "name": "stdout",
     "output_type": "stream",
     "text": [
      "6379\n"
     ]
    },
    {
     "data": {
      "text/html": [
       "<div>\n",
       "<style scoped>\n",
       "    .dataframe tbody tr th:only-of-type {\n",
       "        vertical-align: middle;\n",
       "    }\n",
       "\n",
       "    .dataframe tbody tr th {\n",
       "        vertical-align: top;\n",
       "    }\n",
       "\n",
       "    .dataframe thead th {\n",
       "        text-align: right;\n",
       "    }\n",
       "</style>\n",
       "<table border=\"1\" class=\"dataframe\">\n",
       "  <thead>\n",
       "    <tr style=\"text-align: right;\">\n",
       "      <th></th>\n",
       "      <th>vive_padre</th>\n",
       "      <th>vive_madre</th>\n",
       "      <th>n_personas</th>\n",
       "      <th>n_habitaciones</th>\n",
       "      <th>cercania_juegos</th>\n",
       "      <th>cercania_servicios</th>\n",
       "      <th>edad_primer_parto</th>\n",
       "      <th>area</th>\n",
       "      <th>educm</th>\n",
       "      <th>educp</th>\n",
       "    </tr>\n",
       "  </thead>\n",
       "  <tbody>\n",
       "    <tr>\n",
       "      <th>0</th>\n",
       "      <td>0</td>\n",
       "      <td>1</td>\n",
       "      <td>3.0</td>\n",
       "      <td>4.0</td>\n",
       "      <td>1.0</td>\n",
       "      <td>1.0</td>\n",
       "      <td>25.0</td>\n",
       "      <td>1</td>\n",
       "      <td>0</td>\n",
       "      <td>0</td>\n",
       "    </tr>\n",
       "    <tr>\n",
       "      <th>1</th>\n",
       "      <td>0</td>\n",
       "      <td>1</td>\n",
       "      <td>5.0</td>\n",
       "      <td>3.0</td>\n",
       "      <td>1.0</td>\n",
       "      <td>1.0</td>\n",
       "      <td>23.0</td>\n",
       "      <td>1</td>\n",
       "      <td>13</td>\n",
       "      <td>13</td>\n",
       "    </tr>\n",
       "    <tr>\n",
       "      <th>2</th>\n",
       "      <td>1</td>\n",
       "      <td>1</td>\n",
       "      <td>5.0</td>\n",
       "      <td>3.0</td>\n",
       "      <td>1.0</td>\n",
       "      <td>1.0</td>\n",
       "      <td>19.0</td>\n",
       "      <td>1</td>\n",
       "      <td>12</td>\n",
       "      <td>17</td>\n",
       "    </tr>\n",
       "    <tr>\n",
       "      <th>3</th>\n",
       "      <td>1</td>\n",
       "      <td>1</td>\n",
       "      <td>4.0</td>\n",
       "      <td>2.0</td>\n",
       "      <td>1.0</td>\n",
       "      <td>1.0</td>\n",
       "      <td>27.0</td>\n",
       "      <td>1</td>\n",
       "      <td>6</td>\n",
       "      <td>13</td>\n",
       "    </tr>\n",
       "    <tr>\n",
       "      <th>4</th>\n",
       "      <td>1</td>\n",
       "      <td>1</td>\n",
       "      <td>5.0</td>\n",
       "      <td>3.0</td>\n",
       "      <td>2.0</td>\n",
       "      <td>1.0</td>\n",
       "      <td>20.0</td>\n",
       "      <td>1</td>\n",
       "      <td>13</td>\n",
       "      <td>16</td>\n",
       "    </tr>\n",
       "  </tbody>\n",
       "</table>\n",
       "</div>"
      ],
      "text/plain": [
       "   vive_padre  vive_madre  n_personas  n_habitaciones  cercania_juegos  \\\n",
       "0           0           1         3.0             4.0              1.0   \n",
       "1           0           1         5.0             3.0              1.0   \n",
       "2           1           1         5.0             3.0              1.0   \n",
       "3           1           1         4.0             2.0              1.0   \n",
       "4           1           1         5.0             3.0              2.0   \n",
       "\n",
       "   cercania_servicios  edad_primer_parto  area  educm  educp  \n",
       "0                 1.0               25.0     1      0      0  \n",
       "1                 1.0               23.0     1     13     13  \n",
       "2                 1.0               19.0     1     12     17  \n",
       "3                 1.0               27.0     1      6     13  \n",
       "4                 1.0               20.0     1     13     16  "
      ]
     },
     "metadata": {},
     "output_type": "display_data"
    }
   ],
   "source": [
    "from IPython.display import display\n",
    "junaeb.reset_index(drop=True, inplace=True);\n",
    "print(len(junaeb))\n",
    "display(junaeb.head(5));"
   ]
  },
  {
   "cell_type": "code",
   "execution_count": 6,
   "metadata": {},
   "outputs": [
    {
     "name": "stdout",
     "output_type": "stream",
     "text": [
      "<class 'pandas.core.frame.DataFrame'>\n",
      "RangeIndex: 6379 entries, 0 to 6378\n",
      "Data columns (total 10 columns):\n",
      " #   Column              Non-Null Count  Dtype\n",
      "---  ------              --------------  -----\n",
      " 0   vive_padre          6379 non-null   int64\n",
      " 1   vive_madre          6379 non-null   int64\n",
      " 2   n_personas          6379 non-null   int32\n",
      " 3   n_habitaciones      6379 non-null   int32\n",
      " 4   cercania_juegos     6379 non-null   int32\n",
      " 5   cercania_servicios  6379 non-null   int32\n",
      " 6   edad_primer_parto   6379 non-null   int32\n",
      " 7   area                6379 non-null   int64\n",
      " 8   educm               6379 non-null   int64\n",
      " 9   educp               6379 non-null   int64\n",
      "dtypes: int32(5), int64(5)\n",
      "memory usage: 373.9 KB\n"
     ]
    }
   ],
   "source": [
    "#junaeb.info();\n",
    "junaeb.n_personas = junaeb.n_personas.astype(int);\n",
    "junaeb.n_habitaciones = junaeb.n_habitaciones.astype(int);\n",
    "junaeb.cercania_juegos = junaeb.cercania_juegos.astype(int);\n",
    "junaeb.cercania_servicios = junaeb.cercania_servicios.astype(int);\n",
    "junaeb.edad_primer_parto = junaeb.edad_primer_parto.astype(int);\n",
    "junaeb.info();"
   ]
  },
  {
   "cell_type": "code",
   "execution_count": 7,
   "metadata": {},
   "outputs": [
    {
     "data": {
      "image/png": "[encoded data removed]",
      "text/plain": [
       "<Figure size 432x288 with 1 Axes>"
      ]
     },
     "metadata": {
      "needs_background": "light"
     },
     "output_type": "display_data"
    }
   ],
   "source": [
    "plt.scatter(junaeb['n_personas'],junaeb['n_habitaciones']);"
   ]
  },
  {
   "cell_type": "code",
   "execution_count": 8,
   "metadata": {},
   "outputs": [
    {
     "name": "stdout",
     "output_type": "stream",
     "text": [
      "6371\n"
     ]
    }
   ],
   "source": [
    "#Del grafico se extrae que hay datos atipicas;\n",
    "#Se decide eliminar datos atipicos: 20, 10, 9, 8 y 7 y 0 habitaciones\n",
    "junaeb = junaeb[(junaeb[\"n_habitaciones\"] < 7) & (junaeb[\"n_habitaciones\"] > 0)];\n",
    "print(len(junaeb));"
   ]
  },
  {
   "cell_type": "code",
   "execution_count": 9,
   "metadata": {},
   "outputs": [
    {
     "data": {
      "image/png": "[encoded data removed]",
      "text/plain": [
       "<Figure size 432x288 with 1 Axes>"
      ]
     },
     "metadata": {
      "needs_background": "light"
     },
     "output_type": "display_data"
    }
   ],
   "source": [
    "plt.scatter(junaeb['n_personas'],junaeb['n_habitaciones']);"
   ]
  },
  {
   "cell_type": "code",
   "execution_count": 10,
   "metadata": {},
   "outputs": [
    {
     "data": {
      "image/png": "[encoded data removed]",
      "text/plain": [
       "<Figure size 432x288 with 1 Axes>"
      ]
     },
     "metadata": {
      "needs_background": "light"
     },
     "output_type": "display_data"
    }
   ],
   "source": [
    "graf = junaeb[\"edad_primer_parto\"].value_counts().to_frame().reset_index();\n",
    "graf.columns = [\"edad_primer_parto\", \"rep\"];\n",
    "plt.bar(graf.edad_primer_parto, graf.rep);\n",
    "plt.show();"
   ]
  },
  {
   "cell_type": "code",
   "execution_count": 11,
   "metadata": {},
   "outputs": [
    {
     "name": "stdout",
     "output_type": "stream",
     "text": [
      "6359\n"
     ]
    },
    {
     "data": {
      "image/png": "[encoded data removed]",
      "text/plain": [
       "<Figure size 432x288 with 1 Axes>"
      ]
     },
     "metadata": {
      "needs_background": "light"
     },
     "output_type": "display_data"
    }
   ],
   "source": [
    "#Se descubren datos atipicos\n",
    "#Edad 10, 11 y mayores que 41 se van\n",
    "junaeb = junaeb[(junaeb[\"edad_primer_parto\"] > 12) & (junaeb[\"edad_primer_parto\"] <= 40)];\n",
    "print(len(junaeb));\n",
    "\n",
    "graf = junaeb[\"edad_primer_parto\"].value_counts().to_frame().reset_index();\n",
    "graf.columns = [\"edad_primer_parto\", \"rep\"];\n",
    "plt.bar(graf.edad_primer_parto, graf.rep);\n",
    "plt.show();"
   ]
  },
  {
   "cell_type": "code",
   "execution_count": 12,
   "metadata": {},
   "outputs": [
    {
     "data": {
      "image/png": "[encoded data removed]",
      "text/plain": [
       "<Figure size 432x288 with 1 Axes>"
      ]
     },
     "metadata": {
      "needs_background": "light"
     },
     "output_type": "display_data"
    }
   ],
   "source": [
    "graf = junaeb[\"n_personas\"].value_counts().to_frame().reset_index();\n",
    "graf.columns = [\"n_personas\", \"rep\"];\n",
    "plt.bar(graf.n_personas, graf.rep);\n",
    "plt.show();"
   ]
  },
  {
   "cell_type": "code",
   "execution_count": 13,
   "metadata": {},
   "outputs": [
    {
     "name": "stdout",
     "output_type": "stream",
     "text": [
      "6353\n"
     ]
    },
    {
     "data": {
      "image/png": "[encoded data removed]",
      "text/plain": [
       "<Figure size 432x288 with 1 Axes>"
      ]
     },
     "metadata": {
      "needs_background": "light"
     },
     "output_type": "display_data"
    }
   ],
   "source": [
    "#Se descubren datos atipicos\n",
    "#No de personas 12, 14, 15 y 16 son atipicos\n",
    "junaeb = junaeb[(junaeb[\"n_personas\"] < 12)];\n",
    "print(len(junaeb));\n",
    "\n",
    "graf = junaeb[\"n_personas\"].value_counts().to_frame().reset_index();\n",
    "graf.columns = [\"n_personas\", \"rep\"];\n",
    "plt.bar(graf.n_personas, graf.rep);\n",
    "plt.show();"
   ]
  },
  {
   "cell_type": "code",
   "execution_count": 14,
   "metadata": {},
   "outputs": [
    {
     "data": {
      "image/png": "[encoded data removed]",
      "text/plain": [
       "<Figure size 432x288 with 1 Axes>"
      ]
     },
     "metadata": {
      "needs_background": "light"
     },
     "output_type": "display_data"
    }
   ],
   "source": [
    "graf = junaeb[\"n_habitaciones\"].value_counts().to_frame().reset_index();\n",
    "graf.columns = [\"n_habitaciones\", \"rep\"];\n",
    "plt.bar(graf.n_habitaciones, graf.rep);\n",
    "plt.show();"
   ]
  },
  {
   "cell_type": "code",
   "execution_count": 15,
   "metadata": {},
   "outputs": [
    {
     "data": {
      "image/png": "[encoded data removed]",
      "text/plain": [
       "<Figure size 432x288 with 1 Axes>"
      ]
     },
     "metadata": {
      "needs_background": "light"
     },
     "output_type": "display_data"
    }
   ],
   "source": [
    "graf = junaeb[\"educm\"].value_counts().to_frame().reset_index();\n",
    "graf.columns = [\"educm\", \"rep\"];\n",
    "plt.bar(graf.educm, graf.rep);\n",
    "plt.show();"
   ]
  },
  {
   "cell_type": "code",
   "execution_count": 16,
   "metadata": {},
   "outputs": [
    {
     "data": {
      "image/png": "[encoded data removed]",
      "text/plain": [
       "<Figure size 432x288 with 1 Axes>"
      ]
     },
     "metadata": {
      "needs_background": "light"
     },
     "output_type": "display_data"
    }
   ],
   "source": [
    "graf = junaeb[\"educp\"].value_counts().to_frame().reset_index();\n",
    "graf.columns = [\"educp\", \"rep\"];\n",
    "plt.bar(graf.educp, graf.rep);\n",
    "plt.show();"
   ]
  },
  {
   "cell_type": "code",
   "execution_count": 18,
   "metadata": {},
   "outputs": [
    {
     "data": {
      "image/png": "[encoded data removed]",
      "text/plain": [
       "<Figure size 432x288 with 1 Axes>"
      ]
     },
     "metadata": {
      "needs_background": "light"
     },
     "output_type": "display_data"
    }
   ],
   "source": [
    "graf = junaeb[\"vive_madre\"].value_counts().to_frame().reset_index();\n",
    "graf.columns = [\"vive_madre\", \"rep\"];\n",
    "plt.bar(graf.vive_madre, graf.rep);\n",
    "plt.show();"
   ]
  },
  {
   "cell_type": "code",
   "execution_count": 19,
   "metadata": {},
   "outputs": [
    {
     "name": "stdout",
     "output_type": "stream",
     "text": [
      "6348\n"
     ]
    },
    {
     "data": {
      "image/png": "[encoded data removed]",
      "text/plain": [
       "<Figure size 432x288 with 1 Axes>"
      ]
     },
     "metadata": {
      "needs_background": "light"
     },
     "output_type": "display_data"
    }
   ],
   "source": [
    "#Se descubren datos atipicos\n",
    "#Vive madre 2 es atipico\n",
    "junaeb = junaeb[(junaeb[\"vive_madre\"] < 2)];\n",
    "print(len(junaeb));\n",
    "\n",
    "graf = junaeb[\"vive_madre\"].value_counts().to_frame().reset_index();\n",
    "graf.columns = [\"vive_madre\", \"rep\"];\n",
    "plt.bar(graf.vive_madre, graf.rep);\n",
    "plt.show();"
   ]
  },
  {
   "cell_type": "code",
   "execution_count": 20,
   "metadata": {},
   "outputs": [
    {
     "data": {
      "image/png": "[encoded data removed]",
      "text/plain": [
       "<Figure size 432x288 with 1 Axes>"
      ]
     },
     "metadata": {
      "needs_background": "light"
     },
     "output_type": "display_data"
    }
   ],
   "source": [
    "#Grafico comparativo entre educp y educm\n",
    "\n",
    "graf1 = junaeb[\"educp\"].value_counts().to_frame().reset_index();\n",
    "graf1.columns = [\"educp\", \"rep\"];\n",
    "graf1 = graf1.sort_values(by=[\"educp\"]);\n",
    "plt.plot(graf1.educp, graf1.rep);\n",
    "\n",
    "graf1 = junaeb[\"educm\"].value_counts().to_frame().reset_index();\n",
    "graf1.columns = [\"educm\", \"rep\"];\n",
    "graf1 = graf1.sort_values(by=[\"educm\"]);\n",
    "plt.plot(graf1.educm, graf1.rep);\n",
    "\n",
    "plt.show();"
   ]
  },
  {
   "cell_type": "markdown",
   "metadata": {},
   "source": [
    "### MCO"
   ]
  },
  {
   "cell_type": "code",
   "execution_count": 21,
   "metadata": {},
   "outputs": [
    {
     "name": "stdout",
     "output_type": "stream",
     "text": [
      "                            OLS Regression Results                            \n",
      "==============================================================================\n",
      "Dep. Variable:             vive_padre   R-squared:                       0.171\n",
      "Model:                            OLS   Adj. R-squared:                  0.169\n",
      "Method:                 Least Squares   F-statistic:                     144.9\n",
      "Date:                Thu, 15 Sep 2022   Prob (F-statistic):          9.81e-250\n",
      "Time:                        16:25:29   Log-Likelihood:                -3543.0\n",
      "No. Observations:                6348   AIC:                             7106.\n",
      "Df Residuals:                    6338   BIC:                             7174.\n",
      "Df Model:                           9                                         \n",
      "Covariance Type:            nonrobust                                         \n",
      "======================================================================================\n",
      "                         coef    std err          t      P>|t|      [0.025      0.975]\n",
      "--------------------------------------------------------------------------------------\n",
      "const                  0.1150      0.054      2.146      0.032       0.010       0.220\n",
      "vive_madre             0.1163      0.034      3.418      0.001       0.050       0.183\n",
      "n_personas             0.0597      0.005     12.679      0.000       0.051       0.069\n",
      "n_habitaciones        -0.0481      0.007     -6.758      0.000      -0.062      -0.034\n",
      "cercania_juegos       -0.0109      0.013     -0.829      0.407      -0.037       0.015\n",
      "cercania_servicios     0.0139      0.014      0.982      0.326      -0.014       0.042\n",
      "edad_primer_parto      0.0099      0.001      9.174      0.000       0.008       0.012\n",
      "area                  -0.0801      0.018     -4.364      0.000      -0.116      -0.044\n",
      "educm                 -0.0161      0.001    -11.048      0.000      -0.019      -0.013\n",
      "educp                  0.0334      0.001     31.128      0.000       0.031       0.035\n",
      "==============================================================================\n",
      "Omnibus:                      766.992   Durbin-Watson:                   1.983\n",
      "Prob(Omnibus):                  0.000   Jarque-Bera (JB):              817.535\n",
      "Skew:                          -0.826   Prob(JB):                    2.98e-178\n",
      "Kurtosis:                       2.397   Cond. No.                         316.\n",
      "==============================================================================\n",
      "\n",
      "Warnings:\n",
      "[1] Standard Errors assume that the covariance matrix of the errors is correctly specified.\n"
     ]
    }
   ],
   "source": [
    "y=junaeb['vive_padre']\n",
    "X=junaeb[['vive_madre','n_personas','n_habitaciones','cercania_juegos','cercania_servicios','edad_primer_parto',\n",
    "          'area','educm','educp']];\n",
    "X=sm.add_constant(X);\n",
    "model = sm.OLS(y, X);\n",
    "results = model.fit();\n",
    "print(results.summary());"
   ]
  },
  {
   "cell_type": "markdown",
   "metadata": {},
   "source": [
    "### Probit\n",
    "\n"
   ]
  },
  {
   "cell_type": "code",
   "execution_count": 22,
   "metadata": {},
   "outputs": [
    {
     "name": "stdout",
     "output_type": "stream",
     "text": [
      "Optimization terminated successfully.\n",
      "         Current function value: 0.536997\n",
      "         Iterations 5\n",
      "                          Probit Regression Results                           \n",
      "==============================================================================\n",
      "Dep. Variable:             vive_padre   No. Observations:                 6348\n",
      "Model:                         Probit   Df Residuals:                     6338\n",
      "Method:                           MLE   Df Model:                            9\n",
      "Date:                Thu, 15 Sep 2022   Pseudo R-squ.:                  0.1375\n",
      "Time:                        16:25:43   Log-Likelihood:                -3408.9\n",
      "converged:                       True   LL-Null:                       -3952.3\n",
      "Covariance Type:            nonrobust   LLR p-value:                3.260e-228\n",
      "======================================================================================\n",
      "                         coef    std err          z      P>|z|      [0.025      0.975]\n",
      "--------------------------------------------------------------------------------------\n",
      "const                 -1.2316      0.176     -7.018      0.000      -1.576      -0.888\n",
      "vive_madre             0.3247      0.109      2.983      0.003       0.111       0.538\n",
      "n_personas             0.1892      0.016     12.081      0.000       0.159       0.220\n",
      "n_habitaciones        -0.1503      0.023     -6.454      0.000      -0.196      -0.105\n",
      "cercania_juegos       -0.0342      0.043     -0.804      0.421      -0.118       0.049\n",
      "cercania_servicios     0.0381      0.046      0.821      0.412      -0.053       0.129\n",
      "edad_primer_parto      0.0352      0.004      9.608      0.000       0.028       0.042\n",
      "area                  -0.2444      0.061     -3.998      0.000      -0.364      -0.125\n",
      "educm                 -0.0518      0.005    -10.412      0.000      -0.062      -0.042\n",
      "educp                  0.0976      0.004     26.931      0.000       0.091       0.105\n",
      "======================================================================================\n",
      "       Probit Marginal Effects       \n",
      "=====================================\n",
      "Dep. Variable:             vive_padre\n",
      "Method:                          dydx\n",
      "At:                           overall\n",
      "======================================================================================\n",
      "                        dy/dx    std err          z      P>|z|      [0.025      0.975]\n",
      "--------------------------------------------------------------------------------------\n",
      "vive_madre             0.0992      0.033      2.988      0.003       0.034       0.164\n",
      "n_personas             0.0578      0.005     12.429      0.000       0.049       0.067\n",
      "n_habitaciones        -0.0459      0.007     -6.511      0.000      -0.060      -0.032\n",
      "cercania_juegos       -0.0104      0.013     -0.804      0.421      -0.036       0.015\n",
      "cercania_servicios     0.0116      0.014      0.821      0.411      -0.016       0.039\n",
      "edad_primer_parto      0.0107      0.001      9.775      0.000       0.009       0.013\n",
      "area                  -0.0747      0.019     -4.011      0.000      -0.111      -0.038\n",
      "educm                 -0.0158      0.001    -10.606      0.000      -0.019      -0.013\n",
      "educp                  0.0298      0.001     32.269      0.000       0.028       0.032\n",
      "======================================================================================\n"
     ]
    }
   ],
   "source": [
    "model = sm.Probit(y, X);\n",
    "probit_model = model.fit();\n",
    "print(probit_model.summary());\n",
    "\n",
    "mfx = probit_model.get_margeff();\n",
    "print(mfx.summary());"
   ]
  },
  {
   "cell_type": "markdown",
   "metadata": {},
   "source": [
    "### Logit"
   ]
  },
  {
   "cell_type": "code",
   "execution_count": 23,
   "metadata": {},
   "outputs": [
    {
     "name": "stdout",
     "output_type": "stream",
     "text": [
      "Optimization terminated successfully.\n",
      "         Current function value: 0.534681\n",
      "         Iterations 6\n",
      "                           Logit Regression Results                           \n",
      "==============================================================================\n",
      "Dep. Variable:             vive_padre   No. Observations:                 6348\n",
      "Model:                          Logit   Df Residuals:                     6338\n",
      "Method:                           MLE   Df Model:                            9\n",
      "Date:                Thu, 15 Sep 2022   Pseudo R-squ.:                  0.1412\n",
      "Time:                        16:25:50   Log-Likelihood:                -3394.2\n",
      "converged:                       True   LL-Null:                       -3952.3\n",
      "Covariance Type:            nonrobust   LLR p-value:                1.474e-234\n",
      "======================================================================================\n",
      "                         coef    std err          z      P>|z|      [0.025      0.975]\n",
      "--------------------------------------------------------------------------------------\n",
      "const                 -2.1518      0.300     -7.166      0.000      -2.740      -1.563\n",
      "vive_madre             0.5865      0.182      3.226      0.001       0.230       0.943\n",
      "n_personas             0.3331      0.028     11.789      0.000       0.278       0.389\n",
      "n_habitaciones        -0.2551      0.040     -6.315      0.000      -0.334      -0.176\n",
      "cercania_juegos       -0.0596      0.072     -0.822      0.411      -0.201       0.082\n",
      "cercania_servicios     0.0667      0.079      0.848      0.396      -0.087       0.221\n",
      "edad_primer_parto      0.0621      0.006      9.682      0.000       0.050       0.075\n",
      "area                  -0.4125      0.105     -3.928      0.000      -0.618      -0.207\n",
      "educm                 -0.0961      0.009    -10.622      0.000      -0.114      -0.078\n",
      "educp                  0.1674      0.006     26.061      0.000       0.155       0.180\n",
      "======================================================================================\n",
      "        Logit Marginal Effects       \n",
      "=====================================\n",
      "Dep. Variable:             vive_padre\n",
      "Method:                          dydx\n",
      "At:                           overall\n",
      "======================================================================================\n",
      "                        dy/dx    std err          z      P>|z|      [0.025      0.975]\n",
      "--------------------------------------------------------------------------------------\n",
      "vive_madre             0.1042      0.032      3.236      0.001       0.041       0.167\n",
      "n_personas             0.0592      0.005     12.199      0.000       0.050       0.069\n",
      "n_habitaciones        -0.0453      0.007     -6.377      0.000      -0.059      -0.031\n",
      "cercania_juegos       -0.0106      0.013     -0.822      0.411      -0.036       0.015\n",
      "cercania_servicios     0.0119      0.014      0.849      0.396      -0.016       0.039\n",
      "edad_primer_parto      0.0110      0.001      9.888      0.000       0.009       0.013\n",
      "area                  -0.0733      0.019     -3.943      0.000      -0.110      -0.037\n",
      "educm                 -0.0171      0.002    -10.937      0.000      -0.020      -0.014\n",
      "educp                  0.0297      0.001     32.710      0.000       0.028       0.032\n",
      "======================================================================================\n"
     ]
    }
   ],
   "source": [
    "model = sm.Logit(y, X);\n",
    "logit_model = model.fit();\n",
    "print(logit_model.summary());\n",
    "\n",
    "mfx = logit_model.get_margeff();\n",
    "print(mfx.summary());"
   ]
  },
  {
   "cell_type": "markdown",
   "metadata": {},
   "source": [
    "### Poisson"
   ]
  },
  {
   "cell_type": "code",
   "execution_count": 24,
   "metadata": {},
   "outputs": [
    {
     "data": {
      "text/plain": [
       "0    3\n",
       "1    5\n",
       "2    5\n",
       "3    4\n",
       "4    5\n",
       "Name: n_personas, dtype: int32"
      ]
     },
     "metadata": {},
     "output_type": "display_data"
    },
    {
     "data": {
      "image/png": "[encoded data removed]",
      "text/plain": [
       "<Figure size 432x288 with 1 Axes>"
      ]
     },
     "metadata": {
      "needs_background": "light"
     },
     "output_type": "display_data"
    }
   ],
   "source": [
    "subset=junaeb.loc[junaeb['n_personas']<10];\n",
    "y=subset['n_personas'];\n",
    "X=subset[['vive_padre','vive_madre','edad_primer_parto','n_habitaciones','cercania_juegos','cercania_servicios',\n",
    "          'area','educm','educp']];\n",
    "plt.hist(subset.n_personas);\n",
    "display(subset.n_personas.head());"
   ]
  },
  {
   "cell_type": "code",
   "execution_count": 25,
   "metadata": {},
   "outputs": [
    {
     "name": "stdout",
     "output_type": "stream",
     "text": [
      "                 Generalized Linear Model Regression Results                  \n",
      "==============================================================================\n",
      "Dep. Variable:             n_personas   No. Observations:                 6335\n",
      "Model:                            GLM   Df Residuals:                     6326\n",
      "Model Family:                 Poisson   Df Model:                            8\n",
      "Link Function:                    log   Scale:                          1.0000\n",
      "Method:                          IRLS   Log-Likelihood:                -11485.\n",
      "Date:                Thu, 15 Sep 2022   Deviance:                       1987.5\n",
      "Time:                        16:25:59   Pearson chi2:                 2.15e+03\n",
      "No. Iterations:                     5                                         \n",
      "Covariance Type:            nonrobust                                         \n",
      "======================================================================================\n",
      "                         coef    std err          z      P>|z|      [0.025      0.975]\n",
      "--------------------------------------------------------------------------------------\n",
      "vive_padre             0.1194      0.014      8.338      0.000       0.091       0.147\n",
      "vive_madre             0.5907      0.036     16.303      0.000       0.520       0.662\n",
      "edad_primer_parto     -0.0036      0.001     -3.149      0.002      -0.006      -0.001\n",
      "n_habitaciones         0.1995      0.006     31.137      0.000       0.187       0.212\n",
      "cercania_juegos        0.0855      0.014      6.145      0.000       0.058       0.113\n",
      "cercania_servicios     0.0754      0.015      5.051      0.000       0.046       0.105\n",
      "area                   0.1487      0.021      7.162      0.000       0.108       0.189\n",
      "educm                  0.0019      0.002      1.168      0.243      -0.001       0.005\n",
      "educp                  0.0004      0.001      0.311      0.756      -0.002       0.003\n",
      "======================================================================================\n"
     ]
    }
   ],
   "source": [
    "poisson=sm.GLM(y,X,family=sm.families.Poisson()).fit();\n",
    "print(poisson.summary());"
   ]
  },
  {
   "cell_type": "code",
   "execution_count": 26,
   "metadata": {},
   "outputs": [
    {
     "name": "stdout",
     "output_type": "stream",
     "text": [
      "fitted lambda\n",
      "[4.99290279 4.24705432 4.85370002 ... 3.26671171 3.83571846 4.16894752]\n"
     ]
    }
   ],
   "source": [
    "print(\"fitted lambda\")\n",
    "print(poisson.mu)"
   ]
  },
  {
   "cell_type": "markdown",
   "metadata": {},
   "source": [
    "### Binomial Negativo"
   ]
  },
  {
   "cell_type": "code",
   "execution_count": 27,
   "metadata": {},
   "outputs": [
    {
     "name": "stdout",
     "output_type": "stream",
     "text": [
      "                 Generalized Linear Model Regression Results                  \n",
      "==============================================================================\n",
      "Dep. Variable:             n_personas   No. Observations:                 6335\n",
      "Model:                            GLM   Df Residuals:                     6326\n",
      "Model Family:        NegativeBinomial   Df Model:                            8\n",
      "Link Function:                    log   Scale:                          1.0000\n",
      "Method:                          IRLS   Log-Likelihood:                -16328.\n",
      "Date:                Thu, 15 Sep 2022   Deviance:                       379.15\n",
      "Time:                        16:26:10   Pearson chi2:                     422.\n",
      "No. Iterations:                     8                                         \n",
      "Covariance Type:            nonrobust                                         \n",
      "======================================================================================\n",
      "                         coef    std err          z      P>|z|      [0.025      0.975]\n",
      "--------------------------------------------------------------------------------------\n",
      "vive_padre             0.1277      0.033      3.909      0.000       0.064       0.192\n",
      "vive_madre             0.4759      0.075      6.303      0.000       0.328       0.624\n",
      "edad_primer_parto     -0.0025      0.003     -0.942      0.346      -0.008       0.003\n",
      "n_habitaciones         0.2105      0.015     13.719      0.000       0.180       0.241\n",
      "cercania_juegos        0.1021      0.033      3.104      0.002       0.038       0.167\n",
      "cercania_servicios     0.0998      0.036      2.809      0.005       0.030       0.169\n",
      "area                   0.1616      0.046      3.513      0.000       0.071       0.252\n",
      "educm                  0.0022      0.004      0.564      0.573      -0.005       0.010\n",
      "educp                  0.0005      0.003      0.161      0.872      -0.005       0.006\n",
      "======================================================================================\n"
     ]
    }
   ],
   "source": [
    "negbin=sm.GLM(y,X,family=sm.families.NegativeBinomial()).fit();\n",
    "print(negbin.summary());"
   ]
  },
  {
   "cell_type": "code",
   "execution_count": 28,
   "metadata": {},
   "outputs": [
    {
     "name": "stdout",
     "output_type": "stream",
     "text": [
      "fitted lambda\n",
      "[5.05206753 4.25726034 4.88381687 ... 3.3016049  3.86177459 4.21715143]\n"
     ]
    }
   ],
   "source": [
    "print(\"fitted lambda\")\n",
    "print(negbin.mu)"
   ]
  },
  {
   "cell_type": "markdown",
   "metadata": {},
   "source": [
    "### Test de sobredispersión\n",
    "\n",
    "A simple test for overdispersion can be determined with the results of the Poisson model, using the ratio of Pearson chi2 / Df Residuals. A value larger than 1 indicates overdispersion. In the case above (6), data suggets overdispersion.\n",
    "\n",
    "The Negative Binomial model estimated above is using a value of $\\theta$ (or $\\alpha=1/\\theta$) equal to 1. In order to determine the appropiate value of $\\alpha$, you can estimate a simple regression using the output of the Poisson model:\n",
    "\n",
    "1. Construct the following variable aux=$[(y-\\lambda)^2-\\lambda]/\\lambda$\n",
    "2. Regress the variable aux with $\\lambda$ as the only explanatory variable (no constant)\n",
    "3. The estimated value is an appropiate guess for $\\alpha=1/\\theta$\n",
    "\n",
    "In the model of the previous section, just use the options on sm.families.NegativeBinomial, in order to manually enter the value of alpha. See example below."
   ]
  },
  {
   "cell_type": "code",
   "execution_count": 29,
   "metadata": {},
   "outputs": [
    {
     "name": "stdout",
     "output_type": "stream",
     "text": [
      "x1   -0.150348\n",
      "dtype: float64\n",
      "                                 OLS Regression Results                                \n",
      "=======================================================================================\n",
      "Dep. Variable:             n_personas   R-squared (uncentered):                   0.457\n",
      "Model:                            OLS   Adj. R-squared (uncentered):              0.457\n",
      "Method:                 Least Squares   F-statistic:                              5323.\n",
      "Date:                Thu, 15 Sep 2022   Prob (F-statistic):                        0.00\n",
      "Time:                        16:26:19   Log-Likelihood:                         -6949.7\n",
      "No. Observations:                6335   AIC:                                  1.390e+04\n",
      "Df Residuals:                    6334   BIC:                                  1.391e+04\n",
      "Df Model:                           1                                                  \n",
      "Covariance Type:            nonrobust                                                  \n",
      "==============================================================================\n",
      "                 coef    std err          t      P>|t|      [0.025      0.975]\n",
      "------------------------------------------------------------------------------\n",
      "x1            -0.1503      0.002    -72.959      0.000      -0.154      -0.146\n",
      "==============================================================================\n",
      "Omnibus:                     7450.400   Durbin-Watson:                   1.971\n",
      "Prob(Omnibus):                  0.000   Jarque-Bera (JB):          1037972.793\n",
      "Skew:                           6.143   Prob(JB):                         0.00\n",
      "Kurtosis:                      64.493   Cond. No.                         1.00\n",
      "==============================================================================\n",
      "\n",
      "Warnings:\n",
      "[1] Standard Errors assume that the covariance matrix of the errors is correctly specified.\n"
     ]
    }
   ],
   "source": [
    "aux=((y-poisson.mu)**2-poisson.mu)/poisson.mu\n",
    "auxr=sm.OLS(aux,poisson.mu).fit()\n",
    "print(auxr.params)\n",
    "print(auxr.summary())"
   ]
  },
  {
   "cell_type": "code",
   "execution_count": 25,
   "metadata": {},
   "outputs": [
    {
     "name": "stdout",
     "output_type": "stream",
     "text": [
      "                 Generalized Linear Model Regression Results                  \n",
      "==============================================================================\n",
      "Dep. Variable:             n_personas   No. Observations:                 6340\n",
      "Model:                            GLM   Df Residuals:                     6331\n",
      "Model Family:        NegativeBinomial   Df Model:                            8\n",
      "Link Function:                    log   Scale:                          1.0000\n",
      "Method:                          IRLS   Log-Likelihood:                -12712.\n",
      "Date:                Mon, 12 Sep 2022   Deviance:                       1205.5\n",
      "Time:                        21:18:07   Pearson chi2:                 1.33e+03\n",
      "No. Iterations:                     6                                         \n",
      "Covariance Type:            nonrobust                                         \n",
      "======================================================================================\n",
      "                         coef    std err          z      P>|z|      [0.025      0.975]\n",
      "--------------------------------------------------------------------------------------\n",
      "vive_padre             0.1241      0.018      6.766      0.000       0.088       0.160\n",
      "vive_madre             0.5259      0.044     12.066      0.000       0.440       0.611\n",
      "edad_primer_parto     -0.0030      0.001     -2.070      0.038      -0.006      -0.000\n",
      "n_habitaciones         0.2058      0.008     24.512      0.000       0.189       0.222\n",
      "cercania_juegos        0.0946      0.018      5.233      0.000       0.059       0.130\n",
      "cercania_servicios     0.0871      0.019      4.482      0.000       0.049       0.125\n",
      "area                   0.1574      0.026      6.019      0.000       0.106       0.209\n",
      "educm                  0.0022      0.002      1.012      0.312      -0.002       0.006\n",
      "educp                  0.0004      0.002      0.258      0.797      -0.003       0.004\n",
      "======================================================================================\n"
     ]
    }
   ],
   "source": [
    "negbin=sm.GLM(y,X,family=sm.families.NegativeBinomial(alpha=(0.15))).fit();\n",
    "print(negbin.summary())"
   ]
  },
  {
   "cell_type": "markdown",
   "metadata": {},
   "source": [
    "<font size=\"3\">**Tarea 1**</font>\n",
    "\n",
    "<u> *Instrucciones* </u>\n",
    "\n",
    "Los resultados de los ejericicios propuestos se deben entregar como un notebook por correo el dia 14/9 hasta las 21:00. \n",
    "Además, es importante considerar que para que la revisión se pueda llevar a cabo, el código debe poder ejecutarse en cualquier computadora.\n",
    "\n",
    "Las variables tienen la siguiente descripcion:\n",
    "\n",
    "- vive_padre: si el padre vive en el hogar\n",
    "- vive_madre: si la madre vive en el hogar\n",
    "- n_personas: numero de integrantes del hogar\n",
    "- n_habitaciones: numero de cuartos en el hogar\n",
    "- cercania_juegos: hay juegos infantiles cerca de la vivienda (1=no, 2=si, 4=no sabe)\n",
    "- cercania_servicios: hay serivicios de salud cerca de la vivienda (1=no, 2=si, 4=no sabe)\n",
    "- edad_primer_parto: edad de la madre en su primer parto\n",
    "- area: urbana=1, rural=0\n",
    "- educm: años de escolaridad de la madre\n",
    "- educp: años de escolaridad del padre\n",
    "\n",
    "Preguntas:\n",
    "\n",
    "1. Cargar la base de datos *junaeb.csv* en el ambiente. Identifique los tipos de datos que se encuentran en la base, realice estadísticas descriptivas sobre las variables importantes (Hint: Revisar la distribuciones, datos faltantes, outliers, etc.) y limpie las variables cuando sea necesario. \n",
    "\n",
    "R: Al momento de analizar las variables presentadas en el archivo .csv, se notaron varias distribuciones beta y se detectaron los outliers. Estos últimos fueron eliminados, tal y como se muestra en el notebook, debido a que son datos atípicos que pueden afectar a los resultados de los modelos.\n",
    "\n",
    "2. Ejecute un modelo de probabilidad lineal (*MCO*) que permita explicar la probabilidad de que los padres se encuentren viviendo en el hogar (*vive_padre*). Seleccione las variables dependientes a incluir en el modelo final e interprete su significado. \n",
    "  \n",
    "R: Se utiliza un modelo MCO para ajustar el modelo. La obtención de un R ajustado igual a 17% nos deja ver que muy probablemente (sin contar la comparación con informes similares), las variables x no explican completamente a la variable dependiente. Esto era de suponer al utilizar una regresión lineal para estimar una variable binaria. \n",
    "Se extrae que solo dos de las variables utilizadas no son significativas: cercanía a centros de salud y cercanía a juegos. La variable significativa de la cantidad de habitaciones se relaciona negativamente con la estadía del padre en el hogar, siendo menos probable que éste viva ahí por cada pieza añadida a la variable en 0,0482 unidades.\n",
    "Para la aplicación de este modelo se supone un valor esperado del error = 0, caso que no se da en esta oportunidad. \n",
    "\n",
    "3. Ejecute un modelo *probit* que permita explicar la probabilidad de que los padres se encuentren viviendo en el hogar (*vive_padre*). Seleccione las variables dependientes a incluir en el modelo final e interprete su significado. \n",
    "\n",
    "R: Se supone una distribución del error normal y se aplica el modelo probit.\n",
    "Nuevamente las únicas variables no significativas en el modelo son la de cercanía a juegos y asistencias de salud, siendo la variable con mayor incidencia en vive_padre la variable explicativa vive_madre.\n",
    "En este caso, el padre tiene una probabilidad de 9,2% mayor de formar parte del hogar si es que la madre también vive en el hogar. Caso contrario al caso de las n habitaciones con el cual (en base al cambio marginal dy/dx) tiene un comportamiento inverso entre el aumento porcentual de las variables.\n",
    "\n",
    "4. Ejecute un modelo *logit*  que permita explicar la probabilidad de que los padres se encuentren viviendo en el hogar(*vive_padre*). Seleccione las variables dependientes a incluir en el modelo final e interprete su significado. \n",
    "\n",
    "R: Al asumir que la distribución es logística se aumenta el valor de R ajustado  a un 14%, obteniendo valores similares y descartando nuevamente solo las variables de cercanía.\n",
    "La función de maximización de verosimilitud representada por el Log verosimilitud dentro del panel entregado por statsmodel también sufre una variación positiva que indicaría una mejora en el uso de la regresión Logit. Se asume que la función se distribuye de forma logística y la variación del cambio marginal de las variables sobre la variable dependiente *y* es mínimo. \n",
    "\n",
    "5. Comente los resultados obtenidos en 2, 3 y 4. ¿Cuáles y por qué existen las diferencias entre los resultados?. En su opinión, ¿Cuál sería el más adecuado para responder la pregunta de investigación y por qué? ¿Qué variables resultaron ser robustas a la especificación?\n",
    "\n",
    "R: Es importante notar que gracias a lo estudiado se sabe que un modelo de regresión lineal no es recomendable para una variable dependiente binaria (cómo se aplicó en la pregunta 2) ya que toma valores fuera de los límites apropiados de estimación binaria 0 y 1. \n",
    "En ese sentido la opción más recomendable es la logit o probit. La logit en específico se recomienda por la asunción de distribución logística de los errores sin tener que asumir normalidad, aunque los resultados son similares. Los errores estándar y el cambio porcentual entre los pseudo-R2 favorable, junto al cambio del log verosimilitud nos indica que la aplicación del modelo logit logra la estimación más cercana de la probabilidad de que el resultado de la regresión se ajuste adecuadamente.\n",
    "  \n",
    "6. Ejecuta un modelo Poisson para explicar el número de personas que hay dentro de un hogar. (*n_personas*). Seleccione las variables dependientes a incluir en el modelo final e interprete su significado. \n",
    "\n",
    "R: La función de distribución Poisson se utiliza para limitar el espacio muestral dentro de paredes que permitan analizar los resultados del experimento de mejor manera. En este caso los límites no son temporales sino físicos, al usar como variable de conteo la cantidad de habitaciones en el hogar, analizando los datos donde la cantidad de habitaciones era menor o igual a 6. Este valor es seleccionado al marcar el punto de inflexión donde comenzaba una cantidad de datos poco realistas y posibles outliers analíticos. El cambio en el Log likelihood entrega dudas sobre la forma de ajustar el modelo con el tipo de limitante, al tener un valor menor a -11000.  Las variables expresan los cambios a Y a modo de coeficientes, que vendrían siendo el cambio porcentual en el número de eventos alrededor de la media por cada variable. En este caso, podemos observar como la variable vive_madre aumenta a la variable Y en e**0,57 veces por cada unidad extra de la variable.\n",
    "\n",
    "7. Determine sobre dispersión y posible valor óptimo de alpha para un modelo Binomial Negativa.\n",
    "\n",
    "R: Al determinar la dispersión de los residuos de Poisson, se obtiene un valor negativo de alpha (-0.15), lo que indicaría un resultado de underdisperssion, asegurando así lo previsto anteriormente. Con tal de tener la necesidad de aplicar una binomial negativa que controle los datos utilizados en la distribución de Poisson sería necesario tener un valor de alpha mayor que 1 para asegurar la existencia de sobredispersión.\n",
    "\n",
    "8. Usando la información anterior, ejecute un modelo Binomial Negativa para explicar el número de personas que hay dentro de un hogar. (*n_personas*). Seleccione las variables dependientes a incluir en el modelo final e interprete su significado. \n",
    "\n",
    "R: Aunque en este ejercicio en específico no se necesitó de la aplicación de un modelo de distribución binomial negativo al no presentarse sobredispersión, se utilizó un valor de 1 con los datos con tal de visualizar los resultados. En general, el uso de la Binomial negativa se justifica cuando los residuos de la distribución Poisson no son lo suficientemente claros, junto con una diferencia en la media versus la varianza de Y|x. A modo de analogía, la distribución Poisson coloca entre cuatro paredes el experimento para poder observar mejor, mientras que la Binomial negativa coloca un techo que limita la cantidad de experimentos posibles a los observados.  \n",
    "\n",
    "Este modelo arrojó resultados similares al modelo Poisson, siendo la diferencia más grande que la variable explicativa edad_primer_parto no es considerada significativa o robusta por la binomial negativa, pero sí por la Poisson. Otras variables no significativas fueron educm y educp, mientras que todas las demás variables consideradas en el modelo fueron significativas.\n",
    "\n",
    "\n",
    "9. Comente los resultados obtenidos en 6, 7 y 8. ¿Cuáles y por qué existen las diferencias entre los resultados?. En su opinión, ¿Cuál sería el más adecuado para responder la pregunta de investigación y por qué? ¿Qué variables resultaron ser robustas a la especificación?\n",
    "\n",
    "R: La comparación se da entre el modelo Poisson de la respuesta 6 y el modelo binomial negativo de la respuesta 8. \n",
    "En este caso, al analizar los resultados obtenidos para los coeficientes de ambas regresiones se descubre que no hay una gran diferencia; por ejemplo, para el caso de vive_padre el modelo Poisson arroja un coeficiente de 0.1194 mientras que el modelo binomial negativo entrega un coeficiente de 0.1277. Sin embargo, el modelo binomial negativo considera que la variable edad_primer_parto no es significativa, mientras que el modelo Poisson sí la considera. \n",
    "Las diferencias pueden estar explicadas por el hecho de que se utiliza un alpha igual a 1 por defecto, puesto que no puede ser modificado por el valor estimado debido a que es un valor negativo.\n",
    "Por la razón anterior, se propone que el modelo Poisson es el mejor candidato para resolver este problema, ya que al no existir overdisperssion no hay una verdadera necesidad de ocupar el modelo binomial negativo.\n",
    "Finalmente, todas las variables son significativas o robustas con excepción de educm y educp."
   ]
  }
 ],
 "metadata": {
  "hide_input": false,
  "kernelspec": {
   "display_name": "Python 3 (ipykernel)",
   "language": "python",
   "name": "python3"
  },
  "language_info": {
   "codemirror_mode": {
    "name": "ipython",
    "version": 3
   },
   "file_extension": ".py",
   "mimetype": "text/x-python",
   "name": "python",
   "nbconvert_exporter": "python",
   "pygments_lexer": "ipython3",
   "version": "3.7.6"
  },
  "latex_envs": {
   "LaTeX_envs_menu_present": true,
   "autoclose": true,
   "autocomplete": true,
   "bibliofile": "biblio.bib",
   "cite_by": "apalike",
   "current_citInitial": 1,
   "eqLabelWithNumbers": true,
   "eqNumInitial": 1,
   "hotkeys": {
    "equation": "Ctrl-E",
    "itemize": "Ctrl-I"
   },
   "labels_anchors": false,
   "latex_user_defs": false,
   "report_style_numbering": false,
   "user_envs_cfg": false
  },
  "toc": {
   "base_numbering": 1,
   "nav_menu": {},
   "number_sections": true,
   "sideBar": true,
   "skip_h1_title": true,
   "title_cell": "Table of Contents",
   "title_sidebar": "Contents",
   "toc_cell": false,
   "toc_position": {
    "height": "calc(100% - 180px)",
    "left": "10px",
    "top": "150px",
    "width": "165px"
   },
   "toc_section_display": true,
   "toc_window_display": true
  }
 },
 "nbformat": 4,
 "nbformat_minor": 2
}
